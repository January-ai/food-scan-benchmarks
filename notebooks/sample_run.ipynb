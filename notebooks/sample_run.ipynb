{
 "cells": [
  {
   "cell_type": "markdown",
   "id": "f3f5fa9b",
   "metadata": {},
   "source": [
    "# Food Scan Benchmark\n"
   ]
  },
  {
   "cell_type": "markdown",
   "id": "a4f3b78b",
   "metadata": {},
   "source": [
    "This notebook provides a complete, end-to-end workflow for benchmarking Multimodal Large Language Models (MLLMs) on January's food image dataset (JFID).\n",
    "\n",
    "**The process is as follows:**\n",
    "\n",
    "1.  **Setup:** Install dependencies and configure API keys.\n",
    "2.  **Define Components:** Set up Pydantic schemas, the dataset loader, the model wrapper, and evaluation metrics.\n",
    "3.  **Run Evaluation:** Loop through the dataset, send images to a chosen MLLM, and collect predictions.\n",
    "4.  **Analyze Results:** Calculate metrics and summarize the model's performance.\n",
    "\n",
    "The dataset is downloaded from a public S3 bucket and cached locally.\n"
   ]
  },
  {
   "cell_type": "markdown",
   "id": "6d0dd8db",
   "metadata": {},
   "source": [
    "## Setup\n"
   ]
  },
  {
   "cell_type": "markdown",
   "id": "c85827fa",
   "metadata": {},
   "source": [
    "Add your API keys to a `.env` file in the same directory as this notebook:\n",
    "\n",
    "```\n",
    "OPENAI_API_KEY=\"sk-...\"\n",
    "GEMINI_API_KEY=\"...\"\n",
    "JANUARY_API_ENDPOINT=\"...\"\n",
    "JANUARY_API_UUID=\"...\"\n",
    "JANUARY_API_TOKEN=\"...\"\n",
    "```\n"
   ]
  },
  {
   "cell_type": "code",
   "execution_count": 1,
   "id": "374df0de",
   "metadata": {},
   "outputs": [
    {
     "name": "stdout",
     "output_type": "stream",
     "text": [
      "/Users/amirhosseinian/January/food-scan-benchmarks/.venv/bin/python: No module named pip\n",
      "Note: you may need to restart the kernel to use updated packages.\n"
     ]
    }
   ],
   "source": [
    "# Install packages\n",
    "%pip install --upgrade litellm boto3 pandas tqdm python-dotenv pydantic tabulate openai scikit-learn scipy plotly openpyxl"
   ]
  },
  {
   "cell_type": "markdown",
   "id": "d47337d0",
   "metadata": {},
   "source": [
    "## Imports\n"
   ]
  },
  {
   "cell_type": "code",
   "execution_count": 1,
   "id": "679a9d47",
   "metadata": {},
   "outputs": [
    {
     "data": {
      "text/plain": [
       "True"
      ]
     },
     "execution_count": 1,
     "metadata": {},
     "output_type": "execute_result"
    }
   ],
   "source": [
    "from scipy import stats\n",
    "import plotly.express as px\n",
    "import plotly.graph_objects as go\n",
    "from plotly.subplots import make_subplots\n",
    "import warnings\n",
    "from pydantic import BaseModel, Field\n",
    "from typing import List\n",
    "import openai\n",
    "from sklearn.metrics.pairwise import cosine_similarity\n",
    "from scipy.optimize import linear_sum_assignment\n",
    "import hashlib\n",
    "import pandas as pd\n",
    "import numpy as np\n",
    "import ast\n",
    "import boto3\n",
    "from botocore import UNSIGNED\n",
    "from botocore.client import Config\n",
    "import tarfile\n",
    "import litellm\n",
    "from litellm.exceptions import APIError\n",
    "from typing import Optional, Dict\n",
    "import json\n",
    "import base64\n",
    "from pathlib import Path\n",
    "from tqdm.auto import tqdm\n",
    "import asyncio\n",
    "import time\n",
    "from typing import Union, Tuple\n",
    "from difflib import SequenceMatcher\n",
    "import os\n",
    "from dotenv import load_dotenv\n",
    "import httpx\n",
    "\n",
    "\n",
    "warnings.filterwarnings(\"ignore\")\n",
    "load_dotenv()"
   ]
  },
  {
   "cell_type": "markdown",
   "id": "0107115d",
   "metadata": {},
   "source": [
    "## Core Components\n"
   ]
  },
  {
   "cell_type": "markdown",
   "id": "4789e0b5",
   "metadata": {},
   "source": [
    "### Schema Definition\n"
   ]
  },
  {
   "cell_type": "code",
   "execution_count": 2,
   "id": "570dc178",
   "metadata": {},
   "outputs": [],
   "source": [
    "class Ingredient(BaseModel):\n",
    "    name: str = Field(description=\"Name of the ingredient, e.g., 'scrambled eggs'\")\n",
    "    quantity: float = Field(description=\"Numerical quantity of the ingredient\")\n",
    "    unit: str = Field(description=\"Unit of measurement, e.g., 'cup', 'slice', 'g'\")\n",
    "    calories: float = Field(description=\"Estimated calories for this ingredient\")\n",
    "    carbs: float = Field(\n",
    "        description=\"Estimated grams of carbohydrates for this ingredient\"\n",
    "    )\n",
    "    protein: float = Field(description=\"Estimated grams of protein for this ingredient\")\n",
    "    fat: float = Field(description=\"Estimated grams of fat for this ingredient\")\n",
    "\n",
    "\n",
    "class TotalMacros(BaseModel):\n",
    "    calories: float = Field(description=\"Total estimated calories for the entire meal\")\n",
    "    carbs: float = Field(\n",
    "        description=\"Total estimated grams of carbohydrates for the entire meal\"\n",
    "    )\n",
    "    protein: float = Field(\n",
    "        description=\"Total estimated grams of protein for the entire meal\"\n",
    "    )\n",
    "    fat: float = Field(description=\"Total estimated grams of fat for the entire meal\")\n",
    "\n",
    "\n",
    "class FoodAnalysis(BaseModel):\n",
    "    meal_name: str = Field(\n",
    "        description=\"A descriptive name for the meal, e.g., 'Breakfast Platter'\"\n",
    "    )\n",
    "    ingredients: List[Ingredient] = Field(\n",
    "        description=\"A list of all identified ingredients and their nutritional information\"\n",
    "    )\n",
    "    total_macros: TotalMacros = Field(\n",
    "        description=\"The sum of macros for all ingredients\"\n",
    "    )\n"
   ]
  },
  {
   "cell_type": "markdown",
   "id": "a4438935",
   "metadata": {},
   "source": [
    "### Dataset Class\n"
   ]
  },
  {
   "cell_type": "code",
   "execution_count": 3,
   "id": "fe960109",
   "metadata": {},
   "outputs": [],
   "source": [
    "class FoodScanDataset:\n",
    "    \"\"\"Handles downloading, caching, and loading the food dataset.\"\"\"\n",
    "\n",
    "    _S3_BUCKET = \"january-food-image-dataset-public\"\n",
    "    _S3_KEY = \"food-scan-benchmark-dataset.tar.gz\"\n",
    "\n",
    "    def __init__(self, root: Path):\n",
    "        self.root = root.expanduser()\n",
    "        self.img_dir = self.root / \"food-scan-benchmark-dataset\" / \"fsb_images\"\n",
    "        self.csv_path = (\n",
    "            self.root / \"food-scan-benchmark-dataset\" / \"food_scan_bench_v1.csv\"\n",
    "        )\n",
    "\n",
    "        if not self.csv_path.exists():\n",
    "            self._download_and_extract()\n",
    "\n",
    "        self.df = pd.read_csv(self.csv_path)\n",
    "\n",
    "    def _download_and_extract(self):\n",
    "        print(f\"Dataset not found in {self.root}. Downloading from S3...\")\n",
    "        self.root.mkdir(parents=True, exist_ok=True)\n",
    "        local_archive = self.root / \"fsb.tar.gz\"\n",
    "\n",
    "        s3 = boto3.client(\n",
    "            \"s3\",\n",
    "            config=Config(signature_version=UNSIGNED),\n",
    "        )\n",
    "        with open(local_archive, \"wb\") as f:\n",
    "            s3.download_fileobj(self._S3_BUCKET, self._S3_KEY, f)\n",
    "\n",
    "        print(\"Download complete. Extracting...\")\n",
    "        with tarfile.open(local_archive) as tar:\n",
    "            tar.extractall(path=self.root)\n",
    "        local_archive.unlink()\n",
    "        print(\"Extraction complete.\")\n",
    "\n",
    "    def __len__(self):\n",
    "        return len(self.df)\n",
    "\n",
    "    def __getitem__(self, idx: int):\n",
    "        row = self.df.iloc[idx]\n",
    "        img_path = self.img_dir / row.image_filename\n",
    "\n",
    "        try:\n",
    "            ingredients = ast.literal_eval(row.ingredients_list)\n",
    "        except (ValueError, SyntaxError):\n",
    "            ingredients = []\n",
    "\n",
    "        return {\n",
    "            \"image_id\": row.image_id,\n",
    "            \"image_path\": img_path,\n",
    "            \"gt\": {\n",
    "                \"meal_name\": row.meal_name,\n",
    "                \"ingredients\": ingredients,\n",
    "                \"macros\": {\n",
    "                    \"calories\": row.total_calories,\n",
    "                    \"carbs\": row.total_carbs,\n",
    "                    \"protein\": row.total_protein,\n",
    "                    \"fat\": row.total_fat,\n",
    "                },\n",
    "            },\n",
    "        }"
   ]
  },
  {
   "cell_type": "markdown",
   "id": "23cbb92b",
   "metadata": {},
   "source": [
    "### Model config and helpers\n"
   ]
  },
  {
   "cell_type": "code",
   "execution_count": 4,
   "id": "7664d328",
   "metadata": {},
   "outputs": [],
   "source": [
    "MODEL_COSTS = {\n",
    "    \"january/food-vision-v1\": {\n",
    "        \"input\": 0.0,  # Not used, cost is per-image\n",
    "        \"output\": 0.0,\n",
    "        \"display_name\": \"January AI\",\n",
    "    },\n",
    "    \"gpt-4.1\": {\n",
    "        \"input\": 2.00,\n",
    "        \"output\": 8.00,\n",
    "        \"display_name\": \"gpt-4.1\",\n",
    "    },\n",
    "    \"gpt-4o\": {\n",
    "        \"input\": 2.50,\n",
    "        \"output\": 10.00,\n",
    "        \"display_name\": \"gpt-4o\",\n",
    "    },\n",
    "    \"gpt-4o-mini\": {\n",
    "        \"input\": 0.15,\n",
    "        \"output\": 0.60,\n",
    "        \"display_name\": \"gpt-4o-mini\",\n",
    "    },\n",
    "    \"gemini/gemini-2.5-flash-preview-05-20\": {\n",
    "        \"input\": 0.15,\n",
    "        \"output\": 0.60,\n",
    "        \"display_name\": \"gemini-2.5-flash\",\n",
    "    },\n",
    "    \"gemini/gemini-2.5-pro-preview-06-05\": {\n",
    "        \"input\": 1.25,\n",
    "        \"output\": 10.00,\n",
    "        \"display_name\": \"gemini-2.5-pro\",\n",
    "    },\n",
    "}\n",
    "\n",
    "\n",
    "def img2b64(path: Path) -> str:\n",
    "    \"\"\"Converts an image file to a base64 encoded string for API calls.\"\"\"\n",
    "    encoded = base64.b64encode(path.read_bytes()).decode()\n",
    "    return f\"data:image/jpeg;base64,{encoded}\"\n",
    "\n",
    "\n",
    "def calculate_cost(model_name: str, input_tokens: int, output_tokens: int) -> float:\n",
    "    \"\"\"Calculate the cost for a model based on token usage.\"\"\"\n",
    "    if model_name not in MODEL_COSTS:\n",
    "        return 0.0\n",
    "\n",
    "    costs = MODEL_COSTS[model_name]\n",
    "    input_cost = (input_tokens / 1_000_000) * costs[\"input\"]\n",
    "    output_cost = (output_tokens / 1_000_000) * costs[\"output\"]\n",
    "    return round(input_cost + output_cost, 6)\n",
    "\n",
    "\n",
    "def get_display_name(model_name: str) -> str:\n",
    "    \"\"\"Return the user-friendly model label (falls back to raw id).\"\"\"\n",
    "    return MODEL_COSTS.get(model_name, {}).get(\"display_name\", model_name)"
   ]
  },
  {
   "cell_type": "markdown",
   "id": "af0756e7",
   "metadata": {},
   "source": [
    "### Model Wrappers\n"
   ]
  },
  {
   "cell_type": "code",
   "execution_count": 5,
   "id": "0490690c",
   "metadata": {},
   "outputs": [],
   "source": [
    "class LiteModel:\n",
    "    \"\"\"A robust wrapper around any LiteLLM-supported vision model with prompt engineering options.\"\"\"\n",
    "\n",
    "    PROMPT_VARIANTS = {\n",
    "        \"detailed\": {\n",
    "            \"suffix\": \"d\",\n",
    "            \"prompt\": \"You are an expert nutritionist with 20 years of experience. Analyze this food image very carefully and provide the most accurate breakdown possible. Consider portion sizes, cooking methods, and hidden ingredients.\",\n",
    "        },\n",
    "        \"step_by_step\": {\n",
    "            \"suffix\": \"s\",\n",
    "            \"prompt\": \"You are an expert nutritionist. Please analyze this image step by step: 1) First identify all visible food items, 2) Estimate portion sizes, 3) Calculate nutritional content for each item, 4) Sum the totals. Be precise and systematic.\",\n",
    "        },\n",
    "        \"conservative\": {\n",
    "            \"suffix\": \"c\",\n",
    "            \"prompt\": \"You are a conservative nutritionist who prefers to underestimate rather than overestimate. Analyze this food image and provide a realistic, slightly conservative nutritional breakdown.\",\n",
    "        },\n",
    "        \"confident\": {\n",
    "            \"suffix\": \"f\",\n",
    "            \"prompt\": \"You are a highly confident nutritionist. Analyze this food image and provide your best estimate of the nutritional content. Trust your expertise.\",\n",
    "        },\n",
    "    }\n",
    "\n",
    "    def __init__(self, model_name: str, prompt_variant=\"detailed\", **litellm_kwargs):\n",
    "        self.model_name = model_name\n",
    "        self.prompt_variant = prompt_variant\n",
    "        self.kwargs = litellm_kwargs\n",
    "\n",
    "        cfg = self.PROMPT_VARIANTS.get(prompt_variant, self.PROMPT_VARIANTS[\"detailed\"])\n",
    "        self.system_prompt = cfg[\"prompt\"]\n",
    "        self.prompt_suffix = cfg[\"suffix\"]\n",
    "\n",
    "    async def analyse(self, img_path: Path) -> Tuple[Optional[dict], Optional[str]]:\n",
    "        \"\"\"\n",
    "        Analyzes an image and returns a structured dict with cost info, or None and an error message on failure.\n",
    "\n",
    "        Returns:\n",
    "            Tuple[Optional[dict], Optional[str]]: A tuple of (result, error_message).\n",
    "                                                  On success, result is a dict and error_message is None.\n",
    "                                                  On failure, result is None and error_message is a string.\n",
    "        \"\"\"\n",
    "        b64_img = img2b64(img_path)\n",
    "\n",
    "        messages = [\n",
    "            {\"role\": \"system\", \"content\": self.system_prompt},\n",
    "            {\n",
    "                \"role\": \"user\",\n",
    "                \"content\": [\n",
    "                    {\n",
    "                        \"type\": \"text\",\n",
    "                        \"text\": \"Analyze this food image and provide a detailed nutritional breakdown. Include: meal name, all ingredients with quantities/units, and complete macro information (calories, carbs, protein, fat) for each ingredient and the total meal.\",\n",
    "                    },\n",
    "                    {\"type\": \"image_url\", \"image_url\": {\"url\": b64_img}},\n",
    "                ],\n",
    "            },\n",
    "        ]\n",
    "\n",
    "        try:\n",
    "            resp = await litellm.acompletion(\n",
    "                model=self.model_name,\n",
    "                messages=messages,\n",
    "                response_format=FoodAnalysis,\n",
    "                temperature=0.0,\n",
    "                **self.kwargs,\n",
    "            )\n",
    "            raw = resp.choices[0].message.content.strip()\n",
    "            data = json.loads(raw)\n",
    "\n",
    "            usage = resp.usage\n",
    "            input_tokens = usage.prompt_tokens if usage else 0\n",
    "            output_tokens = usage.completion_tokens if usage else 0\n",
    "            cost = calculate_cost(self.model_name, input_tokens, output_tokens)\n",
    "\n",
    "            result = FoodAnalysis(**data).model_dump()\n",
    "            result[\"cost_usd\"] = cost\n",
    "            result[\"prompt_variant\"] = self.prompt_variant\n",
    "\n",
    "            return result, None\n",
    "\n",
    "        except APIError as e:\n",
    "            error_msg = f\"API Error: {e}\"\n",
    "            print(f\"{error_msg} for {img_path.name}\")\n",
    "            return None, error_msg\n",
    "        except Exception as e:\n",
    "            error_msg = f\"Unexpected Error: {e}\"\n",
    "            print(f\"{error_msg} for {img_path.name}\")\n",
    "            return None, error_msg\n",
    "\n",
    "\n",
    "def pretty_label(full_model_name: str) -> str:\n",
    "    if full_model_name == \"january/food-vision-v1\":\n",
    "        return get_display_name(full_model_name)\n",
    "\n",
    "    for variant, meta in LiteModel.PROMPT_VARIANTS.items():\n",
    "        postfix = f\"_{variant}\"\n",
    "        if full_model_name.endswith(postfix):\n",
    "            base = full_model_name[: -len(postfix)]\n",
    "            return f\"{get_display_name(base)}_{meta['suffix']}\"\n",
    "\n",
    "    if \"_\" in full_model_name:\n",
    "        base, variant = full_model_name.rsplit(\"_\", 1)\n",
    "        suffix = LiteModel.PROMPT_VARIANTS.get(variant, {}).get(\n",
    "            \"suffix\", variant[0].lower()\n",
    "        )\n",
    "        return f\"{get_display_name(base)}_{suffix}\"\n",
    "\n",
    "    return get_display_name(full_model_name)"
   ]
  },
  {
   "cell_type": "code",
   "execution_count": 6,
   "id": "ce51e3b4",
   "metadata": {},
   "outputs": [],
   "source": [
    "class JanuaryAIModel:\n",
    "    \"\"\"A wrapper for the proprietary January AI food vision API.\"\"\"\n",
    "\n",
    "    def __init__(self):\n",
    "        self.endpoint = os.getenv(\"JANUARY_API_ENDPOINT\")\n",
    "        self.uuid = os.getenv(\"JANUARY_API_UUID\")\n",
    "        self.token = os.getenv(\"JANUARY_API_TOKEN\")\n",
    "\n",
    "        if not all([self.endpoint, self.uuid, self.token]):\n",
    "            raise ValueError(\n",
    "                \"January AI API credentials not found in environment variables.\"\n",
    "            )\n",
    "\n",
    "        self.headers = {\n",
    "            \"Content-Type\": \"application/json\",\n",
    "            \"UUID\": self.uuid,\n",
    "            \"x-jan-e2e-tests-token\": self.token,\n",
    "        }\n",
    "        self.client = httpx.AsyncClient()\n",
    "\n",
    "    def _calculate_ingredient_macros(self, ingredient: dict) -> Dict[str, float]:\n",
    "        \"\"\"Re-implements legacy macro logic for a single ingredient.\"\"\"\n",
    "        (cal, fat, carbs, prot, mass, fiber) = (0, 0, 0, 0, 0, 0)\n",
    "        if \"servings\" in ingredient and ingredient[\"servings\"]:\n",
    "            s = ingredient[\"servings\"][0]\n",
    "            q, sel, scale = s[\"quantity\"], s[\"selected_quantity\"], s[\"scaling_factor\"]\n",
    "            w = s.get(\"weight_grams\", 0)\n",
    "            cal = ingredient[\"energy\"] * sel * scale / q\n",
    "            fat = ingredient[\"fat\"] * sel * scale / q\n",
    "            carbs = ingredient[\"carbs\"] * sel * scale / q\n",
    "            prot = ingredient[\"protein\"] * sel * scale / q\n",
    "            fib = ingredient.get(\"fiber\", 0) or 0\n",
    "            fiber = fib * sel * scale / q\n",
    "            mass = w * sel / q\n",
    "        return dict(\n",
    "            calories=cal, fat=fat, carbs=carbs, protein=prot, fiber=fiber, mass=mass\n",
    "        )\n",
    "\n",
    "    def _parse_server_response(self, js: Dict) -> FoodAnalysis:\n",
    "        \"\"\"Parses the raw JSON from the API into the standard FoodAnalysis schema.\"\"\"\n",
    "        ing_objs: List[Ingredient] = []\n",
    "        for ing in js.get(\"ingredients\", []):\n",
    "            m = self._calculate_ingredient_macros(ing)\n",
    "            ing_objs.append(\n",
    "                Ingredient(\n",
    "                    name=ing.get(\"name\", \"unknown ingredient\"),\n",
    "                    quantity=ing.get(\"servings\", [{}])[0].get(\"selected_quantity\", 0),\n",
    "                    unit=ing.get(\"servings\", [{}])[0].get(\"unit\", \"g\"),\n",
    "                    calories=m[\"calories\"],\n",
    "                    carbs=m[\"carbs\"],\n",
    "                    protein=m[\"protein\"],\n",
    "                    fat=m[\"fat\"],\n",
    "                )\n",
    "            )\n",
    "\n",
    "        tot = TotalMacros(\n",
    "            calories=sum(i.calories for i in ing_objs),\n",
    "            carbs=sum(i.carbs for i in ing_objs),\n",
    "            protein=sum(i.protein for i in ing_objs),\n",
    "            fat=sum(i.fat for i in ing_objs),\n",
    "        )\n",
    "\n",
    "        return FoodAnalysis(\n",
    "            meal_name=js.get(\"meal_name\", \"unknown meal\"),\n",
    "            ingredients=ing_objs,\n",
    "            total_macros=tot,\n",
    "        )\n",
    "\n",
    "    async def analyse(self, img_path: Path) -> Tuple[Optional[dict], Optional[str]]:\n",
    "        \"\"\"\n",
    "        Analyzes an image using the January AI API.\n",
    "        Returns a structured dict, or None and an error message on failure.\n",
    "        \"\"\"\n",
    "        payload = {\"photoUrl\": img2b64(img_path)}\n",
    "        try:\n",
    "            r = await self.client.post(\n",
    "                self.endpoint, headers=self.headers, json=payload, timeout=30.0\n",
    "            )\n",
    "            r.raise_for_status()  # Raise an exception for bad status codes (4xx or 5xx)\n",
    "\n",
    "            js = r.json()\n",
    "            parsed_response = self._parse_server_response(js)\n",
    "\n",
    "            result = parsed_response.model_dump()\n",
    "            result[\"cost_usd\"] = 0.03\n",
    "            result[\"prompt_variant\"] = \"default\"\n",
    "\n",
    "            return result, None\n",
    "\n",
    "        except httpx.HTTPStatusError as e:\n",
    "            error_msg = f\"API Error: {e.response.status_code} - {e.response.text}\"\n",
    "            print(f\"{error_msg} for {img_path.name}\")\n",
    "            return None, error_msg\n",
    "        except Exception as e:\n",
    "            error_msg = f\"Unexpected Error: {e}\"\n",
    "            print(f\"{error_msg} for {img_path.name}\")\n",
    "            return None, error_msg"
   ]
  },
  {
   "cell_type": "markdown",
   "id": "df61fcca",
   "metadata": {},
   "source": [
    "### Metrics\n"
   ]
  },
  {
   "cell_type": "code",
   "execution_count": 7,
   "id": "eedcffba",
   "metadata": {},
   "outputs": [],
   "source": [
    "class Metrics:\n",
    "    \"\"\"Comprehensive metrics for food analysis evaluation.\"\"\"\n",
    "\n",
    "    _embedding_cache = {}\n",
    "\n",
    "    @staticmethod\n",
    "    def _normalize_ingredient_list(ingredients: Union[str, list, None]) -> List[dict]:\n",
    "        \"\"\"\n",
    "        IMPROVEMENT: Centralized cleanup function.\n",
    "        Safely parses ingredient data which might be a string representation of a list.\n",
    "        This avoids repeating the same try-except block in multiple metric functions.\n",
    "        \"\"\"\n",
    "        if not ingredients:\n",
    "            return []\n",
    "        if isinstance(ingredients, list):\n",
    "            return ingredients\n",
    "        if isinstance(ingredients, str):\n",
    "            try:\n",
    "                parsed = ast.literal_eval(ingredients)\n",
    "                return parsed if isinstance(parsed, list) else []\n",
    "            except (ValueError, SyntaxError):\n",
    "                return []\n",
    "        return []\n",
    "\n",
    "    @staticmethod\n",
    "    async def get_embedding(text, model=\"text-embedding-3-small\"):\n",
    "        \"\"\"Get OpenAI embedding with caching.\"\"\"\n",
    "        cache_key = hashlib.md5(f\"{text}_{model}\".encode()).hexdigest()\n",
    "        if cache_key in Metrics._embedding_cache:\n",
    "            return Metrics._embedding_cache[cache_key]\n",
    "        try:\n",
    "            client = openai.AsyncOpenAI()\n",
    "            response = await client.embeddings.create(model=model, input=text.strip())\n",
    "            embedding = response.data[0].embedding\n",
    "            Metrics._embedding_cache[cache_key] = embedding\n",
    "            return embedding\n",
    "        except Exception as e:\n",
    "            print(f\"Error getting embedding for '{text}': {e}\")\n",
    "            return [0.0] * 1536\n",
    "\n",
    "    @staticmethod\n",
    "    async def semantic_ingredient_match_embeddings(\n",
    "        gt_ingredients, pred_ingredients, threshold=0.75\n",
    "    ):\n",
    "        \"\"\"Semantic ingredient matching using OpenAI embeddings and cosine similarity.\"\"\"\n",
    "        gt_ingredients = Metrics._normalize_ingredient_list(gt_ingredients)\n",
    "        pred_ingredients = Metrics._normalize_ingredient_list(pred_ingredients)\n",
    "\n",
    "        def normalize_name(item):\n",
    "            return str(item.get(\"name\", \"\")).lower().strip()\n",
    "\n",
    "        gt_names = [normalize_name(x) for x in gt_ingredients if normalize_name(x)]\n",
    "        pred_names = [normalize_name(x) for x in pred_ingredients if normalize_name(x)]\n",
    "\n",
    "        if not gt_names and not pred_names:\n",
    "            return 1.0, []\n",
    "        if not gt_names or not pred_names:\n",
    "            return 0.0, []\n",
    "\n",
    "        gt_embeddings = await asyncio.gather(\n",
    "            *(Metrics.get_embedding(name) for name in gt_names)\n",
    "        )\n",
    "        pred_embeddings = await asyncio.gather(\n",
    "            *(Metrics.get_embedding(name) for name in pred_names)\n",
    "        )\n",
    "\n",
    "        gt_embeddings = [emb for emb in gt_embeddings if emb and len(emb) > 1]\n",
    "        pred_embeddings = [emb for emb in pred_embeddings if emb and len(emb) > 1]\n",
    "\n",
    "        if not gt_embeddings or not pred_embeddings:\n",
    "            return 0.0, []\n",
    "\n",
    "        similarity_matrix = cosine_similarity(gt_embeddings, pred_embeddings)\n",
    "        cost_matrix = 1 - similarity_matrix\n",
    "        row_indices, col_indices = linear_sum_assignment(cost_matrix)\n",
    "\n",
    "        matches = 0\n",
    "        match_details = []\n",
    "        for row_idx, col_idx in zip(row_indices, col_indices):\n",
    "            similarity = similarity_matrix[row_idx, col_idx]\n",
    "            if similarity >= threshold:\n",
    "                matches += 1\n",
    "                match_details.append(\n",
    "                    {\n",
    "                        \"gt_ingredient\": gt_names[row_idx],\n",
    "                        \"pred_ingredient\": pred_names[col_idx],\n",
    "                        \"similarity\": similarity,\n",
    "                    }\n",
    "                )\n",
    "\n",
    "        recall = matches / len(gt_names)\n",
    "        return recall, match_details\n",
    "\n",
    "    @staticmethod\n",
    "    def semantic_ingredient_match(gt_ingredients, pred_ingredients, threshold=0.7):\n",
    "        \"\"\"Fallback method using string similarity.\"\"\"\n",
    "        gt_ingredients = Metrics._normalize_ingredient_list(gt_ingredients)\n",
    "        pred_ingredients = Metrics._normalize_ingredient_list(pred_ingredients)\n",
    "\n",
    "        def normalize_name(item):\n",
    "            name_str = item.get(\"name\", \"\") if isinstance(item, dict) else item\n",
    "            return str(name_str).lower().strip().replace(\"-\", \" \").replace(\"_\", \" \")\n",
    "\n",
    "        gt_names = [normalize_name(x) for x in gt_ingredients if normalize_name(x)]\n",
    "        pred_names = [normalize_name(x) for x in pred_ingredients if normalize_name(x)]\n",
    "\n",
    "        if not gt_names:\n",
    "            return 1.0 if not pred_names else 0.0\n",
    "\n",
    "        matches = 0\n",
    "        for gt_name in gt_names:\n",
    "            if pred_names:\n",
    "                best_match = max(\n",
    "                    SequenceMatcher(None, gt_name, pred_name).ratio()\n",
    "                    for pred_name in pred_names\n",
    "                )\n",
    "                if best_match >= threshold:\n",
    "                    matches += 1\n",
    "\n",
    "        return matches / len(gt_names)\n",
    "\n",
    "    @staticmethod\n",
    "    def ingredients_f1(gt, pred):\n",
    "        \"\"\"F-score on ingredient names (case-insensitive).\"\"\"\n",
    "        gt_list = Metrics._normalize_ingredient_list(gt)\n",
    "        pred_list = Metrics._normalize_ingredient_list(pred)\n",
    "\n",
    "        def _name(x):\n",
    "            return (\n",
    "                str(x.get(\"name\", \"\")).lower().strip()\n",
    "                if isinstance(x, dict)\n",
    "                else str(x).lower().strip()\n",
    "            )\n",
    "\n",
    "        g_names = {_name(x) for x in gt_list if _name(x)}\n",
    "        p_names = {_name(x) for x in pred_list if _name(x)}\n",
    "\n",
    "        if not g_names and not p_names:\n",
    "            return 1.0\n",
    "        if not g_names or not p_names:\n",
    "            return 0.0\n",
    "\n",
    "        tp = len(g_names & p_names)\n",
    "        if tp == 0:\n",
    "            return 0.0\n",
    "\n",
    "        precision = tp / len(p_names)\n",
    "        recall = tp / len(g_names)\n",
    "        return 2 * precision * recall / (precision + recall)\n",
    "\n",
    "    @staticmethod\n",
    "    async def semantic_f1_score(gt_ingredients, pred_ingredients, threshold=0.75):\n",
    "        \"\"\"\n",
    "        NEW: Calculates an F1 score based on semantic matches from embeddings.\n",
    "        This measures a balance of semantic recall and precision.\n",
    "        \"\"\"\n",
    "        gt_list = Metrics._normalize_ingredient_list(gt_ingredients)\n",
    "        pred_list = Metrics._normalize_ingredient_list(pred_ingredients)\n",
    "\n",
    "        def normalize_name(item):\n",
    "            return str(item.get(\"name\", \"\")).lower().strip()\n",
    "\n",
    "        gt_names = [normalize_name(x) for x in gt_list if normalize_name(x)]\n",
    "        pred_names = [normalize_name(x) for x in pred_list if normalize_name(x)]\n",
    "\n",
    "        if not gt_names and not pred_names:\n",
    "            return 1.0\n",
    "        if not gt_names or not pred_names:\n",
    "            return 0.0\n",
    "\n",
    "        _, match_details = await Metrics.semantic_ingredient_match_embeddings(\n",
    "            gt_list, pred_list, threshold\n",
    "        )\n",
    "\n",
    "        matches = len(match_details)\n",
    "\n",
    "        precision = matches / len(pred_names)\n",
    "        recall = matches / len(gt_names)\n",
    "\n",
    "        if precision + recall == 0:\n",
    "            return 0.0\n",
    "\n",
    "        f1_score = 2 * (precision * recall) / (precision + recall)\n",
    "        return f1_score\n",
    "\n",
    "    @staticmethod\n",
    "    def macro_mae(gt_mac: dict, pred_mac: dict):\n",
    "        \"\"\"Calculates Mean Absolute Error over the four main macros.\"\"\"\n",
    "        keys = [\"calories\", \"carbs\", \"protein\", \"fat\"]\n",
    "        errors = [abs(gt_mac.get(k, 0) - pred_mac.get(k, 0)) for k in keys]\n",
    "        return float(np.mean(errors))\n",
    "\n",
    "    @staticmethod\n",
    "    def macro_percentage_error(gt_mac, pred_mac):\n",
    "        \"\"\"Calculate percentage error for each macro.\"\"\"\n",
    "        keys = [\"calories\", \"carbs\", \"protein\", \"fat\"]\n",
    "        errors = {}\n",
    "        for key in keys:\n",
    "            gt_val = gt_mac.get(key, 0)\n",
    "            pred_val = pred_mac.get(key, 0)\n",
    "            if gt_val > 0:\n",
    "                errors[key] = abs(gt_val - pred_val) / gt_val * 100\n",
    "            else:\n",
    "                errors[key] = 0 if pred_val == 0 else 100\n",
    "        return errors\n",
    "\n",
    "    @staticmethod\n",
    "    def ingredient_count_accuracy(gt_ingredients, pred_ingredients):\n",
    "        \"\"\"How well does the model predict the number of ingredients?\"\"\"\n",
    "        gt_count = len(Metrics._normalize_ingredient_list(gt_ingredients))\n",
    "        pred_count = len(Metrics._normalize_ingredient_list(pred_ingredients))\n",
    "        if gt_count == 0 and pred_count == 0:\n",
    "            return 1.0\n",
    "        if gt_count == 0:\n",
    "            return 0.0\n",
    "        return 1 - abs(gt_count - pred_count) / gt_count"
   ]
  },
  {
   "cell_type": "markdown",
   "id": "f7885e9f",
   "metadata": {},
   "source": [
    "## Evaluation Function\n"
   ]
  },
  {
   "cell_type": "code",
   "execution_count": 8,
   "id": "f880e9da",
   "metadata": {},
   "outputs": [],
   "source": [
    "async def _process_sample(\n",
    "    idx: int,\n",
    "    ds: FoodScanDataset,\n",
    "    llm: Union[LiteModel, JanuaryAIModel],\n",
    "    model_name: str,\n",
    "    use_embeddings: bool = True,\n",
    ") -> dict:\n",
    "    start_time = time.time()\n",
    "    sample = ds[idx]\n",
    "    pred, error_msg = await llm.analyse(sample[\"image_path\"])\n",
    "    end_time = time.time()\n",
    "    gt = sample[\"gt\"]\n",
    "\n",
    "    item = {\n",
    "        \"image_id\": sample[\"image_id\"],\n",
    "        \"model\": model_name,\n",
    "        \"response_time_seconds\": round(end_time - start_time, 2),\n",
    "    }\n",
    "\n",
    "    if pred is None:\n",
    "        item.update(\n",
    "            {\n",
    "                \"f1_ing\": 0.0,\n",
    "                \"semantic_match\": 0.0,\n",
    "                \"semantic_f1_ing\": 0.0,\n",
    "                \"semantic_match_embeddings\": 0.0,\n",
    "                \"ingredient_count_acc\": 0.0,\n",
    "                \"mae_mac\": None,\n",
    "                \"error\": error_msg or \"failed\",\n",
    "                \"cost_usd\": 0.0,\n",
    "                \"calories_pct_error\": None,\n",
    "                \"carbs_pct_error\": None,\n",
    "                \"protein_pct_error\": None,\n",
    "                \"fat_pct_error\": None,\n",
    "                \"match_details\": None,\n",
    "            }\n",
    "        )\n",
    "    else:\n",
    "        gt_ingredients = gt[\"ingredients\"]\n",
    "        pred_ingredients = pred.get(\"ingredients\", [])\n",
    "        gt_macros = gt[\"macros\"]\n",
    "        pred_macros = pred.get(\"total_macros\", {})\n",
    "\n",
    "        semantic_match_embeddings, match_details = 0.0, None\n",
    "        semantic_f1 = 0.0\n",
    "        if use_embeddings:\n",
    "            try:\n",
    "                (\n",
    "                    semantic_match_embeddings,\n",
    "                    match_details,\n",
    "                ) = await Metrics.semantic_ingredient_match_embeddings(\n",
    "                    gt_ingredients, pred_ingredients\n",
    "                )\n",
    "                semantic_f1 = await Metrics.semantic_f1_score(\n",
    "                    gt_ingredients, pred_ingredients\n",
    "                )\n",
    "            except Exception as e:\n",
    "                print(\n",
    "                    f\"Error in embedding similarity for image {sample['image_id']}: {e}\"\n",
    "                )\n",
    "                semantic_match_embeddings = Metrics.semantic_ingredient_match(\n",
    "                    gt_ingredients, pred_ingredients\n",
    "                )\n",
    "                semantic_f1 = 0.0\n",
    "\n",
    "        pct_errors = Metrics.macro_percentage_error(gt_macros, pred_macros)\n",
    "\n",
    "        item.update(\n",
    "            {\n",
    "                \"f1_ing\": Metrics.ingredients_f1(gt_ingredients, pred_ingredients),\n",
    "                \"semantic_match\": Metrics.semantic_ingredient_match(\n",
    "                    gt_ingredients, pred_ingredients\n",
    "                ),\n",
    "                \"semantic_f1_ing\": semantic_f1,\n",
    "                \"semantic_match_embeddings\": semantic_match_embeddings,\n",
    "                \"ingredient_count_acc\": Metrics.ingredient_count_accuracy(\n",
    "                    gt_ingredients, pred_ingredients\n",
    "                ),\n",
    "                \"mae_mac\": Metrics.macro_mae(gt_macros, pred_macros),\n",
    "                \"error\": None,\n",
    "                \"cost_usd\": pred.get(\"cost_usd\", 0.0),\n",
    "                \"calories_pct_error\": pct_errors.get(\"calories\"),\n",
    "                \"carbs_pct_error\": pct_errors.get(\"carbs\"),\n",
    "                \"protein_pct_error\": pct_errors.get(\"protein\"),\n",
    "                \"fat_pct_error\": pct_errors.get(\"fat\"),\n",
    "                \"match_details\": match_details,\n",
    "            }\n",
    "        )\n",
    "\n",
    "    return item\n",
    "\n",
    "\n",
    "async def run_evaluation(\n",
    "    models: Union[str, List[str]],\n",
    "    cache_dir: Path,\n",
    "    max_items: Optional[int] = None,\n",
    "    max_concurrent: int = 5,\n",
    "    prompt_variants: Optional[List[str]] = None,\n",
    "    use_embeddings: bool = True,\n",
    ") -> pd.DataFrame:\n",
    "    \"\"\"Run evaluation with multiple models, including custom ones.\"\"\"\n",
    "    models_to_run = [models] if isinstance(models, str) else models\n",
    "    prompt_variants = prompt_variants or [\"detailed\"]\n",
    "\n",
    "    ds = FoodScanDataset(cache_dir)\n",
    "    n = min(max_items, len(ds)) if max_items else len(ds)\n",
    "    tasks_to_run = []\n",
    "    for model_name in models_to_run:\n",
    "        if model_name == \"january/food-vision-v1\":\n",
    "            tasks_to_run.append({\"model_name\": model_name, \"prompt_variant\": \"default\"})\n",
    "        else:\n",
    "            for variant in prompt_variants:\n",
    "                tasks_to_run.append(\n",
    "                    {\"model_name\": model_name, \"prompt_variant\": variant}\n",
    "                )\n",
    "\n",
    "    sem = asyncio.Semaphore(max_concurrent)\n",
    "\n",
    "    january_model = None\n",
    "    if any(t[\"model_name\"] == \"january/food-vision-v1\" for t in tasks_to_run):\n",
    "        january_model = JanuaryAIModel()\n",
    "\n",
    "    async def _worker(task_info: dict, idx: int):\n",
    "        async with sem:\n",
    "            model_name = task_info[\"model_name\"]\n",
    "            prompt_variant = task_info[\"prompt_variant\"]\n",
    "\n",
    "            if model_name == \"january/food-vision-v1\":\n",
    "                llm = january_model\n",
    "                model_name_for_results = model_name\n",
    "            else:\n",
    "                llm = LiteModel(model_name, prompt_variant=prompt_variant)\n",
    "                model_name_for_results = f\"{model_name}_{prompt_variant}\"\n",
    "\n",
    "            return await _process_sample(\n",
    "                idx, ds, llm, model_name_for_results, use_embeddings\n",
    "            )\n",
    "\n",
    "    all_jobs = [(i, task) for i in range(n) for task in tasks_to_run]\n",
    "\n",
    "    pbar = tqdm(total=len(all_jobs), desc=\"Processing images\", dynamic_ncols=True)\n",
    "\n",
    "    async def _job_runner(job):\n",
    "        result = await _worker(job[1], job[0])\n",
    "        pbar.update(1)\n",
    "        return result\n",
    "\n",
    "    results = await asyncio.gather(*[_job_runner(job) for job in all_jobs])\n",
    "    pbar.close()\n",
    "\n",
    "    return pd.DataFrame(results)"
   ]
  },
  {
   "cell_type": "markdown",
   "id": "2530ecd7",
   "metadata": {},
   "source": [
    "## Analysis and Visualization\n"
   ]
  },
  {
   "cell_type": "code",
   "execution_count": null,
   "id": "fa733757",
   "metadata": {},
   "outputs": [],
   "source": [
    "class BenchmarkAnalyzer:\n",
    "    \"\"\"Comprehensive analysis and visualization of benchmark results.\"\"\"\n",
    "\n",
    "    def __init__(self, results_df):\n",
    "        self.df = results_df.copy()\n",
    "\n",
    "        def get_base_model(model_name):\n",
    "            if model_name == \"january/food-vision-v1\":\n",
    "                return model_name\n",
    "\n",
    "            for variant in LiteModel.PROMPT_VARIANTS:\n",
    "                if model_name.endswith(f\"_{variant}\"):\n",
    "                    return model_name.rsplit(f\"_{variant}\", 1)[0]\n",
    "\n",
    "            return model_name\n",
    "\n",
    "        self.df[\"base_model\"] = self.df[\"model\"].apply(get_base_model)\n",
    "        self.df[\"pretty_model\"] = self.df[\"model\"].apply(pretty_label)\n",
    "\n",
    "        if not self.df.empty:\n",
    "            self.successful_df = self.df[self.df[\"error\"].isna()].copy()\n",
    "        else:\n",
    "            self.successful_df = pd.DataFrame()\n",
    "\n",
    "    def summary_statistics(self):\n",
    "        \"\"\"Generate comprehensive summary statistics for both individual variants and aggregated models.\"\"\"\n",
    "        print(\"=== BENCHMARK SUMMARY (PER VARIANT) ===\\n\")\n",
    "        if self.df.empty:\n",
    "            print(\"No results to analyze.\")\n",
    "            return\n",
    "\n",
    "        for model in sorted(self.df[\"model\"].unique()):\n",
    "            display_name = pretty_label(model)\n",
    "            model_df = self.df[self.df[\"model\"] == model]\n",
    "            successful = model_df[model_df[\"error\"].isna()]\n",
    "            success_rate = (\n",
    "                (len(successful) / len(model_df)) * 100 if len(model_df) > 0 else 0\n",
    "            )\n",
    "\n",
    "            print(f\"--- {display_name} ---\")\n",
    "            print(\n",
    "                f\"  Success Rate: {success_rate:.1f}% ({len(successful)}/{len(model_df)})\"\n",
    "            )\n",
    "\n",
    "            if not successful.empty:\n",
    "                print(\n",
    "                    f\"  Avg Semantic Match (Embeddings): {successful['semantic_match_embeddings'].mean():.3f}\"\n",
    "                )\n",
    "                print(\n",
    "                    f\"  Avg F1 Score (Ingredients): {successful['f1_ing'].mean():.3f}\"\n",
    "                )\n",
    "                print(f\"  Avg MAE (Macros): {successful['mae_mac'].mean():.1f}\")\n",
    "                print(f\"  Avg Cost per Image: ${successful['cost_usd'].mean():.4f}\")\n",
    "                print(\n",
    "                    f\"  Avg Response Time: {successful['response_time_seconds'].mean():.1f}s\\n\"\n",
    "                )\n",
    "\n",
    "        print(\"\\n=== AGGREGATED SUMMARY (PER BASE MODEL) ===\\n\")\n",
    "        if self.successful_df.empty:\n",
    "            print(\"No successful results to analyze for aggregation.\")\n",
    "            return\n",
    "\n",
    "        agg_df = (\n",
    "            self.successful_df.groupby(\"base_model\")\n",
    "            .agg(\n",
    "                semantic_match_embeddings=(\"semantic_match_embeddings\", \"mean\"),\n",
    "                f1_ing=(\"f1_ing\", \"mean\"),\n",
    "                mae_mac=(\"mae_mac\", \"mean\"),\n",
    "                cost_usd=(\"cost_usd\", \"mean\"),\n",
    "                response_time_seconds=(\"response_time_seconds\", \"mean\"),\n",
    "                sample_count=(\"image_id\", \"count\"),\n",
    "            )\n",
    "            .reset_index()\n",
    "        )\n",
    "\n",
    "        for _, row in agg_df.iterrows():\n",
    "            display_name = get_display_name(row[\"base_model\"])\n",
    "            print(\n",
    "                f\"--- {display_name} (aggregated from {row['sample_count']} samples) ---\"\n",
    "            )\n",
    "            print(\n",
    "                f\"  Avg Semantic Match (Embeddings): {row['semantic_match_embeddings']:.3f}\"\n",
    "            )\n",
    "            print(f\"  Avg F1 Score (Ingredients): {row['f1_ing']:.3f}\")\n",
    "            print(f\"  Avg MAE (Macros): {row['mae_mac']:.1f}\")\n",
    "            print(f\"  Avg Cost per Image: ${row['cost_usd']:.4f}\")\n",
    "            print(f\"  Avg Response Time: {row['response_time_seconds']:.1f}s\\n\")\n",
    "\n",
    "        self.analyze_errors()\n",
    "\n",
    "    def analyze_errors(self):\n",
    "        \"\"\"Analyze and summarize the specific errors encountered.\"\"\"\n",
    "        print(\"--- ERROR ANALYSIS ---\")\n",
    "        error_df = self.df[self.df[\"error\"].notna()]\n",
    "        if error_df.empty:\n",
    "            print(\"No errors encountered. All API calls were successful.\\n\")\n",
    "            return\n",
    "\n",
    "        print(\"Error counts by model:\")\n",
    "        error_summary = error_df.groupby(\"model\")[\"error\"].count().sort_index()\n",
    "        print(error_summary.to_string())\n",
    "\n",
    "        print(\"\\nMost common error messages:\")\n",
    "        common_errors = (\n",
    "            error_df[\"error\"].str.split(\":\").str[0].value_counts().nlargest(5)\n",
    "        )\n",
    "        print(common_errors.to_string())\n",
    "        print()\n",
    "\n",
    "    def analyze_ingredient_matches(self):\n",
    "        \"\"\"Analyze detailed ingredient matching results.\"\"\"\n",
    "        if (\n",
    "            self.successful_df.empty\n",
    "            or \"match_details\" not in self.successful_df.columns\n",
    "        ):\n",
    "            print(\"No match details available.\")\n",
    "            return\n",
    "\n",
    "        print(\"=== INGREDIENT MATCHING ANALYSIS ===\\n\")\n",
    "        all_matches = self.successful_df.explode(\"match_details\").dropna(\n",
    "            subset=[\"match_details\"]\n",
    "        )\n",
    "        if all_matches.empty:\n",
    "            print(\"No successful ingredient matches found.\")\n",
    "            return\n",
    "\n",
    "        matches_df = pd.json_normalize(all_matches[\"match_details\"])\n",
    "        matches_df[\"model\"] = all_matches[\"model\"].values\n",
    "        matches_df[\"pretty_model\"] = matches_df[\"model\"].apply(pretty_label)\n",
    "\n",
    "        print(f\"Total successful ingredient matches: {len(matches_df)}\")\n",
    "        print(\n",
    "            f\"Average similarity score: {matches_df['similarity'].mean():.3f} (std: {matches_df['similarity'].std():.3f})\"\n",
    "        )\n",
    "\n",
    "        print(\"\\n--- TOP 10 INGREDIENT MATCHES ---\")\n",
    "        print(\n",
    "            matches_df.nlargest(10, \"similarity\")[\n",
    "                [\"gt_ingredient\", \"pred_ingredient\", \"similarity\", \"pretty_model\"]\n",
    "            ].to_string(index=False)\n",
    "        )\n",
    "\n",
    "        print(\"\\n--- 10 MOST CHALLENGING MATCHES (Lowest Similarity) ---\")\n",
    "        challenging = matches_df[matches_df[\"similarity\"] < 0.85].nsmallest(\n",
    "            10, \"similarity\"\n",
    "        )\n",
    "        if not challenging.empty:\n",
    "            print(\n",
    "                challenging[\n",
    "                    [\"gt_ingredient\", \"pred_ingredient\", \"similarity\", \"pretty_model\"]\n",
    "                ].to_string(index=False)\n",
    "            )\n",
    "        else:\n",
    "            print(\"No challenging matches found (all similarities >= 0.85).\")\n",
    "\n",
    "    def statistical_significance_test(self, metric=\"semantic_match_embeddings\"):\n",
    "        \"\"\"Test statistical significance between aggregated base models using t-test.\"\"\"\n",
    "        if self.successful_df.empty or metric not in self.successful_df.columns:\n",
    "            print(f\"Metric '{metric}' not available for significance testing.\")\n",
    "            return\n",
    "\n",
    "        base_models = sorted(self.successful_df[\"base_model\"].unique())\n",
    "        if len(base_models) < 2:\n",
    "            return\n",
    "\n",
    "        print(f\"\\n=== STATISTICAL SIGNIFICANCE (T-TEST on {metric} - Aggregated) ===\\n\")\n",
    "        for i, model1 in enumerate(base_models):\n",
    "            for model2 in base_models[i + 1 :]:\n",
    "                data1 = self.successful_df[self.successful_df[\"base_model\"] == model1][\n",
    "                    metric\n",
    "                ]\n",
    "                data2 = self.successful_df[self.successful_df[\"base_model\"] == model2][\n",
    "                    metric\n",
    "                ]\n",
    "\n",
    "                if len(data1) > 1 and len(data2) > 1:\n",
    "                    stat, p_value = stats.ttest_ind(\n",
    "                        data1, data2, equal_var=False, nan_policy=\"omit\"\n",
    "                    )\n",
    "                    significance = (\n",
    "                        \"***\"\n",
    "                        if p_value < 0.001\n",
    "                        else \"**\"\n",
    "                        if p_value < 0.01\n",
    "                        else \"*\"\n",
    "                        if p_value < 0.05\n",
    "                        else \"ns\"\n",
    "                    )\n",
    "                    print(\n",
    "                        f\"{get_display_name(model1).ljust(20)} vs. \"\n",
    "                        f\"{get_display_name(model2).ljust(20)} | \"\n",
    "                        f\"p-value: {p_value:.4f} {significance}\"\n",
    "                    )\n",
    "        print()\n",
    "\n",
    "    def create_performance_dashboard(self):\n",
    "        \"\"\"Create a comprehensive performance comparison dashboard with improved styling.\"\"\"\n",
    "        if self.successful_df.empty:\n",
    "            print(\"No successful predictions to plot.\")\n",
    "            return\n",
    "\n",
    "        models = sorted(self.df[\"model\"].unique())\n",
    "\n",
    "        short_labels = {m: pretty_label(m) for m in models}\n",
    "        idx_map = {m: i + 1 for i, m in enumerate(short_labels)}\n",
    "\n",
    "        colors = [\n",
    "            \"#1f77b4\",\n",
    "            \"#ff7f0e\",\n",
    "            \"#2ca02c\",\n",
    "            \"#d62728\",\n",
    "            \"#9467bd\",\n",
    "            \"#8c564b\",\n",
    "            \"#e377c2\",\n",
    "            \"#7f7f7f\",\n",
    "            \"#bcbd22\",\n",
    "            \"#17becf\",\n",
    "        ]\n",
    "\n",
    "        metric_col = \"semantic_match_embeddings\"\n",
    "\n",
    "        fig = make_subplots(\n",
    "            rows=2,\n",
    "            cols=3,\n",
    "            subplot_titles=(\n",
    "                \"Embedding Similarity Distribution\",\n",
    "                \"Lexical F1 Score (Ingredients)\",\n",
    "                \"Embedding F1 Score (Ingredients)\",\n",
    "                \"Macro Nutritional MAE\",\n",
    "                \"Cost vs. Performance\",\n",
    "                \"Response Time Distribution\",\n",
    "            ),\n",
    "            vertical_spacing=0.15,\n",
    "            horizontal_spacing=0.08,\n",
    "        )\n",
    "\n",
    "        for i, model in enumerate(models):\n",
    "            m_idx = str(idx_map[model])\n",
    "            color = colors[i % len(colors)]\n",
    "            d_ok = self.successful_df[self.successful_df[\"model\"] == model]\n",
    "            if d_ok.empty:\n",
    "                continue\n",
    "\n",
    "            box_style = dict(\n",
    "                marker_color=color,\n",
    "                marker_line_color=\"rgba(0,0,0,0.3)\",\n",
    "                marker_line_width=1,\n",
    "                fillcolor=f\"rgba({','.join(str(int(color[i : i + 2], 16)) for i in (1, 3, 5))}, 0.6)\",\n",
    "                line_color=color,\n",
    "                line_width=2,\n",
    "            )\n",
    "            fig.add_trace(\n",
    "                go.Box(\n",
    "                    y=d_ok[\"semantic_match_embeddings\"],\n",
    "                    name=m_idx,\n",
    "                    legendgroup=m_idx,\n",
    "                    showlegend=False,\n",
    "                    **box_style,\n",
    "                ),\n",
    "                row=1,\n",
    "                col=1,\n",
    "            )\n",
    "            fig.add_trace(\n",
    "                go.Box(\n",
    "                    y=d_ok[\"f1_ing\"],\n",
    "                    name=m_idx,\n",
    "                    legendgroup=m_idx,\n",
    "                    showlegend=False,\n",
    "                    **box_style,\n",
    "                ),\n",
    "                row=1,\n",
    "                col=2,\n",
    "            )\n",
    "            fig.add_trace(\n",
    "                go.Box(\n",
    "                    y=d_ok[\"semantic_f1_ing\"],\n",
    "                    name=m_idx,\n",
    "                    legendgroup=m_idx,\n",
    "                    showlegend=False,\n",
    "                    **box_style,\n",
    "                ),\n",
    "                row=1,\n",
    "                col=3,\n",
    "            )\n",
    "            fig.add_trace(\n",
    "                go.Box(\n",
    "                    y=d_ok[\"mae_mac\"],\n",
    "                    name=m_idx,\n",
    "                    legendgroup=m_idx,\n",
    "                    showlegend=False,\n",
    "                    **box_style,\n",
    "                ),\n",
    "                row=2,\n",
    "                col=1,\n",
    "            )\n",
    "            fig.add_trace(\n",
    "                go.Box(\n",
    "                    y=d_ok[\"response_time_seconds\"],\n",
    "                    name=m_idx,\n",
    "                    legendgroup=m_idx,\n",
    "                    showlegend=False,\n",
    "                    **box_style,\n",
    "                ),\n",
    "                row=2,\n",
    "                col=3,\n",
    "            )\n",
    "\n",
    "        summary_df = (\n",
    "            self.successful_df.groupby(\"base_model\")\n",
    "            .agg(\n",
    "                avg_cost=(\"cost_usd\", \"mean\"),\n",
    "                avg_performance=(metric_col, \"mean\"),\n",
    "                avg_time=(\"response_time_seconds\", \"mean\"),\n",
    "                performance_std=(metric_col, \"std\"),\n",
    "            )\n",
    "            .reset_index()\n",
    "        )\n",
    "        summary_df[\"pretty_name\"] = summary_df[\"base_model\"].apply(get_display_name)\n",
    "\n",
    "        min_time = summary_df[\"avg_time\"].min()\n",
    "        max_time = summary_df[\"avg_time\"].max()\n",
    "        summary_df[\"normalized_speed\"] = (\n",
    "            1.0\n",
    "            if max_time == min_time\n",
    "            else (max_time - summary_df[\"avg_time\"]) / (max_time - min_time)\n",
    "        )\n",
    "        summary_df[\"circle_size\"] = 15 + (summary_df[\"normalized_speed\"] * 35)\n",
    "\n",
    "        fig.add_trace(\n",
    "            go.Scatter(\n",
    "                x=summary_df[\"avg_cost\"],\n",
    "                y=summary_df[\"avg_performance\"],\n",
    "                mode=\"markers+text\",\n",
    "                marker=dict(\n",
    "                    size=summary_df[\"circle_size\"],\n",
    "                    color=[colors[i % len(colors)] for i in range(len(summary_df))],\n",
    "                    sizemode=\"diameter\",\n",
    "                    sizemin=10,\n",
    "                    line=dict(width=2, color=\"rgba(0,0,0,0.4)\"),\n",
    "                    opacity=0.8,\n",
    "                ),\n",
    "                text=summary_df.index.map(lambda i: str(i + 1)),\n",
    "                textfont=dict(color=\"white\", size=10, family=\"Arial Black\"),\n",
    "                textposition=\"middle center\",\n",
    "                hovertemplate=\"<b>%{customdata[0]}</b><br>\"\n",
    "                + \"Avg. Performance: %{y:.3f}<br>\"\n",
    "                + \"Avg. Cost: $%{x:.4f}<br>\"\n",
    "                + \"Avg. Response Time: %{customdata[1]:.2f}s<br>\"\n",
    "                + \"<extra></extra>\",\n",
    "                customdata=summary_df[[\"pretty_name\", \"avg_time\"]],\n",
    "                showlegend=False,\n",
    "            ),\n",
    "            row=2,\n",
    "            col=2,\n",
    "        )\n",
    "\n",
    "        fig.update_traces(\n",
    "            error_y=dict(\n",
    "                type=\"data\",\n",
    "                array=summary_df[\"performance_std\"],\n",
    "                visible=True,\n",
    "                thickness=1.5,\n",
    "                width=3,\n",
    "                color=\"rgba(0,0,0,0.3)\",\n",
    "            ),\n",
    "            selector=dict(type=\"scatter\"),\n",
    "            row=2,\n",
    "            col=2,\n",
    "        )\n",
    "\n",
    "        for i, model in enumerate(models):\n",
    "            m_idx = str(idx_map[model])\n",
    "            fig.add_trace(\n",
    "                go.Scatter(\n",
    "                    x=[None],\n",
    "                    y=[None],\n",
    "                    mode=\"markers\",\n",
    "                    marker=dict(\n",
    "                        size=12,\n",
    "                        color=colors[i % len(colors)],\n",
    "                        symbol=\"circle\",\n",
    "                        line=dict(width=2, color=\"rgba(0,0,0,0.3)\"),\n",
    "                    ),\n",
    "                    legendgroup=m_idx,\n",
    "                    showlegend=True,\n",
    "                    name=f\"{m_idx}: {short_labels[model]}\",\n",
    "                )\n",
    "            )\n",
    "\n",
    "        axis_style = dict(\n",
    "            showgrid=True,\n",
    "            gridcolor=\"rgba(128,128,128,0.2)\",\n",
    "            gridwidth=1,\n",
    "            zeroline=True,\n",
    "            zerolinecolor=\"rgba(128,128,128,0.4)\",\n",
    "            zerolinewidth=1,\n",
    "            tickfont=dict(size=11, color=\"#2f2f2f\"),\n",
    "        )\n",
    "        for row in [1, 2]:\n",
    "            for col in [1, 2, 3]:\n",
    "                fig.update_xaxes(**axis_style, row=row, col=col)\n",
    "                fig.update_yaxes(**axis_style, row=row, col=col)\n",
    "        fig.update_yaxes(title_text=\"Similarity Score (Recall)\", row=1, col=1)\n",
    "        fig.update_yaxes(title_text=\"Lexical F1 Score\", row=1, col=2)\n",
    "        fig.update_yaxes(title_text=\"Embedding F1 Score\", row=1, col=3)\n",
    "        fig.update_yaxes(title_text=\"Mean Absolute Error\", row=2, col=1)\n",
    "        fig.update_xaxes(title_text=\"Cost per Image ($)\", row=2, col=2)\n",
    "        fig.update_yaxes(title_text=\"Similarity Score\", row=2, col=2)\n",
    "        fig.update_yaxes(title_text=\"Response Time (sec)\", row=2, col=3)\n",
    "        fig.update_layout(\n",
    "            height=900,\n",
    "            width=1400,\n",
    "            title=dict(\n",
    "                text=\"<b>Model Performance Dashboard</b>\",\n",
    "                x=0.5,\n",
    "                xanchor=\"center\",\n",
    "                font=dict(size=24, color=\"#1f1f1f\", family=\"Arial Black\"),\n",
    "            ),\n",
    "            showlegend=True,\n",
    "            legend=dict(\n",
    "                title=\"<b>Models</b>\",\n",
    "                title_font=dict(size=14, color=\"#1f1f1f\"),\n",
    "                font=dict(size=11),\n",
    "                bgcolor=\"rgba(255,255,255,0.8)\",\n",
    "                bordercolor=\"rgba(128,128,128,0.5)\",\n",
    "                borderwidth=1,\n",
    "                x=1.02,\n",
    "                y=1,\n",
    "                xanchor=\"left\",\n",
    "                yanchor=\"top\",\n",
    "            ),\n",
    "            plot_bgcolor=\"rgba(248,249,250,0.8)\",\n",
    "            paper_bgcolor=\"white\",\n",
    "            font=dict(family=\"Arial, sans-serif\", size=11, color=\"#2f2f2f\"),\n",
    "            margin=dict(l=80, r=150, t=120, b=80),\n",
    "            hovermode=\"closest\",\n",
    "        )\n",
    "        config = dict(\n",
    "            displayModeBar=True,\n",
    "            displaylogo=False,\n",
    "            modeBarButtonsToRemove=[\"pan2d\", \"lasso2d\"],\n",
    "            toImageButtonOptions=dict(\n",
    "                format=\"png\",\n",
    "                filename=\"model_performance_dashboard\",\n",
    "                height=900,\n",
    "                width=1400,\n",
    "                scale=2,\n",
    "            ),\n",
    "        )\n",
    "        fig.show(config=config)\n",
    "        fig.write_html(\"performance_dashboard.html\", config=config)\n",
    "\n",
    "    def macro_accuracy_heatmap(self):\n",
    "        \"\"\"Create a heatmap of macro percentage error by model.\"\"\"\n",
    "        if self.successful_df.empty:\n",
    "            return\n",
    "        macro_cols = [\n",
    "            \"calories_pct_error\",\n",
    "            \"carbs_pct_error\",\n",
    "            \"protein_pct_error\",\n",
    "            \"fat_pct_error\",\n",
    "        ]\n",
    "\n",
    "        heatmap_data = self.successful_df.groupby(\"base_model\")[macro_cols].mean()\n",
    "        heatmap_data.index = [get_display_name(m) for m in heatmap_data.index]\n",
    "        heatmap_data = heatmap_data.sort_index()\n",
    "\n",
    "        fig = px.imshow(\n",
    "            heatmap_data,\n",
    "            labels=dict(x=\"Macro Nutrient\", y=\"Model\", color=\"Avg % Error\"),\n",
    "            x=[\"Calories\", \"Carbs\", \"Protein\", \"Fat\"],\n",
    "            y=heatmap_data.index,\n",
    "            text_auto=\".1f\",\n",
    "            aspect=\"auto\",\n",
    "            color_continuous_scale=\"RdYlGn_r\",\n",
    "            title=\"<b>Average Percentage Error by Macro (Lower is Better)</b>\",\n",
    "        )\n",
    "        fig.update_traces(texttemplate=\"%{z}%\")\n",
    "        fig.show()\n",
    "\n",
    "    def export_detailed_report(self, filename=\"benchmark_report.csv\"):\n",
    "        \"\"\"Export a detailed report with raw data and summary to CSV files.\"\"\"\n",
    "        print(f\"Exporting detailed report to {filename}...\")\n",
    "        self.df.to_csv(filename, index=False)\n",
    "\n",
    "        if not self.successful_df.empty:\n",
    "            summary = (\n",
    "                self.df.groupby(\"model\")\n",
    "                .agg(\n",
    "                    success_rate=(\"error\", lambda x: x.isna().mean()),\n",
    "                    semantic_match_embeddings_mean=(\n",
    "                        \"semantic_match_embeddings\",\n",
    "                        \"mean\",\n",
    "                    ),\n",
    "                    f1_ing_mean=(\"f1_ing\", \"mean\"),\n",
    "                    mae_mac_mean=(\"mae_mac\", \"mean\"),\n",
    "                    cost_usd_total=(\"cost_usd\", \"sum\"),\n",
    "                    response_time_seconds_mean=(\"response_time_seconds\", \"mean\"),\n",
    "                )\n",
    "                .reset_index()\n",
    "            )\n",
    "            summary_filename = filename.replace(\".csv\", \"_summary.csv\")\n",
    "            summary.to_csv(summary_filename, index=False)\n",
    "        print(\"Export complete.\")\n",
    "\n",
    "    def create_win_loss_analysis(self, baseline_model_name: Optional[str] = None):\n",
    "        \"\"\"Win-Tie-Loss analysis comparing average performance across all prompt variants.\"\"\"\n",
    "        print(\"\\n=== WIN-TIE-LOSS ANALYSIS (Average Across Prompt Variants) ===\")\n",
    "        if self.successful_df.empty:\n",
    "            print(\"No successful results to analyze.\")\n",
    "            return\n",
    "\n",
    "        df = self.successful_df.copy()\n",
    "        base_models = sorted(df[\"base_model\"].unique())\n",
    "\n",
    "        if len(base_models) < 2:\n",
    "            print(\"Need at least two models to perform a win-loss comparison.\")\n",
    "            return\n",
    "\n",
    "        if baseline_model_name:\n",
    "            if baseline_model_name not in base_models:\n",
    "                print(\n",
    "                    f\"Error: Baseline model '{baseline_model_name}' not found in results.\"\n",
    "                )\n",
    "                print(f\"Available models are: {base_models}\")\n",
    "                return\n",
    "            baseline_model = baseline_model_name\n",
    "        else:\n",
    "            baseline_model = base_models[0]\n",
    "            print(\n",
    "                f\"INFO: No baseline model specified. Using '{get_display_name(baseline_model)}' as the default.\"\n",
    "            )\n",
    "\n",
    "        competitor_models = [m for m in base_models if m != baseline_model]\n",
    "        macro_cols = [\n",
    "            \"calories_pct_error\",\n",
    "            \"carbs_pct_error\",\n",
    "            \"protein_pct_error\",\n",
    "            \"fat_pct_error\",\n",
    "        ]\n",
    "\n",
    "        avg_errors = (\n",
    "            df.groupby([\"image_id\", \"base_model\"])[macro_cols].mean().reset_index()\n",
    "        )\n",
    "\n",
    "        win_loss_data = {}\n",
    "        for competitor in competitor_models:\n",
    "            win_loss_data[competitor] = {\n",
    "                m: {\"win\": 0, \"tie\": 0, \"loss\": 0} for m in macro_cols\n",
    "            }\n",
    "            baseline_data = avg_errors[avg_errors[\"base_model\"] == baseline_model]\n",
    "            competitor_data = avg_errors[avg_errors[\"base_model\"] == competitor]\n",
    "\n",
    "            comparison_df = pd.merge(\n",
    "                baseline_data,\n",
    "                competitor_data,\n",
    "                on=\"image_id\",\n",
    "                suffixes=(\"_base\", \"_comp\"),\n",
    "            )\n",
    "            if comparison_df.empty:\n",
    "                print(\n",
    "                    f\"No common images between {get_display_name(baseline_model)} and {get_display_name(competitor)}\"\n",
    "                )\n",
    "                continue\n",
    "\n",
    "            for macro in macro_cols:\n",
    "                base_error = comparison_df[f\"{macro}_base\"]\n",
    "                comp_error = comparison_df[f\"{macro}_comp\"]\n",
    "                win_loss_data[competitor][macro][\"win\"] = (\n",
    "                    base_error < comp_error\n",
    "                ).sum()\n",
    "                win_loss_data[competitor][macro][\"tie\"] = (\n",
    "                    base_error == comp_error\n",
    "                ).sum()\n",
    "                win_loss_data[competitor][macro][\"loss\"] = (\n",
    "                    base_error > comp_error\n",
    "                ).sum()\n",
    "\n",
    "        if not win_loss_data:\n",
    "            print(\"No common images found to compare models.\")\n",
    "            return\n",
    "\n",
    "        colors = {\"win\": \"#16A085\", \"tie\": \"#95A5A6\", \"loss\": \"#E74C3C\"}\n",
    "        macro_titles = [\"Calories\", \"Carbohydrates\", \"Protein\", \"Fat\"]\n",
    "        fig = make_subplots(\n",
    "            rows=len(competitor_models),\n",
    "            cols=4,\n",
    "            subplot_titles=macro_titles,\n",
    "            shared_xaxes=True,\n",
    "            vertical_spacing=0.08,\n",
    "            horizontal_spacing=0.08,\n",
    "        )\n",
    "\n",
    "        for i, competitor in enumerate(competitor_models):\n",
    "            pretty_base = get_display_name(baseline_model)\n",
    "            pretty_comp = get_display_name(competitor)\n",
    "            row_idx = i + 1\n",
    "\n",
    "            for j, macro in enumerate(macro_cols):\n",
    "                col_idx = j + 1\n",
    "                data = win_loss_data[competitor][macro]\n",
    "                total = sum(data.values())\n",
    "                if total == 0:\n",
    "                    continue\n",
    "                win_pct, tie_pct, loss_pct = (\n",
    "                    data[\"win\"] / total * 100,\n",
    "                    data[\"tie\"] / total * 100,\n",
    "                    data[\"loss\"] / total * 100,\n",
    "                )\n",
    "                fig.add_trace(\n",
    "                    go.Bar(\n",
    "                        name=\"Win\",\n",
    "                        x=[win_pct],\n",
    "                        y=[pretty_comp],\n",
    "                        orientation=\"h\",\n",
    "                        marker=dict(color=colors[\"win\"]),\n",
    "                        showlegend=False,\n",
    "                        text=f\"{win_pct:.0f}%\" if win_pct > 5 else \"\",\n",
    "                        textposition=\"inside\",\n",
    "                        customdata=[data[\"win\"]],\n",
    "                        hovertemplate=\"<b>Win</b><br>Count: %{customdata}<br>Percentage: %{x:.1f}%<br><extra></extra>\",\n",
    "                    ),\n",
    "                    row=row_idx,\n",
    "                    col=col_idx,\n",
    "                )\n",
    "                fig.add_trace(\n",
    "                    go.Bar(\n",
    "                        name=\"Tie\",\n",
    "                        x=[tie_pct],\n",
    "                        y=[pretty_comp],\n",
    "                        orientation=\"h\",\n",
    "                        marker=dict(color=colors[\"tie\"]),\n",
    "                        showlegend=False,\n",
    "                        text=f\"{tie_pct:.0f}%\" if tie_pct > 5 else \"\",\n",
    "                        textposition=\"inside\",\n",
    "                        customdata=[data[\"tie\"]],\n",
    "                        hovertemplate=\"<b>Tie</b><br>Count: %{customdata}<br>Percentage: %{x:.1f}%<br><extra></extra>\",\n",
    "                    ),\n",
    "                    row=row_idx,\n",
    "                    col=col_idx,\n",
    "                )\n",
    "                fig.add_trace(\n",
    "                    go.Bar(\n",
    "                        name=\"Loss\",\n",
    "                        x=[loss_pct],\n",
    "                        y=[pretty_comp],\n",
    "                        orientation=\"h\",\n",
    "                        marker=dict(color=colors[\"loss\"]),\n",
    "                        showlegend=False,\n",
    "                        text=f\"{loss_pct:.0f}%\" if loss_pct > 5 else \"\",\n",
    "                        textposition=\"inside\",\n",
    "                        customdata=[data[\"loss\"]],\n",
    "                        hovertemplate=\"<b>Loss</b><br>Count: %{customdata}<br>Percentage: %{x:.1f}%<br><extra></extra>\",\n",
    "                    ),\n",
    "                    row=row_idx,\n",
    "                    col=col_idx,\n",
    "                )\n",
    "                fig.update_yaxes(\n",
    "                    row=row_idx, col=col_idx, showticklabels=False, title_text=\"\"\n",
    "                )\n",
    "\n",
    "            axis_number = (row_idx - 1) * 4 + 1\n",
    "            yaxis_name = f\"yaxis{'' if axis_number == 1 else axis_number}\"\n",
    "            y0, y1 = fig.layout[yaxis_name].domain\n",
    "            y_mid = (y0 + y1) / 2\n",
    "            fig.add_annotation(\n",
    "                x=-0.03,\n",
    "                y=y_mid,\n",
    "                xref=\"paper\",\n",
    "                yref=\"paper\",\n",
    "                text=pretty_base,\n",
    "                showarrow=False,\n",
    "                xanchor=\"right\",\n",
    "                yanchor=\"middle\",\n",
    "                font=dict(size=12),\n",
    "            )\n",
    "            fig.add_annotation(\n",
    "                x=1.03,\n",
    "                y=y_mid,\n",
    "                xref=\"paper\",\n",
    "                yref=\"paper\",\n",
    "                text=pretty_comp,\n",
    "                showarrow=False,\n",
    "                xanchor=\"left\",\n",
    "                yanchor=\"middle\",\n",
    "                font=dict(size=12),\n",
    "            )\n",
    "\n",
    "        fig.update_layout(\n",
    "            barmode=\"stack\",\n",
    "            title={\n",
    "                \"text\": f\"<b>{get_display_name(baseline_model)} vs. others</b>\",\n",
    "                \"x\": 0.5,\n",
    "                \"xanchor\": \"center\",\n",
    "            },\n",
    "            height=max(200, 60 * len(competitor_models) + 80),\n",
    "            width=1000,\n",
    "            showlegend=False,\n",
    "            plot_bgcolor=\"rgba(250,251,252,0.8)\",\n",
    "            paper_bgcolor=\"white\",\n",
    "            margin=dict(l=150, r=150, t=100, b=20),\n",
    "        )\n",
    "        fig.update_xaxes(range=[0, 100], ticksuffix=\"%\", showticklabels=False)\n",
    "        fig.update_yaxes(showticklabels=False)\n",
    "\n",
    "        print(f\"\\nComparing {get_display_name(baseline_model)} (baseline) against:\")\n",
    "        for competitor in competitor_models:\n",
    "            total_comparisons = sum(\n",
    "                sum(win_loss_data[competitor][m].values()) for m in macro_cols\n",
    "            )\n",
    "            if total_comparisons > 0:\n",
    "                baseline_wins = sum(\n",
    "                    win_loss_data[competitor][m][\"win\"] for m in macro_cols\n",
    "                )\n",
    "                baseline_losses = sum(\n",
    "                    win_loss_data[competitor][m][\"loss\"] for m in macro_cols\n",
    "                )\n",
    "                print(\n",
    "                    f\"  - vs {get_display_name(competitor)}: {baseline_wins} wins, {baseline_losses} losses across {total_comparisons // 4} images\"\n",
    "                )\n",
    "        fig.show()"
   ]
  },
  {
   "cell_type": "markdown",
   "id": "6909d270",
   "metadata": {},
   "source": [
    "## Run Benchmark\n"
   ]
  },
  {
   "cell_type": "code",
   "execution_count": 20,
   "id": "a82972d3",
   "metadata": {},
   "outputs": [
    {
     "data": {
      "application/vnd.jupyter.widget-view+json": {
       "model_id": "d2839437b4eb4825a06790f35d7c5f34",
       "version_major": 2,
       "version_minor": 0
      },
      "text/plain": [
       "Processing images:   0%|          | 0/180 [00:00<?, ?it/s]"
      ]
     },
     "metadata": {},
     "output_type": "display_data"
    }
   ],
   "source": [
    "BENCHMARK_CONFIG = {\n",
    "    \"models\": [\n",
    "        \"january/food-vision-v1\",\n",
    "        \"gpt-4o-mini\",\n",
    "        \"gpt-4o\",\n",
    "        \"gemini/gemini-2.5-flash-preview-05-20\",\n",
    "        \"gemini/gemini-2.5-pro-preview-06-05\",\n",
    "    ],\n",
    "    \"max_items\": 20,\n",
    "    \"cache_dir\": Path(\".cache/food_scan_bench\"),\n",
    "    \"max_concurrent_requests\": 50,\n",
    "    \"prompt_variants\": [\"detailed\", \"step_by_step\"],\n",
    "    \"use_embeddings_for_matching\": True,\n",
    "    \"report_filename\": \"benchmark_results.csv\",\n",
    "}\n",
    "\n",
    "results_df = await run_evaluation(\n",
    "    models=BENCHMARK_CONFIG[\"models\"],\n",
    "    cache_dir=BENCHMARK_CONFIG[\"cache_dir\"],\n",
    "    max_items=BENCHMARK_CONFIG[\"max_items\"],\n",
    "    max_concurrent=BENCHMARK_CONFIG[\"max_concurrent_requests\"],\n",
    "    prompt_variants=BENCHMARK_CONFIG[\"prompt_variants\"],\n",
    "    use_embeddings=BENCHMARK_CONFIG[\"use_embeddings_for_matching\"],\n",
    ")"
   ]
  },
  {
   "cell_type": "code",
   "execution_count": 21,
   "id": "b4f63a7f",
   "metadata": {},
   "outputs": [
    {
     "name": "stdout",
     "output_type": "stream",
     "text": [
      "=== BENCHMARK SUMMARY (PER VARIANT) ===\n",
      "\n",
      "--- gemini-2.5-flash_d ---\n",
      "  Success Rate: 100.0% (20/20)\n",
      "  Avg Semantic Match (Embeddings): 0.450\n",
      "  Avg F1 Score (Ingredients): 0.256\n",
      "  Avg MAE (Macros): 96.2\n",
      "  Avg Cost per Image: $0.0012\n",
      "  Avg Response Time: 14.5s\n",
      "\n",
      "--- gemini-2.5-flash_s ---\n",
      "  Success Rate: 100.0% (20/20)\n",
      "  Avg Semantic Match (Embeddings): 0.423\n",
      "  Avg F1 Score (Ingredients): 0.234\n",
      "  Avg MAE (Macros): 86.5\n",
      "  Avg Cost per Image: $0.0015\n",
      "  Avg Response Time: 16.4s\n",
      "\n",
      "--- gemini-2.5-pro_d ---\n",
      "  Success Rate: 100.0% (20/20)\n",
      "  Avg Semantic Match (Embeddings): 0.386\n",
      "  Avg F1 Score (Ingredients): 0.210\n",
      "  Avg MAE (Macros): 65.8\n",
      "  Avg Cost per Image: $0.0246\n",
      "  Avg Response Time: 29.4s\n",
      "\n",
      "--- gemini-2.5-pro_s ---\n",
      "  Success Rate: 100.0% (20/20)\n",
      "  Avg Semantic Match (Embeddings): 0.359\n",
      "  Avg F1 Score (Ingredients): 0.237\n",
      "  Avg MAE (Macros): 60.5\n",
      "  Avg Cost per Image: $0.0240\n",
      "  Avg Response Time: 28.5s\n",
      "\n",
      "--- gpt-4o-mini_d ---\n",
      "  Success Rate: 100.0% (20/20)\n",
      "  Avg Semantic Match (Embeddings): 0.505\n",
      "  Avg F1 Score (Ingredients): 0.358\n",
      "  Avg MAE (Macros): 45.6\n",
      "  Avg Cost per Image: $0.0057\n",
      "  Avg Response Time: 10.6s\n",
      "\n",
      "--- gpt-4o-mini_s ---\n",
      "  Success Rate: 100.0% (20/20)\n",
      "  Avg Semantic Match (Embeddings): 0.544\n",
      "  Avg F1 Score (Ingredients): 0.362\n",
      "  Avg MAE (Macros): 49.5\n",
      "  Avg Cost per Image: $0.0057\n",
      "  Avg Response Time: 9.7s\n",
      "\n",
      "--- gpt-4o_d ---\n",
      "  Success Rate: 100.0% (20/20)\n",
      "  Avg Semantic Match (Embeddings): 0.667\n",
      "  Avg F1 Score (Ingredients): 0.572\n",
      "  Avg MAE (Macros): 40.0\n",
      "  Avg Cost per Image: $0.0062\n",
      "  Avg Response Time: 12.5s\n",
      "\n",
      "--- gpt-4o_s ---\n",
      "  Success Rate: 100.0% (20/20)\n",
      "  Avg Semantic Match (Embeddings): 0.614\n",
      "  Avg F1 Score (Ingredients): 0.534\n",
      "  Avg MAE (Macros): 40.9\n",
      "  Avg Cost per Image: $0.0061\n",
      "  Avg Response Time: 12.0s\n",
      "\n",
      "--- January AI ---\n",
      "  Success Rate: 100.0% (20/20)\n",
      "  Avg Semantic Match (Embeddings): 0.877\n",
      "  Avg F1 Score (Ingredients): 0.850\n",
      "  Avg MAE (Macros): 29.3\n",
      "  Avg Cost per Image: $0.0300\n",
      "  Avg Response Time: 12.1s\n",
      "\n",
      "\n",
      "=== AGGREGATED SUMMARY (PER BASE MODEL) ===\n",
      "\n",
      "--- gemini-2.5-flash (aggregated from 40 samples) ---\n",
      "  Avg Semantic Match (Embeddings): 0.437\n",
      "  Avg F1 Score (Ingredients): 0.245\n",
      "  Avg MAE (Macros): 91.4\n",
      "  Avg Cost per Image: $0.0013\n",
      "  Avg Response Time: 15.4s\n",
      "\n",
      "--- gemini-2.5-pro (aggregated from 40 samples) ---\n",
      "  Avg Semantic Match (Embeddings): 0.372\n",
      "  Avg F1 Score (Ingredients): 0.224\n",
      "  Avg MAE (Macros): 63.2\n",
      "  Avg Cost per Image: $0.0243\n",
      "  Avg Response Time: 28.9s\n",
      "\n",
      "--- gpt-4o (aggregated from 40 samples) ---\n",
      "  Avg Semantic Match (Embeddings): 0.641\n",
      "  Avg F1 Score (Ingredients): 0.553\n",
      "  Avg MAE (Macros): 40.4\n",
      "  Avg Cost per Image: $0.0061\n",
      "  Avg Response Time: 12.3s\n",
      "\n",
      "--- gpt-4o-mini (aggregated from 40 samples) ---\n",
      "  Avg Semantic Match (Embeddings): 0.525\n",
      "  Avg F1 Score (Ingredients): 0.360\n",
      "  Avg MAE (Macros): 47.6\n",
      "  Avg Cost per Image: $0.0057\n",
      "  Avg Response Time: 10.1s\n",
      "\n",
      "--- January AI (aggregated from 20 samples) ---\n",
      "  Avg Semantic Match (Embeddings): 0.877\n",
      "  Avg F1 Score (Ingredients): 0.850\n",
      "  Avg MAE (Macros): 29.3\n",
      "  Avg Cost per Image: $0.0300\n",
      "  Avg Response Time: 12.1s\n",
      "\n",
      "--- ERROR ANALYSIS ---\n",
      "No errors encountered. All API calls were successful.\n",
      "\n",
      "=== INGREDIENT MATCHING ANALYSIS ===\n",
      "\n",
      "Total successful ingredient matches: 478\n",
      "Average similarity score: 0.957 (std: 0.078)\n",
      "\n",
      "--- TOP 10 INGREDIENT MATCHES ---\n",
      " gt_ingredient pred_ingredient  similarity       pretty_model\n",
      "scrambled eggs  scrambled eggs         1.0         January AI\n",
      "scrambled eggs  scrambled eggs         1.0      gpt-4o-mini_d\n",
      "scrambled eggs  scrambled eggs         1.0      gpt-4o-mini_s\n",
      "scrambled eggs  scrambled eggs         1.0           gpt-4o_d\n",
      "scrambled eggs  scrambled eggs         1.0           gpt-4o_s\n",
      "scrambled eggs  scrambled eggs         1.0 gemini-2.5-flash_s\n",
      "scrambled eggs  scrambled eggs         1.0   gemini-2.5-pro_s\n",
      "       carrots         carrots         1.0         January AI\n",
      "       carrots         carrots         1.0           gpt-4o_d\n",
      "       carrots         carrots         1.0           gpt-4o_s\n",
      "\n",
      "--- 10 MOST CHALLENGING MATCHES (Lowest Similarity) ---\n",
      "gt_ingredient                pred_ingredient  similarity       pretty_model\n",
      " green onions           chopped green onions    0.750536      gpt-4o-mini_s\n",
      " green onions           chopped green onions    0.750536 gemini-2.5-flash_d\n",
      " greek yogurt           ellenos greek yogurt    0.752406 gemini-2.5-flash_d\n",
      " greek yogurt           ellenos greek yogurt    0.752406 gemini-2.5-flash_s\n",
      " greek yogurt           ellenos greek yogurt    0.752406   gemini-2.5-pro_d\n",
      "         eggs                     large eggs    0.760898 gemini-2.5-flash_s\n",
      "        bacon                 bacon crumbles    0.760996   gemini-2.5-pro_d\n",
      "     dressing dressing (assumed vinaigrette)    0.762551      gpt-4o-mini_s\n",
      "     dressing dressing (assumed vinaigrette)    0.762551           gpt-4o_d\n",
      "     dressing dressing (assumed vinaigrette)    0.762551           gpt-4o_s\n",
      "\n",
      "=== STATISTICAL SIGNIFICANCE (T-TEST on semantic_match_embeddings - Aggregated) ===\n",
      "\n",
      "gemini-2.5-flash     vs. gemini-2.5-pro       | p-value: 0.2878 ns\n",
      "gemini-2.5-flash     vs. gpt-4o               | p-value: 0.0039 **\n",
      "gemini-2.5-flash     vs. gpt-4o-mini          | p-value: 0.1608 ns\n",
      "gemini-2.5-flash     vs. January AI           | p-value: 0.0000 ***\n",
      "gemini-2.5-pro       vs. gpt-4o               | p-value: 0.0001 ***\n",
      "gemini-2.5-pro       vs. gpt-4o-mini          | p-value: 0.0109 *\n",
      "gemini-2.5-pro       vs. January AI           | p-value: 0.0000 ***\n",
      "gpt-4o               vs. gpt-4o-mini          | p-value: 0.0854 ns\n",
      "gpt-4o               vs. January AI           | p-value: 0.0012 **\n",
      "gpt-4o-mini          vs. January AI           | p-value: 0.0000 ***\n",
      "\n"
     ]
    },
    {
     "data": {
      "application/vnd.plotly.v1+json": {
       "config": {
        "displayModeBar": true,
        "displaylogo": false,
        "modeBarButtonsToRemove": [
         "pan2d",
         "lasso2d"
        ],
        "plotlyServerURL": "https://plot.ly",
        "toImageButtonOptions": {
         "filename": "model_performance_dashboard",
         "format": "png",
         "height": 900,
         "scale": 2,
         "width": 1400
        }
       },
       "data": [
        {
         "fillcolor": "rgba(31,119,180, 0.6)",
         "legendgroup": "1",
         "line": {
          "color": "#1f77b4",
          "width": 2
         },
         "marker": {
          "color": "#1f77b4",
          "line": {
           "color": "rgba(0,0,0,0.3)",
           "width": 1
          }
         },
         "name": "1",
         "showlegend": false,
         "type": "box",
         "xaxis": "x",
         "y": {
          "bdata": "mpmZmZmZ6T8AAAAAAADoPwAAAAAAAAAAAAAAAAAA0D8AAAAAAAAAAAAAAAAAAOA/AAAAAAAA4D+SJEmSJEnSP5IkSZIkScI/VVVVVVVVxT+amZmZmZnZPwAAAAAAAOA/AAAAAAAAAABVVVVVVVXVP1VVVVVVVeU/AAAAAAAA8D8AAAAAAADoPwAAAAAAAOA/t23btm3b5j8AAAAAAADoPw==",
          "dtype": "f8"
         },
         "yaxis": "y"
        },
        {
         "fillcolor": "rgba(31,119,180, 0.6)",
         "legendgroup": "1",
         "line": {
          "color": "#1f77b4",
          "width": 2
         },
         "marker": {
          "color": "#1f77b4",
          "line": {
           "color": "rgba(0,0,0,0.3)",
           "width": 1
          }
         },
         "name": "1",
         "showlegend": false,
         "type": "box",
         "xaxis": "x2",
         "y": {
          "bdata": "FDuxEzux0z9UVVVVVVXlPwAAAAAAAAAAVVVVVVVV1T8AAAAAAAAAAJMkSZIkSdI/AAAAAAAA4D8AAAAAAAAAAAAAAAAAAAAAkyRJkiRJwj8AAAAAAAAAAFVVVVVVVdU/AAAAAAAAAACamZmZmZnZP1VVVVVVVdU/VVVVVVVV5T8dx3Ecx3HMPx3HcRzHcdw/EzuxEzuxwz9UVVVVVVXVPw==",
          "dtype": "f8"
         },
         "yaxis": "y2"
        },
        {
         "fillcolor": "rgba(31,119,180, 0.6)",
         "legendgroup": "1",
         "line": {
          "color": "#1f77b4",
          "width": 2
         },
         "marker": {
          "color": "#1f77b4",
          "line": {
           "color": "rgba(0,0,0,0.3)",
           "width": 1
          }
         },
         "name": "1",
         "showlegend": false,
         "type": "box",
         "xaxis": "x3",
         "y": {
          "bdata": "FDuxEzux4z9UVVVVVVXlPwAAAAAAAAAAVVVVVVVV1T8AAAAAAAAAAJMkSZIkSeI/AAAAAAAA4D8TO7ETO7HTP5IkSZIkScI/kyRJkiRJwj9FF1100UXXPwAAAAAAAOA/AAAAAAAAAACamZmZmZnZP1VVVVVVVeU/VVVVVVVV5T9UVVVVVVXlPx3HcRzHcdw/2Imd2Imd6D9UVVVVVVXlPw==",
          "dtype": "f8"
         },
         "yaxis": "y3"
        },
        {
         "fillcolor": "rgba(31,119,180, 0.6)",
         "legendgroup": "1",
         "line": {
          "color": "#1f77b4",
          "width": 2
         },
         "marker": {
          "color": "#1f77b4",
          "line": {
           "color": "rgba(0,0,0,0.3)",
           "width": 1
          }
         },
         "name": "1",
         "showlegend": false,
         "type": "box",
         "xaxis": "x4",
         "y": {
          "bdata": "zczMzMxEZ0DMzMzMzJxLQGdmZmZm1klAMzMzMzM7Y0A0MzMzMzMjQMzMzMzMTCpAMzMzMzPnbUDNzMzMzORRQDQzMzMzQ1pAAAAAAABkZkAAAAAAAHRhQGhmZmZm8lBAmpmZmZn5QEAzMzMzM9M7QGZmZmZm5kpAzMzMzMy8Q0CamZmZmWFSQDczMzMzsx5AZmZmZmZeRkDOzMzMzDh3QA==",
          "dtype": "f8"
         },
         "yaxis": "y4"
        },
        {
         "fillcolor": "rgba(31,119,180, 0.6)",
         "legendgroup": "1",
         "line": {
          "color": "#1f77b4",
          "width": 2
         },
         "marker": {
          "color": "#1f77b4",
          "line": {
           "color": "rgba(0,0,0,0.3)",
           "width": 1
          }
         },
         "name": "1",
         "showlegend": false,
         "type": "box",
         "xaxis": "x6",
         "y": {
          "bdata": "7FG4HoVrN0Bcj8L1KNw2QFyPwvUoXCZA16NwPQpXLUDsUbgeheszQKRwPQrX4zBA9ihcj8J1JUAK16NwPYooQM3MzMzMTClAzczMzMzMK0AfhetRuB4kQArXo3A9CjBArkfhehSuLUDhehSuR2ElQBSuR+F6lChA7FG4HoXrKkB7FK5H4XoiQHsUrkfh+iRAXI/C9ShcMUDsUbgeheswQA==",
          "dtype": "f8"
         },
         "yaxis": "y6"
        },
        {
         "fillcolor": "rgba(255,127,14, 0.6)",
         "legendgroup": "2",
         "line": {
          "color": "#ff7f0e",
          "width": 2
         },
         "marker": {
          "color": "#ff7f0e",
          "line": {
           "color": "rgba(0,0,0,0.3)",
           "width": 1
          }
         },
         "name": "2",
         "showlegend": false,
         "type": "box",
         "xaxis": "x",
         "y": {
          "bdata": "mpmZmZmZ6T8AAAAAAADgPwAAAAAAAAAAAAAAAAAAAAAAAAAAAAAAAAAAAAAAAOA/AAAAAAAA4D/btm3btm3bP5IkSZIkScI/VVVVVVVVxT+amZmZmZnZP1VVVVVVVeU/AAAAAAAA4D9VVVVVVVXVP1VVVVVVVeU/VVVVVVVV5T8AAAAAAADwPwAAAAAAAOA/kiRJkiRJ4j8AAAAAAADAPw==",
          "dtype": "f8"
         },
         "yaxis": "y"
        },
        {
         "fillcolor": "rgba(255,127,14, 0.6)",
         "legendgroup": "2",
         "line": {
          "color": "#ff7f0e",
          "width": 2
         },
         "marker": {
          "color": "#ff7f0e",
          "line": {
           "color": "rgba(0,0,0,0.3)",
           "width": 1
          }
         },
         "name": "2",
         "showlegend": false,
         "type": "box",
         "xaxis": "x2",
         "y": {
          "bdata": "FDuxEzux0z8dx3Ecx3HMPwAAAAAAAAAAAAAAAAAAAAAAAAAAAAAAAJMkSZIkSdI/VVVVVVVV1T8AAAAAAAAAAJIkSZIkScI/ERERERERwT9FF1100UXHPxM7sRM7seM/AAAAAAAA4D9VVVVVVVXVP1VVVVVVVdU/VVVVVVVV5T8dx3Ecx3HMPwAAAAAAANA/EzuxEzuxwz8AAAAAAAAAAA==",
          "dtype": "f8"
         },
         "yaxis": "y2"
        },
        {
         "fillcolor": "rgba(255,127,14, 0.6)",
         "legendgroup": "2",
         "line": {
          "color": "#ff7f0e",
          "width": 2
         },
         "marker": {
          "color": "#ff7f0e",
          "line": {
           "color": "rgba(0,0,0,0.3)",
           "width": 1
          }
         },
         "name": "2",
         "showlegend": false,
         "type": "box",
         "xaxis": "x3",
         "y": {
          "bdata": "FDuxEzux4z8dx3Ecx3HcPwAAAAAAAAAAAAAAAAAAAAAAAAAAAAAAAJMkSZIkSeI/AAAAAAAA4D+d2Imd2IndP5IkSZIkScI/ERERERERwT9FF1100UXXPxM7sRM7seM/AAAAAAAA4D9VVVVVVVXVP1VVVVVVVeU/VVVVVVVV5T8dx3Ecx3HsPwAAAAAAAOA/EzuxEzux4z9GF1100UXHPw==",
          "dtype": "f8"
         },
         "yaxis": "y3"
        },
        {
         "fillcolor": "rgba(255,127,14, 0.6)",
         "legendgroup": "2",
         "line": {
          "color": "#ff7f0e",
          "width": 2
         },
         "marker": {
          "color": "#ff7f0e",
          "line": {
           "color": "rgba(0,0,0,0.3)",
           "width": 1
          }
         },
         "name": "2",
         "showlegend": false,
         "type": "box",
         "xaxis": "x4",
         "y": {
          "bdata": "AAAAAADscEAyMzMzM+NJQC4zMzMzsxNAMzMzMzMjYkDNzMzMzEw5QMjMzMzMzNQ/MzMzMzNHZkCamZmZmaFZQDMzMzMzY1JAzczMzMxKcEAzMzMzM5NdQCwzMzMzsy5AMzMzMzOjUECamZmZmXk2QAIAAAAAABtAzszMzMxMMEAzMzMzM/NDQDIzMzMzEz5AbmZmZmZmDUDNzMzMzJJyQA==",
          "dtype": "f8"
         },
         "yaxis": "y4"
        },
        {
         "fillcolor": "rgba(255,127,14, 0.6)",
         "legendgroup": "2",
         "line": {
          "color": "#ff7f0e",
          "width": 2
         },
         "marker": {
          "color": "#ff7f0e",
          "line": {
           "color": "rgba(0,0,0,0.3)",
           "width": 1
          }
         },
         "name": "2",
         "showlegend": false,
         "type": "box",
         "xaxis": "x6",
         "y": {
          "bdata": "MzMzMzMzNkD2KFyPwvUlQClcj8L1aDBAZmZmZmZGREDNzMzMzEwxQHsUrkfheitAUrgehevRK0D2KFyPwnUoQIXrUbgehShA9ihcj8J1M0CamZmZmZkmQLgehetRODtA9ihcj8J1MUBcj8L1KFwwQEjhehSuRy5AUrgehesRMUAAAAAAAAAlQClcj8L1KCFAzczMzMzMIkB7FK5H4XovQA==",
          "dtype": "f8"
         },
         "yaxis": "y6"
        },
        {
         "fillcolor": "rgba(44,160,44, 0.6)",
         "legendgroup": "3",
         "line": {
          "color": "#2ca02c",
          "width": 2
         },
         "marker": {
          "color": "#2ca02c",
          "line": {
           "color": "rgba(0,0,0,0.3)",
           "width": 1
          }
         },
         "name": "3",
         "showlegend": false,
         "type": "box",
         "xaxis": "x",
         "y": {
          "bdata": "mpmZmZmZ2T8AAAAAAAAAAAAAAAAAAAAAAAAAAAAA0D8AAAAAAAAAAAAAAAAAAOg/AAAAAAAA4D/btm3btm3bP5IkSZIkScI/VVVVVVVVxT+amZmZmZnJPwAAAAAAAOA/AAAAAAAA6D9VVVVVVVXVP1VVVVVVVeU/VVVVVVVV5T8AAAAAAADgPwAAAAAAANA/t23btm3b5j8AAAAAAADgPw==",
          "dtype": "f8"
         },
         "yaxis": "y"
        },
        {
         "fillcolor": "rgba(44,160,44, 0.6)",
         "legendgroup": "3",
         "line": {
          "color": "#2ca02c",
          "width": 2
         },
         "marker": {
          "color": "#2ca02c",
          "line": {
           "color": "rgba(0,0,0,0.3)",
           "width": 1
          }
         },
         "name": "3",
         "showlegend": false,
         "type": "box",
         "xaxis": "x2",
         "y": {
          "bdata": "AAAAAAAAAAAAAAAAAAAAAAAAAAAAAAAAkyRJkiRJ0j8AAAAAAAAAAAAAAAAAAOg/VVVVVVVV1T8AAAAAAAAAAAAAAAAAAAAAAAAAAAAAAAAAAAAAAAAAABM7sRM7sdM/AAAAAAAA4D9VVVVVVVXVP5MkSZIkSdI/HMdxHMdx3D8dx3Ecx3HMP5qZmZmZmck/mZmZmZmZ2T+TJEmSJEnCPw==",
          "dtype": "f8"
         },
         "yaxis": "y2"
        },
        {
         "fillcolor": "rgba(44,160,44, 0.6)",
         "legendgroup": "3",
         "line": {
          "color": "#2ca02c",
          "width": 2
         },
         "marker": {
          "color": "#2ca02c",
          "line": {
           "color": "rgba(0,0,0,0.3)",
           "width": 1
          }
         },
         "name": "3",
         "showlegend": false,
         "type": "box",
         "xaxis": "x3",
         "y": {
          "bdata": "FDuxEzux0z8AAAAAAAAAAAAAAAAAAAAAkyRJkiRJ0j8AAAAAAAAAAAAAAAAAAOg/AAAAAAAA4D8AAAAAAADgPxEREREREcE/EzuxEzuxwz9FF1100UXHP53YiZ3Yid0/AAAAAAAA6D9VVVVVVVXVP5MkSZIkSeI/HMdxHMdx3D8dx3Ecx3HcP5qZmZmZmck/VVVVVVVV5T+TJEmSJEniPw==",
          "dtype": "f8"
         },
         "yaxis": "y3"
        },
        {
         "fillcolor": "rgba(44,160,44, 0.6)",
         "legendgroup": "3",
         "line": {
          "color": "#2ca02c",
          "width": 2
         },
         "marker": {
          "color": "#2ca02c",
          "line": {
           "color": "rgba(0,0,0,0.3)",
           "width": 1
          }
         },
         "name": "3",
         "showlegend": false,
         "type": "box",
         "xaxis": "x4",
         "y": {
          "bdata": "MzMzMzP/Z0CYmZmZmVlNQM7MzMzMbDdAAAAAAADkZUD9//////8FQGZmZmZmJjtAXI/C9SjUTUAzMzMzM+NOQJqZmZmZeUxAAAAAAAAMakDNzMzMzARWQAAAAAAAkEtAAAAAAADwQED1KFyPwpU7QGZmZmZmBjNAZWZmZmbmL0CamZmZmRkvQJmZmZmZmS1AzMzMzMzcSkDMzMzMzKRfQA==",
          "dtype": "f8"
         },
         "yaxis": "y4"
        },
        {
         "fillcolor": "rgba(44,160,44, 0.6)",
         "legendgroup": "3",
         "line": {
          "color": "#2ca02c",
          "width": 2
         },
         "marker": {
          "color": "#2ca02c",
          "line": {
           "color": "rgba(0,0,0,0.3)",
           "width": 1
          }
         },
         "name": "3",
         "showlegend": false,
         "type": "box",
         "xaxis": "x6",
         "y": {
          "bdata": "PQrXo3AdQ0AzMzMzM3NCQBSuR+F69EBA4XoUrkcBQUAUrkfhepQ6QHsUrkfhOjRAUrgehevRN0BxPQrXozA3QGZmZmZmZjlAZmZmZmYmPkDD9Shcj0I8QNejcD0Kl0ZASOF6FK5HPUApXI/C9Sg5QMP1KFyPwjhAw/UoXI/CN0DsUbgeheszQM3MzMzMDDZAcT0K16PwPkBmZmZmZiZHQA==",
          "dtype": "f8"
         },
         "yaxis": "y6"
        },
        {
         "fillcolor": "rgba(214,39,40, 0.6)",
         "legendgroup": "4",
         "line": {
          "color": "#d62728",
          "width": 2
         },
         "marker": {
          "color": "#d62728",
          "line": {
           "color": "rgba(0,0,0,0.3)",
           "width": 1
          }
         },
         "name": "4",
         "showlegend": false,
         "type": "box",
         "xaxis": "x",
         "y": {
          "bdata": "mpmZmZmZ6T8AAAAAAADgPwAAAAAAAAAAAAAAAAAAAAAAAAAAAAAAAAAAAAAAAOA/AAAAAAAA4D/btm3btm3bPwAAAAAAAAAAVVVVVVVVxT+amZmZmZnJPwAAAAAAAOA/AAAAAAAA4D9VVVVVVVXVP1VVVVVVVeU/VVVVVVVV5T8AAAAAAADgPwAAAAAAAAAAkiRJkiRJ0j8AAAAAAADkPw==",
          "dtype": "f8"
         },
         "yaxis": "y"
        },
        {
         "fillcolor": "rgba(214,39,40, 0.6)",
         "legendgroup": "4",
         "line": {
          "color": "#d62728",
          "width": 2
         },
         "marker": {
          "color": "#d62728",
          "line": {
           "color": "rgba(0,0,0,0.3)",
           "width": 1
          }
         },
         "name": "4",
         "showlegend": false,
         "type": "box",
         "xaxis": "x2",
         "y": {
          "bdata": "kiRJkiRJ4j+amZmZmZnZPwAAAAAAAAAAAAAAAAAAAAAAAAAAAAAAAJMkSZIkSeI/VVVVVVVV1T8AAAAAAAAAAAAAAAAAAAAAAAAAAAAAAAAAAAAAAAAAAFVVVVVVVdU/AAAAAAAA4D+amZmZmZnZP1VVVVVVVdU/HMdxHMdx3D8dx3Ecx3HMPwAAAAAAAAAAVVVVVVVV1T8zMzMzMzPTPw==",
          "dtype": "f8"
         },
         "yaxis": "y2"
        },
        {
         "fillcolor": "rgba(214,39,40, 0.6)",
         "legendgroup": "4",
         "line": {
          "color": "#d62728",
          "width": 2
         },
         "marker": {
          "color": "#d62728",
          "line": {
           "color": "rgba(0,0,0,0.3)",
           "width": 1
          }
         },
         "name": "4",
         "showlegend": false,
         "type": "box",
         "xaxis": "x3",
         "y": {
          "bdata": "kiRJkiRJ4j+amZmZmZnZPwAAAAAAAAAAAAAAAAAAAAAAAAAAAAAAAJMkSZIkSeI/AAAAAAAA4D8AAAAAAADgPwAAAAAAAAAAEzuxEzuxwz9FF1100UXHPwAAAAAAAOA/AAAAAAAA4D+amZmZmZnZP1VVVVVVVeU/HMdxHMdx3D8dx3Ecx3HcPwAAAAAAAAAAVVVVVVVV1T8AAAAAAADgPw==",
          "dtype": "f8"
         },
         "yaxis": "y3"
        },
        {
         "fillcolor": "rgba(214,39,40, 0.6)",
         "legendgroup": "4",
         "line": {
          "color": "#d62728",
          "width": 2
         },
         "marker": {
          "color": "#d62728",
          "line": {
           "color": "rgba(0,0,0,0.3)",
           "width": 1
          }
         },
         "name": "4",
         "showlegend": false,
         "type": "box",
         "xaxis": "x4",
         "y": {
          "bdata": "AAAAAAB4YkAzMzMzM6NLQM7MzMzM7D1AZmZmZmaGZED9//////8EQGZmZmZmpjtAzMzMzMzcTUCZmZmZmalQQAAAAAAAkEdAzMzMzMxMY0CamZmZmbFYQGhmZmZmpl1AmZmZmZm5P0CamZmZmdkwQM3MzMzMDDhAZmZmZmbGQEAyMzMzM/MiQGdmZmZmZjZAZmZmZmZWP0CZmZmZmfFQQA==",
          "dtype": "f8"
         },
         "yaxis": "y4"
        },
        {
         "fillcolor": "rgba(214,39,40, 0.6)",
         "legendgroup": "4",
         "line": {
          "color": "#d62728",
          "width": 2
         },
         "marker": {
          "color": "#d62728",
          "line": {
           "color": "rgba(0,0,0,0.3)",
           "width": 1
          }
         },
         "name": "4",
         "showlegend": false,
         "type": "box",
         "xaxis": "x6",
         "y": {
          "bdata": "PQrXo3DdQEDsUbgehas+QIXrUbgeBThAKVyPwvUoQkAUrkfhetQ1QB+F61G4njFAXI/C9ShcNUBmZmZmZmY4QMP1KFyPgjRAj8L1KFxPPUAK16NwPQo2QD0K16NwfUFAKVyPwvUoQEDsUbgehWsxQGZmZmZm5jdACtejcD3qQkAK16NwPYozQAAAAAAAgDhAUrgehetRSEAzMzMzM1NIQA==",
          "dtype": "f8"
         },
         "yaxis": "y6"
        },
        {
         "fillcolor": "rgba(148,103,189, 0.6)",
         "legendgroup": "5",
         "line": {
          "color": "#9467bd",
          "width": 2
         },
         "marker": {
          "color": "#9467bd",
          "line": {
           "color": "rgba(0,0,0,0.3)",
           "width": 1
          }
         },
         "name": "5",
         "showlegend": false,
         "type": "box",
         "xaxis": "x",
         "y": {
          "bdata": "MzMzMzMz4z8AAAAAAADoPwAAAAAAAAAAAAAAAAAA0D8AAAAAAAAAAAAAAAAAAOA/q6qqqqqq6j+SJEmSJEnSP5IkSZIkSeI/VVVVVVVVxT8zMzMzMzPjP1VVVVVVVeU/AAAAAAAA4D9VVVVVVVXVPwAAAAAAAPA/VVVVVVVV1T8AAAAAAADoPwAAAAAAAOA/t23btm3b5j8AAAAAAADoPw==",
          "dtype": "f8"
         },
         "yaxis": "y"
        },
        {
         "fillcolor": "rgba(148,103,189, 0.6)",
         "legendgroup": "5",
         "line": {
          "color": "#9467bd",
          "width": 2
         },
         "marker": {
          "color": "#9467bd",
          "line": {
           "color": "rgba(0,0,0,0.3)",
           "width": 1
          }
         },
         "name": "5",
         "showlegend": false,
         "type": "box",
         "xaxis": "x2",
         "y": {
          "bdata": "AAAAAAAA4D8AAAAAAADoPwAAAAAAAAAAVVVVVVVV1T8AAAAAAAAAAJMkSZIkSdI/VVVVVVVV1T9VVVVVVVXFPwAAAAAAANg/EzuxEzuxwz+bmZmZmZnZP0UXXXTRRec/HcdxHMdx3D+amZmZmZnZP1VVVVVVVdU/AAAAAAAA0D8dx3Ecx3HMPwAAAAAAAOA/kiRJkiRJ0j+XlpaWlpbmPw==",
          "dtype": "f8"
         },
         "yaxis": "y2"
        },
        {
         "fillcolor": "rgba(148,103,189, 0.6)",
         "legendgroup": "5",
         "line": {
          "color": "#9467bd",
          "width": 2
         },
         "marker": {
          "color": "#9467bd",
          "line": {
           "color": "rgba(0,0,0,0.3)",
           "width": 1
          }
         },
         "name": "5",
         "showlegend": false,
         "type": "box",
         "xaxis": "x3",
         "y": {
          "bdata": "AAAAAAAA4D8AAAAAAADoPwAAAAAAAAAAVVVVVVVV1T8AAAAAAAAAAJMkSZIkSeI/q6qqqqqq6j9VVVVVVVXVPwAAAAAAAOA/EzuxEzuxwz8zMzMzMzPjP0UXXXTRRec/HcdxHMdx3D+amZmZmZnZPwAAAAAAAPA/AAAAAAAA0D9UVVVVVVXlPwAAAAAAAOA/t23btm3b5j+XlpaWlpbmPw==",
          "dtype": "f8"
         },
         "yaxis": "y3"
        },
        {
         "fillcolor": "rgba(148,103,189, 0.6)",
         "legendgroup": "5",
         "line": {
          "color": "#9467bd",
          "width": 2
         },
         "marker": {
          "color": "#9467bd",
          "line": {
           "color": "rgba(0,0,0,0.3)",
           "width": 1
          }
         },
         "name": "5",
         "showlegend": false,
         "type": "box",
         "xaxis": "x4",
         "y": {
          "bdata": "mZmZmZmJXEDKzMzMzMwoQJyZmZmZ2S9AMzMzMzODZkBkZmZmZmYCQDIzMzMzM/E/NjMzMzPzIUCZmZmZmflCQAEAAAAAgElAAAAAAADwUEAAAAAAABBMQJOZmZmZWSlAmZmZmZk5U0DMzMzMzMwKQDMzMzMz81FAAgAAAABAIUCamZmZmZlTQJqZmZmZyURAZ2ZmZmYmT0CdmZmZmVkhQA==",
          "dtype": "f8"
         },
         "yaxis": "y4"
        },
        {
         "fillcolor": "rgba(148,103,189, 0.6)",
         "legendgroup": "5",
         "line": {
          "color": "#9467bd",
          "width": 2
         },
         "marker": {
          "color": "#9467bd",
          "line": {
           "color": "rgba(0,0,0,0.3)",
           "width": 1
          }
         },
         "name": "5",
         "showlegend": false,
         "type": "box",
         "xaxis": "x6",
         "y": {
          "bdata": "uB6F61F4MUAUrkfhetQwQIXrUbgehSVAhetRuB4FK0B7FK5H4fowQPYoXI/C9S5AuB6F61E4IUBmZmZmZmYfQOF6FK5HYSdAKVyPwvUoI0BSuB6F61EiQBSuR+F6FBtAzczMzMzMEUDNzMzMzMwUQEjhehSuRyVAexSuR+H6JkApXI/C9aglQClcj8L1KBhAMzMzMzMzHEBxPQrXo3AoQA==",
          "dtype": "f8"
         },
         "yaxis": "y6"
        },
        {
         "fillcolor": "rgba(140,86,75, 0.6)",
         "legendgroup": "6",
         "line": {
          "color": "#8c564b",
          "width": 2
         },
         "marker": {
          "color": "#8c564b",
          "line": {
           "color": "rgba(0,0,0,0.3)",
           "width": 1
          }
         },
         "name": "6",
         "showlegend": false,
         "type": "box",
         "xaxis": "x",
         "y": {
          "bdata": "MzMzMzMz4z8AAAAAAADoPwAAAAAAAAAAAAAAAAAA4D8AAAAAAAAAAAAAAAAAAOg/q6qqqqqq6j/btm3btm3bP5IkSZIkSdI/VVVVVVVV1T8zMzMzMzPjP1VVVVVVVeU/AAAAAAAA4D9VVVVVVVXVPwAAAAAAAPA/VVVVVVVV1T8AAAAAAADoPwAAAAAAAOg/t23btm3b5j8AAAAAAADoPw==",
          "dtype": "f8"
         },
         "yaxis": "y"
        },
        {
         "fillcolor": "rgba(140,86,75, 0.6)",
         "legendgroup": "6",
         "line": {
          "color": "#8c564b",
          "width": 2
         },
         "marker": {
          "color": "#8c564b",
          "line": {
           "color": "rgba(0,0,0,0.3)",
           "width": 1
          }
         },
         "name": "6",
         "showlegend": false,
         "type": "box",
         "xaxis": "x2",
         "y": {
          "bdata": "dNFFF1104T8AAAAAAADoPwAAAAAAAAAAkyRJkiRJ0j8AAAAAAAAAAFRVVVVVVeU/VVVVVVVV1T9VVVVVVVXFPwAAAAAAAAAAEzuxEzuxwz+bmZmZmZnZP0UXXXTRRec/HcdxHMdx3D+amZmZmZnZP1VVVVVVVdU/kyRJkiRJ0j8dx3Ecx3HMPwAAAAAAAOA/27Zt27Zt2z/T0tLS0tLiPw==",
          "dtype": "f8"
         },
         "yaxis": "y2"
        },
        {
         "fillcolor": "rgba(140,86,75, 0.6)",
         "legendgroup": "6",
         "line": {
          "color": "#8c564b",
          "width": 2
         },
         "marker": {
          "color": "#8c564b",
          "line": {
           "color": "rgba(0,0,0,0.3)",
           "width": 1
          }
         },
         "name": "6",
         "showlegend": false,
         "type": "box",
         "xaxis": "x3",
         "y": {
          "bdata": "dNFFF1104T8AAAAAAADoPwAAAAAAAAAAkyRJkiRJ4j8AAAAAAAAAAFRVVVVVVeU/q6qqqqqq6j8AAAAAAADgPxEREREREdE/EzuxEzux0z8zMzMzMzPjP0UXXXTRRec/HcdxHMdx3D+amZmZmZnZPwAAAAAAAPA/kyRJkiRJ0j9UVVVVVVXlPwAAAAAAAOg/t23btm3b5j+XlpaWlpbmPw==",
          "dtype": "f8"
         },
         "yaxis": "y3"
        },
        {
         "fillcolor": "rgba(140,86,75, 0.6)",
         "legendgroup": "6",
         "line": {
          "color": "#8c564b",
          "width": 2
         },
         "marker": {
          "color": "#8c564b",
          "line": {
           "color": "rgba(0,0,0,0.3)",
           "width": 1
          }
         },
         "name": "6",
         "showlegend": false,
         "type": "box",
         "xaxis": "x4",
         "y": {
          "bdata": "mZmZmZlpV0DKzMzMzEwmQDQzMzMzu1JAMzMzMzMjZ0BkZmZmZmYCQGRmZmZmZgRAbGZmZmbmHUCZmZmZmVlDQGdmZmZm5kBAAAAAAAAIWkCamZmZmflDQJOZmZmZ2ShAZmZmZmYGSUDMzMzMzMwKQDMzMzMz81FAmJmZmZm5PUCamZmZmZlTQJqZmZmZiU9AAAAAAABQUEBnZmZmZkY2QA==",
          "dtype": "f8"
         },
         "yaxis": "y4"
        },
        {
         "fillcolor": "rgba(140,86,75, 0.6)",
         "legendgroup": "6",
         "line": {
          "color": "#8c564b",
          "width": 2
         },
         "marker": {
          "color": "#8c564b",
          "line": {
           "color": "rgba(0,0,0,0.3)",
           "width": 1
          }
         },
         "name": "6",
         "showlegend": false,
         "type": "box",
         "xaxis": "x6",
         "y": {
          "bdata": "j8L1KFwPKEA9CtejcD0UQBSuR+F61DBASOF6FK5HGEB7FK5H4ToxQB+F61G43jNAj8L1KFyPHkAfhetRuB4jQBSuR+F6FCJA7FG4HoXrJECPwvUoXI8fQJqZmZmZmRVAmpmZmZmZGUBI4XoUrkcQQLgehetRuCRAXI/C9SjcJEDD9Shcj0IiQOF6FK5H4RhAzczMzMzMIUAAAAAAAIAlQA==",
          "dtype": "f8"
         },
         "yaxis": "y6"
        },
        {
         "fillcolor": "rgba(227,119,194, 0.6)",
         "legendgroup": "7",
         "line": {
          "color": "#e377c2",
          "width": 2
         },
         "marker": {
          "color": "#e377c2",
          "line": {
           "color": "rgba(0,0,0,0.3)",
           "width": 1
          }
         },
         "name": "7",
         "showlegend": false,
         "type": "box",
         "xaxis": "x",
         "y": {
          "bdata": "AAAAAAAA8D8AAAAAAADoP1VVVVVVVcU/AAAAAAAA0D8AAAAAAAAAAAAAAAAAAOg/q6qqqqqq6j+SJEmSJEniP5IkSZIkSeI/VVVVVVVV1T+amZmZmZnpPwAAAAAAAPA/AAAAAAAA6D9VVVVVVVXVPwAAAAAAAPA/AAAAAAAA8D8AAAAAAADoPwAAAAAAAOg/27Zt27Zt6z8AAAAAAADsPw==",
          "dtype": "f8"
         },
         "yaxis": "y"
        },
        {
         "fillcolor": "rgba(227,119,194, 0.6)",
         "legendgroup": "7",
         "line": {
          "color": "#e377c2",
          "width": 2
         },
         "marker": {
          "color": "#e377c2",
          "line": {
           "color": "rgba(0,0,0,0.3)",
           "width": 1
          }
         },
         "name": "7",
         "showlegend": false,
         "type": "box",
         "xaxis": "x2",
         "y": {
          "bdata": "VVVVVVVV5T8AAAAAAADoPwAAAAAAANA/kyRJkiRJ0j8AAAAAAAAAAAAAAAAAAOg/q6qqqqqq6j+d2Imd2IndPxEREREREeE/VVVVVVVVxT+bmZmZmZnZPwAAAAAAAPA/AAAAAAAA4D+amZmZmZnZP1VVVVVVVeU/27Zt27Zt6z8AAAAAAADoP9u2bdu2bes/kiRJkiRJ4j8AAAAAAADoPw==",
          "dtype": "f8"
         },
         "yaxis": "y2"
        },
        {
         "fillcolor": "rgba(227,119,194, 0.6)",
         "legendgroup": "7",
         "line": {
          "color": "#e377c2",
          "width": 2
         },
         "marker": {
          "color": "#e377c2",
          "line": {
           "color": "rgba(0,0,0,0.3)",
           "width": 1
          }
         },
         "name": "7",
         "showlegend": false,
         "type": "box",
         "xaxis": "x3",
         "y": {
          "bdata": "qqqqqqqq6j8AAAAAAADoPwAAAAAAANA/kyRJkiRJ0j8AAAAAAAAAAAAAAAAAAOg/q6qqqqqq6j8TO7ETO7HjPxEREREREeE/VVVVVVVV1T+bmZmZmZnpPwAAAAAAAPA/AAAAAAAA6D+amZmZmZnZPwAAAAAAAPA/27Zt27Zt6z8AAAAAAADoP9u2bdu2bes/27Zt27Zt6z8AAAAAAADsPw==",
          "dtype": "f8"
         },
         "yaxis": "y3"
        },
        {
         "fillcolor": "rgba(227,119,194, 0.6)",
         "legendgroup": "7",
         "line": {
          "color": "#e377c2",
          "width": 2
         },
         "marker": {
          "color": "#e377c2",
          "line": {
           "color": "rgba(0,0,0,0.3)",
           "width": 1
          }
         },
         "name": "7",
         "showlegend": false,
         "type": "box",
         "xaxis": "x4",
         "y": {
          "bdata": "mZmZmZnpXECTmZmZmZkWQAIAAAAAIDFAMzMzMzOraUCWmZmZmZkCQGJmZmZmZvw/k5mZmZkZG0AzMzMzM/NLQM3MzMzMDDdAAAAAAADIWUBnZmZmZsZEQG1mZmZmpiRAmZmZmZm5UUAAAAAAAABAQJiZmZmZmSNAl5mZmZkZFEAAAAAAAPBAQGhmZmZmhjpAzszMzMzMMkCcmZmZmVkrQA==",
          "dtype": "f8"
         },
         "yaxis": "y4"
        },
        {
         "fillcolor": "rgba(227,119,194, 0.6)",
         "legendgroup": "7",
         "line": {
          "color": "#e377c2",
          "width": 2
         },
         "marker": {
          "color": "#e377c2",
          "line": {
           "color": "rgba(0,0,0,0.3)",
           "width": 1
          }
         },
         "name": "7",
         "showlegend": false,
         "type": "box",
         "xaxis": "x6",
         "y": {
          "bdata": "PQrXo3A9NkBI4XoUrocyQDMzMzMzczBArkfhehRuMkB7FK5H4boyQJqZmZmZGTBAZmZmZmZmJEAfhetRuJ4rQNejcD0K1ydAKVyPwvUoJkD2KFyPwvUhQGZmZmZmZiBAw/UoXI/CGkCkcD0K1yMiQMP1KFyPwiRAmpmZmZmZJ0CkcD0K16MjQBSuR+F6FBRAUrgehetRJkB7FK5H4fomQA==",
          "dtype": "f8"
         },
         "yaxis": "y6"
        },
        {
         "fillcolor": "rgba(127,127,127, 0.6)",
         "legendgroup": "8",
         "line": {
          "color": "#7f7f7f",
          "width": 2
         },
         "marker": {
          "color": "#7f7f7f",
          "line": {
           "color": "rgba(0,0,0,0.3)",
           "width": 1
          }
         },
         "name": "8",
         "showlegend": false,
         "type": "box",
         "xaxis": "x",
         "y": {
          "bdata": "AAAAAAAA8D8AAAAAAADgPwAAAAAAAAAAAAAAAAAAAAAAAAAAAAAAAAAAAAAAAOg/q6qqqqqq6j/btm3btm3bP5IkSZIkSdI/VVVVVVVV1T+amZmZmZnpPwAAAAAAAPA/AAAAAAAA6D9VVVVVVVXVP1VVVVVVVeU/AAAAAAAA8D8AAAAAAADwPwAAAAAAAOg/27Zt27Zt6z8AAAAAAADwPw==",
          "dtype": "f8"
         },
         "yaxis": "y"
        },
        {
         "fillcolor": "rgba(127,127,127, 0.6)",
         "legendgroup": "8",
         "line": {
          "color": "#7f7f7f",
          "width": 2
         },
         "marker": {
          "color": "#7f7f7f",
          "line": {
           "color": "rgba(0,0,0,0.3)",
           "width": 1
          }
         },
         "name": "8",
         "showlegend": false,
         "type": "box",
         "xaxis": "x2",
         "y": {
          "bdata": "VVVVVVVV5T9VVVVVVVXlPwAAAAAAAAAAAAAAAAAAAAAAAAAAAAAAAAAAAAAAAOg/VVVVVVVV5T8TO7ETO7HTP5IkSZIkScI/VVVVVVVVxT+bmZmZmZnZPwAAAAAAAPA/AAAAAAAA4D+amZmZmZnZP5qZmZmZmek/27Zt27Zt6z8AAAAAAADwP9u2bdu2bes/EzuxEzux4z8AAAAAAADsPw==",
          "dtype": "f8"
         },
         "yaxis": "y2"
        },
        {
         "fillcolor": "rgba(127,127,127, 0.6)",
         "legendgroup": "8",
         "line": {
          "color": "#7f7f7f",
          "width": 2
         },
         "marker": {
          "color": "#7f7f7f",
          "line": {
           "color": "rgba(0,0,0,0.3)",
           "width": 1
          }
         },
         "name": "8",
         "showlegend": false,
         "type": "box",
         "xaxis": "x3",
         "y": {
          "bdata": "qqqqqqqq6j9VVVVVVVXlPwAAAAAAAAAAAAAAAAAAAAAAAAAAAAAAAAAAAAAAAOg/q6qqqqqq6j+d2Imd2IndP5IkSZIkSdI/VVVVVVVV1T+bmZmZmZnpPwAAAAAAAPA/AAAAAAAA6D+amZmZmZnZP5qZmZmZmek/27Zt27Zt6z8AAAAAAADwP9u2bdu2bes/ndiJndiJ7T8AAAAAAADwPw==",
          "dtype": "f8"
         },
         "yaxis": "y3"
        },
        {
         "fillcolor": "rgba(127,127,127, 0.6)",
         "legendgroup": "8",
         "line": {
          "color": "#7f7f7f",
          "width": 2
         },
         "marker": {
          "color": "#7f7f7f",
          "line": {
           "color": "rgba(0,0,0,0.3)",
           "width": 1
          }
         },
         "name": "8",
         "showlegend": false,
         "type": "box",
         "xaxis": "x4",
         "y": {
          "bdata": "mZmZmZn5WEBqZmZmZmYmQGdmZmZmlkZAMzMzMzMLZkCWmZmZmZkCQP7///////s/k5mZmZkZEkAzMzMzM1NMQAEAAAAAEENAAAAAAADIWUDNzMzMzAxDQGVmZmZmZkRAMjMzMzPTS0AAAAAAAABAQIiZmZmZmeE/l5mZmZkZE0AzMzMzM3NAQGhmZmZmhjpANDMzMzMzM0CYmZmZmdk7QA==",
          "dtype": "f8"
         },
         "yaxis": "y4"
        },
        {
         "fillcolor": "rgba(127,127,127, 0.6)",
         "legendgroup": "8",
         "line": {
          "color": "#7f7f7f",
          "width": 2
         },
         "marker": {
          "color": "#7f7f7f",
          "line": {
           "color": "rgba(0,0,0,0.3)",
           "width": 1
          }
         },
         "name": "8",
         "showlegend": false,
         "type": "box",
         "xaxis": "x6",
         "y": {
          "bdata": "4XoUrkdhMEAUrkfhelQwQK5H4XoU7jBA7FG4HoXrKUAfhetRuF4yQD0K16NwvTJAFK5H4XoUJUCuR+F6FK4hQI/C9ShcDyZAexSuR+H6JkCF61G4HgUgQClcj8L1KB1A9ihcj8L1IkCamZmZmZkmQM3MzMzMTCdAcT0K16PwKECuR+F6FK4gQJqZmZmZmRhAUrgehevRJUAzMzMzMzMqQA==",
          "dtype": "f8"
         },
         "yaxis": "y6"
        },
        {
         "fillcolor": "rgba(188,189,34, 0.6)",
         "legendgroup": "9",
         "line": {
          "color": "#bcbd22",
          "width": 2
         },
         "marker": {
          "color": "#bcbd22",
          "line": {
           "color": "rgba(0,0,0,0.3)",
           "width": 1
          }
         },
         "name": "9",
         "showlegend": false,
         "type": "box",
         "xaxis": "x",
         "y": {
          "bdata": "AAAAAAAA8D8AAAAAAADwP6uqqqqqquo/AAAAAAAA6D9VVVVVVVXVPwAAAAAAAPA/AAAAAAAA8D8AAAAAAADwP9u2bdu2bes/VVVVVVVV1T+amZmZmZnpPwAAAAAAAPA/AAAAAAAA6D8AAAAAAADwPwAAAAAAAPA/AAAAAAAA8D8AAAAAAADwPwAAAAAAAPA/AAAAAAAA8D8AAAAAAADsPw==",
          "dtype": "f8"
         },
         "yaxis": "y"
        },
        {
         "fillcolor": "rgba(188,189,34, 0.6)",
         "legendgroup": "9",
         "line": {
          "color": "#bcbd22",
          "width": 2
         },
         "marker": {
          "color": "#bcbd22",
          "line": {
           "color": "rgba(0,0,0,0.3)",
           "width": 1
          }
         },
         "name": "9",
         "showlegend": false,
         "type": "box",
         "xaxis": "x2",
         "y": {
          "bdata": "qqqqqqqq6j8AAAAAAADwPxdddNFFF+0/27Zt27Zt6z+amZmZmZnZP1RVVVVVVeU/q6qqqqqq6j8AAAAAAADwP5mZmZmZmek/EzuxEzux0z+bmZmZmZnpPwAAAAAAAPA/27Zt27Zt6z8AAAAAAADwPwAAAAAAAPA/27Zt27Zt6z8AAAAAAADwPwAAAAAAAPA/AAAAAAAA8D8AAAAAAADsPw==",
          "dtype": "f8"
         },
         "yaxis": "y2"
        },
        {
         "fillcolor": "rgba(188,189,34, 0.6)",
         "legendgroup": "9",
         "line": {
          "color": "#bcbd22",
          "width": 2
         },
         "marker": {
          "color": "#bcbd22",
          "line": {
           "color": "rgba(0,0,0,0.3)",
           "width": 1
          }
         },
         "name": "9",
         "showlegend": false,
         "type": "box",
         "xaxis": "x3",
         "y": {
          "bdata": "qqqqqqqq6j8AAAAAAADwPxdddNFFF+0/27Zt27Zt6z+amZmZmZnZPx3HcRzHcew/AAAAAAAA8D8AAAAAAADwP5mZmZmZmek/EzuxEzux0z+bmZmZmZnpPwAAAAAAAPA/27Zt27Zt6z8AAAAAAADwPwAAAAAAAPA/27Zt27Zt6z8AAAAAAADwPwAAAAAAAPA/AAAAAAAA8D8AAAAAAADsPw==",
          "dtype": "f8"
         },
         "yaxis": "y3"
        },
        {
         "fillcolor": "rgba(188,189,34, 0.6)",
         "legendgroup": "9",
         "line": {
          "color": "#bcbd22",
          "width": 2
         },
         "marker": {
          "color": "#bcbd22",
          "line": {
           "color": "rgba(0,0,0,0.3)",
           "width": 1
          }
         },
         "name": "9",
         "showlegend": false,
         "type": "box",
         "xaxis": "x4",
         "y": {
          "bdata": "75BSqNFFUECoTEN94F4SQCLDKt7IPUFA3++8+VpPaUD0QCswZPUCQPwmFCLglDRA/QIAQ1ZyK0AAdebw/5mZP3UfuTXp7jNAVsGopE7cRkCKsYUgB30VQExjtI6qHjlAXrpJDAIcWECAZ8gHPZuFPwAegNQmTp4/OMpocfUIMUBndyQ6J9Q0QAAVKJtyhZc/QLiJk/sdmj+Yy9QkeMsmQA==",
          "dtype": "f8"
         },
         "yaxis": "y4"
        },
        {
         "fillcolor": "rgba(188,189,34, 0.6)",
         "legendgroup": "9",
         "line": {
          "color": "#bcbd22",
          "width": 2
         },
         "marker": {
          "color": "#bcbd22",
          "line": {
           "color": "rgba(0,0,0,0.3)",
           "width": 1
          }
         },
         "name": "9",
         "showlegend": false,
         "type": "box",
         "xaxis": "x6",
         "y": {
          "bdata": "UrgeheuRM0AzMzMzM3MyQFK4HoXr0TFAj8L1KFxPMECF61G4HkUxQHsUrkfhejNASOF6FK5HI0AUrkfhepQnQI/C9ShcjyZA9ihcj8L1JUApXI/C9SghQFK4HoXrURVAuB6F61G4KUCPwvUoXA8sQEjhehSuRytA9ihcj8L1EEAAAAAAAIAjQFK4HoXrURFAw/UoXI/CGUAAAAAAAIAiQA==",
          "dtype": "f8"
         },
         "yaxis": "y6"
        },
        {
         "customdata": [
          [
           "gemini-2.5-flash",
           15.442250000000001
          ],
          [
           "gemini-2.5-pro",
           28.940499999999997
          ],
          [
           "gpt-4o",
           12.260250000000001
          ],
          [
           "gpt-4o-mini",
           10.14875
          ],
          [
           "January AI",
           12.052
          ]
         ],
         "error_y": {
          "array": {
           "bdata": "3FRxqqZE0j/xW9Vc5j3QPwf8E/s409Q/59WT2AEm0T+eFeGFB3vKPw==",
           "dtype": "f8"
          },
          "color": "rgba(0,0,0,0.3)",
          "thickness": 1.5,
          "type": "data",
          "visible": true,
          "width": 3
         },
         "hovertemplate": "<b>%{customdata[0]}</b><br>Avg. Performance: %{y:.3f}<br>Avg. Cost: $%{x:.4f}<br>Avg. Response Time: %{customdata[1]:.2f}s<br><extra></extra>",
         "marker": {
          "color": [
           "#1f77b4",
           "#ff7f0e",
           "#2ca02c",
           "#d62728",
           "#9467bd"
          ],
          "line": {
           "color": "rgba(0,0,0,0.4)",
           "width": 2
          },
          "opacity": 0.8,
          "size": {
           "bdata": "XNfjMwQSREAAAAAAAAAuQOPK1facCEdAAAAAAAAASUCeY4KtQjpHQA==",
           "dtype": "f8"
          },
          "sizemin": 10,
          "sizemode": "diameter"
         },
         "mode": "markers+text",
         "showlegend": false,
         "text": [
          "1",
          "2",
          "3",
          "4",
          "5"
         ],
         "textfont": {
          "color": "white",
          "family": "Arial Black",
          "size": 10
         },
         "textposition": "middle center",
         "type": "scatter",
         "x": {
          "bdata": "Xx9CAYAIVj+9OPHVjuKYP7A5B8+EJnk/JlEv+DQndz+4HoXrUbiePw==",
          "dtype": "f8"
         },
         "xaxis": "x5",
         "y": {
          "bdata": "0lWQOLz22z/TBjptoNPXP90sNKn5gOQ/yi+W/GLJ4D+gXUBsKg3sPw==",
          "dtype": "f8"
         },
         "yaxis": "y5"
        },
        {
         "legendgroup": "1",
         "marker": {
          "color": "#1f77b4",
          "line": {
           "color": "rgba(0,0,0,0.3)",
           "width": 2
          },
          "size": 12,
          "symbol": "circle"
         },
         "mode": "markers",
         "name": "1: gemini-2.5-flash_d",
         "showlegend": true,
         "type": "scatter",
         "x": [
          null
         ],
         "y": [
          null
         ]
        },
        {
         "legendgroup": "2",
         "marker": {
          "color": "#ff7f0e",
          "line": {
           "color": "rgba(0,0,0,0.3)",
           "width": 2
          },
          "size": 12,
          "symbol": "circle"
         },
         "mode": "markers",
         "name": "2: gemini-2.5-flash_s",
         "showlegend": true,
         "type": "scatter",
         "x": [
          null
         ],
         "y": [
          null
         ]
        },
        {
         "legendgroup": "3",
         "marker": {
          "color": "#2ca02c",
          "line": {
           "color": "rgba(0,0,0,0.3)",
           "width": 2
          },
          "size": 12,
          "symbol": "circle"
         },
         "mode": "markers",
         "name": "3: gemini-2.5-pro_d",
         "showlegend": true,
         "type": "scatter",
         "x": [
          null
         ],
         "y": [
          null
         ]
        },
        {
         "legendgroup": "4",
         "marker": {
          "color": "#d62728",
          "line": {
           "color": "rgba(0,0,0,0.3)",
           "width": 2
          },
          "size": 12,
          "symbol": "circle"
         },
         "mode": "markers",
         "name": "4: gemini-2.5-pro_s",
         "showlegend": true,
         "type": "scatter",
         "x": [
          null
         ],
         "y": [
          null
         ]
        },
        {
         "legendgroup": "5",
         "marker": {
          "color": "#9467bd",
          "line": {
           "color": "rgba(0,0,0,0.3)",
           "width": 2
          },
          "size": 12,
          "symbol": "circle"
         },
         "mode": "markers",
         "name": "5: gpt-4o-mini_d",
         "showlegend": true,
         "type": "scatter",
         "x": [
          null
         ],
         "y": [
          null
         ]
        },
        {
         "legendgroup": "6",
         "marker": {
          "color": "#8c564b",
          "line": {
           "color": "rgba(0,0,0,0.3)",
           "width": 2
          },
          "size": 12,
          "symbol": "circle"
         },
         "mode": "markers",
         "name": "6: gpt-4o-mini_s",
         "showlegend": true,
         "type": "scatter",
         "x": [
          null
         ],
         "y": [
          null
         ]
        },
        {
         "legendgroup": "7",
         "marker": {
          "color": "#e377c2",
          "line": {
           "color": "rgba(0,0,0,0.3)",
           "width": 2
          },
          "size": 12,
          "symbol": "circle"
         },
         "mode": "markers",
         "name": "7: gpt-4o_d",
         "showlegend": true,
         "type": "scatter",
         "x": [
          null
         ],
         "y": [
          null
         ]
        },
        {
         "legendgroup": "8",
         "marker": {
          "color": "#7f7f7f",
          "line": {
           "color": "rgba(0,0,0,0.3)",
           "width": 2
          },
          "size": 12,
          "symbol": "circle"
         },
         "mode": "markers",
         "name": "8: gpt-4o_s",
         "showlegend": true,
         "type": "scatter",
         "x": [
          null
         ],
         "y": [
          null
         ]
        },
        {
         "legendgroup": "9",
         "marker": {
          "color": "#bcbd22",
          "line": {
           "color": "rgba(0,0,0,0.3)",
           "width": 2
          },
          "size": 12,
          "symbol": "circle"
         },
         "mode": "markers",
         "name": "9: January AI",
         "showlegend": true,
         "type": "scatter",
         "x": [
          null
         ],
         "y": [
          null
         ]
        }
       ],
       "layout": {
        "annotations": [
         {
          "font": {
           "size": 16
          },
          "showarrow": false,
          "text": "Embedding Similarity Distribution",
          "x": 0.13999999999999999,
          "xanchor": "center",
          "xref": "paper",
          "y": 1,
          "yanchor": "bottom",
          "yref": "paper"
         },
         {
          "font": {
           "size": 16
          },
          "showarrow": false,
          "text": "Lexical F1 Score (Ingredients)",
          "x": 0.49999999999999994,
          "xanchor": "center",
          "xref": "paper",
          "y": 1,
          "yanchor": "bottom",
          "yref": "paper"
         },
         {
          "font": {
           "size": 16
          },
          "showarrow": false,
          "text": "Embedding F1 Score (Ingredients)",
          "x": 0.86,
          "xanchor": "center",
          "xref": "paper",
          "y": 1,
          "yanchor": "bottom",
          "yref": "paper"
         },
         {
          "font": {
           "size": 16
          },
          "showarrow": false,
          "text": "Macro Nutritional MAE",
          "x": 0.13999999999999999,
          "xanchor": "center",
          "xref": "paper",
          "y": 0.425,
          "yanchor": "bottom",
          "yref": "paper"
         },
         {
          "font": {
           "size": 16
          },
          "showarrow": false,
          "text": "Cost vs. Performance",
          "x": 0.49999999999999994,
          "xanchor": "center",
          "xref": "paper",
          "y": 0.425,
          "yanchor": "bottom",
          "yref": "paper"
         },
         {
          "font": {
           "size": 16
          },
          "showarrow": false,
          "text": "Response Time Distribution",
          "x": 0.86,
          "xanchor": "center",
          "xref": "paper",
          "y": 0.425,
          "yanchor": "bottom",
          "yref": "paper"
         }
        ],
        "font": {
         "color": "#2f2f2f",
         "family": "Arial, sans-serif",
         "size": 11
        },
        "height": 900,
        "hovermode": "closest",
        "legend": {
         "bgcolor": "rgba(255,255,255,0.8)",
         "bordercolor": "rgba(128,128,128,0.5)",
         "borderwidth": 1,
         "font": {
          "size": 11
         },
         "title": {
          "font": {
           "color": "#1f1f1f",
           "size": 14
          },
          "text": "<b>Models</b>"
         },
         "x": 1.02,
         "xanchor": "left",
         "y": 1,
         "yanchor": "top"
        },
        "margin": {
         "b": 80,
         "l": 80,
         "r": 150,
         "t": 120
        },
        "paper_bgcolor": "white",
        "plot_bgcolor": "rgba(248,249,250,0.8)",
        "showlegend": true,
        "template": {
         "data": {
          "bar": [
           {
            "error_x": {
             "color": "#2a3f5f"
            },
            "error_y": {
             "color": "#2a3f5f"
            },
            "marker": {
             "line": {
              "color": "#E5ECF6",
              "width": 0.5
             },
             "pattern": {
              "fillmode": "overlay",
              "size": 10,
              "solidity": 0.2
             }
            },
            "type": "bar"
           }
          ],
          "barpolar": [
           {
            "marker": {
             "line": {
              "color": "#E5ECF6",
              "width": 0.5
             },
             "pattern": {
              "fillmode": "overlay",
              "size": 10,
              "solidity": 0.2
             }
            },
            "type": "barpolar"
           }
          ],
          "carpet": [
           {
            "aaxis": {
             "endlinecolor": "#2a3f5f",
             "gridcolor": "white",
             "linecolor": "white",
             "minorgridcolor": "white",
             "startlinecolor": "#2a3f5f"
            },
            "baxis": {
             "endlinecolor": "#2a3f5f",
             "gridcolor": "white",
             "linecolor": "white",
             "minorgridcolor": "white",
             "startlinecolor": "#2a3f5f"
            },
            "type": "carpet"
           }
          ],
          "choropleth": [
           {
            "colorbar": {
             "outlinewidth": 0,
             "ticks": ""
            },
            "type": "choropleth"
           }
          ],
          "contour": [
           {
            "colorbar": {
             "outlinewidth": 0,
             "ticks": ""
            },
            "colorscale": [
             [
              0,
              "#0d0887"
             ],
             [
              0.1111111111111111,
              "#46039f"
             ],
             [
              0.2222222222222222,
              "#7201a8"
             ],
             [
              0.3333333333333333,
              "#9c179e"
             ],
             [
              0.4444444444444444,
              "#bd3786"
             ],
             [
              0.5555555555555556,
              "#d8576b"
             ],
             [
              0.6666666666666666,
              "#ed7953"
             ],
             [
              0.7777777777777778,
              "#fb9f3a"
             ],
             [
              0.8888888888888888,
              "#fdca26"
             ],
             [
              1,
              "#f0f921"
             ]
            ],
            "type": "contour"
           }
          ],
          "contourcarpet": [
           {
            "colorbar": {
             "outlinewidth": 0,
             "ticks": ""
            },
            "type": "contourcarpet"
           }
          ],
          "heatmap": [
           {
            "colorbar": {
             "outlinewidth": 0,
             "ticks": ""
            },
            "colorscale": [
             [
              0,
              "#0d0887"
             ],
             [
              0.1111111111111111,
              "#46039f"
             ],
             [
              0.2222222222222222,
              "#7201a8"
             ],
             [
              0.3333333333333333,
              "#9c179e"
             ],
             [
              0.4444444444444444,
              "#bd3786"
             ],
             [
              0.5555555555555556,
              "#d8576b"
             ],
             [
              0.6666666666666666,
              "#ed7953"
             ],
             [
              0.7777777777777778,
              "#fb9f3a"
             ],
             [
              0.8888888888888888,
              "#fdca26"
             ],
             [
              1,
              "#f0f921"
             ]
            ],
            "type": "heatmap"
           }
          ],
          "histogram": [
           {
            "marker": {
             "pattern": {
              "fillmode": "overlay",
              "size": 10,
              "solidity": 0.2
             }
            },
            "type": "histogram"
           }
          ],
          "histogram2d": [
           {
            "colorbar": {
             "outlinewidth": 0,
             "ticks": ""
            },
            "colorscale": [
             [
              0,
              "#0d0887"
             ],
             [
              0.1111111111111111,
              "#46039f"
             ],
             [
              0.2222222222222222,
              "#7201a8"
             ],
             [
              0.3333333333333333,
              "#9c179e"
             ],
             [
              0.4444444444444444,
              "#bd3786"
             ],
             [
              0.5555555555555556,
              "#d8576b"
             ],
             [
              0.6666666666666666,
              "#ed7953"
             ],
             [
              0.7777777777777778,
              "#fb9f3a"
             ],
             [
              0.8888888888888888,
              "#fdca26"
             ],
             [
              1,
              "#f0f921"
             ]
            ],
            "type": "histogram2d"
           }
          ],
          "histogram2dcontour": [
           {
            "colorbar": {
             "outlinewidth": 0,
             "ticks": ""
            },
            "colorscale": [
             [
              0,
              "#0d0887"
             ],
             [
              0.1111111111111111,
              "#46039f"
             ],
             [
              0.2222222222222222,
              "#7201a8"
             ],
             [
              0.3333333333333333,
              "#9c179e"
             ],
             [
              0.4444444444444444,
              "#bd3786"
             ],
             [
              0.5555555555555556,
              "#d8576b"
             ],
             [
              0.6666666666666666,
              "#ed7953"
             ],
             [
              0.7777777777777778,
              "#fb9f3a"
             ],
             [
              0.8888888888888888,
              "#fdca26"
             ],
             [
              1,
              "#f0f921"
             ]
            ],
            "type": "histogram2dcontour"
           }
          ],
          "mesh3d": [
           {
            "colorbar": {
             "outlinewidth": 0,
             "ticks": ""
            },
            "type": "mesh3d"
           }
          ],
          "parcoords": [
           {
            "line": {
             "colorbar": {
              "outlinewidth": 0,
              "ticks": ""
             }
            },
            "type": "parcoords"
           }
          ],
          "pie": [
           {
            "automargin": true,
            "type": "pie"
           }
          ],
          "scatter": [
           {
            "fillpattern": {
             "fillmode": "overlay",
             "size": 10,
             "solidity": 0.2
            },
            "type": "scatter"
           }
          ],
          "scatter3d": [
           {
            "line": {
             "colorbar": {
              "outlinewidth": 0,
              "ticks": ""
             }
            },
            "marker": {
             "colorbar": {
              "outlinewidth": 0,
              "ticks": ""
             }
            },
            "type": "scatter3d"
           }
          ],
          "scattercarpet": [
           {
            "marker": {
             "colorbar": {
              "outlinewidth": 0,
              "ticks": ""
             }
            },
            "type": "scattercarpet"
           }
          ],
          "scattergeo": [
           {
            "marker": {
             "colorbar": {
              "outlinewidth": 0,
              "ticks": ""
             }
            },
            "type": "scattergeo"
           }
          ],
          "scattergl": [
           {
            "marker": {
             "colorbar": {
              "outlinewidth": 0,
              "ticks": ""
             }
            },
            "type": "scattergl"
           }
          ],
          "scattermap": [
           {
            "marker": {
             "colorbar": {
              "outlinewidth": 0,
              "ticks": ""
             }
            },
            "type": "scattermap"
           }
          ],
          "scattermapbox": [
           {
            "marker": {
             "colorbar": {
              "outlinewidth": 0,
              "ticks": ""
             }
            },
            "type": "scattermapbox"
           }
          ],
          "scatterpolar": [
           {
            "marker": {
             "colorbar": {
              "outlinewidth": 0,
              "ticks": ""
             }
            },
            "type": "scatterpolar"
           }
          ],
          "scatterpolargl": [
           {
            "marker": {
             "colorbar": {
              "outlinewidth": 0,
              "ticks": ""
             }
            },
            "type": "scatterpolargl"
           }
          ],
          "scatterternary": [
           {
            "marker": {
             "colorbar": {
              "outlinewidth": 0,
              "ticks": ""
             }
            },
            "type": "scatterternary"
           }
          ],
          "surface": [
           {
            "colorbar": {
             "outlinewidth": 0,
             "ticks": ""
            },
            "colorscale": [
             [
              0,
              "#0d0887"
             ],
             [
              0.1111111111111111,
              "#46039f"
             ],
             [
              0.2222222222222222,
              "#7201a8"
             ],
             [
              0.3333333333333333,
              "#9c179e"
             ],
             [
              0.4444444444444444,
              "#bd3786"
             ],
             [
              0.5555555555555556,
              "#d8576b"
             ],
             [
              0.6666666666666666,
              "#ed7953"
             ],
             [
              0.7777777777777778,
              "#fb9f3a"
             ],
             [
              0.8888888888888888,
              "#fdca26"
             ],
             [
              1,
              "#f0f921"
             ]
            ],
            "type": "surface"
           }
          ],
          "table": [
           {
            "cells": {
             "fill": {
              "color": "#EBF0F8"
             },
             "line": {
              "color": "white"
             }
            },
            "header": {
             "fill": {
              "color": "#C8D4E3"
             },
             "line": {
              "color": "white"
             }
            },
            "type": "table"
           }
          ]
         },
         "layout": {
          "annotationdefaults": {
           "arrowcolor": "#2a3f5f",
           "arrowhead": 0,
           "arrowwidth": 1
          },
          "autotypenumbers": "strict",
          "coloraxis": {
           "colorbar": {
            "outlinewidth": 0,
            "ticks": ""
           }
          },
          "colorscale": {
           "diverging": [
            [
             0,
             "#8e0152"
            ],
            [
             0.1,
             "#c51b7d"
            ],
            [
             0.2,
             "#de77ae"
            ],
            [
             0.3,
             "#f1b6da"
            ],
            [
             0.4,
             "#fde0ef"
            ],
            [
             0.5,
             "#f7f7f7"
            ],
            [
             0.6,
             "#e6f5d0"
            ],
            [
             0.7,
             "#b8e186"
            ],
            [
             0.8,
             "#7fbc41"
            ],
            [
             0.9,
             "#4d9221"
            ],
            [
             1,
             "#276419"
            ]
           ],
           "sequential": [
            [
             0,
             "#0d0887"
            ],
            [
             0.1111111111111111,
             "#46039f"
            ],
            [
             0.2222222222222222,
             "#7201a8"
            ],
            [
             0.3333333333333333,
             "#9c179e"
            ],
            [
             0.4444444444444444,
             "#bd3786"
            ],
            [
             0.5555555555555556,
             "#d8576b"
            ],
            [
             0.6666666666666666,
             "#ed7953"
            ],
            [
             0.7777777777777778,
             "#fb9f3a"
            ],
            [
             0.8888888888888888,
             "#fdca26"
            ],
            [
             1,
             "#f0f921"
            ]
           ],
           "sequentialminus": [
            [
             0,
             "#0d0887"
            ],
            [
             0.1111111111111111,
             "#46039f"
            ],
            [
             0.2222222222222222,
             "#7201a8"
            ],
            [
             0.3333333333333333,
             "#9c179e"
            ],
            [
             0.4444444444444444,
             "#bd3786"
            ],
            [
             0.5555555555555556,
             "#d8576b"
            ],
            [
             0.6666666666666666,
             "#ed7953"
            ],
            [
             0.7777777777777778,
             "#fb9f3a"
            ],
            [
             0.8888888888888888,
             "#fdca26"
            ],
            [
             1,
             "#f0f921"
            ]
           ]
          },
          "colorway": [
           "#636efa",
           "#EF553B",
           "#00cc96",
           "#ab63fa",
           "#FFA15A",
           "#19d3f3",
           "#FF6692",
           "#B6E880",
           "#FF97FF",
           "#FECB52"
          ],
          "font": {
           "color": "#2a3f5f"
          },
          "geo": {
           "bgcolor": "white",
           "lakecolor": "white",
           "landcolor": "#E5ECF6",
           "showlakes": true,
           "showland": true,
           "subunitcolor": "white"
          },
          "hoverlabel": {
           "align": "left"
          },
          "hovermode": "closest",
          "mapbox": {
           "style": "light"
          },
          "paper_bgcolor": "white",
          "plot_bgcolor": "#E5ECF6",
          "polar": {
           "angularaxis": {
            "gridcolor": "white",
            "linecolor": "white",
            "ticks": ""
           },
           "bgcolor": "#E5ECF6",
           "radialaxis": {
            "gridcolor": "white",
            "linecolor": "white",
            "ticks": ""
           }
          },
          "scene": {
           "xaxis": {
            "backgroundcolor": "#E5ECF6",
            "gridcolor": "white",
            "gridwidth": 2,
            "linecolor": "white",
            "showbackground": true,
            "ticks": "",
            "zerolinecolor": "white"
           },
           "yaxis": {
            "backgroundcolor": "#E5ECF6",
            "gridcolor": "white",
            "gridwidth": 2,
            "linecolor": "white",
            "showbackground": true,
            "ticks": "",
            "zerolinecolor": "white"
           },
           "zaxis": {
            "backgroundcolor": "#E5ECF6",
            "gridcolor": "white",
            "gridwidth": 2,
            "linecolor": "white",
            "showbackground": true,
            "ticks": "",
            "zerolinecolor": "white"
           }
          },
          "shapedefaults": {
           "line": {
            "color": "#2a3f5f"
           }
          },
          "ternary": {
           "aaxis": {
            "gridcolor": "white",
            "linecolor": "white",
            "ticks": ""
           },
           "baxis": {
            "gridcolor": "white",
            "linecolor": "white",
            "ticks": ""
           },
           "bgcolor": "#E5ECF6",
           "caxis": {
            "gridcolor": "white",
            "linecolor": "white",
            "ticks": ""
           }
          },
          "title": {
           "x": 0.05
          },
          "xaxis": {
           "automargin": true,
           "gridcolor": "white",
           "linecolor": "white",
           "ticks": "",
           "title": {
            "standoff": 15
           },
           "zerolinecolor": "white",
           "zerolinewidth": 2
          },
          "yaxis": {
           "automargin": true,
           "gridcolor": "white",
           "linecolor": "white",
           "ticks": "",
           "title": {
            "standoff": 15
           },
           "zerolinecolor": "white",
           "zerolinewidth": 2
          }
         }
        },
        "title": {
         "font": {
          "color": "#1f1f1f",
          "family": "Arial Black",
          "size": 24
         },
         "text": "<b>Model Performance Dashboard</b>",
         "x": 0.5,
         "xanchor": "center"
        },
        "width": 1400,
        "xaxis": {
         "anchor": "y",
         "domain": [
          0,
          0.27999999999999997
         ],
         "gridcolor": "rgba(128,128,128,0.2)",
         "gridwidth": 1,
         "showgrid": true,
         "tickfont": {
          "color": "#2f2f2f",
          "size": 11
         },
         "zeroline": true,
         "zerolinecolor": "rgba(128,128,128,0.4)",
         "zerolinewidth": 1
        },
        "xaxis2": {
         "anchor": "y2",
         "domain": [
          0.36,
          0.6399999999999999
         ],
         "gridcolor": "rgba(128,128,128,0.2)",
         "gridwidth": 1,
         "showgrid": true,
         "tickfont": {
          "color": "#2f2f2f",
          "size": 11
         },
         "zeroline": true,
         "zerolinecolor": "rgba(128,128,128,0.4)",
         "zerolinewidth": 1
        },
        "xaxis3": {
         "anchor": "y3",
         "domain": [
          0.72,
          1
         ],
         "gridcolor": "rgba(128,128,128,0.2)",
         "gridwidth": 1,
         "showgrid": true,
         "tickfont": {
          "color": "#2f2f2f",
          "size": 11
         },
         "zeroline": true,
         "zerolinecolor": "rgba(128,128,128,0.4)",
         "zerolinewidth": 1
        },
        "xaxis4": {
         "anchor": "y4",
         "domain": [
          0,
          0.27999999999999997
         ],
         "gridcolor": "rgba(128,128,128,0.2)",
         "gridwidth": 1,
         "showgrid": true,
         "tickfont": {
          "color": "#2f2f2f",
          "size": 11
         },
         "zeroline": true,
         "zerolinecolor": "rgba(128,128,128,0.4)",
         "zerolinewidth": 1
        },
        "xaxis5": {
         "anchor": "y5",
         "domain": [
          0.36,
          0.6399999999999999
         ],
         "gridcolor": "rgba(128,128,128,0.2)",
         "gridwidth": 1,
         "showgrid": true,
         "tickfont": {
          "color": "#2f2f2f",
          "size": 11
         },
         "title": {
          "text": "Cost per Image ($)"
         },
         "zeroline": true,
         "zerolinecolor": "rgba(128,128,128,0.4)",
         "zerolinewidth": 1
        },
        "xaxis6": {
         "anchor": "y6",
         "domain": [
          0.72,
          1
         ],
         "gridcolor": "rgba(128,128,128,0.2)",
         "gridwidth": 1,
         "showgrid": true,
         "tickfont": {
          "color": "#2f2f2f",
          "size": 11
         },
         "zeroline": true,
         "zerolinecolor": "rgba(128,128,128,0.4)",
         "zerolinewidth": 1
        },
        "yaxis": {
         "anchor": "x",
         "domain": [
          0.575,
          1
         ],
         "gridcolor": "rgba(128,128,128,0.2)",
         "gridwidth": 1,
         "showgrid": true,
         "tickfont": {
          "color": "#2f2f2f",
          "size": 11
         },
         "title": {
          "text": "Similarity Score (Recall)"
         },
         "zeroline": true,
         "zerolinecolor": "rgba(128,128,128,0.4)",
         "zerolinewidth": 1
        },
        "yaxis2": {
         "anchor": "x2",
         "domain": [
          0.575,
          1
         ],
         "gridcolor": "rgba(128,128,128,0.2)",
         "gridwidth": 1,
         "showgrid": true,
         "tickfont": {
          "color": "#2f2f2f",
          "size": 11
         },
         "title": {
          "text": "Lexical F1 Score"
         },
         "zeroline": true,
         "zerolinecolor": "rgba(128,128,128,0.4)",
         "zerolinewidth": 1
        },
        "yaxis3": {
         "anchor": "x3",
         "domain": [
          0.575,
          1
         ],
         "gridcolor": "rgba(128,128,128,0.2)",
         "gridwidth": 1,
         "showgrid": true,
         "tickfont": {
          "color": "#2f2f2f",
          "size": 11
         },
         "title": {
          "text": "Embedding F1 Score"
         },
         "zeroline": true,
         "zerolinecolor": "rgba(128,128,128,0.4)",
         "zerolinewidth": 1
        },
        "yaxis4": {
         "anchor": "x4",
         "domain": [
          0,
          0.425
         ],
         "gridcolor": "rgba(128,128,128,0.2)",
         "gridwidth": 1,
         "showgrid": true,
         "tickfont": {
          "color": "#2f2f2f",
          "size": 11
         },
         "title": {
          "text": "Mean Absolute Error"
         },
         "zeroline": true,
         "zerolinecolor": "rgba(128,128,128,0.4)",
         "zerolinewidth": 1
        },
        "yaxis5": {
         "anchor": "x5",
         "domain": [
          0,
          0.425
         ],
         "gridcolor": "rgba(128,128,128,0.2)",
         "gridwidth": 1,
         "showgrid": true,
         "tickfont": {
          "color": "#2f2f2f",
          "size": 11
         },
         "title": {
          "text": "Similarity Score"
         },
         "zeroline": true,
         "zerolinecolor": "rgba(128,128,128,0.4)",
         "zerolinewidth": 1
        },
        "yaxis6": {
         "anchor": "x6",
         "domain": [
          0,
          0.425
         ],
         "gridcolor": "rgba(128,128,128,0.2)",
         "gridwidth": 1,
         "showgrid": true,
         "tickfont": {
          "color": "#2f2f2f",
          "size": 11
         },
         "title": {
          "text": "Response Time (sec)"
         },
         "zeroline": true,
         "zerolinecolor": "rgba(128,128,128,0.4)",
         "zerolinewidth": 1
        }
       }
      }
     },
     "metadata": {},
     "output_type": "display_data"
    },
    {
     "data": {
      "application/vnd.plotly.v1+json": {
       "config": {
        "plotlyServerURL": "https://plot.ly"
       },
       "data": [
        {
         "coloraxis": "coloraxis",
         "hovertemplate": "Macro Nutrient: %{x}<br>Model: %{y}<br>Avg % Error: %{z}<extra></extra>",
         "name": "0",
         "texttemplate": "%{z}%",
         "type": "heatmap",
         "x": [
          "Calories",
          "Carbs",
          "Protein",
          "Fat"
         ],
         "xaxis": "x",
         "y": [
          "January AI",
          "gemini-2.5-flash",
          "gemini-2.5-pro",
          "gpt-4o",
          "gpt-4o-mini"
         ],
         "yaxis": "y",
         "z": {
          "bdata": "jkLQ09d0MUDthcTiQNMzQFA/o075Pj9ApIj1zVjkNECLWEIqQy5RQOew1cS9H1dAja0IYE1yWUAIpGHMO3lPQCvedeQVTkZAWC69+0e3S0AekaZQ8TpSQFiPj3AcWUlAlWzUTX9gOkBaPWbcz2lHQOozRNdQGURAQA+/YwNQPkAkUv+cHO1CQLMqmEB72k1Ak43Al3/cVUAS19Arem5EQA==",
          "dtype": "f8",
          "shape": "5, 4"
         }
        }
       ],
       "layout": {
        "coloraxis": {
         "colorbar": {
          "title": {
           "text": "Avg % Error"
          }
         },
         "colorscale": [
          [
           0,
           "rgb(0,104,55)"
          ],
          [
           0.1,
           "rgb(26,152,80)"
          ],
          [
           0.2,
           "rgb(102,189,99)"
          ],
          [
           0.3,
           "rgb(166,217,106)"
          ],
          [
           0.4,
           "rgb(217,239,139)"
          ],
          [
           0.5,
           "rgb(255,255,191)"
          ],
          [
           0.6,
           "rgb(254,224,139)"
          ],
          [
           0.7,
           "rgb(253,174,97)"
          ],
          [
           0.8,
           "rgb(244,109,67)"
          ],
          [
           0.9,
           "rgb(215,48,39)"
          ],
          [
           1,
           "rgb(165,0,38)"
          ]
         ]
        },
        "template": {
         "data": {
          "bar": [
           {
            "error_x": {
             "color": "#2a3f5f"
            },
            "error_y": {
             "color": "#2a3f5f"
            },
            "marker": {
             "line": {
              "color": "#E5ECF6",
              "width": 0.5
             },
             "pattern": {
              "fillmode": "overlay",
              "size": 10,
              "solidity": 0.2
             }
            },
            "type": "bar"
           }
          ],
          "barpolar": [
           {
            "marker": {
             "line": {
              "color": "#E5ECF6",
              "width": 0.5
             },
             "pattern": {
              "fillmode": "overlay",
              "size": 10,
              "solidity": 0.2
             }
            },
            "type": "barpolar"
           }
          ],
          "carpet": [
           {
            "aaxis": {
             "endlinecolor": "#2a3f5f",
             "gridcolor": "white",
             "linecolor": "white",
             "minorgridcolor": "white",
             "startlinecolor": "#2a3f5f"
            },
            "baxis": {
             "endlinecolor": "#2a3f5f",
             "gridcolor": "white",
             "linecolor": "white",
             "minorgridcolor": "white",
             "startlinecolor": "#2a3f5f"
            },
            "type": "carpet"
           }
          ],
          "choropleth": [
           {
            "colorbar": {
             "outlinewidth": 0,
             "ticks": ""
            },
            "type": "choropleth"
           }
          ],
          "contour": [
           {
            "colorbar": {
             "outlinewidth": 0,
             "ticks": ""
            },
            "colorscale": [
             [
              0,
              "#0d0887"
             ],
             [
              0.1111111111111111,
              "#46039f"
             ],
             [
              0.2222222222222222,
              "#7201a8"
             ],
             [
              0.3333333333333333,
              "#9c179e"
             ],
             [
              0.4444444444444444,
              "#bd3786"
             ],
             [
              0.5555555555555556,
              "#d8576b"
             ],
             [
              0.6666666666666666,
              "#ed7953"
             ],
             [
              0.7777777777777778,
              "#fb9f3a"
             ],
             [
              0.8888888888888888,
              "#fdca26"
             ],
             [
              1,
              "#f0f921"
             ]
            ],
            "type": "contour"
           }
          ],
          "contourcarpet": [
           {
            "colorbar": {
             "outlinewidth": 0,
             "ticks": ""
            },
            "type": "contourcarpet"
           }
          ],
          "heatmap": [
           {
            "colorbar": {
             "outlinewidth": 0,
             "ticks": ""
            },
            "colorscale": [
             [
              0,
              "#0d0887"
             ],
             [
              0.1111111111111111,
              "#46039f"
             ],
             [
              0.2222222222222222,
              "#7201a8"
             ],
             [
              0.3333333333333333,
              "#9c179e"
             ],
             [
              0.4444444444444444,
              "#bd3786"
             ],
             [
              0.5555555555555556,
              "#d8576b"
             ],
             [
              0.6666666666666666,
              "#ed7953"
             ],
             [
              0.7777777777777778,
              "#fb9f3a"
             ],
             [
              0.8888888888888888,
              "#fdca26"
             ],
             [
              1,
              "#f0f921"
             ]
            ],
            "type": "heatmap"
           }
          ],
          "histogram": [
           {
            "marker": {
             "pattern": {
              "fillmode": "overlay",
              "size": 10,
              "solidity": 0.2
             }
            },
            "type": "histogram"
           }
          ],
          "histogram2d": [
           {
            "colorbar": {
             "outlinewidth": 0,
             "ticks": ""
            },
            "colorscale": [
             [
              0,
              "#0d0887"
             ],
             [
              0.1111111111111111,
              "#46039f"
             ],
             [
              0.2222222222222222,
              "#7201a8"
             ],
             [
              0.3333333333333333,
              "#9c179e"
             ],
             [
              0.4444444444444444,
              "#bd3786"
             ],
             [
              0.5555555555555556,
              "#d8576b"
             ],
             [
              0.6666666666666666,
              "#ed7953"
             ],
             [
              0.7777777777777778,
              "#fb9f3a"
             ],
             [
              0.8888888888888888,
              "#fdca26"
             ],
             [
              1,
              "#f0f921"
             ]
            ],
            "type": "histogram2d"
           }
          ],
          "histogram2dcontour": [
           {
            "colorbar": {
             "outlinewidth": 0,
             "ticks": ""
            },
            "colorscale": [
             [
              0,
              "#0d0887"
             ],
             [
              0.1111111111111111,
              "#46039f"
             ],
             [
              0.2222222222222222,
              "#7201a8"
             ],
             [
              0.3333333333333333,
              "#9c179e"
             ],
             [
              0.4444444444444444,
              "#bd3786"
             ],
             [
              0.5555555555555556,
              "#d8576b"
             ],
             [
              0.6666666666666666,
              "#ed7953"
             ],
             [
              0.7777777777777778,
              "#fb9f3a"
             ],
             [
              0.8888888888888888,
              "#fdca26"
             ],
             [
              1,
              "#f0f921"
             ]
            ],
            "type": "histogram2dcontour"
           }
          ],
          "mesh3d": [
           {
            "colorbar": {
             "outlinewidth": 0,
             "ticks": ""
            },
            "type": "mesh3d"
           }
          ],
          "parcoords": [
           {
            "line": {
             "colorbar": {
              "outlinewidth": 0,
              "ticks": ""
             }
            },
            "type": "parcoords"
           }
          ],
          "pie": [
           {
            "automargin": true,
            "type": "pie"
           }
          ],
          "scatter": [
           {
            "fillpattern": {
             "fillmode": "overlay",
             "size": 10,
             "solidity": 0.2
            },
            "type": "scatter"
           }
          ],
          "scatter3d": [
           {
            "line": {
             "colorbar": {
              "outlinewidth": 0,
              "ticks": ""
             }
            },
            "marker": {
             "colorbar": {
              "outlinewidth": 0,
              "ticks": ""
             }
            },
            "type": "scatter3d"
           }
          ],
          "scattercarpet": [
           {
            "marker": {
             "colorbar": {
              "outlinewidth": 0,
              "ticks": ""
             }
            },
            "type": "scattercarpet"
           }
          ],
          "scattergeo": [
           {
            "marker": {
             "colorbar": {
              "outlinewidth": 0,
              "ticks": ""
             }
            },
            "type": "scattergeo"
           }
          ],
          "scattergl": [
           {
            "marker": {
             "colorbar": {
              "outlinewidth": 0,
              "ticks": ""
             }
            },
            "type": "scattergl"
           }
          ],
          "scattermap": [
           {
            "marker": {
             "colorbar": {
              "outlinewidth": 0,
              "ticks": ""
             }
            },
            "type": "scattermap"
           }
          ],
          "scattermapbox": [
           {
            "marker": {
             "colorbar": {
              "outlinewidth": 0,
              "ticks": ""
             }
            },
            "type": "scattermapbox"
           }
          ],
          "scatterpolar": [
           {
            "marker": {
             "colorbar": {
              "outlinewidth": 0,
              "ticks": ""
             }
            },
            "type": "scatterpolar"
           }
          ],
          "scatterpolargl": [
           {
            "marker": {
             "colorbar": {
              "outlinewidth": 0,
              "ticks": ""
             }
            },
            "type": "scatterpolargl"
           }
          ],
          "scatterternary": [
           {
            "marker": {
             "colorbar": {
              "outlinewidth": 0,
              "ticks": ""
             }
            },
            "type": "scatterternary"
           }
          ],
          "surface": [
           {
            "colorbar": {
             "outlinewidth": 0,
             "ticks": ""
            },
            "colorscale": [
             [
              0,
              "#0d0887"
             ],
             [
              0.1111111111111111,
              "#46039f"
             ],
             [
              0.2222222222222222,
              "#7201a8"
             ],
             [
              0.3333333333333333,
              "#9c179e"
             ],
             [
              0.4444444444444444,
              "#bd3786"
             ],
             [
              0.5555555555555556,
              "#d8576b"
             ],
             [
              0.6666666666666666,
              "#ed7953"
             ],
             [
              0.7777777777777778,
              "#fb9f3a"
             ],
             [
              0.8888888888888888,
              "#fdca26"
             ],
             [
              1,
              "#f0f921"
             ]
            ],
            "type": "surface"
           }
          ],
          "table": [
           {
            "cells": {
             "fill": {
              "color": "#EBF0F8"
             },
             "line": {
              "color": "white"
             }
            },
            "header": {
             "fill": {
              "color": "#C8D4E3"
             },
             "line": {
              "color": "white"
             }
            },
            "type": "table"
           }
          ]
         },
         "layout": {
          "annotationdefaults": {
           "arrowcolor": "#2a3f5f",
           "arrowhead": 0,
           "arrowwidth": 1
          },
          "autotypenumbers": "strict",
          "coloraxis": {
           "colorbar": {
            "outlinewidth": 0,
            "ticks": ""
           }
          },
          "colorscale": {
           "diverging": [
            [
             0,
             "#8e0152"
            ],
            [
             0.1,
             "#c51b7d"
            ],
            [
             0.2,
             "#de77ae"
            ],
            [
             0.3,
             "#f1b6da"
            ],
            [
             0.4,
             "#fde0ef"
            ],
            [
             0.5,
             "#f7f7f7"
            ],
            [
             0.6,
             "#e6f5d0"
            ],
            [
             0.7,
             "#b8e186"
            ],
            [
             0.8,
             "#7fbc41"
            ],
            [
             0.9,
             "#4d9221"
            ],
            [
             1,
             "#276419"
            ]
           ],
           "sequential": [
            [
             0,
             "#0d0887"
            ],
            [
             0.1111111111111111,
             "#46039f"
            ],
            [
             0.2222222222222222,
             "#7201a8"
            ],
            [
             0.3333333333333333,
             "#9c179e"
            ],
            [
             0.4444444444444444,
             "#bd3786"
            ],
            [
             0.5555555555555556,
             "#d8576b"
            ],
            [
             0.6666666666666666,
             "#ed7953"
            ],
            [
             0.7777777777777778,
             "#fb9f3a"
            ],
            [
             0.8888888888888888,
             "#fdca26"
            ],
            [
             1,
             "#f0f921"
            ]
           ],
           "sequentialminus": [
            [
             0,
             "#0d0887"
            ],
            [
             0.1111111111111111,
             "#46039f"
            ],
            [
             0.2222222222222222,
             "#7201a8"
            ],
            [
             0.3333333333333333,
             "#9c179e"
            ],
            [
             0.4444444444444444,
             "#bd3786"
            ],
            [
             0.5555555555555556,
             "#d8576b"
            ],
            [
             0.6666666666666666,
             "#ed7953"
            ],
            [
             0.7777777777777778,
             "#fb9f3a"
            ],
            [
             0.8888888888888888,
             "#fdca26"
            ],
            [
             1,
             "#f0f921"
            ]
           ]
          },
          "colorway": [
           "#636efa",
           "#EF553B",
           "#00cc96",
           "#ab63fa",
           "#FFA15A",
           "#19d3f3",
           "#FF6692",
           "#B6E880",
           "#FF97FF",
           "#FECB52"
          ],
          "font": {
           "color": "#2a3f5f"
          },
          "geo": {
           "bgcolor": "white",
           "lakecolor": "white",
           "landcolor": "#E5ECF6",
           "showlakes": true,
           "showland": true,
           "subunitcolor": "white"
          },
          "hoverlabel": {
           "align": "left"
          },
          "hovermode": "closest",
          "mapbox": {
           "style": "light"
          },
          "paper_bgcolor": "white",
          "plot_bgcolor": "#E5ECF6",
          "polar": {
           "angularaxis": {
            "gridcolor": "white",
            "linecolor": "white",
            "ticks": ""
           },
           "bgcolor": "#E5ECF6",
           "radialaxis": {
            "gridcolor": "white",
            "linecolor": "white",
            "ticks": ""
           }
          },
          "scene": {
           "xaxis": {
            "backgroundcolor": "#E5ECF6",
            "gridcolor": "white",
            "gridwidth": 2,
            "linecolor": "white",
            "showbackground": true,
            "ticks": "",
            "zerolinecolor": "white"
           },
           "yaxis": {
            "backgroundcolor": "#E5ECF6",
            "gridcolor": "white",
            "gridwidth": 2,
            "linecolor": "white",
            "showbackground": true,
            "ticks": "",
            "zerolinecolor": "white"
           },
           "zaxis": {
            "backgroundcolor": "#E5ECF6",
            "gridcolor": "white",
            "gridwidth": 2,
            "linecolor": "white",
            "showbackground": true,
            "ticks": "",
            "zerolinecolor": "white"
           }
          },
          "shapedefaults": {
           "line": {
            "color": "#2a3f5f"
           }
          },
          "ternary": {
           "aaxis": {
            "gridcolor": "white",
            "linecolor": "white",
            "ticks": ""
           },
           "baxis": {
            "gridcolor": "white",
            "linecolor": "white",
            "ticks": ""
           },
           "bgcolor": "#E5ECF6",
           "caxis": {
            "gridcolor": "white",
            "linecolor": "white",
            "ticks": ""
           }
          },
          "title": {
           "x": 0.05
          },
          "xaxis": {
           "automargin": true,
           "gridcolor": "white",
           "linecolor": "white",
           "ticks": "",
           "title": {
            "standoff": 15
           },
           "zerolinecolor": "white",
           "zerolinewidth": 2
          },
          "yaxis": {
           "automargin": true,
           "gridcolor": "white",
           "linecolor": "white",
           "ticks": "",
           "title": {
            "standoff": 15
           },
           "zerolinecolor": "white",
           "zerolinewidth": 2
          }
         }
        },
        "title": {
         "text": "<b>Average Percentage Error by Macro (Lower is Better)</b>"
        },
        "xaxis": {
         "anchor": "y",
         "domain": [
          0,
          1
         ],
         "title": {
          "text": "Macro Nutrient"
         }
        },
        "yaxis": {
         "anchor": "x",
         "autorange": "reversed",
         "domain": [
          0,
          1
         ],
         "title": {
          "text": "Model"
         }
        }
       }
      }
     },
     "metadata": {},
     "output_type": "display_data"
    },
    {
     "name": "stdout",
     "output_type": "stream",
     "text": [
      "\n",
      "=== WIN-TIE-LOSS ANALYSIS (Average Across Prompt Variants) ===\n",
      "\n",
      "Comparing January AI (baseline) against:\n",
      "  - vs gemini-2.5-flash: 66 wins, 14 losses across 20 images\n",
      "  - vs gemini-2.5-pro: 65 wins, 15 losses across 20 images\n",
      "  - vs gpt-4o: 59 wins, 21 losses across 20 images\n",
      "  - vs gpt-4o-mini: 56 wins, 24 losses across 20 images\n"
     ]
    },
    {
     "data": {
      "application/vnd.plotly.v1+json": {
       "config": {
        "plotlyServerURL": "https://plot.ly"
       },
       "data": [
        {
         "customdata": [
          16
         ],
         "hovertemplate": "<b>Win</b><br>Count: %{customdata}<br>Percentage: %{x:.1f}%<br><extra></extra>",
         "marker": {
          "color": "#16A085"
         },
         "name": "Win",
         "orientation": "h",
         "showlegend": false,
         "text": "80%",
         "textposition": "inside",
         "type": "bar",
         "x": [
          80
         ],
         "xaxis": "x",
         "y": [
          "gemini-2.5-flash"
         ],
         "yaxis": "y"
        },
        {
         "customdata": [
          0
         ],
         "hovertemplate": "<b>Tie</b><br>Count: %{customdata}<br>Percentage: %{x:.1f}%<br><extra></extra>",
         "marker": {
          "color": "#95A5A6"
         },
         "name": "Tie",
         "orientation": "h",
         "showlegend": false,
         "text": "",
         "textposition": "inside",
         "type": "bar",
         "x": [
          0
         ],
         "xaxis": "x",
         "y": [
          "gemini-2.5-flash"
         ],
         "yaxis": "y"
        },
        {
         "customdata": [
          4
         ],
         "hovertemplate": "<b>Loss</b><br>Count: %{customdata}<br>Percentage: %{x:.1f}%<br><extra></extra>",
         "marker": {
          "color": "#E74C3C"
         },
         "name": "Loss",
         "orientation": "h",
         "showlegend": false,
         "text": "20%",
         "textposition": "inside",
         "type": "bar",
         "x": [
          20
         ],
         "xaxis": "x",
         "y": [
          "gemini-2.5-flash"
         ],
         "yaxis": "y"
        },
        {
         "customdata": [
          17
         ],
         "hovertemplate": "<b>Win</b><br>Count: %{customdata}<br>Percentage: %{x:.1f}%<br><extra></extra>",
         "marker": {
          "color": "#16A085"
         },
         "name": "Win",
         "orientation": "h",
         "showlegend": false,
         "text": "85%",
         "textposition": "inside",
         "type": "bar",
         "x": [
          85
         ],
         "xaxis": "x2",
         "y": [
          "gemini-2.5-flash"
         ],
         "yaxis": "y2"
        },
        {
         "customdata": [
          0
         ],
         "hovertemplate": "<b>Tie</b><br>Count: %{customdata}<br>Percentage: %{x:.1f}%<br><extra></extra>",
         "marker": {
          "color": "#95A5A6"
         },
         "name": "Tie",
         "orientation": "h",
         "showlegend": false,
         "text": "",
         "textposition": "inside",
         "type": "bar",
         "x": [
          0
         ],
         "xaxis": "x2",
         "y": [
          "gemini-2.5-flash"
         ],
         "yaxis": "y2"
        },
        {
         "customdata": [
          3
         ],
         "hovertemplate": "<b>Loss</b><br>Count: %{customdata}<br>Percentage: %{x:.1f}%<br><extra></extra>",
         "marker": {
          "color": "#E74C3C"
         },
         "name": "Loss",
         "orientation": "h",
         "showlegend": false,
         "text": "15%",
         "textposition": "inside",
         "type": "bar",
         "x": [
          15
         ],
         "xaxis": "x2",
         "y": [
          "gemini-2.5-flash"
         ],
         "yaxis": "y2"
        },
        {
         "customdata": [
          16
         ],
         "hovertemplate": "<b>Win</b><br>Count: %{customdata}<br>Percentage: %{x:.1f}%<br><extra></extra>",
         "marker": {
          "color": "#16A085"
         },
         "name": "Win",
         "orientation": "h",
         "showlegend": false,
         "text": "80%",
         "textposition": "inside",
         "type": "bar",
         "x": [
          80
         ],
         "xaxis": "x3",
         "y": [
          "gemini-2.5-flash"
         ],
         "yaxis": "y3"
        },
        {
         "customdata": [
          0
         ],
         "hovertemplate": "<b>Tie</b><br>Count: %{customdata}<br>Percentage: %{x:.1f}%<br><extra></extra>",
         "marker": {
          "color": "#95A5A6"
         },
         "name": "Tie",
         "orientation": "h",
         "showlegend": false,
         "text": "",
         "textposition": "inside",
         "type": "bar",
         "x": [
          0
         ],
         "xaxis": "x3",
         "y": [
          "gemini-2.5-flash"
         ],
         "yaxis": "y3"
        },
        {
         "customdata": [
          4
         ],
         "hovertemplate": "<b>Loss</b><br>Count: %{customdata}<br>Percentage: %{x:.1f}%<br><extra></extra>",
         "marker": {
          "color": "#E74C3C"
         },
         "name": "Loss",
         "orientation": "h",
         "showlegend": false,
         "text": "20%",
         "textposition": "inside",
         "type": "bar",
         "x": [
          20
         ],
         "xaxis": "x3",
         "y": [
          "gemini-2.5-flash"
         ],
         "yaxis": "y3"
        },
        {
         "customdata": [
          17
         ],
         "hovertemplate": "<b>Win</b><br>Count: %{customdata}<br>Percentage: %{x:.1f}%<br><extra></extra>",
         "marker": {
          "color": "#16A085"
         },
         "name": "Win",
         "orientation": "h",
         "showlegend": false,
         "text": "85%",
         "textposition": "inside",
         "type": "bar",
         "x": [
          85
         ],
         "xaxis": "x4",
         "y": [
          "gemini-2.5-flash"
         ],
         "yaxis": "y4"
        },
        {
         "customdata": [
          0
         ],
         "hovertemplate": "<b>Tie</b><br>Count: %{customdata}<br>Percentage: %{x:.1f}%<br><extra></extra>",
         "marker": {
          "color": "#95A5A6"
         },
         "name": "Tie",
         "orientation": "h",
         "showlegend": false,
         "text": "",
         "textposition": "inside",
         "type": "bar",
         "x": [
          0
         ],
         "xaxis": "x4",
         "y": [
          "gemini-2.5-flash"
         ],
         "yaxis": "y4"
        },
        {
         "customdata": [
          3
         ],
         "hovertemplate": "<b>Loss</b><br>Count: %{customdata}<br>Percentage: %{x:.1f}%<br><extra></extra>",
         "marker": {
          "color": "#E74C3C"
         },
         "name": "Loss",
         "orientation": "h",
         "showlegend": false,
         "text": "15%",
         "textposition": "inside",
         "type": "bar",
         "x": [
          15
         ],
         "xaxis": "x4",
         "y": [
          "gemini-2.5-flash"
         ],
         "yaxis": "y4"
        },
        {
         "customdata": [
          16
         ],
         "hovertemplate": "<b>Win</b><br>Count: %{customdata}<br>Percentage: %{x:.1f}%<br><extra></extra>",
         "marker": {
          "color": "#16A085"
         },
         "name": "Win",
         "orientation": "h",
         "showlegend": false,
         "text": "80%",
         "textposition": "inside",
         "type": "bar",
         "x": [
          80
         ],
         "xaxis": "x5",
         "y": [
          "gemini-2.5-pro"
         ],
         "yaxis": "y5"
        },
        {
         "customdata": [
          0
         ],
         "hovertemplate": "<b>Tie</b><br>Count: %{customdata}<br>Percentage: %{x:.1f}%<br><extra></extra>",
         "marker": {
          "color": "#95A5A6"
         },
         "name": "Tie",
         "orientation": "h",
         "showlegend": false,
         "text": "",
         "textposition": "inside",
         "type": "bar",
         "x": [
          0
         ],
         "xaxis": "x5",
         "y": [
          "gemini-2.5-pro"
         ],
         "yaxis": "y5"
        },
        {
         "customdata": [
          4
         ],
         "hovertemplate": "<b>Loss</b><br>Count: %{customdata}<br>Percentage: %{x:.1f}%<br><extra></extra>",
         "marker": {
          "color": "#E74C3C"
         },
         "name": "Loss",
         "orientation": "h",
         "showlegend": false,
         "text": "20%",
         "textposition": "inside",
         "type": "bar",
         "x": [
          20
         ],
         "xaxis": "x5",
         "y": [
          "gemini-2.5-pro"
         ],
         "yaxis": "y5"
        },
        {
         "customdata": [
          16
         ],
         "hovertemplate": "<b>Win</b><br>Count: %{customdata}<br>Percentage: %{x:.1f}%<br><extra></extra>",
         "marker": {
          "color": "#16A085"
         },
         "name": "Win",
         "orientation": "h",
         "showlegend": false,
         "text": "80%",
         "textposition": "inside",
         "type": "bar",
         "x": [
          80
         ],
         "xaxis": "x6",
         "y": [
          "gemini-2.5-pro"
         ],
         "yaxis": "y6"
        },
        {
         "customdata": [
          0
         ],
         "hovertemplate": "<b>Tie</b><br>Count: %{customdata}<br>Percentage: %{x:.1f}%<br><extra></extra>",
         "marker": {
          "color": "#95A5A6"
         },
         "name": "Tie",
         "orientation": "h",
         "showlegend": false,
         "text": "",
         "textposition": "inside",
         "type": "bar",
         "x": [
          0
         ],
         "xaxis": "x6",
         "y": [
          "gemini-2.5-pro"
         ],
         "yaxis": "y6"
        },
        {
         "customdata": [
          4
         ],
         "hovertemplate": "<b>Loss</b><br>Count: %{customdata}<br>Percentage: %{x:.1f}%<br><extra></extra>",
         "marker": {
          "color": "#E74C3C"
         },
         "name": "Loss",
         "orientation": "h",
         "showlegend": false,
         "text": "20%",
         "textposition": "inside",
         "type": "bar",
         "x": [
          20
         ],
         "xaxis": "x6",
         "y": [
          "gemini-2.5-pro"
         ],
         "yaxis": "y6"
        },
        {
         "customdata": [
          18
         ],
         "hovertemplate": "<b>Win</b><br>Count: %{customdata}<br>Percentage: %{x:.1f}%<br><extra></extra>",
         "marker": {
          "color": "#16A085"
         },
         "name": "Win",
         "orientation": "h",
         "showlegend": false,
         "text": "90%",
         "textposition": "inside",
         "type": "bar",
         "x": [
          90
         ],
         "xaxis": "x7",
         "y": [
          "gemini-2.5-pro"
         ],
         "yaxis": "y7"
        },
        {
         "customdata": [
          0
         ],
         "hovertemplate": "<b>Tie</b><br>Count: %{customdata}<br>Percentage: %{x:.1f}%<br><extra></extra>",
         "marker": {
          "color": "#95A5A6"
         },
         "name": "Tie",
         "orientation": "h",
         "showlegend": false,
         "text": "",
         "textposition": "inside",
         "type": "bar",
         "x": [
          0
         ],
         "xaxis": "x7",
         "y": [
          "gemini-2.5-pro"
         ],
         "yaxis": "y7"
        },
        {
         "customdata": [
          2
         ],
         "hovertemplate": "<b>Loss</b><br>Count: %{customdata}<br>Percentage: %{x:.1f}%<br><extra></extra>",
         "marker": {
          "color": "#E74C3C"
         },
         "name": "Loss",
         "orientation": "h",
         "showlegend": false,
         "text": "10%",
         "textposition": "inside",
         "type": "bar",
         "x": [
          10
         ],
         "xaxis": "x7",
         "y": [
          "gemini-2.5-pro"
         ],
         "yaxis": "y7"
        },
        {
         "customdata": [
          15
         ],
         "hovertemplate": "<b>Win</b><br>Count: %{customdata}<br>Percentage: %{x:.1f}%<br><extra></extra>",
         "marker": {
          "color": "#16A085"
         },
         "name": "Win",
         "orientation": "h",
         "showlegend": false,
         "text": "75%",
         "textposition": "inside",
         "type": "bar",
         "x": [
          75
         ],
         "xaxis": "x8",
         "y": [
          "gemini-2.5-pro"
         ],
         "yaxis": "y8"
        },
        {
         "customdata": [
          0
         ],
         "hovertemplate": "<b>Tie</b><br>Count: %{customdata}<br>Percentage: %{x:.1f}%<br><extra></extra>",
         "marker": {
          "color": "#95A5A6"
         },
         "name": "Tie",
         "orientation": "h",
         "showlegend": false,
         "text": "",
         "textposition": "inside",
         "type": "bar",
         "x": [
          0
         ],
         "xaxis": "x8",
         "y": [
          "gemini-2.5-pro"
         ],
         "yaxis": "y8"
        },
        {
         "customdata": [
          5
         ],
         "hovertemplate": "<b>Loss</b><br>Count: %{customdata}<br>Percentage: %{x:.1f}%<br><extra></extra>",
         "marker": {
          "color": "#E74C3C"
         },
         "name": "Loss",
         "orientation": "h",
         "showlegend": false,
         "text": "25%",
         "textposition": "inside",
         "type": "bar",
         "x": [
          25
         ],
         "xaxis": "x8",
         "y": [
          "gemini-2.5-pro"
         ],
         "yaxis": "y8"
        },
        {
         "customdata": [
          13
         ],
         "hovertemplate": "<b>Win</b><br>Count: %{customdata}<br>Percentage: %{x:.1f}%<br><extra></extra>",
         "marker": {
          "color": "#16A085"
         },
         "name": "Win",
         "orientation": "h",
         "showlegend": false,
         "text": "65%",
         "textposition": "inside",
         "type": "bar",
         "x": [
          65
         ],
         "xaxis": "x9",
         "y": [
          "gpt-4o"
         ],
         "yaxis": "y9"
        },
        {
         "customdata": [
          0
         ],
         "hovertemplate": "<b>Tie</b><br>Count: %{customdata}<br>Percentage: %{x:.1f}%<br><extra></extra>",
         "marker": {
          "color": "#95A5A6"
         },
         "name": "Tie",
         "orientation": "h",
         "showlegend": false,
         "text": "",
         "textposition": "inside",
         "type": "bar",
         "x": [
          0
         ],
         "xaxis": "x9",
         "y": [
          "gpt-4o"
         ],
         "yaxis": "y9"
        },
        {
         "customdata": [
          7
         ],
         "hovertemplate": "<b>Loss</b><br>Count: %{customdata}<br>Percentage: %{x:.1f}%<br><extra></extra>",
         "marker": {
          "color": "#E74C3C"
         },
         "name": "Loss",
         "orientation": "h",
         "showlegend": false,
         "text": "35%",
         "textposition": "inside",
         "type": "bar",
         "x": [
          35
         ],
         "xaxis": "x9",
         "y": [
          "gpt-4o"
         ],
         "yaxis": "y9"
        },
        {
         "customdata": [
          17
         ],
         "hovertemplate": "<b>Win</b><br>Count: %{customdata}<br>Percentage: %{x:.1f}%<br><extra></extra>",
         "marker": {
          "color": "#16A085"
         },
         "name": "Win",
         "orientation": "h",
         "showlegend": false,
         "text": "85%",
         "textposition": "inside",
         "type": "bar",
         "x": [
          85
         ],
         "xaxis": "x10",
         "y": [
          "gpt-4o"
         ],
         "yaxis": "y10"
        },
        {
         "customdata": [
          0
         ],
         "hovertemplate": "<b>Tie</b><br>Count: %{customdata}<br>Percentage: %{x:.1f}%<br><extra></extra>",
         "marker": {
          "color": "#95A5A6"
         },
         "name": "Tie",
         "orientation": "h",
         "showlegend": false,
         "text": "",
         "textposition": "inside",
         "type": "bar",
         "x": [
          0
         ],
         "xaxis": "x10",
         "y": [
          "gpt-4o"
         ],
         "yaxis": "y10"
        },
        {
         "customdata": [
          3
         ],
         "hovertemplate": "<b>Loss</b><br>Count: %{customdata}<br>Percentage: %{x:.1f}%<br><extra></extra>",
         "marker": {
          "color": "#E74C3C"
         },
         "name": "Loss",
         "orientation": "h",
         "showlegend": false,
         "text": "15%",
         "textposition": "inside",
         "type": "bar",
         "x": [
          15
         ],
         "xaxis": "x10",
         "y": [
          "gpt-4o"
         ],
         "yaxis": "y10"
        },
        {
         "customdata": [
          16
         ],
         "hovertemplate": "<b>Win</b><br>Count: %{customdata}<br>Percentage: %{x:.1f}%<br><extra></extra>",
         "marker": {
          "color": "#16A085"
         },
         "name": "Win",
         "orientation": "h",
         "showlegend": false,
         "text": "80%",
         "textposition": "inside",
         "type": "bar",
         "x": [
          80
         ],
         "xaxis": "x11",
         "y": [
          "gpt-4o"
         ],
         "yaxis": "y11"
        },
        {
         "customdata": [
          0
         ],
         "hovertemplate": "<b>Tie</b><br>Count: %{customdata}<br>Percentage: %{x:.1f}%<br><extra></extra>",
         "marker": {
          "color": "#95A5A6"
         },
         "name": "Tie",
         "orientation": "h",
         "showlegend": false,
         "text": "",
         "textposition": "inside",
         "type": "bar",
         "x": [
          0
         ],
         "xaxis": "x11",
         "y": [
          "gpt-4o"
         ],
         "yaxis": "y11"
        },
        {
         "customdata": [
          4
         ],
         "hovertemplate": "<b>Loss</b><br>Count: %{customdata}<br>Percentage: %{x:.1f}%<br><extra></extra>",
         "marker": {
          "color": "#E74C3C"
         },
         "name": "Loss",
         "orientation": "h",
         "showlegend": false,
         "text": "20%",
         "textposition": "inside",
         "type": "bar",
         "x": [
          20
         ],
         "xaxis": "x11",
         "y": [
          "gpt-4o"
         ],
         "yaxis": "y11"
        },
        {
         "customdata": [
          13
         ],
         "hovertemplate": "<b>Win</b><br>Count: %{customdata}<br>Percentage: %{x:.1f}%<br><extra></extra>",
         "marker": {
          "color": "#16A085"
         },
         "name": "Win",
         "orientation": "h",
         "showlegend": false,
         "text": "65%",
         "textposition": "inside",
         "type": "bar",
         "x": [
          65
         ],
         "xaxis": "x12",
         "y": [
          "gpt-4o"
         ],
         "yaxis": "y12"
        },
        {
         "customdata": [
          0
         ],
         "hovertemplate": "<b>Tie</b><br>Count: %{customdata}<br>Percentage: %{x:.1f}%<br><extra></extra>",
         "marker": {
          "color": "#95A5A6"
         },
         "name": "Tie",
         "orientation": "h",
         "showlegend": false,
         "text": "",
         "textposition": "inside",
         "type": "bar",
         "x": [
          0
         ],
         "xaxis": "x12",
         "y": [
          "gpt-4o"
         ],
         "yaxis": "y12"
        },
        {
         "customdata": [
          7
         ],
         "hovertemplate": "<b>Loss</b><br>Count: %{customdata}<br>Percentage: %{x:.1f}%<br><extra></extra>",
         "marker": {
          "color": "#E74C3C"
         },
         "name": "Loss",
         "orientation": "h",
         "showlegend": false,
         "text": "35%",
         "textposition": "inside",
         "type": "bar",
         "x": [
          35
         ],
         "xaxis": "x12",
         "y": [
          "gpt-4o"
         ],
         "yaxis": "y12"
        },
        {
         "customdata": [
          12
         ],
         "hovertemplate": "<b>Win</b><br>Count: %{customdata}<br>Percentage: %{x:.1f}%<br><extra></extra>",
         "marker": {
          "color": "#16A085"
         },
         "name": "Win",
         "orientation": "h",
         "showlegend": false,
         "text": "60%",
         "textposition": "inside",
         "type": "bar",
         "x": [
          60
         ],
         "xaxis": "x13",
         "y": [
          "gpt-4o-mini"
         ],
         "yaxis": "y13"
        },
        {
         "customdata": [
          0
         ],
         "hovertemplate": "<b>Tie</b><br>Count: %{customdata}<br>Percentage: %{x:.1f}%<br><extra></extra>",
         "marker": {
          "color": "#95A5A6"
         },
         "name": "Tie",
         "orientation": "h",
         "showlegend": false,
         "text": "",
         "textposition": "inside",
         "type": "bar",
         "x": [
          0
         ],
         "xaxis": "x13",
         "y": [
          "gpt-4o-mini"
         ],
         "yaxis": "y13"
        },
        {
         "customdata": [
          8
         ],
         "hovertemplate": "<b>Loss</b><br>Count: %{customdata}<br>Percentage: %{x:.1f}%<br><extra></extra>",
         "marker": {
          "color": "#E74C3C"
         },
         "name": "Loss",
         "orientation": "h",
         "showlegend": false,
         "text": "40%",
         "textposition": "inside",
         "type": "bar",
         "x": [
          40
         ],
         "xaxis": "x13",
         "y": [
          "gpt-4o-mini"
         ],
         "yaxis": "y13"
        },
        {
         "customdata": [
          17
         ],
         "hovertemplate": "<b>Win</b><br>Count: %{customdata}<br>Percentage: %{x:.1f}%<br><extra></extra>",
         "marker": {
          "color": "#16A085"
         },
         "name": "Win",
         "orientation": "h",
         "showlegend": false,
         "text": "85%",
         "textposition": "inside",
         "type": "bar",
         "x": [
          85
         ],
         "xaxis": "x14",
         "y": [
          "gpt-4o-mini"
         ],
         "yaxis": "y14"
        },
        {
         "customdata": [
          0
         ],
         "hovertemplate": "<b>Tie</b><br>Count: %{customdata}<br>Percentage: %{x:.1f}%<br><extra></extra>",
         "marker": {
          "color": "#95A5A6"
         },
         "name": "Tie",
         "orientation": "h",
         "showlegend": false,
         "text": "",
         "textposition": "inside",
         "type": "bar",
         "x": [
          0
         ],
         "xaxis": "x14",
         "y": [
          "gpt-4o-mini"
         ],
         "yaxis": "y14"
        },
        {
         "customdata": [
          3
         ],
         "hovertemplate": "<b>Loss</b><br>Count: %{customdata}<br>Percentage: %{x:.1f}%<br><extra></extra>",
         "marker": {
          "color": "#E74C3C"
         },
         "name": "Loss",
         "orientation": "h",
         "showlegend": false,
         "text": "15%",
         "textposition": "inside",
         "type": "bar",
         "x": [
          15
         ],
         "xaxis": "x14",
         "y": [
          "gpt-4o-mini"
         ],
         "yaxis": "y14"
        },
        {
         "customdata": [
          16
         ],
         "hovertemplate": "<b>Win</b><br>Count: %{customdata}<br>Percentage: %{x:.1f}%<br><extra></extra>",
         "marker": {
          "color": "#16A085"
         },
         "name": "Win",
         "orientation": "h",
         "showlegend": false,
         "text": "80%",
         "textposition": "inside",
         "type": "bar",
         "x": [
          80
         ],
         "xaxis": "x15",
         "y": [
          "gpt-4o-mini"
         ],
         "yaxis": "y15"
        },
        {
         "customdata": [
          0
         ],
         "hovertemplate": "<b>Tie</b><br>Count: %{customdata}<br>Percentage: %{x:.1f}%<br><extra></extra>",
         "marker": {
          "color": "#95A5A6"
         },
         "name": "Tie",
         "orientation": "h",
         "showlegend": false,
         "text": "",
         "textposition": "inside",
         "type": "bar",
         "x": [
          0
         ],
         "xaxis": "x15",
         "y": [
          "gpt-4o-mini"
         ],
         "yaxis": "y15"
        },
        {
         "customdata": [
          4
         ],
         "hovertemplate": "<b>Loss</b><br>Count: %{customdata}<br>Percentage: %{x:.1f}%<br><extra></extra>",
         "marker": {
          "color": "#E74C3C"
         },
         "name": "Loss",
         "orientation": "h",
         "showlegend": false,
         "text": "20%",
         "textposition": "inside",
         "type": "bar",
         "x": [
          20
         ],
         "xaxis": "x15",
         "y": [
          "gpt-4o-mini"
         ],
         "yaxis": "y15"
        },
        {
         "customdata": [
          11
         ],
         "hovertemplate": "<b>Win</b><br>Count: %{customdata}<br>Percentage: %{x:.1f}%<br><extra></extra>",
         "marker": {
          "color": "#16A085"
         },
         "name": "Win",
         "orientation": "h",
         "showlegend": false,
         "text": "55%",
         "textposition": "inside",
         "type": "bar",
         "x": [
          55.00000000000001
         ],
         "xaxis": "x16",
         "y": [
          "gpt-4o-mini"
         ],
         "yaxis": "y16"
        },
        {
         "customdata": [
          0
         ],
         "hovertemplate": "<b>Tie</b><br>Count: %{customdata}<br>Percentage: %{x:.1f}%<br><extra></extra>",
         "marker": {
          "color": "#95A5A6"
         },
         "name": "Tie",
         "orientation": "h",
         "showlegend": false,
         "text": "",
         "textposition": "inside",
         "type": "bar",
         "x": [
          0
         ],
         "xaxis": "x16",
         "y": [
          "gpt-4o-mini"
         ],
         "yaxis": "y16"
        },
        {
         "customdata": [
          9
         ],
         "hovertemplate": "<b>Loss</b><br>Count: %{customdata}<br>Percentage: %{x:.1f}%<br><extra></extra>",
         "marker": {
          "color": "#E74C3C"
         },
         "name": "Loss",
         "orientation": "h",
         "showlegend": false,
         "text": "45%",
         "textposition": "inside",
         "type": "bar",
         "x": [
          45
         ],
         "xaxis": "x16",
         "y": [
          "gpt-4o-mini"
         ],
         "yaxis": "y16"
        }
       ],
       "layout": {
        "annotations": [
         {
          "font": {
           "size": 16
          },
          "showarrow": false,
          "text": "Calories",
          "x": 0.095,
          "xanchor": "center",
          "xref": "paper",
          "y": 1,
          "yanchor": "bottom",
          "yref": "paper"
         },
         {
          "font": {
           "size": 16
          },
          "showarrow": false,
          "text": "Carbohydrates",
          "x": 0.365,
          "xanchor": "center",
          "xref": "paper",
          "y": 1,
          "yanchor": "bottom",
          "yref": "paper"
         },
         {
          "font": {
           "size": 16
          },
          "showarrow": false,
          "text": "Protein",
          "x": 0.635,
          "xanchor": "center",
          "xref": "paper",
          "y": 1,
          "yanchor": "bottom",
          "yref": "paper"
         },
         {
          "font": {
           "size": 16
          },
          "showarrow": false,
          "text": "Fat",
          "x": 0.905,
          "xanchor": "center",
          "xref": "paper",
          "y": 1,
          "yanchor": "bottom",
          "yref": "paper"
         },
         {
          "font": {
           "size": 12
          },
          "showarrow": false,
          "text": "January AI",
          "x": -0.03,
          "xanchor": "right",
          "xref": "paper",
          "y": 0.905,
          "yanchor": "middle",
          "yref": "paper"
         },
         {
          "font": {
           "size": 12
          },
          "showarrow": false,
          "text": "gemini-2.5-flash",
          "x": 1.03,
          "xanchor": "left",
          "xref": "paper",
          "y": 0.905,
          "yanchor": "middle",
          "yref": "paper"
         },
         {
          "font": {
           "size": 12
          },
          "showarrow": false,
          "text": "January AI",
          "x": -0.03,
          "xanchor": "right",
          "xref": "paper",
          "y": 0.635,
          "yanchor": "middle",
          "yref": "paper"
         },
         {
          "font": {
           "size": 12
          },
          "showarrow": false,
          "text": "gemini-2.5-pro",
          "x": 1.03,
          "xanchor": "left",
          "xref": "paper",
          "y": 0.635,
          "yanchor": "middle",
          "yref": "paper"
         },
         {
          "font": {
           "size": 12
          },
          "showarrow": false,
          "text": "January AI",
          "x": -0.03,
          "xanchor": "right",
          "xref": "paper",
          "y": 0.365,
          "yanchor": "middle",
          "yref": "paper"
         },
         {
          "font": {
           "size": 12
          },
          "showarrow": false,
          "text": "gpt-4o",
          "x": 1.03,
          "xanchor": "left",
          "xref": "paper",
          "y": 0.365,
          "yanchor": "middle",
          "yref": "paper"
         },
         {
          "font": {
           "size": 12
          },
          "showarrow": false,
          "text": "January AI",
          "x": -0.03,
          "xanchor": "right",
          "xref": "paper",
          "y": 0.095,
          "yanchor": "middle",
          "yref": "paper"
         },
         {
          "font": {
           "size": 12
          },
          "showarrow": false,
          "text": "gpt-4o-mini",
          "x": 1.03,
          "xanchor": "left",
          "xref": "paper",
          "y": 0.095,
          "yanchor": "middle",
          "yref": "paper"
         }
        ],
        "barmode": "stack",
        "height": 320,
        "margin": {
         "b": 20,
         "l": 150,
         "r": 150,
         "t": 100
        },
        "paper_bgcolor": "white",
        "plot_bgcolor": "rgba(250,251,252,0.8)",
        "showlegend": false,
        "template": {
         "data": {
          "bar": [
           {
            "error_x": {
             "color": "#2a3f5f"
            },
            "error_y": {
             "color": "#2a3f5f"
            },
            "marker": {
             "line": {
              "color": "#E5ECF6",
              "width": 0.5
             },
             "pattern": {
              "fillmode": "overlay",
              "size": 10,
              "solidity": 0.2
             }
            },
            "type": "bar"
           }
          ],
          "barpolar": [
           {
            "marker": {
             "line": {
              "color": "#E5ECF6",
              "width": 0.5
             },
             "pattern": {
              "fillmode": "overlay",
              "size": 10,
              "solidity": 0.2
             }
            },
            "type": "barpolar"
           }
          ],
          "carpet": [
           {
            "aaxis": {
             "endlinecolor": "#2a3f5f",
             "gridcolor": "white",
             "linecolor": "white",
             "minorgridcolor": "white",
             "startlinecolor": "#2a3f5f"
            },
            "baxis": {
             "endlinecolor": "#2a3f5f",
             "gridcolor": "white",
             "linecolor": "white",
             "minorgridcolor": "white",
             "startlinecolor": "#2a3f5f"
            },
            "type": "carpet"
           }
          ],
          "choropleth": [
           {
            "colorbar": {
             "outlinewidth": 0,
             "ticks": ""
            },
            "type": "choropleth"
           }
          ],
          "contour": [
           {
            "colorbar": {
             "outlinewidth": 0,
             "ticks": ""
            },
            "colorscale": [
             [
              0,
              "#0d0887"
             ],
             [
              0.1111111111111111,
              "#46039f"
             ],
             [
              0.2222222222222222,
              "#7201a8"
             ],
             [
              0.3333333333333333,
              "#9c179e"
             ],
             [
              0.4444444444444444,
              "#bd3786"
             ],
             [
              0.5555555555555556,
              "#d8576b"
             ],
             [
              0.6666666666666666,
              "#ed7953"
             ],
             [
              0.7777777777777778,
              "#fb9f3a"
             ],
             [
              0.8888888888888888,
              "#fdca26"
             ],
             [
              1,
              "#f0f921"
             ]
            ],
            "type": "contour"
           }
          ],
          "contourcarpet": [
           {
            "colorbar": {
             "outlinewidth": 0,
             "ticks": ""
            },
            "type": "contourcarpet"
           }
          ],
          "heatmap": [
           {
            "colorbar": {
             "outlinewidth": 0,
             "ticks": ""
            },
            "colorscale": [
             [
              0,
              "#0d0887"
             ],
             [
              0.1111111111111111,
              "#46039f"
             ],
             [
              0.2222222222222222,
              "#7201a8"
             ],
             [
              0.3333333333333333,
              "#9c179e"
             ],
             [
              0.4444444444444444,
              "#bd3786"
             ],
             [
              0.5555555555555556,
              "#d8576b"
             ],
             [
              0.6666666666666666,
              "#ed7953"
             ],
             [
              0.7777777777777778,
              "#fb9f3a"
             ],
             [
              0.8888888888888888,
              "#fdca26"
             ],
             [
              1,
              "#f0f921"
             ]
            ],
            "type": "heatmap"
           }
          ],
          "histogram": [
           {
            "marker": {
             "pattern": {
              "fillmode": "overlay",
              "size": 10,
              "solidity": 0.2
             }
            },
            "type": "histogram"
           }
          ],
          "histogram2d": [
           {
            "colorbar": {
             "outlinewidth": 0,
             "ticks": ""
            },
            "colorscale": [
             [
              0,
              "#0d0887"
             ],
             [
              0.1111111111111111,
              "#46039f"
             ],
             [
              0.2222222222222222,
              "#7201a8"
             ],
             [
              0.3333333333333333,
              "#9c179e"
             ],
             [
              0.4444444444444444,
              "#bd3786"
             ],
             [
              0.5555555555555556,
              "#d8576b"
             ],
             [
              0.6666666666666666,
              "#ed7953"
             ],
             [
              0.7777777777777778,
              "#fb9f3a"
             ],
             [
              0.8888888888888888,
              "#fdca26"
             ],
             [
              1,
              "#f0f921"
             ]
            ],
            "type": "histogram2d"
           }
          ],
          "histogram2dcontour": [
           {
            "colorbar": {
             "outlinewidth": 0,
             "ticks": ""
            },
            "colorscale": [
             [
              0,
              "#0d0887"
             ],
             [
              0.1111111111111111,
              "#46039f"
             ],
             [
              0.2222222222222222,
              "#7201a8"
             ],
             [
              0.3333333333333333,
              "#9c179e"
             ],
             [
              0.4444444444444444,
              "#bd3786"
             ],
             [
              0.5555555555555556,
              "#d8576b"
             ],
             [
              0.6666666666666666,
              "#ed7953"
             ],
             [
              0.7777777777777778,
              "#fb9f3a"
             ],
             [
              0.8888888888888888,
              "#fdca26"
             ],
             [
              1,
              "#f0f921"
             ]
            ],
            "type": "histogram2dcontour"
           }
          ],
          "mesh3d": [
           {
            "colorbar": {
             "outlinewidth": 0,
             "ticks": ""
            },
            "type": "mesh3d"
           }
          ],
          "parcoords": [
           {
            "line": {
             "colorbar": {
              "outlinewidth": 0,
              "ticks": ""
             }
            },
            "type": "parcoords"
           }
          ],
          "pie": [
           {
            "automargin": true,
            "type": "pie"
           }
          ],
          "scatter": [
           {
            "fillpattern": {
             "fillmode": "overlay",
             "size": 10,
             "solidity": 0.2
            },
            "type": "scatter"
           }
          ],
          "scatter3d": [
           {
            "line": {
             "colorbar": {
              "outlinewidth": 0,
              "ticks": ""
             }
            },
            "marker": {
             "colorbar": {
              "outlinewidth": 0,
              "ticks": ""
             }
            },
            "type": "scatter3d"
           }
          ],
          "scattercarpet": [
           {
            "marker": {
             "colorbar": {
              "outlinewidth": 0,
              "ticks": ""
             }
            },
            "type": "scattercarpet"
           }
          ],
          "scattergeo": [
           {
            "marker": {
             "colorbar": {
              "outlinewidth": 0,
              "ticks": ""
             }
            },
            "type": "scattergeo"
           }
          ],
          "scattergl": [
           {
            "marker": {
             "colorbar": {
              "outlinewidth": 0,
              "ticks": ""
             }
            },
            "type": "scattergl"
           }
          ],
          "scattermap": [
           {
            "marker": {
             "colorbar": {
              "outlinewidth": 0,
              "ticks": ""
             }
            },
            "type": "scattermap"
           }
          ],
          "scattermapbox": [
           {
            "marker": {
             "colorbar": {
              "outlinewidth": 0,
              "ticks": ""
             }
            },
            "type": "scattermapbox"
           }
          ],
          "scatterpolar": [
           {
            "marker": {
             "colorbar": {
              "outlinewidth": 0,
              "ticks": ""
             }
            },
            "type": "scatterpolar"
           }
          ],
          "scatterpolargl": [
           {
            "marker": {
             "colorbar": {
              "outlinewidth": 0,
              "ticks": ""
             }
            },
            "type": "scatterpolargl"
           }
          ],
          "scatterternary": [
           {
            "marker": {
             "colorbar": {
              "outlinewidth": 0,
              "ticks": ""
             }
            },
            "type": "scatterternary"
           }
          ],
          "surface": [
           {
            "colorbar": {
             "outlinewidth": 0,
             "ticks": ""
            },
            "colorscale": [
             [
              0,
              "#0d0887"
             ],
             [
              0.1111111111111111,
              "#46039f"
             ],
             [
              0.2222222222222222,
              "#7201a8"
             ],
             [
              0.3333333333333333,
              "#9c179e"
             ],
             [
              0.4444444444444444,
              "#bd3786"
             ],
             [
              0.5555555555555556,
              "#d8576b"
             ],
             [
              0.6666666666666666,
              "#ed7953"
             ],
             [
              0.7777777777777778,
              "#fb9f3a"
             ],
             [
              0.8888888888888888,
              "#fdca26"
             ],
             [
              1,
              "#f0f921"
             ]
            ],
            "type": "surface"
           }
          ],
          "table": [
           {
            "cells": {
             "fill": {
              "color": "#EBF0F8"
             },
             "line": {
              "color": "white"
             }
            },
            "header": {
             "fill": {
              "color": "#C8D4E3"
             },
             "line": {
              "color": "white"
             }
            },
            "type": "table"
           }
          ]
         },
         "layout": {
          "annotationdefaults": {
           "arrowcolor": "#2a3f5f",
           "arrowhead": 0,
           "arrowwidth": 1
          },
          "autotypenumbers": "strict",
          "coloraxis": {
           "colorbar": {
            "outlinewidth": 0,
            "ticks": ""
           }
          },
          "colorscale": {
           "diverging": [
            [
             0,
             "#8e0152"
            ],
            [
             0.1,
             "#c51b7d"
            ],
            [
             0.2,
             "#de77ae"
            ],
            [
             0.3,
             "#f1b6da"
            ],
            [
             0.4,
             "#fde0ef"
            ],
            [
             0.5,
             "#f7f7f7"
            ],
            [
             0.6,
             "#e6f5d0"
            ],
            [
             0.7,
             "#b8e186"
            ],
            [
             0.8,
             "#7fbc41"
            ],
            [
             0.9,
             "#4d9221"
            ],
            [
             1,
             "#276419"
            ]
           ],
           "sequential": [
            [
             0,
             "#0d0887"
            ],
            [
             0.1111111111111111,
             "#46039f"
            ],
            [
             0.2222222222222222,
             "#7201a8"
            ],
            [
             0.3333333333333333,
             "#9c179e"
            ],
            [
             0.4444444444444444,
             "#bd3786"
            ],
            [
             0.5555555555555556,
             "#d8576b"
            ],
            [
             0.6666666666666666,
             "#ed7953"
            ],
            [
             0.7777777777777778,
             "#fb9f3a"
            ],
            [
             0.8888888888888888,
             "#fdca26"
            ],
            [
             1,
             "#f0f921"
            ]
           ],
           "sequentialminus": [
            [
             0,
             "#0d0887"
            ],
            [
             0.1111111111111111,
             "#46039f"
            ],
            [
             0.2222222222222222,
             "#7201a8"
            ],
            [
             0.3333333333333333,
             "#9c179e"
            ],
            [
             0.4444444444444444,
             "#bd3786"
            ],
            [
             0.5555555555555556,
             "#d8576b"
            ],
            [
             0.6666666666666666,
             "#ed7953"
            ],
            [
             0.7777777777777778,
             "#fb9f3a"
            ],
            [
             0.8888888888888888,
             "#fdca26"
            ],
            [
             1,
             "#f0f921"
            ]
           ]
          },
          "colorway": [
           "#636efa",
           "#EF553B",
           "#00cc96",
           "#ab63fa",
           "#FFA15A",
           "#19d3f3",
           "#FF6692",
           "#B6E880",
           "#FF97FF",
           "#FECB52"
          ],
          "font": {
           "color": "#2a3f5f"
          },
          "geo": {
           "bgcolor": "white",
           "lakecolor": "white",
           "landcolor": "#E5ECF6",
           "showlakes": true,
           "showland": true,
           "subunitcolor": "white"
          },
          "hoverlabel": {
           "align": "left"
          },
          "hovermode": "closest",
          "mapbox": {
           "style": "light"
          },
          "paper_bgcolor": "white",
          "plot_bgcolor": "#E5ECF6",
          "polar": {
           "angularaxis": {
            "gridcolor": "white",
            "linecolor": "white",
            "ticks": ""
           },
           "bgcolor": "#E5ECF6",
           "radialaxis": {
            "gridcolor": "white",
            "linecolor": "white",
            "ticks": ""
           }
          },
          "scene": {
           "xaxis": {
            "backgroundcolor": "#E5ECF6",
            "gridcolor": "white",
            "gridwidth": 2,
            "linecolor": "white",
            "showbackground": true,
            "ticks": "",
            "zerolinecolor": "white"
           },
           "yaxis": {
            "backgroundcolor": "#E5ECF6",
            "gridcolor": "white",
            "gridwidth": 2,
            "linecolor": "white",
            "showbackground": true,
            "ticks": "",
            "zerolinecolor": "white"
           },
           "zaxis": {
            "backgroundcolor": "#E5ECF6",
            "gridcolor": "white",
            "gridwidth": 2,
            "linecolor": "white",
            "showbackground": true,
            "ticks": "",
            "zerolinecolor": "white"
           }
          },
          "shapedefaults": {
           "line": {
            "color": "#2a3f5f"
           }
          },
          "ternary": {
           "aaxis": {
            "gridcolor": "white",
            "linecolor": "white",
            "ticks": ""
           },
           "baxis": {
            "gridcolor": "white",
            "linecolor": "white",
            "ticks": ""
           },
           "bgcolor": "#E5ECF6",
           "caxis": {
            "gridcolor": "white",
            "linecolor": "white",
            "ticks": ""
           }
          },
          "title": {
           "x": 0.05
          },
          "xaxis": {
           "automargin": true,
           "gridcolor": "white",
           "linecolor": "white",
           "ticks": "",
           "title": {
            "standoff": 15
           },
           "zerolinecolor": "white",
           "zerolinewidth": 2
          },
          "yaxis": {
           "automargin": true,
           "gridcolor": "white",
           "linecolor": "white",
           "ticks": "",
           "title": {
            "standoff": 15
           },
           "zerolinecolor": "white",
           "zerolinewidth": 2
          }
         }
        },
        "title": {
         "text": "<b>January AI vs. others</b>",
         "x": 0.5,
         "xanchor": "center"
        },
        "width": 1000,
        "xaxis": {
         "anchor": "y",
         "domain": [
          0,
          0.19
         ],
         "matches": "x13",
         "range": [
          0,
          100
         ],
         "showticklabels": false,
         "ticksuffix": "%"
        },
        "xaxis10": {
         "anchor": "y10",
         "domain": [
          0.27,
          0.46
         ],
         "matches": "x14",
         "range": [
          0,
          100
         ],
         "showticklabels": false,
         "ticksuffix": "%"
        },
        "xaxis11": {
         "anchor": "y11",
         "domain": [
          0.54,
          0.73
         ],
         "matches": "x15",
         "range": [
          0,
          100
         ],
         "showticklabels": false,
         "ticksuffix": "%"
        },
        "xaxis12": {
         "anchor": "y12",
         "domain": [
          0.81,
          1
         ],
         "matches": "x16",
         "range": [
          0,
          100
         ],
         "showticklabels": false,
         "ticksuffix": "%"
        },
        "xaxis13": {
         "anchor": "y13",
         "domain": [
          0,
          0.19
         ],
         "range": [
          0,
          100
         ],
         "showticklabels": false,
         "ticksuffix": "%"
        },
        "xaxis14": {
         "anchor": "y14",
         "domain": [
          0.27,
          0.46
         ],
         "range": [
          0,
          100
         ],
         "showticklabels": false,
         "ticksuffix": "%"
        },
        "xaxis15": {
         "anchor": "y15",
         "domain": [
          0.54,
          0.73
         ],
         "range": [
          0,
          100
         ],
         "showticklabels": false,
         "ticksuffix": "%"
        },
        "xaxis16": {
         "anchor": "y16",
         "domain": [
          0.81,
          1
         ],
         "range": [
          0,
          100
         ],
         "showticklabels": false,
         "ticksuffix": "%"
        },
        "xaxis2": {
         "anchor": "y2",
         "domain": [
          0.27,
          0.46
         ],
         "matches": "x14",
         "range": [
          0,
          100
         ],
         "showticklabels": false,
         "ticksuffix": "%"
        },
        "xaxis3": {
         "anchor": "y3",
         "domain": [
          0.54,
          0.73
         ],
         "matches": "x15",
         "range": [
          0,
          100
         ],
         "showticklabels": false,
         "ticksuffix": "%"
        },
        "xaxis4": {
         "anchor": "y4",
         "domain": [
          0.81,
          1
         ],
         "matches": "x16",
         "range": [
          0,
          100
         ],
         "showticklabels": false,
         "ticksuffix": "%"
        },
        "xaxis5": {
         "anchor": "y5",
         "domain": [
          0,
          0.19
         ],
         "matches": "x13",
         "range": [
          0,
          100
         ],
         "showticklabels": false,
         "ticksuffix": "%"
        },
        "xaxis6": {
         "anchor": "y6",
         "domain": [
          0.27,
          0.46
         ],
         "matches": "x14",
         "range": [
          0,
          100
         ],
         "showticklabels": false,
         "ticksuffix": "%"
        },
        "xaxis7": {
         "anchor": "y7",
         "domain": [
          0.54,
          0.73
         ],
         "matches": "x15",
         "range": [
          0,
          100
         ],
         "showticklabels": false,
         "ticksuffix": "%"
        },
        "xaxis8": {
         "anchor": "y8",
         "domain": [
          0.81,
          1
         ],
         "matches": "x16",
         "range": [
          0,
          100
         ],
         "showticklabels": false,
         "ticksuffix": "%"
        },
        "xaxis9": {
         "anchor": "y9",
         "domain": [
          0,
          0.19
         ],
         "matches": "x13",
         "range": [
          0,
          100
         ],
         "showticklabels": false,
         "ticksuffix": "%"
        },
        "yaxis": {
         "anchor": "x",
         "domain": [
          0.81,
          1
         ],
         "showticklabels": false,
         "title": {
          "text": ""
         }
        },
        "yaxis10": {
         "anchor": "x10",
         "domain": [
          0.27,
          0.46
         ],
         "showticklabels": false,
         "title": {
          "text": ""
         }
        },
        "yaxis11": {
         "anchor": "x11",
         "domain": [
          0.27,
          0.46
         ],
         "showticklabels": false,
         "title": {
          "text": ""
         }
        },
        "yaxis12": {
         "anchor": "x12",
         "domain": [
          0.27,
          0.46
         ],
         "showticklabels": false,
         "title": {
          "text": ""
         }
        },
        "yaxis13": {
         "anchor": "x13",
         "domain": [
          0,
          0.19
         ],
         "showticklabels": false,
         "title": {
          "text": ""
         }
        },
        "yaxis14": {
         "anchor": "x14",
         "domain": [
          0,
          0.19
         ],
         "showticklabels": false,
         "title": {
          "text": ""
         }
        },
        "yaxis15": {
         "anchor": "x15",
         "domain": [
          0,
          0.19
         ],
         "showticklabels": false,
         "title": {
          "text": ""
         }
        },
        "yaxis16": {
         "anchor": "x16",
         "domain": [
          0,
          0.19
         ],
         "showticklabels": false,
         "title": {
          "text": ""
         }
        },
        "yaxis2": {
         "anchor": "x2",
         "domain": [
          0.81,
          1
         ],
         "showticklabels": false,
         "title": {
          "text": ""
         }
        },
        "yaxis3": {
         "anchor": "x3",
         "domain": [
          0.81,
          1
         ],
         "showticklabels": false,
         "title": {
          "text": ""
         }
        },
        "yaxis4": {
         "anchor": "x4",
         "domain": [
          0.81,
          1
         ],
         "showticklabels": false,
         "title": {
          "text": ""
         }
        },
        "yaxis5": {
         "anchor": "x5",
         "domain": [
          0.54,
          0.73
         ],
         "showticklabels": false,
         "title": {
          "text": ""
         }
        },
        "yaxis6": {
         "anchor": "x6",
         "domain": [
          0.54,
          0.73
         ],
         "showticklabels": false,
         "title": {
          "text": ""
         }
        },
        "yaxis7": {
         "anchor": "x7",
         "domain": [
          0.54,
          0.73
         ],
         "showticklabels": false,
         "title": {
          "text": ""
         }
        },
        "yaxis8": {
         "anchor": "x8",
         "domain": [
          0.54,
          0.73
         ],
         "showticklabels": false,
         "title": {
          "text": ""
         }
        },
        "yaxis9": {
         "anchor": "x9",
         "domain": [
          0.27,
          0.46
         ],
         "showticklabels": false,
         "title": {
          "text": ""
         }
        }
       }
      }
     },
     "metadata": {},
     "output_type": "display_data"
    },
    {
     "name": "stdout",
     "output_type": "stream",
     "text": [
      "Exporting detailed report to benchmark_results.csv...\n",
      "Export complete.\n"
     ]
    },
    {
     "data": {
      "text/html": [
       "<div>\n",
       "<style scoped>\n",
       "    .dataframe tbody tr th:only-of-type {\n",
       "        vertical-align: middle;\n",
       "    }\n",
       "\n",
       "    .dataframe tbody tr th {\n",
       "        vertical-align: top;\n",
       "    }\n",
       "\n",
       "    .dataframe thead th {\n",
       "        text-align: right;\n",
       "    }\n",
       "</style>\n",
       "<table border=\"1\" class=\"dataframe\">\n",
       "  <thead>\n",
       "    <tr style=\"text-align: right;\">\n",
       "      <th></th>\n",
       "      <th>image_id</th>\n",
       "      <th>model</th>\n",
       "      <th>response_time_seconds</th>\n",
       "      <th>f1_ing</th>\n",
       "      <th>semantic_match</th>\n",
       "      <th>semantic_f1_ing</th>\n",
       "      <th>semantic_match_embeddings</th>\n",
       "      <th>ingredient_count_acc</th>\n",
       "      <th>mae_mac</th>\n",
       "      <th>error</th>\n",
       "      <th>cost_usd</th>\n",
       "      <th>calories_pct_error</th>\n",
       "      <th>carbs_pct_error</th>\n",
       "      <th>protein_pct_error</th>\n",
       "      <th>fat_pct_error</th>\n",
       "      <th>match_details</th>\n",
       "    </tr>\n",
       "  </thead>\n",
       "  <tbody>\n",
       "    <tr>\n",
       "      <th>0</th>\n",
       "      <td>fsb_00000</td>\n",
       "      <td>january/food-vision-v1</td>\n",
       "      <td>19.57</td>\n",
       "      <td>0.833333</td>\n",
       "      <td>1.0</td>\n",
       "      <td>0.833333</td>\n",
       "      <td>1.0</td>\n",
       "      <td>0.6</td>\n",
       "      <td>65.090921</td>\n",
       "      <td>None</td>\n",
       "      <td>0.030000</td>\n",
       "      <td>53.961263</td>\n",
       "      <td>55.745591</td>\n",
       "      <td>29.803156</td>\n",
       "      <td>71.019670</td>\n",
       "      <td>[{'gt_ingredient': 'scrambled eggs', 'pred_ing...</td>\n",
       "    </tr>\n",
       "    <tr>\n",
       "      <th>1</th>\n",
       "      <td>fsb_00000</td>\n",
       "      <td>gpt-4o-mini_detailed</td>\n",
       "      <td>17.47</td>\n",
       "      <td>0.500000</td>\n",
       "      <td>0.6</td>\n",
       "      <td>0.500000</td>\n",
       "      <td>0.6</td>\n",
       "      <td>0.6</td>\n",
       "      <td>114.150000</td>\n",
       "      <td>None</td>\n",
       "      <td>0.004072</td>\n",
       "      <td>95.838433</td>\n",
       "      <td>123.880597</td>\n",
       "      <td>9.634551</td>\n",
       "      <td>119.653179</td>\n",
       "      <td>[{'gt_ingredient': 'scrambled eggs', 'pred_ing...</td>\n",
       "    </tr>\n",
       "    <tr>\n",
       "      <th>2</th>\n",
       "      <td>fsb_00000</td>\n",
       "      <td>gpt-4o-mini_step_by_step</td>\n",
       "      <td>12.03</td>\n",
       "      <td>0.545455</td>\n",
       "      <td>0.6</td>\n",
       "      <td>0.545455</td>\n",
       "      <td>0.6</td>\n",
       "      <td>0.8</td>\n",
       "      <td>93.650000</td>\n",
       "      <td>None</td>\n",
       "      <td>0.004055</td>\n",
       "      <td>76.254590</td>\n",
       "      <td>129.850746</td>\n",
       "      <td>16.279070</td>\n",
       "      <td>84.971098</td>\n",
       "      <td>[{'gt_ingredient': 'scrambled eggs', 'pred_ing...</td>\n",
       "    </tr>\n",
       "    <tr>\n",
       "      <th>3</th>\n",
       "      <td>fsb_00000</td>\n",
       "      <td>gpt-4o_detailed</td>\n",
       "      <td>22.24</td>\n",
       "      <td>0.666667</td>\n",
       "      <td>0.8</td>\n",
       "      <td>0.833333</td>\n",
       "      <td>1.0</td>\n",
       "      <td>0.6</td>\n",
       "      <td>115.650000</td>\n",
       "      <td>None</td>\n",
       "      <td>0.006077</td>\n",
       "      <td>92.411261</td>\n",
       "      <td>168.656716</td>\n",
       "      <td>32.890365</td>\n",
       "      <td>108.092486</td>\n",
       "      <td>[{'gt_ingredient': 'scrambled eggs', 'pred_ing...</td>\n",
       "    </tr>\n",
       "    <tr>\n",
       "      <th>4</th>\n",
       "      <td>fsb_00000</td>\n",
       "      <td>gpt-4o_step_by_step</td>\n",
       "      <td>16.38</td>\n",
       "      <td>0.666667</td>\n",
       "      <td>0.8</td>\n",
       "      <td>0.833333</td>\n",
       "      <td>1.0</td>\n",
       "      <td>0.6</td>\n",
       "      <td>99.900000</td>\n",
       "      <td>None</td>\n",
       "      <td>0.006137</td>\n",
       "      <td>80.171359</td>\n",
       "      <td>138.805970</td>\n",
       "      <td>29.568106</td>\n",
       "      <td>96.531792</td>\n",
       "      <td>[{'gt_ingredient': 'scrambled eggs', 'pred_ing...</td>\n",
       "    </tr>\n",
       "  </tbody>\n",
       "</table>\n",
       "</div>"
      ],
      "text/plain": [
       "    image_id                     model  response_time_seconds    f1_ing  \\\n",
       "0  fsb_00000    january/food-vision-v1                  19.57  0.833333   \n",
       "1  fsb_00000      gpt-4o-mini_detailed                  17.47  0.500000   \n",
       "2  fsb_00000  gpt-4o-mini_step_by_step                  12.03  0.545455   \n",
       "3  fsb_00000           gpt-4o_detailed                  22.24  0.666667   \n",
       "4  fsb_00000       gpt-4o_step_by_step                  16.38  0.666667   \n",
       "\n",
       "   semantic_match  semantic_f1_ing  semantic_match_embeddings  \\\n",
       "0             1.0         0.833333                        1.0   \n",
       "1             0.6         0.500000                        0.6   \n",
       "2             0.6         0.545455                        0.6   \n",
       "3             0.8         0.833333                        1.0   \n",
       "4             0.8         0.833333                        1.0   \n",
       "\n",
       "   ingredient_count_acc     mae_mac error  cost_usd  calories_pct_error  \\\n",
       "0                   0.6   65.090921  None  0.030000           53.961263   \n",
       "1                   0.6  114.150000  None  0.004072           95.838433   \n",
       "2                   0.8   93.650000  None  0.004055           76.254590   \n",
       "3                   0.6  115.650000  None  0.006077           92.411261   \n",
       "4                   0.6   99.900000  None  0.006137           80.171359   \n",
       "\n",
       "   carbs_pct_error  protein_pct_error  fat_pct_error  \\\n",
       "0        55.745591          29.803156      71.019670   \n",
       "1       123.880597           9.634551     119.653179   \n",
       "2       129.850746          16.279070      84.971098   \n",
       "3       168.656716          32.890365     108.092486   \n",
       "4       138.805970          29.568106      96.531792   \n",
       "\n",
       "                                       match_details  \n",
       "0  [{'gt_ingredient': 'scrambled eggs', 'pred_ing...  \n",
       "1  [{'gt_ingredient': 'scrambled eggs', 'pred_ing...  \n",
       "2  [{'gt_ingredient': 'scrambled eggs', 'pred_ing...  \n",
       "3  [{'gt_ingredient': 'scrambled eggs', 'pred_ing...  \n",
       "4  [{'gt_ingredient': 'scrambled eggs', 'pred_ing...  "
      ]
     },
     "metadata": {},
     "output_type": "display_data"
    }
   ],
   "source": [
    "analyzer = BenchmarkAnalyzer(results_df)\n",
    "\n",
    "analyzer.summary_statistics()\n",
    "analyzer.analyze_ingredient_matches()\n",
    "analyzer.statistical_significance_test()\n",
    "analyzer.create_performance_dashboard()\n",
    "analyzer.macro_accuracy_heatmap()\n",
    "analyzer.create_win_loss_analysis(baseline_model_name=\"january/food-vision-v1\")\n",
    "analyzer.export_detailed_report(BENCHMARK_CONFIG[\"report_filename\"])\n",
    "\n",
    "display(results_df.head())"
   ]
  }
 ],
 "metadata": {
  "kernelspec": {
   "display_name": ".venv",
   "language": "python",
   "name": "python3"
  },
  "language_info": {
   "codemirror_mode": {
    "name": "ipython",
    "version": 3
   },
   "file_extension": ".py",
   "mimetype": "text/x-python",
   "name": "python",
   "nbconvert_exporter": "python",
   "pygments_lexer": "ipython3",
   "version": "3.12.9"
  }
 },
 "nbformat": 4,
 "nbformat_minor": 5
}

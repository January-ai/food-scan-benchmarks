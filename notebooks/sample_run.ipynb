{
 "cells": [
  {
   "cell_type": "markdown",
   "id": "f3f5fa9b",
   "metadata": {},
   "source": [
    "# Food Scan Benchmark\n"
   ]
  },
  {
   "cell_type": "markdown",
   "id": "a4f3b78b",
   "metadata": {},
   "source": [
    "This notebook provides a complete, end-to-end workflow for benchmarking Multimodal Large Language Models (MLLMs) on January's food image dataset (JFID).\n",
    "\n",
    "**The process is as follows:**\n",
    "\n",
    "1.  **Setup:** Install dependencies and configure API keys.\n",
    "2.  **Define Components:** Set up Pydantic schemas, the dataset loader, the model wrapper, and evaluation metrics.\n",
    "3.  **Run Evaluation:** Loop through the dataset, send images to a chosen MLLM, and collect predictions.\n",
    "4.  **Analyze Results:** Calculate metrics and summarize the model's performance.\n",
    "\n",
    "The dataset is downloaded from a public S3 bucket and cached locally.\n"
   ]
  },
  {
   "cell_type": "markdown",
   "id": "6d0dd8db",
   "metadata": {},
   "source": [
    "## Setup\n"
   ]
  },
  {
   "cell_type": "markdown",
   "id": "c85827fa",
   "metadata": {},
   "source": [
    "Add your API keys to a `.env` file in the same directory as this notebook:\n",
    "\n",
    "```\n",
    "OPENAI_API_KEY=\"sk-...\"\n",
    "GEMINI_API_KEY=\"...\"\n",
    "JANUARY_API_ENDPOINT=\"...\"\n",
    "JANUARY_API_UUID=\"...\"\n",
    "JANUARY_API_TOKEN=\"...\"\n",
    "```\n"
   ]
  },
  {
   "cell_type": "code",
   "execution_count": 2,
   "id": "374df0de",
   "metadata": {},
   "outputs": [
    {
     "name": "stdout",
     "output_type": "stream",
     "text": [
      "/Users/amirhosseinian/January/food-scan-benchmarks/.venv/bin/python: No module named pip\n",
      "Note: you may need to restart the kernel to use updated packages.\n"
     ]
    }
   ],
   "source": [
    "# Install packages\n",
    "%pip install --upgrade litellm boto3 pandas tqdm python-dotenv pydantic tabulate openai scikit-learn scipy plotly openpyxl"
   ]
  },
  {
   "cell_type": "markdown",
   "id": "d47337d0",
   "metadata": {},
   "source": [
    "## Imports\n"
   ]
  },
  {
   "cell_type": "code",
   "execution_count": 3,
   "id": "679a9d47",
   "metadata": {},
   "outputs": [
    {
     "data": {
      "text/plain": [
       "True"
      ]
     },
     "execution_count": 3,
     "metadata": {},
     "output_type": "execute_result"
    }
   ],
   "source": [
    "import plotly.express as px\n",
    "import plotly.graph_objects as go\n",
    "from plotly.subplots import make_subplots\n",
    "import warnings\n",
    "from pydantic import BaseModel, Field\n",
    "from typing import List\n",
    "import openai\n",
    "from sklearn.metrics.pairwise import cosine_similarity\n",
    "from scipy.optimize import linear_sum_assignment\n",
    "import hashlib\n",
    "import pandas as pd\n",
    "import numpy as np\n",
    "import ast\n",
    "import boto3\n",
    "from botocore import UNSIGNED\n",
    "from botocore.client import Config\n",
    "import tarfile\n",
    "import litellm\n",
    "from litellm.exceptions import APIError\n",
    "from typing import Optional, Dict\n",
    "import json\n",
    "import base64\n",
    "from pathlib import Path\n",
    "from tqdm.auto import tqdm\n",
    "import asyncio\n",
    "import time\n",
    "from typing import Union, Tuple\n",
    "from difflib import SequenceMatcher\n",
    "import os\n",
    "from dotenv import load_dotenv\n",
    "import httpx\n",
    "\n",
    "\n",
    "warnings.filterwarnings(\"ignore\")\n",
    "load_dotenv()"
   ]
  },
  {
   "cell_type": "markdown",
   "id": "0107115d",
   "metadata": {},
   "source": [
    "## Core Components\n"
   ]
  },
  {
   "cell_type": "markdown",
   "id": "4789e0b5",
   "metadata": {},
   "source": [
    "### Schema Definition\n"
   ]
  },
  {
   "cell_type": "code",
   "execution_count": 4,
   "id": "570dc178",
   "metadata": {},
   "outputs": [],
   "source": [
    "class Ingredient(BaseModel):\n",
    "    name: str = Field(description=\"Name of the ingredient, e.g., 'scrambled eggs'\")\n",
    "    quantity: float = Field(description=\"Numerical quantity of the ingredient\")\n",
    "    unit: str = Field(description=\"Unit of measurement, e.g., 'cup', 'slice', 'g'\")\n",
    "    calories: float = Field(description=\"Estimated calories for this ingredient\")\n",
    "    carbs: float = Field(\n",
    "        description=\"Estimated grams of carbohydrates for this ingredient\"\n",
    "    )\n",
    "    protein: float = Field(description=\"Estimated grams of protein for this ingredient\")\n",
    "    fat: float = Field(description=\"Estimated grams of fat for this ingredient\")\n",
    "\n",
    "\n",
    "class TotalMacros(BaseModel):\n",
    "    calories: float = Field(description=\"Total estimated calories for the entire meal\")\n",
    "    carbs: float = Field(\n",
    "        description=\"Total estimated grams of carbohydrates for the entire meal\"\n",
    "    )\n",
    "    protein: float = Field(\n",
    "        description=\"Total estimated grams of protein for the entire meal\"\n",
    "    )\n",
    "    fat: float = Field(description=\"Total estimated grams of fat for the entire meal\")\n",
    "\n",
    "\n",
    "class FoodAnalysis(BaseModel):\n",
    "    meal_name: str = Field(\n",
    "        description=\"A descriptive name for the meal, e.g., 'Breakfast Platter'\"\n",
    "    )\n",
    "    ingredients: List[Ingredient] = Field(\n",
    "        description=\"A list of all identified ingredients and their nutritional information\"\n",
    "    )\n",
    "    total_macros: TotalMacros = Field(\n",
    "        description=\"The sum of macros for all ingredients\"\n",
    "    )\n"
   ]
  },
  {
   "cell_type": "markdown",
   "id": "a4438935",
   "metadata": {},
   "source": [
    "### Dataset Class\n"
   ]
  },
  {
   "cell_type": "code",
   "execution_count": 5,
   "id": "fe960109",
   "metadata": {},
   "outputs": [],
   "source": [
    "class FoodScanDataset:\n",
    "    \"\"\"Handles downloading, caching, and loading the food dataset.\"\"\"\n",
    "\n",
    "    _S3_BUCKET = \"january-food-image-dataset-public\"\n",
    "    _S3_KEY = \"food-scan-benchmark-dataset.tar.gz\"\n",
    "\n",
    "    def __init__(self, root: Path):\n",
    "        self.root = root.expanduser()\n",
    "        self.img_dir = self.root / \"food-scan-benchmark-dataset\" / \"fsb_images\"\n",
    "        self.csv_path = (\n",
    "            self.root / \"food-scan-benchmark-dataset\" / \"food_scan_bench_v1.csv\"\n",
    "        )\n",
    "\n",
    "        if not self.csv_path.exists():\n",
    "            self._download_and_extract()\n",
    "\n",
    "        self.df = pd.read_csv(self.csv_path)\n",
    "\n",
    "    def _download_and_extract(self):\n",
    "        print(f\"Dataset not found in {self.root}. Downloading from S3...\")\n",
    "        self.root.mkdir(parents=True, exist_ok=True)\n",
    "        local_archive = self.root / \"fsb.tar.gz\"\n",
    "\n",
    "        s3 = boto3.client(\n",
    "            \"s3\",\n",
    "            config=Config(signature_version=UNSIGNED),\n",
    "        )\n",
    "        with open(local_archive, \"wb\") as f:\n",
    "            s3.download_fileobj(self._S3_BUCKET, self._S3_KEY, f)\n",
    "\n",
    "        print(\"Download complete. Extracting...\")\n",
    "        with tarfile.open(local_archive) as tar:\n",
    "            tar.extractall(path=self.root)\n",
    "        local_archive.unlink()\n",
    "        print(\"Extraction complete.\")\n",
    "\n",
    "    def __len__(self):\n",
    "        return len(self.df)\n",
    "\n",
    "    def __getitem__(self, idx: int):\n",
    "        row = self.df.iloc[idx]\n",
    "        img_path = self.img_dir / row.image_filename\n",
    "\n",
    "        try:\n",
    "            ingredients = ast.literal_eval(row.ingredients_list)\n",
    "        except (ValueError, SyntaxError):\n",
    "            ingredients = []\n",
    "\n",
    "        return {\n",
    "            \"image_id\": row.image_id,\n",
    "            \"image_path\": img_path,\n",
    "            \"gt\": {\n",
    "                \"meal_name\": row.meal_name,\n",
    "                \"ingredients\": ingredients,\n",
    "                \"macros\": {\n",
    "                    \"calories\": row.total_calories,\n",
    "                    \"carbs\": row.total_carbs,\n",
    "                    \"protein\": row.total_protein,\n",
    "                    \"fat\": row.total_fat,\n",
    "                },\n",
    "            },\n",
    "        }"
   ]
  },
  {
   "cell_type": "markdown",
   "id": "23cbb92b",
   "metadata": {},
   "source": [
    "### Model config and helpers\n"
   ]
  },
  {
   "cell_type": "code",
   "execution_count": 6,
   "id": "7664d328",
   "metadata": {},
   "outputs": [],
   "source": [
    "MODEL_COSTS = {\n",
    "    \"january/food-vision-v1\": {\n",
    "        \"input\": 0.0,  # Not used, cost is per-image\n",
    "        \"output\": 0.0,\n",
    "        \"display_name\": \"January AI\",\n",
    "    },\n",
    "    \"gpt-4.1\": {\n",
    "        \"input\": 2.00,\n",
    "        \"output\": 8.00,\n",
    "        \"display_name\": \"gpt-4.1\",\n",
    "    },\n",
    "    \"gpt-4o\": {\n",
    "        \"input\": 2.50,\n",
    "        \"output\": 10.00,\n",
    "        \"display_name\": \"gpt-4o\",\n",
    "    },\n",
    "    \"gpt-4o-mini\": {\n",
    "        \"input\": 0.15,\n",
    "        \"output\": 0.60,\n",
    "        \"display_name\": \"gpt-4o-mini\",\n",
    "    },\n",
    "    \"gemini/gemini-2.5-flash-preview-05-20\": {\n",
    "        \"input\": 0.15,\n",
    "        \"output\": 0.60,\n",
    "        \"display_name\": \"gemini-2.5-flash\",\n",
    "    },\n",
    "    \"gemini/gemini-2.5-pro-preview-06-05\": {\n",
    "        \"input\": 1.25,\n",
    "        \"output\": 10.00,\n",
    "        \"display_name\": \"gemini-2.5-pro\",\n",
    "    },\n",
    "}\n",
    "\n",
    "\n",
    "def img2b64(path: Path) -> str:\n",
    "    \"\"\"Converts an image file to a base64 encoded string for API calls.\"\"\"\n",
    "    encoded = base64.b64encode(path.read_bytes()).decode()\n",
    "    return f\"data:image/jpeg;base64,{encoded}\"\n",
    "\n",
    "\n",
    "def calculate_cost(model_name: str, input_tokens: int, output_tokens: int) -> float:\n",
    "    \"\"\"Calculate the cost for a model based on token usage.\"\"\"\n",
    "    if model_name not in MODEL_COSTS:\n",
    "        return 0.0\n",
    "\n",
    "    costs = MODEL_COSTS[model_name]\n",
    "    input_cost = (input_tokens / 1_000_000) * costs[\"input\"]\n",
    "    output_cost = (output_tokens / 1_000_000) * costs[\"output\"]\n",
    "    return round(input_cost + output_cost, 6)\n",
    "\n",
    "\n",
    "def get_display_name(model_name: str) -> str:\n",
    "    \"\"\"Return the user-friendly model label (falls back to raw id).\"\"\"\n",
    "    return MODEL_COSTS.get(model_name, {}).get(\"display_name\", model_name)"
   ]
  },
  {
   "cell_type": "markdown",
   "id": "af0756e7",
   "metadata": {},
   "source": [
    "### Model Wrappers\n"
   ]
  },
  {
   "cell_type": "code",
   "execution_count": 7,
   "id": "0490690c",
   "metadata": {},
   "outputs": [],
   "source": [
    "class LiteModel:\n",
    "    \"\"\"A robust wrapper around any LiteLLM-supported vision model with prompt engineering options.\"\"\"\n",
    "\n",
    "    PROMPT_VARIANTS = {\n",
    "        \"detailed\": {\n",
    "            \"suffix\": \"d\",\n",
    "            \"prompt\": \"You are an expert nutritionist with 20 years of experience. Analyze this food image very carefully and provide the most accurate breakdown possible. Consider portion sizes, cooking methods, and hidden ingredients.\",\n",
    "        },\n",
    "        \"step_by_step\": {\n",
    "            \"suffix\": \"s\",\n",
    "            \"prompt\": \"You are an expert nutritionist. Please analyze this image step by step: 1) First identify all visible food items, 2) Estimate portion sizes, 3) Calculate nutritional content for each item, 4) Sum the totals. Be precise and systematic.\",\n",
    "        },\n",
    "        \"conservative\": {\n",
    "            \"suffix\": \"c\",\n",
    "            \"prompt\": \"You are a conservative nutritionist who prefers to underestimate rather than overestimate. Analyze this food image and provide a realistic, slightly conservative nutritional breakdown.\",\n",
    "        },\n",
    "        \"confident\": {\n",
    "            \"suffix\": \"f\",\n",
    "            \"prompt\": \"You are a highly confident nutritionist. Analyze this food image and provide your best estimate of the nutritional content. Trust your expertise.\",\n",
    "        },\n",
    "    }\n",
    "\n",
    "    def __init__(self, model_name: str, prompt_variant=\"detailed\", **litellm_kwargs):\n",
    "        self.model_name = model_name\n",
    "        self.prompt_variant = prompt_variant\n",
    "        self.kwargs = litellm_kwargs\n",
    "\n",
    "        cfg = self.PROMPT_VARIANTS.get(prompt_variant, self.PROMPT_VARIANTS[\"detailed\"])\n",
    "        self.system_prompt = cfg[\"prompt\"]\n",
    "        self.prompt_suffix = cfg[\"suffix\"]\n",
    "\n",
    "    async def analyse(self, img_path: Path) -> Tuple[Optional[dict], Optional[str]]:\n",
    "        \"\"\"\n",
    "        Analyzes an image and returns a structured dict with cost info, or None and an error message on failure.\n",
    "\n",
    "        Returns:\n",
    "            Tuple[Optional[dict], Optional[str]]: A tuple of (result, error_message).\n",
    "                                                  On success, result is a dict and error_message is None.\n",
    "                                                  On failure, result is None and error_message is a string.\n",
    "        \"\"\"\n",
    "        b64_img = img2b64(img_path)\n",
    "\n",
    "        messages = [\n",
    "            {\"role\": \"system\", \"content\": self.system_prompt},\n",
    "            {\n",
    "                \"role\": \"user\",\n",
    "                \"content\": [\n",
    "                    {\n",
    "                        \"type\": \"text\",\n",
    "                        \"text\": \"Analyze this food image and provide a detailed nutritional breakdown. Include: meal name, all ingredients with quantities/units, and complete macro information (calories, carbs, protein, fat) for each ingredient and the total meal.\",\n",
    "                    },\n",
    "                    {\"type\": \"image_url\", \"image_url\": {\"url\": b64_img}},\n",
    "                ],\n",
    "            },\n",
    "        ]\n",
    "\n",
    "        try:\n",
    "            resp = await litellm.acompletion(\n",
    "                model=self.model_name,\n",
    "                messages=messages,\n",
    "                response_format=FoodAnalysis,\n",
    "                temperature=0.0,\n",
    "                **self.kwargs,\n",
    "            )\n",
    "            raw = resp.choices[0].message.content.strip()\n",
    "            data = json.loads(raw)\n",
    "\n",
    "            usage = resp.usage\n",
    "            input_tokens = usage.prompt_tokens if usage else 0\n",
    "            output_tokens = usage.completion_tokens if usage else 0\n",
    "            cost = calculate_cost(self.model_name, input_tokens, output_tokens)\n",
    "\n",
    "            result = FoodAnalysis(**data).model_dump()\n",
    "            result[\"cost_usd\"] = cost\n",
    "            result[\"prompt_variant\"] = self.prompt_variant\n",
    "\n",
    "            return result, None\n",
    "\n",
    "        except APIError as e:\n",
    "            error_msg = f\"API Error: {e}\"\n",
    "            print(f\"{error_msg} for {img_path.name}\")\n",
    "            return None, error_msg\n",
    "        except Exception as e:\n",
    "            error_msg = f\"Unexpected Error: {e}\"\n",
    "            print(f\"{error_msg} for {img_path.name}\")\n",
    "            return None, error_msg\n",
    "\n",
    "\n",
    "def pretty_label(full_model_name: str) -> str:\n",
    "    if full_model_name == \"january/food-vision-v1\":\n",
    "        return get_display_name(full_model_name)\n",
    "\n",
    "    for variant, meta in LiteModel.PROMPT_VARIANTS.items():\n",
    "        postfix = f\"_{variant}\"\n",
    "        if full_model_name.endswith(postfix):\n",
    "            base = full_model_name[: -len(postfix)]\n",
    "            return f\"{get_display_name(base)}_{meta['suffix']}\"\n",
    "\n",
    "    if \"_\" in full_model_name:\n",
    "        base, variant = full_model_name.rsplit(\"_\", 1)\n",
    "        suffix = LiteModel.PROMPT_VARIANTS.get(variant, {}).get(\n",
    "            \"suffix\", variant[0].lower()\n",
    "        )\n",
    "        return f\"{get_display_name(base)}_{suffix}\"\n",
    "\n",
    "    return get_display_name(full_model_name)"
   ]
  },
  {
   "cell_type": "code",
   "execution_count": 8,
   "id": "ce51e3b4",
   "metadata": {},
   "outputs": [],
   "source": [
    "class JanuaryAIModel:\n",
    "    \"\"\"A wrapper for the proprietary January AI food vision API.\"\"\"\n",
    "\n",
    "    COST_PER_IMAGE = 0.01\n",
    "\n",
    "    def __init__(self):\n",
    "        self.endpoint = os.getenv(\"JANUARY_API_ENDPOINT\")\n",
    "        self.uuid = os.getenv(\"JANUARY_API_UUID\")\n",
    "        self.token = os.getenv(\"JANUARY_API_TOKEN\")\n",
    "\n",
    "        if not all([self.endpoint, self.uuid, self.token]):\n",
    "            raise ValueError(\n",
    "                \"January AI API credentials not found in environment variables.\"\n",
    "            )\n",
    "\n",
    "        self.headers = {\n",
    "            \"Content-Type\": \"application/json\",\n",
    "            \"UUID\": self.uuid,\n",
    "            \"x-jan-e2e-tests-token\": self.token,\n",
    "        }\n",
    "        self.client = httpx.AsyncClient()\n",
    "\n",
    "    def _calculate_ingredient_macros(self, ingredient: dict) -> Dict[str, float]:\n",
    "        \"\"\"Re-implements legacy macro logic for a single ingredient.\"\"\"\n",
    "        (cal, fat, carbs, prot, mass, fiber) = (0, 0, 0, 0, 0, 0)\n",
    "        if \"servings\" in ingredient and ingredient[\"servings\"]:\n",
    "            s = ingredient[\"servings\"][0]\n",
    "            q, sel, scale = s[\"quantity\"], s[\"selected_quantity\"], s[\"scaling_factor\"]\n",
    "            w = s.get(\"weight_grams\", 0)\n",
    "            cal = ingredient[\"energy\"] * sel * scale / q\n",
    "            fat = ingredient[\"fat\"] * sel * scale / q\n",
    "            carbs = ingredient[\"carbs\"] * sel * scale / q\n",
    "            prot = ingredient[\"protein\"] * sel * scale / q\n",
    "            fib = ingredient.get(\"fiber\", 0) or 0\n",
    "            fiber = fib * sel * scale / q\n",
    "            mass = w * sel / q\n",
    "        return dict(\n",
    "            calories=cal, fat=fat, carbs=carbs, protein=prot, fiber=fiber, mass=mass\n",
    "        )\n",
    "\n",
    "    def _parse_server_response(self, js: Dict) -> FoodAnalysis:\n",
    "        \"\"\"Parses the raw JSON from the API into the standard FoodAnalysis schema.\"\"\"\n",
    "        ing_objs: List[Ingredient] = []\n",
    "        for ing in js.get(\"ingredients\", []):\n",
    "            m = self._calculate_ingredient_macros(ing)\n",
    "            ing_objs.append(\n",
    "                Ingredient(\n",
    "                    name=ing.get(\"name\", \"unknown ingredient\"),\n",
    "                    quantity=ing.get(\"servings\", [{}])[0].get(\"selected_quantity\", 0),\n",
    "                    unit=ing.get(\"servings\", [{}])[0].get(\"unit\", \"g\"),\n",
    "                    calories=m[\"calories\"],\n",
    "                    carbs=m[\"carbs\"],\n",
    "                    protein=m[\"protein\"],\n",
    "                    fat=m[\"fat\"],\n",
    "                )\n",
    "            )\n",
    "\n",
    "        tot = TotalMacros(\n",
    "            calories=sum(i.calories for i in ing_objs),\n",
    "            carbs=sum(i.carbs for i in ing_objs),\n",
    "            protein=sum(i.protein for i in ing_objs),\n",
    "            fat=sum(i.fat for i in ing_objs),\n",
    "        )\n",
    "\n",
    "        return FoodAnalysis(\n",
    "            meal_name=js.get(\"foodName\", \"unknown meal\"),\n",
    "            ingredients=ing_objs,\n",
    "            total_macros=tot,\n",
    "        )\n",
    "\n",
    "    async def analyse(self, img_path: Path) -> Tuple[Optional[dict], Optional[str]]:\n",
    "        \"\"\"\n",
    "        Analyzes an image using the January AI API.\n",
    "        Returns a structured dict, or None and an error message on failure.\n",
    "        \"\"\"\n",
    "        payload = {\"photoUrl\": img2b64(img_path)}\n",
    "        try:\n",
    "            r = await self.client.post(\n",
    "                self.endpoint, headers=self.headers, json=payload, timeout=30.0\n",
    "            )\n",
    "            r.raise_for_status()  # Raise an exception for bad status codes (4xx or 5xx)\n",
    "\n",
    "            js = r.json()\n",
    "            parsed_response = self._parse_server_response(js)\n",
    "\n",
    "            result = parsed_response.model_dump()\n",
    "            result[\"cost_usd\"] = self.COST_PER_IMAGE\n",
    "            result[\"prompt_variant\"] = \"default\"\n",
    "\n",
    "            return result, None\n",
    "\n",
    "        except httpx.HTTPStatusError as e:\n",
    "            error_msg = f\"API Error: {e.response.status_code} - {e.response.text}\"\n",
    "            print(f\"{error_msg} for {img_path.name}\")\n",
    "            return None, error_msg\n",
    "        except Exception as e:\n",
    "            error_msg = f\"Unexpected Error: {e}\"\n",
    "            print(f\"{error_msg} for {img_path.name}\")\n",
    "            return None, error_msg"
   ]
  },
  {
   "cell_type": "markdown",
   "id": "df61fcca",
   "metadata": {},
   "source": [
    "### Metrics\n"
   ]
  },
  {
   "cell_type": "code",
   "execution_count": 9,
   "id": "eedcffba",
   "metadata": {},
   "outputs": [],
   "source": [
    "class Metrics:\n",
    "    \"\"\"Comprehensive metrics for food analysis evaluation.\"\"\"\n",
    "\n",
    "    _embedding_cache = {}\n",
    "\n",
    "    @staticmethod\n",
    "    def _normalize_ingredient_list(ingredients: Union[str, list, None]) -> List[dict]:\n",
    "        \"\"\"\n",
    "        IMPROVEMENT: Centralized cleanup function.\n",
    "        Safely parses ingredient data which might be a string representation of a list.\n",
    "        This avoids repeating the same try-except block in multiple metric functions.\n",
    "        \"\"\"\n",
    "        if not ingredients:\n",
    "            return []\n",
    "        if isinstance(ingredients, list):\n",
    "            return ingredients\n",
    "        if isinstance(ingredients, str):\n",
    "            try:\n",
    "                parsed = ast.literal_eval(ingredients)\n",
    "                return parsed if isinstance(parsed, list) else []\n",
    "            except (ValueError, SyntaxError):\n",
    "                return []\n",
    "        return []\n",
    "\n",
    "    @staticmethod\n",
    "    async def get_embedding(text, model=\"text-embedding-3-small\"):\n",
    "        \"\"\"Get OpenAI embedding with caching.\"\"\"\n",
    "        cache_key = hashlib.md5(f\"{text}_{model}\".encode()).hexdigest()\n",
    "        if cache_key in Metrics._embedding_cache:\n",
    "            return Metrics._embedding_cache[cache_key]\n",
    "        try:\n",
    "            client = openai.AsyncOpenAI()\n",
    "            response = await client.embeddings.create(model=model, input=text.strip())\n",
    "            embedding = response.data[0].embedding\n",
    "            Metrics._embedding_cache[cache_key] = embedding\n",
    "            return embedding\n",
    "        except Exception as e:\n",
    "            print(f\"Error getting embedding for '{text}': {e}\")\n",
    "            return [0.0] * 1536\n",
    "\n",
    "    @staticmethod\n",
    "    async def semantic_ingredient_match_embeddings(\n",
    "        gt_ingredients, pred_ingredients, threshold=0.75\n",
    "    ):\n",
    "        \"\"\"Semantic ingredient matching using OpenAI embeddings and cosine similarity.\"\"\"\n",
    "        gt_ingredients = Metrics._normalize_ingredient_list(gt_ingredients)\n",
    "        pred_ingredients = Metrics._normalize_ingredient_list(pred_ingredients)\n",
    "\n",
    "        def normalize_name(item):\n",
    "            return str(item.get(\"name\", \"\")).lower().strip()\n",
    "\n",
    "        gt_names = [normalize_name(x) for x in gt_ingredients if normalize_name(x)]\n",
    "        pred_names = [normalize_name(x) for x in pred_ingredients if normalize_name(x)]\n",
    "\n",
    "        if not gt_names and not pred_names:\n",
    "            return 1.0, []\n",
    "        if not gt_names or not pred_names:\n",
    "            return 0.0, []\n",
    "\n",
    "        gt_embeddings = await asyncio.gather(\n",
    "            *(Metrics.get_embedding(name) for name in gt_names)\n",
    "        )\n",
    "        pred_embeddings = await asyncio.gather(\n",
    "            *(Metrics.get_embedding(name) for name in pred_names)\n",
    "        )\n",
    "\n",
    "        gt_embeddings = [emb for emb in gt_embeddings if emb and len(emb) > 1]\n",
    "        pred_embeddings = [emb for emb in pred_embeddings if emb and len(emb) > 1]\n",
    "\n",
    "        if not gt_embeddings or not pred_embeddings:\n",
    "            return 0.0, []\n",
    "\n",
    "        similarity_matrix = cosine_similarity(gt_embeddings, pred_embeddings)\n",
    "        cost_matrix = 1 - similarity_matrix\n",
    "        row_indices, col_indices = linear_sum_assignment(cost_matrix)\n",
    "\n",
    "        matches = 0\n",
    "        match_details = []\n",
    "        for row_idx, col_idx in zip(row_indices, col_indices):\n",
    "            similarity = similarity_matrix[row_idx, col_idx]\n",
    "            if similarity >= threshold:\n",
    "                matches += 1\n",
    "                match_details.append(\n",
    "                    {\n",
    "                        \"gt_ingredient\": gt_names[row_idx],\n",
    "                        \"pred_ingredient\": pred_names[col_idx],\n",
    "                        \"similarity\": similarity,\n",
    "                    }\n",
    "                )\n",
    "\n",
    "        recall = matches / len(gt_names)\n",
    "        return recall, match_details\n",
    "\n",
    "    @staticmethod\n",
    "    def semantic_ingredient_match(gt_ingredients, pred_ingredients, threshold=0.7):\n",
    "        \"\"\"Fallback method using string similarity.\"\"\"\n",
    "        gt_ingredients = Metrics._normalize_ingredient_list(gt_ingredients)\n",
    "        pred_ingredients = Metrics._normalize_ingredient_list(pred_ingredients)\n",
    "\n",
    "        def normalize_name(item):\n",
    "            name_str = item.get(\"name\", \"\") if isinstance(item, dict) else item\n",
    "            return str(name_str).lower().strip().replace(\"-\", \" \").replace(\"_\", \" \")\n",
    "\n",
    "        gt_names = [normalize_name(x) for x in gt_ingredients if normalize_name(x)]\n",
    "        pred_names = [normalize_name(x) for x in pred_ingredients if normalize_name(x)]\n",
    "\n",
    "        if not gt_names:\n",
    "            return 1.0 if not pred_names else 0.0\n",
    "\n",
    "        matches = 0\n",
    "        for gt_name in gt_names:\n",
    "            if pred_names:\n",
    "                best_match = max(\n",
    "                    SequenceMatcher(None, gt_name, pred_name).ratio()\n",
    "                    for pred_name in pred_names\n",
    "                )\n",
    "                if best_match >= threshold:\n",
    "                    matches += 1\n",
    "\n",
    "        return matches / len(gt_names)\n",
    "\n",
    "    @staticmethod\n",
    "    async def semantic_precision_score(\n",
    "        gt_ingredients, pred_ingredients, threshold=0.75\n",
    "    ):\n",
    "        \"\"\"\n",
    "        NEW: Calculates precision based on semantic matches from embeddings.\n",
    "        \"\"\"\n",
    "        gt_list = Metrics._normalize_ingredient_list(gt_ingredients)\n",
    "        pred_list = Metrics._normalize_ingredient_list(pred_ingredients)\n",
    "\n",
    "        def normalize_name(item):\n",
    "            return str(item.get(\"name\", \"\")).lower().strip()\n",
    "\n",
    "        gt_names = [normalize_name(x) for x in gt_list if normalize_name(x)]\n",
    "        pred_names = [normalize_name(x) for x in pred_list if normalize_name(x)]\n",
    "\n",
    "        if not pred_names:\n",
    "            return 1.0\n",
    "        if not gt_names:\n",
    "            return 0.0\n",
    "\n",
    "        _, match_details = await Metrics.semantic_ingredient_match_embeddings(\n",
    "            gt_list, pred_list, threshold\n",
    "        )\n",
    "\n",
    "        matches = len(match_details)\n",
    "        precision = matches / len(pred_names)\n",
    "        return precision\n",
    "\n",
    "    @staticmethod\n",
    "    async def semantic_f1_score(gt_ingredients, pred_ingredients, threshold=0.75):\n",
    "        gt_list = Metrics._normalize_ingredient_list(gt_ingredients)\n",
    "        pred_list = Metrics._normalize_ingredient_list(pred_ingredients)\n",
    "\n",
    "        def normalize_name(item):\n",
    "            return str(item.get(\"name\", \"\")).lower().strip()\n",
    "\n",
    "        gt_names = [normalize_name(x) for x in gt_list if normalize_name(x)]\n",
    "        pred_names = [normalize_name(x) for x in pred_list if normalize_name(x)]\n",
    "\n",
    "        if not gt_names and not pred_names:\n",
    "            return 1.0\n",
    "        if not gt_names or not pred_names:\n",
    "            return 0.0\n",
    "\n",
    "        _, match_details = await Metrics.semantic_ingredient_match_embeddings(\n",
    "            gt_list, pred_list, threshold\n",
    "        )\n",
    "\n",
    "        matches = len(match_details)\n",
    "\n",
    "        if not pred_names or not gt_names:\n",
    "            return 0.0\n",
    "\n",
    "        precision = matches / len(pred_names)\n",
    "        recall = matches / len(gt_names)\n",
    "\n",
    "        if precision + recall == 0:\n",
    "            return 0.0\n",
    "\n",
    "        f1_score = 2 * (precision * recall) / (precision + recall)\n",
    "        return f1_score\n",
    "\n",
    "    @staticmethod\n",
    "    async def meal_name_similarity(gt_name: str, pred_name: str) -> float:\n",
    "        \"\"\"Calculates cosine similarity between the embeddings of two meal names.\"\"\"\n",
    "        gt_name = str(gt_name or \"\").strip()\n",
    "        pred_name = str(pred_name or \"\").strip()\n",
    "\n",
    "        if not pred_name:\n",
    "            return 0.0\n",
    "\n",
    "        gt_embedding_list, pred_embedding_list = await asyncio.gather(\n",
    "            Metrics.get_embedding(gt_name), Metrics.get_embedding(pred_name)\n",
    "        )\n",
    "\n",
    "        gt_embedding = np.array(gt_embedding_list).reshape(1, -1)\n",
    "        pred_embedding = np.array(pred_embedding_list).reshape(1, -1)\n",
    "\n",
    "        return cosine_similarity(gt_embedding, pred_embedding)[0][0]\n",
    "\n",
    "    @staticmethod\n",
    "    def macro_wMAPE(gt_mac: dict, pred_mac: dict):\n",
    "        \"\"\"Calculates Weighted Mean Absolute Percentage Error over the four main macros.\"\"\"\n",
    "        keys = [\"calories\", \"carbs\", \"protein\", \"fat\"]\n",
    "\n",
    "        absolute_errors = sum(abs(gt_mac.get(k, 0) - pred_mac.get(k, 0)) for k in keys)\n",
    "        sum_of_actuals = sum(abs(gt_mac.get(k, 0)) for k in keys)\n",
    "\n",
    "        if sum_of_actuals == 0:\n",
    "            return 0.0 if absolute_errors == 0 else 100.0\n",
    "\n",
    "        return (absolute_errors / sum_of_actuals) * 100\n",
    "\n",
    "    @staticmethod\n",
    "    def macro_percentage_error(gt_mac, pred_mac):\n",
    "        \"\"\"Calculate percentage error for each macro.\"\"\"\n",
    "        keys = [\"calories\", \"carbs\", \"protein\", \"fat\"]\n",
    "        errors = {}\n",
    "        for key in keys:\n",
    "            gt_val = gt_mac.get(key, 0)\n",
    "            pred_val = pred_mac.get(key, 0)\n",
    "            if gt_val > 0:\n",
    "                errors[key] = abs(gt_val - pred_val) / gt_val * 100\n",
    "            else:\n",
    "                errors[key] = 0 if pred_val == 0 else 100\n",
    "        return errors\n",
    "\n",
    "    @staticmethod\n",
    "    def ingredient_count_accuracy(gt_ingredients, pred_ingredients):\n",
    "        \"\"\"How well does the model predict the number of ingredients?\"\"\"\n",
    "        gt_count = len(Metrics._normalize_ingredient_list(gt_ingredients))\n",
    "        pred_count = len(Metrics._normalize_ingredient_list(pred_ingredients))\n",
    "        if gt_count == 0 and pred_count == 0:\n",
    "            return 1.0\n",
    "        if gt_count == 0:\n",
    "            return 0.0\n",
    "        return 1 - abs(gt_count - pred_count) / gt_count"
   ]
  },
  {
   "cell_type": "markdown",
   "id": "f7885e9f",
   "metadata": {},
   "source": [
    "## Evaluation Function\n"
   ]
  },
  {
   "cell_type": "code",
   "execution_count": 10,
   "id": "f880e9da",
   "metadata": {},
   "outputs": [],
   "source": [
    "async def _process_sample(\n",
    "    idx: int,\n",
    "    ds: FoodScanDataset,\n",
    "    llm: Union[LiteModel, JanuaryAIModel],\n",
    "    model_name: str,\n",
    "    use_embeddings: bool = True,\n",
    ") -> dict:\n",
    "    start_time = time.time()\n",
    "    sample = ds[idx]\n",
    "    pred, error_msg = await llm.analyse(sample[\"image_path\"])\n",
    "    end_time = time.time()\n",
    "    gt = sample[\"gt\"]\n",
    "\n",
    "    item = {\n",
    "        \"image_id\": sample[\"image_id\"],\n",
    "        \"model\": model_name,\n",
    "        \"response_time_seconds\": round(end_time - start_time, 2),\n",
    "    }\n",
    "\n",
    "    if pred is None:\n",
    "        item.update(\n",
    "            {\n",
    "                \"meal_name_similarity\": 0.0,\n",
    "                \"semantic_precision_ing\": 0.0,\n",
    "                \"semantic_match\": 0.0,\n",
    "                \"semantic_f1_ing\": 0.0,\n",
    "                \"semantic_match_embeddings\": 0.0,\n",
    "                \"ingredient_count_acc\": 0.0,\n",
    "                \"wmape_mac\": None,\n",
    "                \"error\": error_msg or \"failed\",\n",
    "                \"cost_usd\": 0.0,\n",
    "                \"calories_pct_error\": None,\n",
    "                \"carbs_pct_error\": None,\n",
    "                \"protein_pct_error\": None,\n",
    "                \"fat_pct_error\": None,\n",
    "                \"match_details\": None,\n",
    "            }\n",
    "        )\n",
    "    else:\n",
    "        gt_ingredients = gt[\"ingredients\"]\n",
    "        pred_ingredients = pred.get(\"ingredients\", [])\n",
    "        gt_macros = gt[\"macros\"]\n",
    "        pred_macros = pred.get(\"total_macros\", {})\n",
    "\n",
    "        meal_name_sim = await Metrics.meal_name_similarity(\n",
    "            gt[\"meal_name\"], pred.get(\"meal_name\", \"\")\n",
    "        )\n",
    "\n",
    "        semantic_match_embeddings, match_details = 0.0, None\n",
    "        semantic_f1 = 0.0\n",
    "        semantic_precision = 0.0\n",
    "        if use_embeddings:\n",
    "            try:\n",
    "                (\n",
    "                    semantic_match_embeddings,\n",
    "                    match_details,\n",
    "                ) = await Metrics.semantic_ingredient_match_embeddings(\n",
    "                    gt_ingredients, pred_ingredients\n",
    "                )\n",
    "                semantic_f1 = await Metrics.semantic_f1_score(\n",
    "                    gt_ingredients, pred_ingredients\n",
    "                )\n",
    "                semantic_precision = await Metrics.semantic_precision_score(\n",
    "                    gt_ingredients, pred_ingredients\n",
    "                )\n",
    "            except Exception as e:\n",
    "                print(\n",
    "                    f\"Error in embedding similarity for image {sample['image_id']}: {e}\"\n",
    "                )\n",
    "                semantic_match_embeddings = Metrics.semantic_ingredient_match(\n",
    "                    gt_ingredients, pred_ingredients\n",
    "                )\n",
    "                semantic_f1 = 0.0\n",
    "                semantic_precision = 0.0\n",
    "\n",
    "        pct_errors = Metrics.macro_percentage_error(gt_macros, pred_macros)\n",
    "\n",
    "        item.update(\n",
    "            {\n",
    "                \"meal_name\": pred.get(\"meal_name\", \"\"),\n",
    "                \"gt_meal_name\": gt[\"meal_name\"],\n",
    "                \"meal_name_similarity\": meal_name_sim,\n",
    "                \"semantic_precision_ing\": semantic_precision,\n",
    "                \"semantic_match\": Metrics.semantic_ingredient_match(\n",
    "                    gt_ingredients, pred_ingredients\n",
    "                ),\n",
    "                \"semantic_f1_ing\": semantic_f1,\n",
    "                \"semantic_match_embeddings\": semantic_match_embeddings,\n",
    "                \"ingredient_count_acc\": Metrics.ingredient_count_accuracy(\n",
    "                    gt_ingredients, pred_ingredients\n",
    "                ),\n",
    "                \"wmape_mac\": Metrics.macro_wMAPE(gt_macros, pred_macros),\n",
    "                \"error\": None,\n",
    "                \"cost_usd\": pred.get(\"cost_usd\", 0.0),\n",
    "                \"calories_pct_error\": pct_errors.get(\"calories\"),\n",
    "                \"carbs_pct_error\": pct_errors.get(\"carbs\"),\n",
    "                \"protein_pct_error\": pct_errors.get(\"protein\"),\n",
    "                \"fat_pct_error\": pct_errors.get(\"fat\"),\n",
    "            }\n",
    "        )\n",
    "\n",
    "    return item\n",
    "\n",
    "\n",
    "async def run_evaluation(\n",
    "    models: Union[str, List[str]],\n",
    "    cache_dir: Path,\n",
    "    max_items: Optional[int] = None,\n",
    "    max_concurrent: int = 5,\n",
    "    use_embeddings: bool = True,\n",
    ") -> pd.DataFrame:\n",
    "    \"\"\"Run evaluation with multiple models, including custom ones.\"\"\"\n",
    "    models_to_run = [models] if isinstance(models, str) else models\n",
    "    all_prompt_variants = list(LiteModel.PROMPT_VARIANTS.keys())\n",
    "\n",
    "    ds = FoodScanDataset(cache_dir)\n",
    "    n = min(max_items, len(ds)) if max_items else len(ds)\n",
    "    tasks_to_run = []\n",
    "    for model_name in models_to_run:\n",
    "        if model_name == \"january/food-vision-v1\":\n",
    "            tasks_to_run.append({\"model_name\": model_name, \"prompt_variant\": \"default\"})\n",
    "        else:\n",
    "            for variant in all_prompt_variants:\n",
    "                tasks_to_run.append(\n",
    "                    {\"model_name\": model_name, \"prompt_variant\": variant}\n",
    "                )\n",
    "\n",
    "    sem = asyncio.Semaphore(max_concurrent)\n",
    "\n",
    "    january_model = None\n",
    "    if any(t[\"model_name\"] == \"january/food-vision-v1\" for t in tasks_to_run):\n",
    "        january_model = JanuaryAIModel()\n",
    "\n",
    "    async def _worker(task_info: dict, idx: int):\n",
    "        async with sem:\n",
    "            model_name = task_info[\"model_name\"]\n",
    "            prompt_variant = task_info[\"prompt_variant\"]\n",
    "\n",
    "            if model_name == \"january/food-vision-v1\":\n",
    "                llm = january_model\n",
    "                model_name_for_results = model_name\n",
    "            else:\n",
    "                llm = LiteModel(model_name, prompt_variant=prompt_variant)\n",
    "                model_name_for_results = f\"{model_name}_{prompt_variant}\"\n",
    "\n",
    "            return await _process_sample(\n",
    "                idx, ds, llm, model_name_for_results, use_embeddings\n",
    "            )\n",
    "\n",
    "    all_jobs = [(i, task) for i in range(n) for task in tasks_to_run]\n",
    "\n",
    "    pbar = tqdm(total=len(all_jobs), desc=\"Processing images\", dynamic_ncols=True)\n",
    "\n",
    "    async def _job_runner(job):\n",
    "        result = await _worker(job[1], job[0])\n",
    "        pbar.update(1)\n",
    "        return result\n",
    "\n",
    "    results = await asyncio.gather(*[_job_runner(job) for job in all_jobs])\n",
    "    pbar.close()\n",
    "\n",
    "    return pd.DataFrame(results)"
   ]
  },
  {
   "cell_type": "markdown",
   "id": "2530ecd7",
   "metadata": {},
   "source": [
    "## Analysis and Visualization\n"
   ]
  },
  {
   "cell_type": "code",
   "execution_count": 11,
   "id": "fa733757",
   "metadata": {},
   "outputs": [],
   "source": [
    "class BenchmarkAnalyzer:\n",
    "    \"\"\"Comprehensive analysis and visualization of benchmark results.\"\"\"\n",
    "\n",
    "    def __init__(self, results_df):\n",
    "        self.df = results_df.copy()\n",
    "\n",
    "        def get_base_model(model_name):\n",
    "            if model_name == \"january/food-vision-v1\":\n",
    "                return model_name\n",
    "\n",
    "            for variant in LiteModel.PROMPT_VARIANTS:\n",
    "                if model_name.endswith(f\"_{variant}\"):\n",
    "                    return model_name.rsplit(f\"_{variant}\", 1)[0]\n",
    "\n",
    "            return model_name\n",
    "\n",
    "        self.df[\"base_model\"] = self.df[\"model\"].apply(get_base_model)\n",
    "        self.df[\"pretty_model\"] = self.df[\"model\"].apply(pretty_label)\n",
    "\n",
    "        if not self.df.empty:\n",
    "            self.successful_df = self.df[self.df[\"error\"].isna()].copy()\n",
    "\n",
    "            if not self.successful_df.empty:\n",
    "                self.successful_df = self._add_overall_score(self.successful_df)\n",
    "\n",
    "                best_indices = self.successful_df.groupby([\"image_id\", \"base_model\"])[\n",
    "                    \"overall_score\"\n",
    "                ].idxmax()\n",
    "                self.best_of_df = self.successful_df.loc[best_indices].copy()\n",
    "                self.best_of_df[\"model\"] = self.best_of_df[\"base_model\"].apply(\n",
    "                    lambda x: f\"{get_display_name(x)} (Best)\"\n",
    "                    if x != \"january/food-vision-v1\"\n",
    "                    else get_display_name(x)\n",
    "                )\n",
    "\n",
    "                numeric_cols = [\n",
    "                    \"meal_name_similarity\",\n",
    "                    \"semantic_match_embeddings\",\n",
    "                    \"semantic_precision_ing\",\n",
    "                    \"semantic_f1_ing\",\n",
    "                    \"ingredient_count_acc\",\n",
    "                    \"wmape_mac\",\n",
    "                    \"cost_usd\",\n",
    "                    \"response_time_seconds\",\n",
    "                    \"calories_pct_error\",\n",
    "                    \"carbs_pct_error\",\n",
    "                    \"protein_pct_error\",\n",
    "                    \"fat_pct_error\",\n",
    "                ]\n",
    "                self.average_of_df = (\n",
    "                    self.successful_df.groupby([\"image_id\", \"base_model\"])[numeric_cols]\n",
    "                    .mean()\n",
    "                    .reset_index()\n",
    "                )\n",
    "                self.average_of_df[\"model\"] = self.average_of_df[\"base_model\"].apply(\n",
    "                    lambda x: f\"{get_display_name(x)} (Avg)\"\n",
    "                    if x != \"january/food-vision-v1\"\n",
    "                    else get_display_name(x)\n",
    "                )\n",
    "\n",
    "                self.average_of_df = self._add_overall_score(self.average_of_df)\n",
    "\n",
    "                self.plot_df = pd.concat(\n",
    "                    [self.best_of_df, self.average_of_df], ignore_index=True\n",
    "                ).drop_duplicates(subset=[\"model\", \"image_id\"], keep=\"first\")\n",
    "\n",
    "            else:\n",
    "                self.best_of_df = pd.DataFrame()\n",
    "                self.average_of_df = pd.DataFrame()\n",
    "                self.plot_df = pd.DataFrame()\n",
    "\n",
    "        else:\n",
    "            self.successful_df = pd.DataFrame()\n",
    "            self.best_of_df = pd.DataFrame()\n",
    "            self.average_of_df = pd.DataFrame()\n",
    "            self.plot_df = pd.DataFrame()\n",
    "\n",
    "    def _add_overall_score(self, df):\n",
    "        \"\"\"\n",
    "        Calculates a overall score using a weighted geometric mean.\n",
    "        This method is robust to outliers and uses a \"knock-out\" criterion,\n",
    "        where a score of 0 in any key metric results in an overall score of 0.\n",
    "\n",
    "        IMPROVEMENT: This version uses absolute normalization for cost and speed,\n",
    "        making the score comparable across different benchmark runs.\n",
    "        \"\"\"\n",
    "        if df.empty:\n",
    "            return df\n",
    "\n",
    "        COST_CEILING = 1\n",
    "        TIME_CEILING = 60\n",
    "\n",
    "        weights = {\n",
    "            \"name_similarity\": 0.15,\n",
    "            \"ing_accuracy\": 0.40,\n",
    "            \"macro_accuracy\": 0.25,\n",
    "            \"cost\": 0.10,\n",
    "            \"speed\": 0.10,\n",
    "        }\n",
    "        assert np.isclose(sum(weights.values()), 1.0), \"Weights must sum to 1.0\"\n",
    "\n",
    "        norm_name_sim = df[\"meal_name_similarity\"].clip(0, 1)\n",
    "        norm_acc_ing = df[\"semantic_f1_ing\"].clip(0, 1)\n",
    "        norm_acc_macro = (1 - (df[\"wmape_mac\"] / 100)).clip(0, 1)\n",
    "\n",
    "        clipped_cost = df[\"cost_usd\"].clip(upper=COST_CEILING)\n",
    "        norm_cost = 1 - (clipped_cost / COST_CEILING)\n",
    "\n",
    "        clipped_time = df[\"response_time_seconds\"].clip(upper=TIME_CEILING)\n",
    "        norm_speed = 1 - (clipped_time / TIME_CEILING)\n",
    "\n",
    "        df[\"overall_score\"] = 100 * (\n",
    "            (norm_name_sim ** weights[\"name_similarity\"])\n",
    "            * (norm_acc_ing ** weights[\"ing_accuracy\"])\n",
    "            * (norm_acc_macro ** weights[\"macro_accuracy\"])\n",
    "            * (norm_cost ** weights[\"cost\"])\n",
    "            * (norm_speed ** weights[\"speed\"])\n",
    "        )\n",
    "\n",
    "        df[\"norm_name_similarity\"] = norm_name_sim\n",
    "        df[\"norm_ing_accuracy\"] = norm_acc_ing\n",
    "        df[\"norm_macro_accuracy\"] = norm_acc_macro\n",
    "        df[\"norm_cost\"] = norm_cost\n",
    "        df[\"norm_speed\"] = norm_speed\n",
    "\n",
    "        return df\n",
    "\n",
    "    def summary_statistics(self):\n",
    "        \"\"\"Generate comprehensive summary statistics for individual variants and aggregated models.\"\"\"\n",
    "        print(\"=== BENCHMARK SUMMARY (PER VARIANT) ===\\n\")\n",
    "        if self.df.empty:\n",
    "            print(\"No results to analyze.\")\n",
    "            return\n",
    "\n",
    "        for model in sorted(self.df[\"model\"].unique()):\n",
    "            display_name = pretty_label(model)\n",
    "            model_df = self.df[self.df[\"model\"] == model]\n",
    "            successful = model_df[model_df[\"error\"].isna()]\n",
    "            success_rate = (\n",
    "                (len(successful) / len(model_df)) * 100 if len(model_df) > 0 else 0\n",
    "            )\n",
    "\n",
    "            print(f\"--- {display_name} ---\")\n",
    "            print(\n",
    "                f\"  Success Rate: {success_rate:.1f}% ({len(successful)}/{len(model_df)})\"\n",
    "            )\n",
    "\n",
    "            if not successful.empty:\n",
    "                print(\n",
    "                    f\"  Avg Semantic Match (Embeddings): {successful['semantic_match_embeddings'].mean():.3f}\"\n",
    "                )\n",
    "                print(\n",
    "                    f\"  Avg Semantic Precision (Ingredients): {successful['semantic_precision_ing'].mean():.3f}\"\n",
    "                )\n",
    "                print(f\"  Avg wMAPE (Macros): {successful['wmape_mac'].mean():.1f}%\")\n",
    "                print(f\"  Avg Cost per Image: ${successful['cost_usd'].mean():.4f}\")\n",
    "                print(\n",
    "                    f\"  Avg Response Time: {successful['response_time_seconds'].mean():.1f}s\\n\"\n",
    "                )\n",
    "\n",
    "        print(\"\\n=== AGGREGATED SUMMARY (BEST OF N PROMPTS) ===\\n\")\n",
    "        if self.best_of_df.empty:\n",
    "            print(\"No successful results to analyze for aggregation.\")\n",
    "        else:\n",
    "            agg_best_df = (\n",
    "                self.best_of_df.groupby(\"model\")\n",
    "                .agg(\n",
    "                    semantic_match_embeddings=(\"semantic_match_embeddings\", \"mean\"),\n",
    "                    semantic_precision_ing=(\"semantic_precision_ing\", \"mean\"),\n",
    "                    wmape_mac=(\"wmape_mac\", \"mean\"),\n",
    "                    cost_usd=(\"cost_usd\", \"mean\"),\n",
    "                    response_time_seconds=(\"response_time_seconds\", \"mean\"),\n",
    "                    overall_score=(\"overall_score\", \"mean\"),\n",
    "                    sample_count=(\"image_id\", \"count\"),\n",
    "                )\n",
    "                .reset_index()\n",
    "            )\n",
    "\n",
    "            for _, row in agg_best_df.iterrows():\n",
    "                print(f\"--- {row['model']} (from {row['sample_count']} samples) ---\")\n",
    "                print(\n",
    "                    f\"  Avg Semantic Match (Embeddings): {row['semantic_match_embeddings']:.3f}\"\n",
    "                )\n",
    "                print(\n",
    "                    f\"  Avg Semantic Precision (Ingredients): {row['semantic_precision_ing']:.3f}\"\n",
    "                )\n",
    "                print(f\"  Avg wMAPE (Macros): {row['wmape_mac']:.1f}%\")\n",
    "                print(f\"  Avg Cost per Image: ${row['cost_usd']:.4f}\")\n",
    "                print(f\"  Avg Response Time: {row['response_time_seconds']:.1f}s\\n\")\n",
    "                print(f\"  overall Score: {row['overall_score']:.2f} / 100\\n\")\n",
    "\n",
    "        print(\"\\n=== AGGREGATED SUMMARY (AVERAGE) ===\\n\")\n",
    "        if self.average_of_df.empty:\n",
    "            print(\"No successful results to analyze for aggregation.\")\n",
    "            self.analyze_errors()\n",
    "            return\n",
    "\n",
    "        agg_df = (\n",
    "            self.average_of_df.groupby(\"model\")\n",
    "            .agg(\n",
    "                semantic_match_embeddings=(\"semantic_match_embeddings\", \"mean\"),\n",
    "                semantic_precision_ing=(\"semantic_precision_ing\", \"mean\"),\n",
    "                wmape_mac=(\"wmape_mac\", \"mean\"),\n",
    "                cost_usd=(\"cost_usd\", \"mean\"),\n",
    "                response_time_seconds=(\"response_time_seconds\", \"mean\"),\n",
    "                overall_score=(\"overall_score\", \"mean\"),\n",
    "                sample_count=(\"image_id\", \"count\"),\n",
    "            )\n",
    "            .reset_index()\n",
    "        )\n",
    "\n",
    "        for _, row in agg_df.iterrows():\n",
    "            print(f\"--- {row['model']} (from {row['sample_count']} samples) ---\")\n",
    "            print(\n",
    "                f\"  Avg Semantic Match (Embeddings): {row['semantic_match_embeddings']:.3f}\"\n",
    "            )\n",
    "            print(\n",
    "                f\"  Avg Semantic Precision (Ingredients): {row['semantic_precision_ing']:.3f}\"\n",
    "            )\n",
    "            print(f\"  Avg wMAPE (Macros): {row['wmape_mac']:.1f}%\")\n",
    "            print(f\"  Avg Cost per Image: ${row['cost_usd']:.4f}\")\n",
    "            print(f\"  Avg Response Time: {row['response_time_seconds']:.1f}s\\n\")\n",
    "            print(f\"  overall Score: {row['overall_score']:.2f} / 100\\n\")\n",
    "\n",
    "        self.analyze_errors()\n",
    "\n",
    "    def analyze_errors(self):\n",
    "        \"\"\"Analyze and summarize the specific errors encountered.\"\"\"\n",
    "        print(\"--- ERROR ANALYSIS ---\")\n",
    "        error_df = self.df[self.df[\"error\"].notna()]\n",
    "        if error_df.empty:\n",
    "            print(\"No errors encountered. All API calls were successful.\\n\")\n",
    "            return\n",
    "\n",
    "        print(\"Error counts by model:\")\n",
    "        error_summary = error_df.groupby(\"model\")[\"error\"].count().sort_index()\n",
    "        print(error_summary.to_string())\n",
    "\n",
    "        print(\"\\nMost common error messages:\")\n",
    "        common_errors = (\n",
    "            error_df[\"error\"].str.split(\":\").str[0].value_counts().nlargest(5)\n",
    "        )\n",
    "        print(common_errors.to_string())\n",
    "        print()\n",
    "\n",
    "    def create_performance_dashboard(self):\n",
    "        \"\"\"Create a comprehensive performance comparison dashboard with improved styling.\"\"\"\n",
    "        if self.plot_df.empty:\n",
    "            print(\"No successful predictions to plot.\")\n",
    "            return\n",
    "\n",
    "        models = sorted(self.plot_df[\"model\"].unique())\n",
    "\n",
    "        short_labels = {m: m for m in models}\n",
    "        idx_map = {m: i + 1 for i, m in enumerate(short_labels)}\n",
    "\n",
    "        colors = px.colors.qualitative.Plotly\n",
    "\n",
    "        fig = make_subplots(\n",
    "            rows=2,\n",
    "            cols=3,\n",
    "            subplot_titles=(\n",
    "                \"Meal Name Similarity\",\n",
    "                \"Macro Nutritional wMAPE (%)\",\n",
    "                \"Response Time Distribution\",\n",
    "                \"Recall (Ingredients)\",\n",
    "                \"Precision (Ingredients)\",\n",
    "                \"F1 Score (Ingredients)\",\n",
    "            ),\n",
    "            vertical_spacing=0.15,\n",
    "            horizontal_spacing=0.08,\n",
    "        )\n",
    "\n",
    "        for i, model in enumerate(models):\n",
    "            m_idx = str(idx_map[model])\n",
    "            color = colors[i % len(colors)]\n",
    "            d_ok = self.plot_df[self.plot_df[\"model\"] == model]\n",
    "            if d_ok.empty:\n",
    "                continue\n",
    "\n",
    "            box_style = dict(\n",
    "                marker_color=color,\n",
    "                marker_line_color=\"rgba(0,0,0,0.3)\",\n",
    "                marker_line_width=1,\n",
    "                line_color=color,\n",
    "                line_width=2,\n",
    "            )\n",
    "            fig.add_trace(\n",
    "                go.Box(\n",
    "                    y=d_ok[\"meal_name_similarity\"],\n",
    "                    name=m_idx,\n",
    "                    legendgroup=m_idx,\n",
    "                    showlegend=False,\n",
    "                    **box_style,\n",
    "                ),\n",
    "                row=1,\n",
    "                col=1,\n",
    "            )\n",
    "            fig.add_trace(\n",
    "                go.Box(\n",
    "                    y=d_ok[\"wmape_mac\"],\n",
    "                    name=m_idx,\n",
    "                    legendgroup=m_idx,\n",
    "                    showlegend=False,\n",
    "                    **box_style,\n",
    "                ),\n",
    "                row=1,\n",
    "                col=2,\n",
    "            )\n",
    "            fig.add_trace(\n",
    "                go.Box(\n",
    "                    y=d_ok[\"response_time_seconds\"],\n",
    "                    name=m_idx,\n",
    "                    legendgroup=m_idx,\n",
    "                    showlegend=False,\n",
    "                    **box_style,\n",
    "                ),\n",
    "                row=1,\n",
    "                col=3,\n",
    "            )\n",
    "            fig.add_trace(\n",
    "                go.Box(\n",
    "                    y=d_ok[\"semantic_match_embeddings\"],\n",
    "                    name=m_idx,\n",
    "                    legendgroup=m_idx,\n",
    "                    showlegend=False,\n",
    "                    **box_style,\n",
    "                ),\n",
    "                row=2,\n",
    "                col=1,\n",
    "            )\n",
    "            fig.add_trace(\n",
    "                go.Box(\n",
    "                    y=d_ok[\"semantic_precision_ing\"],\n",
    "                    name=m_idx,\n",
    "                    legendgroup=m_idx,\n",
    "                    showlegend=False,\n",
    "                    **box_style,\n",
    "                ),\n",
    "                row=2,\n",
    "                col=2,\n",
    "            )\n",
    "            fig.add_trace(\n",
    "                go.Box(\n",
    "                    y=d_ok[\"semantic_f1_ing\"],\n",
    "                    name=m_idx,\n",
    "                    legendgroup=m_idx,\n",
    "                    showlegend=False,\n",
    "                    **box_style,\n",
    "                ),\n",
    "                row=2,\n",
    "                col=3,\n",
    "            )\n",
    "\n",
    "        for i, model in enumerate(models):\n",
    "            m_idx = str(idx_map[model])\n",
    "            fig.add_trace(\n",
    "                go.Scatter(\n",
    "                    x=[None],\n",
    "                    y=[None],\n",
    "                    mode=\"markers\",\n",
    "                    marker=dict(\n",
    "                        size=12,\n",
    "                        color=colors[i % len(colors)],\n",
    "                        symbol=\"circle\",\n",
    "                        line=dict(width=2, color=\"rgba(0,0,0,0.3)\"),\n",
    "                    ),\n",
    "                    legendgroup=m_idx,\n",
    "                    showlegend=True,\n",
    "                    name=f\"{m_idx}: {short_labels[model]}\",\n",
    "                )\n",
    "            )\n",
    "\n",
    "        axis_style = dict(\n",
    "            showgrid=True,\n",
    "            gridcolor=\"rgba(128,128,128,0.2)\",\n",
    "            gridwidth=1,\n",
    "            zeroline=True,\n",
    "            zerolinecolor=\"rgba(128,128,128,0.4)\",\n",
    "            zerolinewidth=1,\n",
    "            tickfont=dict(size=11, color=\"#2f2f2f\"),\n",
    "        )\n",
    "        for row in [1, 2]:\n",
    "            for col in [1, 2, 3]:\n",
    "                fig.update_xaxes(**axis_style, row=row, col=col)\n",
    "                fig.update_yaxes(**axis_style, row=row, col=col)\n",
    "        fig.update_yaxes(title_text=\"Cosine Similarity\", row=1, col=1)\n",
    "        fig.update_yaxes(title_text=\"Weighted MAPE (%)\", row=1, col=2)\n",
    "        fig.update_yaxes(title_text=\"Response Time (sec)\", row=1, col=3)\n",
    "        fig.update_yaxes(title_text=\"Recall\", row=2, col=1)\n",
    "        fig.update_yaxes(title_text=\"Precision\", row=2, col=2)\n",
    "        fig.update_yaxes(title_text=\"F1 Score\", row=2, col=3)\n",
    "        fig.update_layout(\n",
    "            height=800,\n",
    "            width=1400,\n",
    "            title=dict(\n",
    "                text=\"<b>Model Performance Dashboard</b>\",\n",
    "                x=0.5,\n",
    "                xanchor=\"center\",\n",
    "                font=dict(size=24, color=\"#1f1f1f\", family=\"Arial Black\"),\n",
    "            ),\n",
    "            showlegend=True,\n",
    "            legend=dict(\n",
    "                title=\"<b>Models</b>\",\n",
    "                title_font=dict(size=14, color=\"#1f1f1f\"),\n",
    "                font=dict(size=11),\n",
    "                bgcolor=\"rgba(255,255,255,0.8)\",\n",
    "                bordercolor=\"rgba(128,128,128,0.5)\",\n",
    "                borderwidth=1,\n",
    "                x=1.02,\n",
    "                y=1,\n",
    "                xanchor=\"left\",\n",
    "                yanchor=\"top\",\n",
    "            ),\n",
    "            plot_bgcolor=\"rgba(248,249,250,0.8)\",\n",
    "            paper_bgcolor=\"white\",\n",
    "            font=dict(family=\"Arial, sans-serif\", size=11, color=\"#2f2f2f\"),\n",
    "            margin=dict(l=80, r=200, t=120, b=80),\n",
    "            hovermode=\"closest\",\n",
    "        )\n",
    "        config = dict(\n",
    "            displayModeBar=True,\n",
    "            displaylogo=False,\n",
    "            modeBarButtonsToRemove=[\"pan2d\", \"lasso2d\"],\n",
    "            toImageButtonOptions=dict(\n",
    "                format=\"png\",\n",
    "                filename=\"model_performance_dashboard\",\n",
    "                height=800,\n",
    "                width=1400,\n",
    "                scale=2,\n",
    "            ),\n",
    "        )\n",
    "        fig.show(config=config)\n",
    "        fig.write_html(\"performance_dashboard.html\", config=config)\n",
    "\n",
    "    def export_detailed_report(self, filename=\"benchmark_report.csv\"):\n",
    "        \"\"\"Export a detailed report with raw data and summary to CSV files.\"\"\"\n",
    "        print(f\"Exporting detailed report to {filename}...\")\n",
    "        self.df.to_csv(filename, index=False)\n",
    "\n",
    "        if not self.plot_df.empty:\n",
    "            summary = (\n",
    "                self.plot_df.groupby(\"model\")\n",
    "                .agg(\n",
    "                    semantic_match_embeddings_mean=(\n",
    "                        \"semantic_match_embeddings\",\n",
    "                        \"mean\",\n",
    "                    ),\n",
    "                    semantic_precision_ing_mean=(\"semantic_precision_ing\", \"mean\"),\n",
    "                    wmape_mac_mean=(\"wmape_mac\", \"mean\"),\n",
    "                    cost_usd_total=(\"cost_usd\", \"sum\"),\n",
    "                    response_time_seconds_mean=(\"response_time_seconds\", \"mean\"),\n",
    "                )\n",
    "                .reset_index()\n",
    "            )\n",
    "            summary_filename = filename.replace(\".csv\", \"_summary.csv\")\n",
    "            summary.to_csv(summary_filename, index=False)\n",
    "        print(\"Export complete.\")\n",
    "\n",
    "    def create_win_loss_analysis(self, baseline_model_name: Optional[str] = None):\n",
    "        if self.average_of_df.empty or self.best_of_df.empty:\n",
    "            print(\"No successful results to analyze.\")\n",
    "            return\n",
    "\n",
    "        base_models = sorted(self.average_of_df[\"base_model\"].unique())\n",
    "\n",
    "        if len(base_models) < 2:\n",
    "            print(\"Need at least two models to perform a win-loss comparison.\")\n",
    "            return\n",
    "\n",
    "        if baseline_model_name:\n",
    "            if baseline_model_name not in base_models:\n",
    "                print(\n",
    "                    f\"Error: Baseline model '{baseline_model_name}' not found in results.\"\n",
    "                )\n",
    "                print(f\"Available models are: {base_models}\")\n",
    "                return\n",
    "            baseline_model = baseline_model_name\n",
    "        else:\n",
    "            baseline_model = (\n",
    "                \"january/food-vision-v1\"\n",
    "                if \"january/food-vision-v1\" in base_models\n",
    "                else base_models[0]\n",
    "            )\n",
    "            print(\n",
    "                f\"INFO: No baseline model specified. Using average performance of '{get_display_name(baseline_model)}' as the default.\"\n",
    "            )\n",
    "\n",
    "        baseline_data = self.average_of_df[\n",
    "            self.average_of_df[\"base_model\"] == baseline_model\n",
    "        ].copy()\n",
    "\n",
    "        competitor_dfs = {\n",
    "            \"Avg\": self.average_of_df[\n",
    "                self.average_of_df[\"base_model\"] != baseline_model\n",
    "            ],\n",
    "            \"Best\": self.best_of_df[self.best_of_df[\"base_model\"] != baseline_model],\n",
    "        }\n",
    "\n",
    "        macro_cols = [\n",
    "            \"calories_pct_error\",\n",
    "            \"carbs_pct_error\",\n",
    "            \"protein_pct_error\",\n",
    "            \"fat_pct_error\",\n",
    "        ]\n",
    "        win_loss_data = {}\n",
    "\n",
    "        for perf_type, df in competitor_dfs.items():\n",
    "            for competitor_base_model in df[\"base_model\"].unique():\n",
    "                competitor_model_name = (\n",
    "                    f\"{get_display_name(competitor_base_model)} ({perf_type})\"\n",
    "                )\n",
    "                win_loss_data[competitor_model_name] = {\n",
    "                    m: {\"win\": 0, \"tie\": 0, \"loss\": 0} for m in macro_cols\n",
    "                }\n",
    "\n",
    "                competitor_data = df[df[\"base_model\"] == competitor_base_model]\n",
    "\n",
    "                comparison_df = pd.merge(\n",
    "                    baseline_data,\n",
    "                    competitor_data,\n",
    "                    on=\"image_id\",\n",
    "                    suffixes=(\"_base\", \"_comp\"),\n",
    "                )\n",
    "                if comparison_df.empty:\n",
    "                    continue\n",
    "\n",
    "                for macro in macro_cols:\n",
    "                    base_error = comparison_df[f\"{macro}_base\"]\n",
    "                    comp_error = comparison_df[f\"{macro}_comp\"]\n",
    "                    win_loss_data[competitor_model_name][macro][\"win\"] = (\n",
    "                        base_error < comp_error\n",
    "                    ).sum()\n",
    "                    win_loss_data[competitor_model_name][macro][\"tie\"] = (\n",
    "                        base_error == comp_error\n",
    "                    ).sum()\n",
    "                    win_loss_data[competitor_model_name][macro][\"loss\"] = (\n",
    "                        base_error > comp_error\n",
    "                    ).sum()\n",
    "\n",
    "        if not win_loss_data:\n",
    "            print(\"No common images found to compare models.\")\n",
    "            return\n",
    "\n",
    "        competitor_models = sorted(win_loss_data.keys())\n",
    "        colors = {\"win\": \"#16A085\", \"tie\": \"#95A5A6\", \"loss\": \"#E74C3C\"}\n",
    "        macro_titles = [\"Calories\", \"Carbohydrates\", \"Protein\", \"Fat\"]\n",
    "        fig = make_subplots(\n",
    "            rows=len(competitor_models),\n",
    "            cols=4,\n",
    "            subplot_titles=macro_titles,\n",
    "            shared_xaxes=True,\n",
    "            vertical_spacing=0.08,\n",
    "            horizontal_spacing=0.08,\n",
    "        )\n",
    "\n",
    "        for i, competitor in enumerate(competitor_models):\n",
    "            row_idx = i + 1\n",
    "\n",
    "            for j, macro in enumerate(macro_cols):\n",
    "                col_idx = j + 1\n",
    "                data = win_loss_data[competitor][macro]\n",
    "                total = sum(data.values())\n",
    "                if total == 0:\n",
    "                    continue\n",
    "                win_pct, tie_pct, loss_pct = (\n",
    "                    data[\"win\"] / total * 100,\n",
    "                    data[\"tie\"] / total * 100,\n",
    "                    data[\"loss\"] / total * 100,\n",
    "                )\n",
    "                fig.add_trace(\n",
    "                    go.Bar(\n",
    "                        name=\"Win\",\n",
    "                        x=[win_pct],\n",
    "                        y=[competitor],\n",
    "                        orientation=\"h\",\n",
    "                        marker=dict(color=colors[\"win\"]),\n",
    "                        showlegend=False,\n",
    "                        text=f\"{win_pct:.0f}%\" if win_pct > 5 else \"\",\n",
    "                        textposition=\"inside\",\n",
    "                        customdata=[data[\"win\"]],\n",
    "                        hovertemplate=\"<b>Win</b><br>Count: %{customdata}<br>Percentage: %{x:.1f}%<br><extra></extra>\",\n",
    "                    ),\n",
    "                    row=row_idx,\n",
    "                    col=col_idx,\n",
    "                )\n",
    "                fig.add_trace(\n",
    "                    go.Bar(\n",
    "                        name=\"Tie\",\n",
    "                        x=[tie_pct],\n",
    "                        y=[competitor],\n",
    "                        orientation=\"h\",\n",
    "                        marker=dict(color=colors[\"tie\"]),\n",
    "                        showlegend=False,\n",
    "                        text=f\"{tie_pct:.0f}%\" if tie_pct > 5 else \"\",\n",
    "                        textposition=\"inside\",\n",
    "                        customdata=[data[\"tie\"]],\n",
    "                        hovertemplate=\"<b>Tie</b><br>Count: %{customdata}<br>Percentage: %{x:.1f}%<br><extra></extra>\",\n",
    "                    ),\n",
    "                    row=row_idx,\n",
    "                    col=col_idx,\n",
    "                )\n",
    "                fig.add_trace(\n",
    "                    go.Bar(\n",
    "                        name=\"Loss\",\n",
    "                        x=[loss_pct],\n",
    "                        y=[competitor],\n",
    "                        orientation=\"h\",\n",
    "                        marker=dict(color=colors[\"loss\"]),\n",
    "                        showlegend=False,\n",
    "                        text=f\"{loss_pct:.0f}%\" if loss_pct > 5 else \"\",\n",
    "                        textposition=\"inside\",\n",
    "                        customdata=[data[\"loss\"]],\n",
    "                        hovertemplate=\"<b>Loss</b><br>Count: %{customdata}<br>Percentage: %{x:.1f}%<br><extra></extra>\",\n",
    "                    ),\n",
    "                    row=row_idx,\n",
    "                    col=col_idx,\n",
    "                )\n",
    "                fig.update_yaxes(\n",
    "                    row=row_idx, col=col_idx, showticklabels=False, title_text=\"\"\n",
    "                )\n",
    "\n",
    "            pretty_base = get_display_name(baseline_model)\n",
    "            pretty_comp = competitor\n",
    "            axis_num = i * 4 + 1\n",
    "            y_anchor_ref = f\"y{'' if axis_num == 1 else axis_num}\"\n",
    "\n",
    "            fig.add_annotation(\n",
    "                x=-0.05,\n",
    "                y=competitor,\n",
    "                xref=\"paper\",\n",
    "                yref=y_anchor_ref,\n",
    "                text=f\"<b>{pretty_base}</b>\",\n",
    "                showarrow=False,\n",
    "                xanchor=\"right\",\n",
    "                yanchor=\"middle\",\n",
    "                font=dict(size=12),\n",
    "            )\n",
    "            fig.add_annotation(\n",
    "                x=1.05,\n",
    "                y=competitor,\n",
    "                xref=\"paper\",\n",
    "                yref=y_anchor_ref,\n",
    "                text=f\"<b>{pretty_comp}</b>\",\n",
    "                showarrow=False,\n",
    "                xanchor=\"left\",\n",
    "                yanchor=\"middle\",\n",
    "                font=dict(size=12),\n",
    "            )\n",
    "\n",
    "        fig.update_layout(\n",
    "            barmode=\"stack\",\n",
    "            title={\n",
    "                \"text\": f\"<b>{get_display_name(baseline_model)} vs. Others</b>\",\n",
    "                \"x\": 0.5,\n",
    "                \"xanchor\": \"center\",\n",
    "            },\n",
    "            height=max(200, 60 * len(competitor_models) + 80),\n",
    "            width=1000,\n",
    "            showlegend=False,\n",
    "            plot_bgcolor=\"rgba(250,251,252,0.8)\",\n",
    "            paper_bgcolor=\"white\",\n",
    "            margin=dict(l=200, r=200, t=100, b=20),\n",
    "        )\n",
    "        fig.update_xaxes(range=[0, 100], ticksuffix=\"%\", showticklabels=False)\n",
    "        fig.update_yaxes(showticklabels=False)\n",
    "\n",
    "        fig.show()\n",
    "\n",
    "    def plot_overall_score(self):\n",
    "        \"\"\"Create a bar chart comparing the overall score of each model.\"\"\"\n",
    "        if self.plot_df.empty or \"overall_score\" not in self.plot_df.columns:\n",
    "            print(\"No overall score data to plot.\")\n",
    "            return\n",
    "\n",
    "        summary_df = self.plot_df.groupby(\"model\")[\"overall_score\"].mean().reset_index()\n",
    "        summary_df = summary_df.sort_values(\"overall_score\", ascending=False)\n",
    "\n",
    "        fig = px.bar(\n",
    "            summary_df,\n",
    "            x=\"model\",\n",
    "            y=\"overall_score\",\n",
    "            title=\"<b>Overall Score</b>\",\n",
    "            labels={\"model\": \"Model\", \"overall_score\": \"Composite Score (0-100)\"},\n",
    "            text=\"overall_score\",\n",
    "            color=\"model\",\n",
    "            color_discrete_sequence=px.colors.qualitative.Plotly,\n",
    "        )\n",
    "        fig.update_traces(texttemplate=\"%{text:.2f}\", textposition=\"outside\")\n",
    "\n",
    "        max_score = summary_df[\"overall_score\"].max() if not summary_df.empty else 100\n",
    "\n",
    "        fig.update_layout(\n",
    "            uniformtext_minsize=8,\n",
    "            uniformtext_mode=\"hide\",\n",
    "            xaxis_title=None,\n",
    "            xaxis_tickangle=-45,\n",
    "            showlegend=False,\n",
    "            title_x=0.5,\n",
    "            title_font=dict(size=20, family=\"Arial Black\"),\n",
    "            font=dict(family=\"Arial, sans-serif\", size=12),\n",
    "            yaxis_range=[0, max_score * 1.15],\n",
    "        )\n",
    "        fig.show()"
   ]
  },
  {
   "cell_type": "markdown",
   "id": "6909d270",
   "metadata": {},
   "source": [
    "## Run Benchmark\n"
   ]
  },
  {
   "cell_type": "code",
   "execution_count": 12,
   "id": "a82972d3",
   "metadata": {},
   "outputs": [
    {
     "data": {
      "application/vnd.jupyter.widget-view+json": {
       "model_id": "b8f9f839d28e47b48242b6ebbd37f1c4",
       "version_major": 2,
       "version_minor": 0
      },
      "text/plain": [
       "Processing images:   0%|          | 0/1700 [00:00<?, ?it/s]"
      ]
     },
     "metadata": {},
     "output_type": "display_data"
    }
   ],
   "source": [
    "BENCHMARK_CONFIG = {\n",
    "    \"models\": [\n",
    "        \"january/food-vision-v1\",\n",
    "        \"gpt-4o-mini\",\n",
    "        \"gpt-4o\",\n",
    "        \"gemini/gemini-2.5-flash-preview-05-20\",\n",
    "        \"gemini/gemini-2.5-pro-preview-06-05\",\n",
    "    ],\n",
    "    \"max_items\": 100,\n",
    "    \"cache_dir\": Path(\".cache/food_scan_bench\"),\n",
    "    \"max_concurrent_requests\": 50,\n",
    "    \"use_embeddings_for_matching\": True,\n",
    "    \"report_filename\": \"benchmark_results.csv\",\n",
    "}\n",
    "\n",
    "results_df = await run_evaluation(\n",
    "    models=BENCHMARK_CONFIG[\"models\"],\n",
    "    cache_dir=BENCHMARK_CONFIG[\"cache_dir\"],\n",
    "    max_items=BENCHMARK_CONFIG[\"max_items\"],\n",
    "    max_concurrent=BENCHMARK_CONFIG[\"max_concurrent_requests\"],\n",
    "    use_embeddings=BENCHMARK_CONFIG[\"use_embeddings_for_matching\"],\n",
    ")"
   ]
  },
  {
   "cell_type": "code",
   "execution_count": 14,
   "id": "b4f63a7f",
   "metadata": {},
   "outputs": [
    {
     "name": "stdout",
     "output_type": "stream",
     "text": [
      "=== BENCHMARK SUMMARY (PER VARIANT) ===\n",
      "\n",
      "--- gemini-2.5-flash_f ---\n",
      "  Success Rate: 100.0% (100/100)\n",
      "  Avg Semantic Match (Embeddings): 0.463\n",
      "  Avg Semantic Precision (Ingredients): 0.461\n",
      "  Avg wMAPE (Macros): 58.2%\n",
      "  Avg Cost per Image: $0.0011\n",
      "  Avg Response Time: 11.5s\n",
      "\n",
      "--- gemini-2.5-flash_c ---\n",
      "  Success Rate: 100.0% (100/100)\n",
      "  Avg Semantic Match (Embeddings): 0.503\n",
      "  Avg Semantic Precision (Ingredients): 0.537\n",
      "  Avg wMAPE (Macros): 44.7%\n",
      "  Avg Cost per Image: $0.0012\n",
      "  Avg Response Time: 12.4s\n",
      "\n",
      "--- gemini-2.5-flash_d ---\n",
      "  Success Rate: 100.0% (100/100)\n",
      "  Avg Semantic Match (Embeddings): 0.476\n",
      "  Avg Semantic Precision (Ingredients): 0.450\n",
      "  Avg wMAPE (Macros): 65.2%\n",
      "  Avg Cost per Image: $0.0012\n",
      "  Avg Response Time: 12.3s\n",
      "\n",
      "--- gemini-2.5-flash_s ---\n",
      "  Success Rate: 100.0% (100/100)\n",
      "  Avg Semantic Match (Embeddings): 0.469\n",
      "  Avg Semantic Precision (Ingredients): 0.469\n",
      "  Avg wMAPE (Macros): 65.9%\n",
      "  Avg Cost per Image: $0.0012\n",
      "  Avg Response Time: 12.7s\n",
      "\n",
      "--- gemini-2.5-pro_f ---\n",
      "  Success Rate: 100.0% (100/100)\n",
      "  Avg Semantic Match (Embeddings): 0.445\n",
      "  Avg Semantic Precision (Ingredients): 0.438\n",
      "  Avg wMAPE (Macros): 40.6%\n",
      "  Avg Cost per Image: $0.0203\n",
      "  Avg Response Time: 23.4s\n",
      "\n",
      "--- gemini-2.5-pro_c ---\n",
      "  Success Rate: 100.0% (100/100)\n",
      "  Avg Semantic Match (Embeddings): 0.456\n",
      "  Avg Semantic Precision (Ingredients): 0.465\n",
      "  Avg wMAPE (Macros): 26.3%\n",
      "  Avg Cost per Image: $0.0221\n",
      "  Avg Response Time: 26.0s\n",
      "\n",
      "--- gemini-2.5-pro_d ---\n",
      "  Success Rate: 100.0% (100/100)\n",
      "  Avg Semantic Match (Embeddings): 0.455\n",
      "  Avg Semantic Precision (Ingredients): 0.413\n",
      "  Avg wMAPE (Macros): 42.5%\n",
      "  Avg Cost per Image: $0.0234\n",
      "  Avg Response Time: 27.1s\n",
      "\n",
      "--- gemini-2.5-pro_s ---\n",
      "  Success Rate: 100.0% (100/100)\n",
      "  Avg Semantic Match (Embeddings): 0.453\n",
      "  Avg Semantic Precision (Ingredients): 0.435\n",
      "  Avg wMAPE (Macros): 41.0%\n",
      "  Avg Cost per Image: $0.0227\n",
      "  Avg Response Time: 26.0s\n",
      "\n",
      "--- gpt-4o-mini_f ---\n",
      "  Success Rate: 100.0% (100/100)\n",
      "  Avg Semantic Match (Embeddings): 0.637\n",
      "  Avg Semantic Precision (Ingredients): 0.638\n",
      "  Avg wMAPE (Macros): 44.5%\n",
      "  Avg Cost per Image: $0.0056\n",
      "  Avg Response Time: 7.9s\n",
      "\n",
      "--- gpt-4o-mini_c ---\n",
      "  Success Rate: 100.0% (100/100)\n",
      "  Avg Semantic Match (Embeddings): 0.611\n",
      "  Avg Semantic Precision (Ingredients): 0.621\n",
      "  Avg wMAPE (Macros): 40.7%\n",
      "  Avg Cost per Image: $0.0056\n",
      "  Avg Response Time: 8.2s\n",
      "\n",
      "--- gpt-4o-mini_d ---\n",
      "  Success Rate: 100.0% (100/100)\n",
      "  Avg Semantic Match (Embeddings): 0.643\n",
      "  Avg Semantic Precision (Ingredients): 0.618\n",
      "  Avg wMAPE (Macros): 44.8%\n",
      "  Avg Cost per Image: $0.0056\n",
      "  Avg Response Time: 8.0s\n",
      "\n",
      "--- gpt-4o-mini_s ---\n",
      "  Success Rate: 100.0% (100/100)\n",
      "  Avg Semantic Match (Embeddings): 0.622\n",
      "  Avg Semantic Precision (Ingredients): 0.643\n",
      "  Avg wMAPE (Macros): 41.7%\n",
      "  Avg Cost per Image: $0.0056\n",
      "  Avg Response Time: 7.9s\n",
      "\n",
      "--- gpt-4o_f ---\n",
      "  Success Rate: 100.0% (100/100)\n",
      "  Avg Semantic Match (Embeddings): 0.677\n",
      "  Avg Semantic Precision (Ingredients): 0.711\n",
      "  Avg wMAPE (Macros): 27.7%\n",
      "  Avg Cost per Image: $0.0060\n",
      "  Avg Response Time: 10.6s\n",
      "\n",
      "--- gpt-4o_c ---\n",
      "  Success Rate: 100.0% (100/100)\n",
      "  Avg Semantic Match (Embeddings): 0.673\n",
      "  Avg Semantic Precision (Ingredients): 0.708\n",
      "  Avg wMAPE (Macros): 26.0%\n",
      "  Avg Cost per Image: $0.0060\n",
      "  Avg Response Time: 10.6s\n",
      "\n",
      "--- gpt-4o_d ---\n",
      "  Success Rate: 100.0% (100/100)\n",
      "  Avg Semantic Match (Embeddings): 0.684\n",
      "  Avg Semantic Precision (Ingredients): 0.696\n",
      "  Avg wMAPE (Macros): 28.7%\n",
      "  Avg Cost per Image: $0.0061\n",
      "  Avg Response Time: 11.2s\n",
      "\n",
      "--- gpt-4o_s ---\n",
      "  Success Rate: 100.0% (100/100)\n",
      "  Avg Semantic Match (Embeddings): 0.642\n",
      "  Avg Semantic Precision (Ingredients): 0.692\n",
      "  Avg wMAPE (Macros): 26.7%\n",
      "  Avg Cost per Image: $0.0060\n",
      "  Avg Response Time: 11.1s\n",
      "\n",
      "--- January AI ---\n",
      "  Success Rate: 100.0% (100/100)\n",
      "  Avg Semantic Match (Embeddings): 0.886\n",
      "  Avg Semantic Precision (Ingredients): 0.883\n",
      "  Avg wMAPE (Macros): 14.2%\n",
      "  Avg Cost per Image: $0.0100\n",
      "  Avg Response Time: 10.5s\n",
      "\n",
      "\n",
      "=== AGGREGATED SUMMARY (BEST OF N PROMPTS) ===\n",
      "\n",
      "--- January AI (from 100 samples) ---\n",
      "  Avg Semantic Match (Embeddings): 0.886\n",
      "  Avg Semantic Precision (Ingredients): 0.883\n",
      "  Avg wMAPE (Macros): 14.2%\n",
      "  Avg Cost per Image: $0.0100\n",
      "  Avg Response Time: 10.5s\n",
      "\n",
      "  overall Score: 86.24 / 100\n",
      "\n",
      "--- gemini-2.5-flash (Best) (from 100 samples) ---\n",
      "  Avg Semantic Match (Embeddings): 0.567\n",
      "  Avg Semantic Precision (Ingredients): 0.582\n",
      "  Avg wMAPE (Macros): 43.6%\n",
      "  Avg Cost per Image: $0.0012\n",
      "  Avg Response Time: 12.2s\n",
      "\n",
      "  overall Score: 60.65 / 100\n",
      "\n",
      "--- gemini-2.5-pro (Best) (from 100 samples) ---\n",
      "  Avg Semantic Match (Embeddings): 0.528\n",
      "  Avg Semantic Precision (Ingredients): 0.524\n",
      "  Avg wMAPE (Macros): 23.9%\n",
      "  Avg Cost per Image: $0.0215\n",
      "  Avg Response Time: 25.3s\n",
      "\n",
      "  overall Score: 60.67 / 100\n",
      "\n",
      "--- gpt-4o (Best) (from 100 samples) ---\n",
      "  Avg Semantic Match (Embeddings): 0.705\n",
      "  Avg Semantic Precision (Ingredients): 0.737\n",
      "  Avg wMAPE (Macros): 23.5%\n",
      "  Avg Cost per Image: $0.0060\n",
      "  Avg Response Time: 10.3s\n",
      "\n",
      "  overall Score: 74.11 / 100\n",
      "\n",
      "--- gpt-4o-mini (Best) (from 100 samples) ---\n",
      "  Avg Semantic Match (Embeddings): 0.665\n",
      "  Avg Semantic Precision (Ingredients): 0.667\n",
      "  Avg wMAPE (Macros): 36.1%\n",
      "  Avg Cost per Image: $0.0056\n",
      "  Avg Response Time: 7.3s\n",
      "\n",
      "  overall Score: 66.44 / 100\n",
      "\n",
      "\n",
      "=== AGGREGATED SUMMARY (AVERAGE) ===\n",
      "\n",
      "--- January AI (from 100 samples) ---\n",
      "  Avg Semantic Match (Embeddings): 0.886\n",
      "  Avg Semantic Precision (Ingredients): 0.883\n",
      "  Avg wMAPE (Macros): 14.2%\n",
      "  Avg Cost per Image: $0.0100\n",
      "  Avg Response Time: 10.5s\n",
      "\n",
      "  overall Score: 86.24 / 100\n",
      "\n",
      "--- gemini-2.5-flash (Avg) (from 100 samples) ---\n",
      "  Avg Semantic Match (Embeddings): 0.478\n",
      "  Avg Semantic Precision (Ingredients): 0.479\n",
      "  Avg wMAPE (Macros): 58.5%\n",
      "  Avg Cost per Image: $0.0012\n",
      "  Avg Response Time: 12.3s\n",
      "\n",
      "  overall Score: 48.53 / 100\n",
      "\n",
      "--- gemini-2.5-pro (Avg) (from 100 samples) ---\n",
      "  Avg Semantic Match (Embeddings): 0.452\n",
      "  Avg Semantic Precision (Ingredients): 0.437\n",
      "  Avg wMAPE (Macros): 37.6%\n",
      "  Avg Cost per Image: $0.0221\n",
      "  Avg Response Time: 25.6s\n",
      "\n",
      "  overall Score: 50.75 / 100\n",
      "\n",
      "--- gpt-4o (Avg) (from 100 samples) ---\n",
      "  Avg Semantic Match (Embeddings): 0.669\n",
      "  Avg Semantic Precision (Ingredients): 0.702\n",
      "  Avg wMAPE (Macros): 27.3%\n",
      "  Avg Cost per Image: $0.0060\n",
      "  Avg Response Time: 10.9s\n",
      "\n",
      "  overall Score: 70.61 / 100\n",
      "\n",
      "--- gpt-4o-mini (Avg) (from 100 samples) ---\n",
      "  Avg Semantic Match (Embeddings): 0.629\n",
      "  Avg Semantic Precision (Ingredients): 0.630\n",
      "  Avg wMAPE (Macros): 42.9%\n",
      "  Avg Cost per Image: $0.0056\n",
      "  Avg Response Time: 8.0s\n",
      "\n",
      "  overall Score: 60.73 / 100\n",
      "\n",
      "--- ERROR ANALYSIS ---\n",
      "No errors encountered. All API calls were successful.\n",
      "\n"
     ]
    },
    {
     "data": {
      "application/vnd.plotly.v1+json": {
       "config": {
        "displayModeBar": true,
        "displaylogo": false,
        "modeBarButtonsToRemove": [
         "pan2d",
         "lasso2d"
        ],
        "plotlyServerURL": "https://plot.ly",
        "toImageButtonOptions": {
         "filename": "model_performance_dashboard",
         "format": "png",
         "height": 800,
         "scale": 2,
         "width": 1400
        }
       },
       "data": [
        {
         "legendgroup": "1",
         "line": {
          "color": "#636EFA",
          "width": 2
         },
         "marker": {
          "color": "#636EFA",
          "line": {
           "color": "rgba(0,0,0,0.3)",
           "width": 1
          }
         },
         "name": "1",
         "showlegend": false,
         "type": "box",
         "xaxis": "x",
         "y": {
          "bdata": "HnK82QXh5T/+///////vPwIAAAAAAPA/GtHWNAqO6z+d/e9pmm3ePzDRfXsIFu0/+///////7z/8///////vPwIAAAAAAPA/XntsKJgH6T8CAAAAAADwPwEAAAAAAPA/SBDJqd2A7D8BAAAAAADwP+oHBLleOu4/2Vd1NcDh5j+kkdIyaDrqPwYAAAAAAPA/AAAAAAAA8D8BAAAAAADwPwEAAAAAAPA/br/vl43e7j+ojur866TvPwIAAAAAAPA/AgAAAAAA8D8CAAAAAADwPwAAAAAAAPA/gi0e4ie87j8GAAAAAADwPyIcozZ2tu0/mOC2NgGd7T/+///////vPwAAAAAAAPA/AAAAAAAA8D8EAAAAAADwPwQAAAAAAPA/AgAAAAAA8D8AAAAAAADwPwAAAAAAAPA//v//////7z+q3h3rhAnrPwEAAAAAAPA/TzjmORc46T8DAAAAAADwP/n//////+8/QIILl8Xq6z/NH5FFY7vpP7X7Yuc3euw/WqJhJu/z3z8CAAAAAADwPwIAAAAAAPA/AQAAAAAA8D/HCD7w04nbP/7//////+8/BgAAAAAA8D8AAAAAAADwP0EpXyUYu+4/rBgzFN2L7z8CAAAAAADwPwQAAAAAAPA/BQAAAAAA8D8CAAAAAADwPysNiq8/tus/FlP5i5Dh5T/GXQCwtm7jPwIAAAAAAPA/HgBlibQY5D/g2CfD/v/vPxSL5mINAeQ/HVWyxkGo6D+CdgYg4AfpP9Hm7uV8tOs/N54VIfBi7T/aklQbmpnlP1P9ITr7Quc/BAAAAAAA8D9aE/zDcxbbP6qPi0keheo/5kRBezjm7j+fF2j9/uTdP/7//////+8/31EfbMuB7j8OKcoV6Y7rPwAAAAAAAPA/AAAAAAAA8D8CAAAAAADwP/ElzTGn++U/AgAAAAAA8D/KYHrgnebfPwIAAAAAAPA/6zZDPK+z6D/cSNZfFPnhP8BWxdKBH90/CAAAAAAA8D8BAAAAAADwP75dYjPYru0/+///////7z8EAAAAAADwPwLVer8AY+w/wgzLrLHd6z8=",
          "dtype": "f8"
         },
         "yaxis": "y"
        },
        {
         "legendgroup": "1",
         "line": {
          "color": "#636EFA",
          "width": 2
         },
         "marker": {
          "color": "#636EFA",
          "line": {
           "color": "rgba(0,0,0,0.3)",
           "width": 1
          }
         },
         "name": "1",
         "showlegend": false,
         "type": "box",
         "xaxis": "x2",
         "y": {
          "bdata": "LwCI/5AwRkA7ivQiCicPQL2TxGHXlilA2JEucN0FU0AAOA8AHIQbQAGurJwzD+o/DWJRfY9KI0ABb6deL1mQPwbHw3uHViJAIvKKHhhfLkDkdjFh8PU3QHEsu9OiEgJAKT6fvtmOREAlfZDzVCWEPzYqHbLSIaM/q0xO0a71NEDQ0pD3PAuvP5tpfRRKhpY/+IIcgeCfoD+YfseMTygiQHwaIHPm7rM/mZno1njfIkACT4qzgOGhP+G8ATNjTkJAqfbQ2tR5IkDtpjjy2tOgP067ViZfaqo/LoFqJi1wJkDGU2F52MEvQMo+GUd5/RtAEqJZPbO3OUAkz4f73e6iP5I/+odV8vM/a38wVjiFC0DWv9pt50j5P8cXW5QWh5Q/CTtwNgyBoT8fZmCsPHaYP0SVpMVnVDtAi6u/Thj15z8WZyjHPan5P16ZbApObsI/r6NzgPS7PEAIrRBZvyE8QGhKnsP4V6g/f1KwTfKZqD/d+PFAGv1DQPG7nAQDKidAuHKk0U4DPUBu9D74qLGhP39SsE3ymag/oZ2PTWvQrD/p/ya0R3+xP+otke1Eipo/DzvefnQ5lD8aMsiVR4WdP8cTNOEEYa8/fGWm9H7ikz8UTrXtdOiYP6hdaI1N8sg/4hVkeCWFQ0Cnv9GhlF1+P/xGVgYFHSdAJ9tCFuzLO0CptWgVzzQsQMCa+aTNMCpA1j4WA5AfCkAp3pLCgtGOP7TIt2ozjGBAj2/K/RxkNEDJQF4s9r0iQNFZoKJgGjBAJfpZVoUFiD+nq6dMqGwyQBI2ZOUbTjJAlsG6HB60NkBMrS4cf1BYQLddLFBIEDJARz8X9OpmqT8n2YyheyJAQD2IkewNWhRA2MCsswfpoz8kK1HlTAtJQApk7GV1uztAtMGO7iK/oD8BOBVfkvr4P9IoRksyZbI/GRRlb01EGUAYN3cdAqE0QCeYwyZx8h9ARwnSVrHbQkAY//P46J43QHIS3o+2ozRA40yfi5Oxrz8Cm3PFSn0XQErcZNjPfqw/9P0YopEJDkDxNu+Yx/bmP/O7hxzqNRdAPK8NCNm2YUA=",
          "dtype": "f8"
         },
         "yaxis": "y2"
        },
        {
         "legendgroup": "1",
         "line": {
          "color": "#636EFA",
          "width": 2
         },
         "marker": {
          "color": "#636EFA",
          "line": {
           "color": "rgba(0,0,0,0.3)",
           "width": 1
          }
         },
         "name": "1",
         "showlegend": false,
         "type": "box",
         "xaxis": "x3",
         "y": {
          "bdata": "exSuR+G6NEBI4XoUrgcyQNejcD0KVyZAuB6F61G4EEAUrkfhelQxQLgehetROCtAUrgehetRKkBxPQrXo3AeQNejcD0K1yFAhetRuB6FGkCF61G4HgUlQKRwPQrXIylA16NwPQrXGECkcD0K16MWQOF6FK5H4SVASOF6FK5HF0BmZmZmZmYiQArXo3A9ChNAUrgehetRGEAzMzMzM7MkQNejcD0KVyFAMzMzMzOzJUBmZmZmZmYnQMP1KFyPwhlAPQrXo3A9FUApXI/C9SgfQOxRuB6FayFA16NwPQrXHUAfhetRuB4WQJqZmZmZmR9AexSuR+F6E0DNzMzMzEwxQDMzMzMzMxRAzczMzMxMI0AzMzMzMzMnQB+F61G4nitApHA9CtejHEAAAAAAAAAmQM3MzMzMzC9Aj8L1KFyPJECF61G4HoUfQJqZmZmZmR5AcT0K16PwIUDsUbgehWshQOxRuB6F6yVAmpmZmZkZJUDhehSuR+EOQI/C9ShcjxdAUrgehevRKUDNzMzMzMwZQD0K16NwPRVAPQrXo3A9JkBcj8L1KFwgQBSuR+F6FBdAmpmZmZkZLECPwvUoXA8lQAAAAAAAABpAcT0K16NwIkC4HoXrUXgwQPYoXI/CdSRArkfhehSuLkAzMzMzM7MsQMP1KFyPgjJAcT0K16PwKUCPwvUoXI8mQM3MzMzMzBRAKVyPwvWoKEDXo3A9CtcdQNejcD0K1x5APQrXo3A9GUAUrkfhehQsQIXrUbgeBTFApHA9CtejMEBmZmZmZmYuQLgehetROCJACtejcD2KLEDD9Shcj0IpQKRwPQrXIyRAhetRuB6FGkB7FK5H4TowQArXo3A9iitA7FG4HoXrG0A9CtejcL0iQAAAAAAAgC9A9ihcj8I1MEBI4XoUrkcsQMP1KFyPQjJACtejcD0KJ0DNzMzMzMweQBSuR+F6FC5AUrgehetRJUBmZmZmZmYVQBSuR+F6lCBA7FG4HoVrJEApXI/C9agsQPYoXI/C9SNAPQrXo3A9J0DD9Shcj4IyQHE9CtejcCNApHA9CtejEUA=",
          "dtype": "f8"
         },
         "yaxis": "y3"
        },
        {
         "legendgroup": "1",
         "line": {
          "color": "#636EFA",
          "width": 2
         },
         "marker": {
          "color": "#636EFA",
          "line": {
           "color": "rgba(0,0,0,0.3)",
           "width": 1
          }
         },
         "name": "1",
         "showlegend": false,
         "type": "box",
         "xaxis": "x4",
         "y": {
          "bdata": "AAAAAAAA8D8AAAAAAADwP6uqqqqqquo/AAAAAAAA6D9VVVVVVVXVPwAAAAAAAOg/AAAAAAAA8D8AAAAAAADwP9u2bdu2bes/VVVVVVVV1T8AAAAAAADwPwAAAAAAAPA/AAAAAAAA6D8AAAAAAADwPwAAAAAAAPA/AAAAAAAA8D8AAAAAAADwPwAAAAAAAPA/AAAAAAAA8D8AAAAAAADsPwAAAAAAAPA/t23btm3b5j8AAAAAAADwP1VVVVVVVeU/t23btm3b5j8AAAAAAADwPwAAAAAAAPA/q6qqqqqq6j8AAAAAAADwP6uqqqqqquo/AAAAAAAA6D8AAAAAAADwPwAAAAAAAPA/AAAAAAAA4D8AAAAAAADoPwAAAAAAAPA/AAAAAAAA8D8AAAAAAADwPwAAAAAAAPA/27Zt27Zt6z+amZmZmZnpPwAAAAAAAPA/AAAAAAAA8D8AAAAAAADwPwAAAAAAAPA/AAAAAAAA8D9VVVVVVVXlP5qZmZmZmek/27Zt27Zt6z8AAAAAAADwPwAAAAAAAPA/AAAAAAAA8D8AAAAAAADwPwAAAAAAAPA/AAAAAAAA8D8AAAAAAADwPwAAAAAAAPA/AAAAAAAA8D8AAAAAAADwPwAAAAAAAPA/AAAAAAAA6D8AAAAAAADwPwAAAAAAAOg/q6qqqqqq6j8zMzMzMzPjPwAAAAAAAOA/MzMzMzMz4z8AAAAAAADwP5qZmZmZmek/VVVVVVVV5T8AAAAAAADoPwAAAAAAAOg/AAAAAAAA8D8AAAAAAADwPwAAAAAAAPA/AAAAAAAA8D9VVVVVVVXVPwAAAAAAAOg/AAAAAAAA8D9VVVVVVVXlPwAAAAAAAOw/AAAAAAAA8D8AAAAAAADoP5qZmZmZmek/AAAAAAAA8D8AAAAAAADwPwAAAAAAAPA/AAAAAAAA8D8AAAAAAADwPwAAAAAAAPA/AAAAAAAA6D8AAAAAAADwPwAAAAAAAPA/AAAAAAAA8D/btm3btm3rPwAAAAAAAPA/MzMzMzMz4z8AAAAAAADwPwAAAAAAAPA/AAAAAAAA8D8=",
          "dtype": "f8"
         },
         "yaxis": "y4"
        },
        {
         "legendgroup": "1",
         "line": {
          "color": "#636EFA",
          "width": 2
         },
         "marker": {
          "color": "#636EFA",
          "line": {
           "color": "rgba(0,0,0,0.3)",
           "width": 1
          }
         },
         "name": "1",
         "showlegend": false,
         "type": "box",
         "xaxis": "x5",
         "y": {
          "bdata": "t23btm3b5j8AAAAAAADwPwAAAAAAAPA/AAAAAAAA8D8AAAAAAADgPwAAAAAAAPA/AAAAAAAA8D8AAAAAAADwP1VVVVVVVeU/kiRJkiRJ0j8AAAAAAADwP9u2bdu2bes/AAAAAAAA8D8AAAAAAADwPwAAAAAAAPA/AAAAAAAA6D8AAAAAAADwPwAAAAAAAPA/AAAAAAAA8D8AAAAAAADwPwAAAAAAAPA/t23btm3b5j8AAAAAAADwPwAAAAAAAOA/q6qqqqqq6j8AAAAAAADwPwAAAAAAAPA/q6qqqqqq6j8AAAAAAADwP6uqqqqqquo/AAAAAAAA6D8AAAAAAADwPwAAAAAAAPA/MzMzMzMz4z8AAAAAAADwPwAAAAAAAPA/AAAAAAAA8D8AAAAAAADwPwAAAAAAAPA/27Zt27Zt6z+amZmZmZnpPwAAAAAAAPA/AAAAAAAA8D8AAAAAAADwPwAAAAAAAPA/AAAAAAAA8D9VVVVVVVXlP5qZmZmZmek/AAAAAAAA8D8AAAAAAADwPwAAAAAAAPA/AAAAAAAA8D8AAAAAAADwPwAAAAAAAPA/AAAAAAAA8D8AAAAAAADwPwAAAAAAAPA/AAAAAAAA8D8AAAAAAADwPwAAAAAAAOg/27Zt27Zt2z8AAAAAAADwPwAAAAAAAOg/q6qqqqqq6j8zMzMzMzPjP1VVVVVVVeU/MzMzMzMz4z8AAAAAAADwP5qZmZmZmek/AAAAAAAA8D8zMzMzMzPjPwAAAAAAAOg/AAAAAAAA8D8AAAAAAADwPwAAAAAAAPA/AAAAAAAA8D8AAAAAAADQPwAAAAAAAOg/AAAAAAAA8D8AAAAAAADgPwAAAAAAAPA/AAAAAAAA8D8AAAAAAADoPwAAAAAAAPA/AAAAAAAA8D8AAAAAAADwPwAAAAAAAPA/AAAAAAAA8D8AAAAAAADoPwAAAAAAAPA/AAAAAAAA6D+amZmZmZnpPwAAAAAAAOg/AAAAAAAA8D8AAAAAAADwPwAAAAAAAPA/AAAAAAAA6D8AAAAAAADwP9u2bdu2bes/VVVVVVVV5T8=",
          "dtype": "f8"
         },
         "yaxis": "y5"
        },
        {
         "legendgroup": "1",
         "line": {
          "color": "#636EFA",
          "width": 2
         },
         "marker": {
          "color": "#636EFA",
          "line": {
           "color": "rgba(0,0,0,0.3)",
           "width": 1
          }
         },
         "name": "1",
         "showlegend": false,
         "type": "box",
         "xaxis": "x6",
         "y": {
          "bdata": "qqqqqqqq6j8AAAAAAADwPxdddNFFF+0/27Zt27Zt6z+amZmZmZnZP9u2bdu2bes/AAAAAAAA8D8AAAAAAADwPwAAAAAAAOg/EzuxEzux0z8AAAAAAADwP53YiZ3Yie0/27Zt27Zt6z8AAAAAAADwPwAAAAAAAPA/27Zt27Zt6z8AAAAAAADwPwAAAAAAAPA/AAAAAAAA8D/e3d3d3d3tPwAAAAAAAPA/t23btm3b5j8AAAAAAADwP5MkSZIkSeI/2Imd2Imd6D8AAAAAAADwPwAAAAAAAPA/q6qqqqqq6j8AAAAAAADwP6uqqqqqquo/AAAAAAAA6D8AAAAAAADwPwAAAAAAAPA/dNFFF1104T/btm3btm3rPwAAAAAAAPA/AAAAAAAA8D8AAAAAAADwPwAAAAAAAPA/27Zt27Zt6z+bmZmZmZnpPwAAAAAAAPA/AAAAAAAA8D8AAAAAAADwPwAAAAAAAPA/AAAAAAAA8D9VVVVVVVXlP5uZmZmZmek/ndiJndiJ7T8AAAAAAADwPwAAAAAAAPA/AAAAAAAA8D8AAAAAAADwPwAAAAAAAPA/AAAAAAAA8D8AAAAAAADwPwAAAAAAAPA/AAAAAAAA8D8AAAAAAADwP9u2bdu2bes/dNFFF1104T8AAAAAAADwPwAAAAAAAOg/q6qqqqqq6j8zMzMzMzPjP5MkSZIkSeI/MzMzMzMz4z8AAAAAAADwP5uZmZmZmek/mpmZmZmZ6T9UVVVVVVXlPwAAAAAAAOg/AAAAAAAA8D8AAAAAAADwPwAAAAAAAPA/AAAAAAAA8D+TJEmSJEnSPwAAAAAAAOg/AAAAAAAA8D+TJEmSJEniP97d3d3d3e0/AAAAAAAA8D8AAAAAAADoPx3HcRzHcew/AAAAAAAA8D8AAAAAAADwPwAAAAAAAPA/AAAAAAAA8D/btm3btm3rPwAAAAAAAPA/AAAAAAAA6D8dx3Ecx3HsP9u2bdu2bes/AAAAAAAA8D+d2Imd2IntPwAAAAAAAPA/VFVVVVVV5T8AAAAAAADwP53YiZ3Yie0/mpmZmZmZ6T8=",
          "dtype": "f8"
         },
         "yaxis": "y6"
        },
        {
         "legendgroup": "2",
         "line": {
          "color": "#EF553B",
          "width": 2
         },
         "marker": {
          "color": "#EF553B",
          "line": {
           "color": "rgba(0,0,0,0.3)",
           "width": 1
          }
         },
         "name": "2",
         "showlegend": false,
         "type": "box",
         "xaxis": "x",
         "y": {
          "bdata": "vMEBYkHf6T8EKOJqDZLtP7DGkcTtI+o/GtHWNAqO6z8kxgA9lXjYPxxaPfr2keo/06nmm4fn5z/8///////vP0DfSiYtFes/7tWyo+ew5D+0glHpZs3kP9RBGi21X+s/Kojk1G5A7j/wPrzadmrnP5KEv01tSus/ZECClUrJ6j+IDYLUHnrmPyb03Zx/jOs/BonWIugq7j8MffIA0sruP/UnMIxt1e0/wySwwtHN6T9acoFjifTsP3VWR2nU5uQ/AtAeihki7j+eROf2jL/tP44pyywOXu8/J9Cnn0nS6j+FF8MfweXtP6JUq74fq+4/8N4DAyOd7T8pTH6jmKHkPw/qS0hhFe0/Nr+fB2Xj6z+iiYkXE33tP8BSR85wq+4/KlsUwivI7D8AAAAAAADwP323SUCuHeQ/uyZuHL9e6j+Wmt0ZHrXnP4exKNY9yuM/RNk6oDNv3D/0KFRPAo/aPw9jVP+LG9w/JKYVF6uv3D8lmZB6LdvmP2ild1S+BOc/RtfrNulz5T/2SQMKMqHmP+BqvVngRuw/ddSe6eRB6D+yzPPVMFDcP4zVbISxNu8/1D1ietZI7z+fiHXiA9HiPzVOjMPEFuU/xxnavepw6T9mJ6eq1bbmP7WqjVFJpOo/WBgPe1Cx6T9n2yf/I8bpP/i++/bJ3Oc/KqEtbCXT5j8hQHuP7AncPxVjmfX2ses/ZgQ9sA3K5D/+/p28XW/mPxh7aYY4NeI/xGzx/+jZ7T86Iyzt4TvmP7ZoIr4zxOQ/Etj4FCNk6j/gjvu+EcruP0Q/u+kiDuY/KLGzhGqp4j/lKeHzEhviP2EYnpdkAuk/DQh9Irg17T/sCc1Zss7YP9USC/DE+e0/8xTPkhtF6z8CM2dy4lPcP4XJpmEvSuw/nB7nNN2k5D9eGNZRhHvtP839WbJOQ+g/CRVZykH26j/Q92PG7wXbP/JbibSaF+w/pTDYA0XQ2D/pvhuZFc3cP3sKzU3Fm+U/Ly19nqAu5z9SzzgS6O7oP7bx192IAuc/bu2Rknbw5T/ciN0sLWLtP4u2ZfjjmOY/1J+zr8af4T8=",
          "dtype": "f8"
         },
         "yaxis": "y"
        },
        {
         "legendgroup": "2",
         "line": {
          "color": "#EF553B",
          "width": 2
         },
         "marker": {
          "color": "#EF553B",
          "line": {
           "color": "rgba(0,0,0,0.3)",
           "width": 1
          }
         },
         "name": "2",
         "showlegend": false,
         "type": "box",
         "xaxis": "x2",
         "y": {
          "bdata": "bMzCptoKZEC4cOxk4UdAQGXBO9uROTlA31thHGWBTkBKWh0BDW1FQNczQTrNgBVAJY54GKD7WUCWjI70rDFHQIwFklqmPFlAcGnM8AHMW0B1ejYVXFNaQPRpB5gTZDpAtkfqeeLOOEAGaZAGaZA2QOxXCtT6HTxAglj0G28PPUBAxZIUWaRVQOT7UtYnljlA2iozgivHPUBc77W7xcxoQGDAf1UcrURAnBXphGP4TkDas/Gy/xk1QKMnDoWvXkJASxdD/MihJkBbIh/S6AlFQHwWS7SGq0BA82uKo/IGHEBSC/LYgPE2QEjRI37SkUxACiGmJ5QvNED1l4RG/LguQG8skkJwMkRAy7VCkGHJV0A9rWiXGTsxQAfEOVsdqSxAHLuIPCyqQkAwMBs9y1s9QCJVYi+GgDFAXm+JPP+URkBxtOtJgHM5QAAAAAAAEDNAhIeGQu73WUBTGP6eUQFMQOhlEZ9AekVAlsy9o2lMSEBwSPbewslRQABZg8r0XmdAjLS4BGIea0DSWo42ppIoQGgaUwxrsDtAdxcBBqH1PkCweSw6pywwQEfV3ml0FERAZ814awFUNECYreeozCc1QCBQMbPxIVhASh4CrCiANECyEzuxEzVEQPPwEc13nURAQhQVckOLXUCMiO87EeVSQKMPyi1Jfz5A7G5ilMzrQ0ADeqUy81dAQD8T/kz4Mz9AL/MRGnXCKUCOshnueaBKQEYXXXTRVWRAuaZRMPzASUC6WySeoik3QOQ4juM4rjBAV0lHqz1IIkDlxHalbZhGQI+VbzjRyUNAgYz4zR2oekBGqok/4upTQLZhmcvf7kZAmfmJFqy2N0D2u1R+hIxWQMLkVnwkkDxAJU7Xa9UwUEAj+0SEutZEQPa17dC/mFVAmiZikDVGQUDPXkJ7CVFKQHbwG96poV1AlUa8xlFWNUAsmMKaGRs3QKoRj4Fuq0JAwgUucIGLWkBQRiIOMBBKQIlzHaM412FADhlPmychV0BOcxNKD8xUQHPk54pZbk1AurP0lOegQEC6WCCpZTpLQHaE4IPGlUBA2pzKgLvzaUA=",
          "dtype": "f8"
         },
         "yaxis": "y2"
        },
        {
         "legendgroup": "2",
         "line": {
          "color": "#EF553B",
          "width": 2
         },
         "marker": {
          "color": "#EF553B",
          "line": {
           "color": "rgba(0,0,0,0.3)",
           "width": 1
          }
         },
         "name": "2",
         "showlegend": false,
         "type": "box",
         "xaxis": "x3",
         "y": {
          "bdata": "MzMzMzMTOUCamZmZmQkzQFK4HoXr0SxAhetRuB4FIEDC9Shcj8IvQArXo3A9KilAmpmZmZlZK0DhehSuR8EnQB+F61G43iVAj8L1KFxvLkBI4XoUrqcsQM3MzMzMvDhASOF6FK5nK0CPwvUoXG8kQOxRuB6FyyJA16NwPQo3JUC4HoXrUZgkQDMzMzMzcyFAH4XrUbh+LkCamZmZmfkxQArXo3A9CiVArkfhehRuK0AzMzMzM7MkQNejcD0KFx5AZmZmZmZGJEDhehSuR0EmQHsUrkfhOiRAuB6F61GYJ0CQwvUoXG8jQML1KFyPwiBAFK5H4Xr0I0CuR+F6FG4wQK5H4XoUritApHA9CtcjKEAfhetRuJ4qQBWuR+F6lCdAZmZmZmZGI0AfhetRuB4rQFK4HoXrMSpAj8L1KFxvKECkcD0K1+MgQArXo3A96iVAKVyPwvUoHEA9CtejcD0eQK5H4XoUjjBAexSuR+EaIEDC9Shcj4IXQK5H4XoUzipAPgrXo3DdKUC4HoXrUTghQK5H4XoUrh5ArkfhehSOJEA0MzMzM/MbQB+F61G4/iZAH4XrUbieKEBI4XoUrqciQM3MzMzMDChAUrgehetxI0CG61G4HqUjQArXo3A9aidAuB6F61E4LUApXI/C9SgnQArXo3A9yiZAUrgehevhMEBSuB6F6xEwQHA9CtejECVAZ2ZmZmaGKkAVrkfhenQiQJqZmZmZuSBA4XoUrkehHkAfhetRuB4tQBSuR+F6dCVAkML1KFyvKEAUrkfhenQiQDQzMzMzcxlAj8L1KFwvLUCamZmZmfkqQIXrUbgeRShAXI/C9SgcJkBSuB6F61EqQGZmZmZmpjJAexSuR+FaJkDD9Shcj4IqQOxRuB6FSy5ACtejcD2qKUBRuB6F65E8QDMzMzMz0ylA16NwPQpXJEApXI/C9QgmQK5H4XoUji5AAAAAAABgI0DC9Shcj6IkQLgehetR2CxAmpmZmZmZLECuR+F6FG4vQHsUrkfhGihArkfhehROKUBcj8L1KBwvQB+F61G4PilAhetRuB7FJEA=",
          "dtype": "f8"
         },
         "yaxis": "y3"
        },
        {
         "legendgroup": "2",
         "line": {
          "color": "#EF553B",
          "width": 2
         },
         "marker": {
          "color": "#EF553B",
          "line": {
           "color": "rgba(0,0,0,0.3)",
           "width": 1
          }
         },
         "name": "2",
         "showlegend": false,
         "type": "box",
         "xaxis": "x4",
         "y": {
          "bdata": "mpmZmZmZ6T8AAAAAAADiPwAAAAAAAAAAAAAAAAAAwD8AAAAAAAAAAAAAAAAAAOI/AAAAAAAA4D9JkiRJkiTZP5IkSZIkScI/VVVVVVVVxT/NzMzMzMzcPwAAAAAAAOQ/AAAAAAAA4j9VVVVVVVXVP1VVVVVVVeU/VVVVVVVV5T8AAAAAAADoPwAAAAAAAOA/btu2bdu25T8AAAAAAADcPwAAAAAAAOY/SZIkSZIk6T9VVVVVVVXhP6qqqqqqquI/bdu2bdu23T+qqqqqqqrqP83MzMzMzOQ/qqqqqqqq5j/NzMzMzMzkP1VVVVVVVd0/AAAAAAAAsD8AAAAAAADQP6qqqqqqquY/VVVVVVVV1T8AAAAAAADYPwAAAAAAAOg/AAAAAAAA8D8AAAAAAADiPwAAAAAAAOQ/AAAAAAAA6D+amZmZmZnpP6qqqqqqqso/AAAAAAAA8D8AAAAAAAAAAKqqqqqqquY/VVVVVVVV1T9VVVVVVVXlP5qZmZmZmbk/SZIkSZIk2T9mZmZmZmbWP6qqqqqqqto/VVVVVVVV1T9VVVVVVVXlPzQzMzMzM+s/AAAAAAAA5D8AAAAAAADYPzMzMzMzM+M/AAAAAAAA0D8AAAAAAAAAAFVVVVVVVe0/AAAAAAAA4j+qqqqqqqriPwAAAAAAAOg/qqqqqqqqyj8AAAAAAADQPwAAAAAAAMA/mpmZmZmZyT8AAAAAAADoP5qZmZmZmbk/AAAAAAAA8D8AAAAAAADQPwAAAAAAAMA/AAAAAAAA6D+qqqqqqqraP1VVVVVVVcU/AAAAAAAAAABVVVVVVVXVPwAAAAAAANw/VVVVVVVV5T8AAAAAAADwPwAAAAAAANg/AAAAAAAA8D8AAAAAAADgPzMzMzMzM+M/VVVVVVVV1T8AAAAAAADYP1VVVVVVVeU/VVVVVVVV1T9VVVVVVVXVP////////98/AAAAAAAA1D8AAAAAAADcPwAAAAAAAAAAAAAAAAAAuD8AAAAAAADgP7dt27Zt2+Y/zczMzMzM5D9JkiRJkiTZP1VVVVVVVbU/AAAAAAAA5D8=",
          "dtype": "f8"
         },
         "yaxis": "y4"
        },
        {
         "legendgroup": "2",
         "line": {
          "color": "#EF553B",
          "width": 2
         },
         "marker": {
          "color": "#EF553B",
          "line": {
           "color": "rgba(0,0,0,0.3)",
           "width": 1
          }
         },
         "name": "2",
         "showlegend": false,
         "type": "box",
         "xaxis": "x5",
         "y": {
          "bdata": "JEmSJEmS4D9ERERERETcPwAAAAAAAAAAAAAAAAAA0D8AAAAAAAAAAAAAAAAAAOg/AAAAAAAA4D9VVVVVVVXdP/Q8z/M8z8M/x3Ecx3Ecvz+ZmZmZmZnZP27btm3btuE/AAAAAAAA4j9VVVVVVVXdP1VVVVVVVeU/qqqqqqqq3j+rqqqqqqriP83MzMzMzNw/GIZhGIZh6D/v7u7u7u7ePwAAAAAAAOY/AAAAAAAA5j9u27Zt27bdP6qqqqqqquI/VVVVVVVV4T9VVVVVVVXpPwAAAAAAAOQ/SZIkSZIk5T/NzMzMzMzkP1VVVVVVVd0/VVVVVVVVtT8AAAAAAADQP7dt27Zt2+I/iYiIiIiI2D8kSZIkSZLaP2ZmZmZmZuQ/AAAAAAAA6j+8u7u7u7vbPwAAAAAAAOQ/AAAAAAAA5T+amZmZmZnpP3qe53me58k/AAAAAAAA8D8AAAAAAAAAAJD92I/92Oc/AAAAAAAA2D9VVVVVVVXlP3h3d3d3d7c/AAAAAAAA2j9mZmZmZmbWPwAAAAAAAOQ/VVVVVVVV1T8AAAAAAADkPzQzMzMzM+s/AAAAAAAA5D8AAAAAAADYPzMzMzMzM+M/AAAAAAAA0D8AAAAAAAAAAFVVVVVVVek/8hVf8RVf2T+qqqqqqqrmPwAAAAAAAOg/3t3d3d3dzT9ERERERETQPwAAAAAAANA/AAAAAAAA0D8AAAAAAADoP6qqqqqqqsI/AAAAAAAA8D9VVVVVVVXVPwAAAAAAANA/AAAAAAAA6D9VVVVVVVXpPwAAAAAAAOA/AAAAAAAAAAAAAAAAAADYP6qqqqqqqt4/VVVVVVVV5T/NzMzMzMzmP1mWZVmWZdk/AAAAAAAA8D8AAAAAAADgP2ZmZmZmZuI/VVVVVVVV1T9xr4JZUg7QPwAAAAAAAPA/VVVVVVVV1T+qqqqqqqraP5qZmZmZmeU/qqqqqqqq0j+qqqqqqqrSPwAAAAAAAAAAGtg7pgb2tj+3bdu2bdveP7dt27Zt2+Y/zczMzMzM6j9bsAVbsAXTP3h3d3d3d7c/9DzP8zzP1z8=",
          "dtype": "f8"
         },
         "yaxis": "y5"
        },
        {
         "legendgroup": "2",
         "line": {
          "color": "#EF553B",
          "width": 2
         },
         "marker": {
          "color": "#EF553B",
          "line": {
           "color": "rgba(0,0,0,0.3)",
           "width": 1
          }
         },
         "name": "2",
         "showlegend": false,
         "type": "box",
         "xaxis": "x6",
         "y": {
          "bdata": "pEEapEEa5D9O+qRP+qTfPwAAAAAAAAAAVVVVVVVVxT8AAAAAAAAAACVJkiRJkuQ/AAAAAAAA4D86sRM7sRPbP9Iv/dIv/cI/sh/7sR/7wT8Na9+w9g3bP07sxE7sxOI/AAAAAAAA4j+JiIiIiIjYP1VVVVVVVeU/YhiGYRiG4T+kT/qkT/rkP47jOI7jON4/Hu/xHu/x5j9KuxGQ0m7cPwAAAAAAAOY/d3d3d3d35z/////////fP6qqqqqqquI/////////3z96nud5nufpP1100UUXXeQ/ip3YiZ3Y5T/NzMzMzMzkP1VVVVVVVd0/kyRJkiRJsj8AAAAAAADQPyRJkiRJkuQ/ySabbLLJ1j8zMzMzMzPZPwAAAAAAAOY/JEmSJEmS7D+f9Emf9EnfPwAAAAAAAOQ/ZmZmZmZm5j+bmZmZmZnpPxqkQRqkQco/AAAAAAAA8D8AAAAAAAAAAG5Dq4WgH+c/ZmZmZmZm1j9VVVVVVVXlP3BY+4a1b7g/BHlKkKcE2T9nZmZmZmbWPwAAAAAAAOA/VVVVVVVV1T8kSZIkSZLkPzQzMzMzM+s/AAAAAAAA5D8AAAAAAADYP3TgklyDHuM/AAAAAAAA0D8AAAAAAAAAAMMwDMMwDOs/+cLphPGj3T9ERERERETkPwAAAAAAAOg/HnzwwQcfzD9mdbOrjBDQP1VVVVVVVcU/HcdxHMdxzD8AAAAAAADoP47jOI7jOL4/AAAAAAAA8D+TJEmSJEnSP1VVVVVVVcU/AAAAAAAA6D+IiIiIiIjgPwAAAAAAANA/AAAAAAAAAABmZmZmZmbWP0qSJEmSJN0/VVVVVVVV5T8kSZIkSZLqP5iYmJiYmNg/AAAAAAAA8D8AAAAAAADgP8PaN6x9w+I/VVVVVVVV1T+WM4oBXDnTP5qZmZmZmek/VVVVVVVV1T93d3d3d3fXP1SCPCXIU+I/MzMzMzMz0z9nZmZmZmbWPwAAAAAAAAAAU/SwNypFtz8/9mM/9mPfP7dt27Zt2+Y/6ZM+6ZM+5z+mpaWlpaXVP0022WSTTbY/xa1Q3ArF3T8=",
          "dtype": "f8"
         },
         "yaxis": "y6"
        },
        {
         "legendgroup": "3",
         "line": {
          "color": "#00CC96",
          "width": 2
         },
         "marker": {
          "color": "#00CC96",
          "line": {
           "color": "rgba(0,0,0,0.3)",
           "width": 1
          }
         },
         "name": "3",
         "showlegend": false,
         "type": "box",
         "xaxis": "x",
         "y": {
          "bdata": "GMNkF4tk6j/+///////vPwIAAAAAAPA/GtHWNAqO6z9JJEEMfZjXP7XSZMKLo+Y/0l7dFK6v5D/8///////vPwj5k8wNQeo/tsNly3q54z/M3KDPw/zjP6JLuo++u+s/SBDJqd2A7D/7J9nvSJHmP7pj5e0ZKO4/GsO2YzUh6z8Aq8apkMzoP47egiw43Os/BonWIugq7j+v9NRr3LztP/UnMIxt1e0/1fTTIgG07D+ojur866TvP8NMJnR4u+g/AgAAAAAA8D8CAAAAAADwP2g3ZOYSKO8/2U97eahr6T/EXaFAeFruPz6pVn0/Vu0/8N4DAyOd7T9bimvDptzlP2zcQ0ggruw/9sPbMeDR7j+iiYkXE33tPwQAAAAAAPA/VujKZFZ67j8AAAAAAADwP75DK6vlkuo/TqZOK/BD5j+Wmt0ZHrXnPwb2M4g9lew/JN0qdfsj5z/03nzFlIDYP4bacTWsMdc/sF435prt2j/UmT7o7dPnP8mE0jicDeY/fiFkr2Cb5j8rm3v7ty7oP4znwgtkWu8/+eirlsS25z+EF0ZumpHcP/7//////+8/BgAAAAAA8D91y9cJRL/nP8R7eLNtxuU/ttMHIVh37T8wsPz6kqHjPyroYTPKy+k/ZpwCplon6T9n2yf/I8bpP5iUpx5Ckuc/PzM3NoPg5z8qydlSacrbP7kxrUUZ+e4/nsUOY8055j/0jFhaSOTqPwZrnZA4z+I/AAAAAAAA8D/9ExAlXyjpP4UQdhrR4uQ/Ixx/mMtK6z/WE/pTwmLuP4uLSZbfcuY/Ol79Mdkm6z/OpjR/75XbP9LTlS9I1Ok/CyJVnHH77T+ObO0Uxs7YP/7//////+8/bhh/wqSt6z8u0JjqhIHZP34olxu1LOw/+Npa01q/5T8CAAAAAADwP8rxV2N9j+k/AgAAAAAA8D/635fARIjcP5AZKGRs4+k/2r/WJ5nB1z8WtWi8Y1DcPwqY0xkRqOQ/RVvquqGT5j8OcEJsRUPqP0vqvOmMMus/LLwT8sxJ5z8EAAAAAADwP1Bk+TN1R+U/EKBA6+s74j8=",
          "dtype": "f8"
         },
         "yaxis": "y"
        },
        {
         "legendgroup": "3",
         "line": {
          "color": "#00CC96",
          "width": 2
         },
         "marker": {
          "color": "#00CC96",
          "line": {
           "color": "rgba(0,0,0,0.3)",
           "width": 1
          }
         },
         "name": "3",
         "showlegend": false,
         "type": "box",
         "xaxis": "x2",
         "y": {
          "bdata": "Ws+ezqcEY0BL9gu+t3I1QNitJj+Sgz9AEFerr4boTEAs7i8v0d07QLv5PHWHrCVAuwxfTVivRkBil7/qrockQOGT4BlUUU9A5OKLkUQoVkDv5nvlzK1RQFllLx40KxVAkJ1DEwVxI0Au3/It3/IxQI0uuuiiCyFAP/PVkSwONEByWJk7UYdQQB33QBxD6TZAocfdBXRoLUBu4bv6lNFuQICrjaHpDjJAUKZuscd5PUCKno2X/c/iP0HysYieODRAILP9Z+1dFEALI73SQ9dBQGcRaRh3NDNAbTXkS85CGUBYChPQAvY2QMpCROX6lFFAVI6bd4ePJkCPZH0BtgUxQKF2jS7b+C5AhhFpdsamSUCLOAUtrgMLQK0jLdOpsjNAJMHlJ51BJEDfXJE82e9DQP36N3GUDBRAPVIqdAVqOEBLigyYk50uQKuqqqqqGjlALe7cNnT9UUA7Uxj+nlFTQJhFfAKp5DBAI8RlOes8FUB3L25D5XFMQHDi+ktqEWtAK8XoeVOUckDqx9pbr/EjQPUR+6HsoENAdQu/GhPpQUBgqbjOyvQQQCtH6AeocjpANSRel6aAMkCAKFMujwM2QEdHKdB4iVRADRhtmi7IDkA+1EM91LNOQDaYBY3rtUBAs+TEzHghUkCa7L3mwZFDQHjFXqj0YAJA9B9xLD/0SUDZRDi1HoYlQM+iZlGzqDVAEX5PKitdEkBBzAdoGiY+QIwuuuiiS2xAchXcw/hPSECQcMOHf1wmQL+E9hLaSyNAR92GTSC4MED6dwmFm5NAQNK2zNa/skNAq11Qib7aQ0BHqyec5S5LQNJ6I0PxLkBA6dKnku1oP0D9qSIFfNlIQAjxiXjFSCNA5aurUsv+O0BPRfJhL01AQPbb8htOu05A0AFMPKNTH0AZx3Ecx9EsQASiGEYweEJAQv01RxIFOEAsFCIQ3IgEQFsS+dt3YkdAw5DuIBdGVUAU4ZaaDfs1QKmFlZ5a2GNAwCWRv30nSEAWX/madwhJQIFwIl4SEEZAoPIcBA2uNUCXt1TTLpgqQDi6CniD5yNAJmM1f0TMcUA=",
          "dtype": "f8"
         },
         "yaxis": "y2"
        },
        {
         "legendgroup": "3",
         "line": {
          "color": "#00CC96",
          "width": 2
         },
         "marker": {
          "color": "#00CC96",
          "line": {
           "color": "rgba(0,0,0,0.3)",
           "width": 1
          }
         },
         "name": "3",
         "showlegend": false,
         "type": "box",
         "xaxis": "x3",
         "y": {
          "bdata": "ZmZmZmZmNUCuR+F6FK4zQPYoXI/CdS5AXI/C9ShcIEBcj8L1KFwwQLgehetROCtAMzMzMzOzKUCkcD0K16MrQClcj8L1KCZAPQrXo3B9MEAUrkfhepQrQArXo3A9ijxA16NwPQrXLkBcj8L1KFwgQFK4HoXr0SVApHA9CtcjLkD2KFyPwvUnQNejcD0K1x9Aj8L1KFyPL0A9CtejcD0xQFK4HoXr0SVAexSuR+H6KkBmZmZmZmYjQD0K16NwPR1AmpmZmZkZJECPwvUoXA8kQM3MzMzMTCNAhetRuB6FIUA9CtejcL0gQFyPwvUo3CNAXI/C9SjcJEBI4XoUrgcxQNejcD0K1zBAKVyPwvUoKUAUrkfhepQqQHE9Ctej8CRA16NwPQrXH0D2KFyPwnUgQKRwPQrXIylAmpmZmZkZKkBSuB6F69EiQHE9Ctej8CVAhetRuB4FIEDXo3A9CtchQPYoXI/CtTJAPQrXo3A9HUDhehSuR+EZQAAAAAAAgCdAcT0K16PwJ0Bcj8L1KFweQOF6FK5HYSVAKVyPwvUoJEDD9Shcj8IcQMP1KFyPwiRAH4XrUbgeJ0ApXI/C9agkQD0K16NwvShAAAAAAACAI0DsUbgehWslQArXo3A9iidAKVyPwvWoKkCF61G4HoUjQEjhehSuRyZAZmZmZmZmKEDD9Shcj8ItQOF6FK5HYSJAexSuR+H6KUDD9Shcj8IgQJqZmZmZGSBA16NwPQrXHEBxPQrXo3AvQD0K16NwPSVAhetRuB6FIEAfhetRuJ4kQOxRuB6F6xVAcT0K16PwJEApXI/C9SgmQFK4HoXrUR9AAAAAAACAJEDD9Shcj0IpQHE9CtejMDRAUrgehevRJ0BxPQrXo/AtQNejcD0K1ytA4XoUrkfhJUBmZmZmZgZCQAAAAAAAwDFAMzMzMzMzI0CF61G4HoUjQDMzMzMzsytAw/UoXI9CIkA9CtejcL0iQFyPwvUoXDFAw/UoXI/CLUB7FK5H4boyQEjhehSuRyhAhetRuB4FJUAK16NwPQovQClcj8L1qCZAKVyPwvUoJ0A=",
          "dtype": "f8"
         },
         "yaxis": "y3"
        },
        {
         "legendgroup": "3",
         "line": {
          "color": "#00CC96",
          "width": 2
         },
         "marker": {
          "color": "#00CC96",
          "line": {
           "color": "rgba(0,0,0,0.3)",
           "width": 1
          }
         },
         "name": "3",
         "showlegend": false,
         "type": "box",
         "xaxis": "x4",
         "y": {
          "bdata": "mpmZmZmZ6T8AAAAAAADoPwAAAAAAAAAAAAAAAAAA0D8AAAAAAAAAAAAAAAAAAOg/AAAAAAAA4D/btm3btm3bP5IkSZIkSdI/VVVVVVVVxT8zMzMzMzPjP1VVVVVVVeU/AAAAAAAA6D9VVVVVVVXVP1VVVVVVVeU/VVVVVVVV5T8AAAAAAADwPwAAAAAAAOA/t23btm3b5j8AAAAAAADoPwAAAAAAAOg/t23btm3b5j9VVVVVVVXlP1VVVVVVVeU/kiRJkiRJ4j8AAAAAAADwPzMzMzMzM+M/q6qqqqqq6j+amZmZmZnpP1VVVVVVVeU/AAAAAAAA0D8AAAAAAADgP6uqqqqqquo/VVVVVVVV1T8AAAAAAADYPwAAAAAAAPA/AAAAAAAA8D8AAAAAAADoPwAAAAAAAOg/t23btm3b5j+amZmZmZnpPwAAAAAAAOA/AAAAAAAA8D8AAAAAAAAAAFVVVVVVVeU/VVVVVVVV1T9VVVVVVVXlP5qZmZmZmck/27Zt27Zt2z8zMzMzMzPjP1VVVVVVVeU/VVVVVVVV5T9VVVVVVVXlPwAAAAAAAPA/AAAAAAAA6D8AAAAAAADgPzMzMzMzM+M/AAAAAAAA0D8AAAAAAAAAAAAAAAAAAPA/AAAAAAAA6D9VVVVVVVXlPwAAAAAAAOg/VVVVVVVV1T+amZmZmZnZPwAAAAAAANA/mpmZmZmZyT8AAAAAAADwP5qZmZmZmck/AAAAAAAA8D8AAAAAAADQPwAAAAAAANA/AAAAAAAA8D9VVVVVVVXlP1VVVVVVVdU/AAAAAAAAAABVVVVVVVXVPwAAAAAAAOA/AAAAAAAA8D8AAAAAAADwPwAAAAAAANg/AAAAAAAA8D8AAAAAAADgPzMzMzMzM+M/VVVVVVVV1T8AAAAAAADYP1VVVVVVVeU/VVVVVVVV1T9VVVVVVVXlP1VVVVVVVeU/AAAAAAAA4D8AAAAAAADgPwAAAAAAAAAAAAAAAAAAwD/btm3btm3bP7dt27Zt2+Y/mpmZmZmZ6T/btm3btm3bP1VVVVVVVcU/AAAAAAAA8D8=",
          "dtype": "f8"
         },
         "yaxis": "y4"
        },
        {
         "legendgroup": "3",
         "line": {
          "color": "#00CC96",
          "width": 2
         },
         "marker": {
          "color": "#00CC96",
          "line": {
           "color": "rgba(0,0,0,0.3)",
           "width": 1
          }
         },
         "name": "3",
         "showlegend": false,
         "type": "box",
         "xaxis": "x5",
         "y": {
          "bdata": "AAAAAAAA4D8zMzMzMzPjPwAAAAAAAAAAAAAAAAAA4D8AAAAAAAAAAAAAAAAAAPA/AAAAAAAA4D8AAAAAAADgP1VVVVVVVdU/AAAAAAAAwD8zMzMzMzPjP5IkSZIkSeI/AAAAAAAA6D8AAAAAAADgP1VVVVVVVeU/VVVVVVVV5T+amZmZmZnpPwAAAAAAAOA/t23btm3b5j8zMzMzMzPjPwAAAAAAAOg/AAAAAAAA5D+SJEmSJEniP1VVVVVVVeU/VVVVVVVV5T8AAAAAAADwPzMzMzMzM+M/q6qqqqqq6j+amZmZmZnpP1VVVVVVVeU/VVVVVVVV1T8AAAAAAADgP7dt27Zt2+Y/mpmZmZmZ2T/btm3btm3bP5qZmZmZmek/AAAAAAAA8D8zMzMzMzPjPwAAAAAAAOg/AAAAAAAA5D+amZmZmZnpPwAAAAAAAOA/AAAAAAAA8D8AAAAAAAAAAJqZmZmZmek/AAAAAAAA4D9VVVVVVVXlP1VVVVVVVcU/AAAAAAAA2D8zMzMzMzPjPwAAAAAAAPA/VVVVVVVV5T9VVVVVVVXlPwAAAAAAAPA/AAAAAAAA6D8AAAAAAADgPzMzMzMzM+M/AAAAAAAA0D8AAAAAAAAAAAAAAAAAAPA/AAAAAAAA4D8AAAAAAADwPwAAAAAAAOg/VVVVVVVV1T+amZmZmZnZPwAAAAAAAOA/AAAAAAAA0D8AAAAAAADwPwAAAAAAANA/AAAAAAAA8D9VVVVVVVXVPwAAAAAAAOA/AAAAAAAA8D9VVVVVVVXlPwAAAAAAAPA/AAAAAAAAAAAAAAAAAADgP1VVVVVVVeU/AAAAAAAA8D8zMzMzMzPjP9u2bdu2bds/AAAAAAAA8D8AAAAAAADgPwAAAAAAAOA/VVVVVVVV1T+e2Imd2InNPwAAAAAAAPA/VVVVVVVV1T8AAAAAAADwP5qZmZmZmek/AAAAAAAA4D9VVVVVVVXVPwAAAAAAAAAAAAAAAAAAwD/btm3btm3bP7dt27Zt2+Y/AAAAAAAA8D9VVVVVVVXVP5qZmZmZmck/kiRJkiRJ4j8=",
          "dtype": "f8"
         },
         "yaxis": "y5"
        },
        {
         "legendgroup": "3",
         "line": {
          "color": "#00CC96",
          "width": 2
         },
         "marker": {
          "color": "#00CC96",
          "line": {
           "color": "rgba(0,0,0,0.3)",
           "width": 1
          }
         },
         "name": "3",
         "showlegend": false,
         "type": "box",
         "xaxis": "x6",
         "y": {
          "bdata": "FDuxEzux4z9UVVVVVVXlPwAAAAAAAAAAVVVVVVVV1T8AAAAAAAAAANu2bdu2bes/AAAAAAAA4D+d2Imd2IndPxM7sRM7sdM/kyRJkiRJwj8zMzMzMzPjPxM7sRM7seM/AAAAAAAA6D+amZmZmZnZP1VVVVVVVeU/VVVVVVVV5T8dx3Ecx3HsPwAAAAAAAOA/t23btm3b5j9UVVVVVVXlPwAAAAAAAOg/VVVVVVVV5T8TO7ETO7HjP1VVVVVVVeU/EzuxEzux4z8AAAAAAADwPzMzMzMzM+M/q6qqqqqq6j+bmZmZmZnpP1VVVVVVVeU/kyRJkiRJ0j8AAAAAAADgP9iJndiJneg/RRdddNFF1z+ZmZmZmZnZPx3HcRzHcew/AAAAAAAA8D9UVVVVVVXlPwAAAAAAAOg/VVVVVVVV5T+bmZmZmZnpPwAAAAAAAOA/AAAAAAAA8D8AAAAAAAAAAEUXXXTRRec/mpmZmZmZ2T9VVVVVVVXlP0UXXXTRRcc/mZmZmZmZ2T8zMzMzMzPjP5qZmZmZmek/VVVVVVVV5T9VVVVVVVXlPwAAAAAAAPA/AAAAAAAA6D8AAAAAAADgPzMzMzMzM+M/AAAAAAAA0D8AAAAAAAAAAAAAAAAAAPA/MzMzMzMz4z+amZmZmZnpPwAAAAAAAOg/VVVVVVVV1T+bmZmZmZnZP1VVVVVVVdU/HcdxHMdxzD8AAAAAAADwPx3HcRzHccw/AAAAAAAA8D+TJEmSJEnSP1VVVVVVVdU/AAAAAAAA8D9VVVVVVVXlPwAAAAAAAOA/AAAAAAAAAACamZmZmZnZP5MkSZIkSeI/AAAAAAAA8D/////////nP5mZmZmZmdk/AAAAAAAA8D8AAAAAAADgP3TRRRdddOE/VVVVVVVV1T+SJEmSJEnSP5qZmZmZmek/VVVVVVVV1T+amZmZmZnpP0UXXXTRRec/AAAAAAAA4D+amZmZmZnZPwAAAAAAAAAAAAAAAAAAwD/btm3btm3bP7dt27Zt2+Y/HcdxHMdx7D8AAAAAAADYP0UXXXTRRcc/RhdddNFF5z8=",
          "dtype": "f8"
         },
         "yaxis": "y6"
        },
        {
         "legendgroup": "4",
         "line": {
          "color": "#AB63FA",
          "width": 2
         },
         "marker": {
          "color": "#AB63FA",
          "line": {
           "color": "rgba(0,0,0,0.3)",
           "width": 1
          }
         },
         "name": "4",
         "showlegend": false,
         "type": "box",
         "xaxis": "x",
         "y": {
          "bdata": "uGPBDTCS6T8xrZ6FFKLsPwIAAAAAAPA/8qYn3bEA6T+4bAmnFkDaP5KMvnMDKeY/4uMHTDgw5z/5cyiJnK3rP0+U/K/hIeg/FMFoPAwl5z/G4teRYTHiP4yNvOT5Xeo/G0Ryajcg7z+uqzcAlJrsP5uaRMVXEO0/gNbSgZaj6z8aqzTaj4vkP79dzi/k1ew/g0RrEXQV7z/x3M7AlrvoP/wseLpEuuk/ZiYnoBs96z8W6hHvLU3qP2gWLZUr3eQ/DlIsjbpl7T9GbSN2E4HrP7qXk+Yzie4/IqKW6R0N7z8GAAAAAADwPxrnw2c5ou4/+KKuAHiq7T/21T/qIFXpP2rZVUTUkOk/EWYwomvR7T+jMRpYlxPuPwQAAAAAAPA/yuBlgoji7T8EuKmFrn/uP2jZLiQbiOI/30hmF2dE7T/ClIMwpr3nP/iwu3bvz+E/otwHD6HR4T8IQnU66VzpP37ju7itBd8/peENaVEx6D9kYyrxPfXmP5oRA3i9kOc/k2Siki1L5D/IEmlnBjPrP9PC3MCYue4/MslXCL5u6T9qmlb3e+jbP1BKIJQO7+4/I3ZOnnkl7T+f07dYxYboP1g/MGXMYOQ/gNF5jq5S5z+8YxWRwijnP9CBGJuchuk/rvIxtWLd6T+SDACznZ/rP0hdPc5BG+k/L5WwpKXt6z9yh3UCe3HfPxoRMZB+D+c/y0UEMBAO4z/8oSj0r/jqPwyxt4kn4uM/AAAAAAAA8D/kUHMZOATpP8Rm8WdFrek/Jn1XuW5y6z9EScCmUpXuP6hRFq0VSOY/Ol79Mdkm6z8AOhAeR0zjP7mCJNZWCew/5FwEL8bj7D/ejp75benYP3QI9Y46res/31EfbMuB7j84BQCxfJveP8pMZiP3IOE/2m8xODf+5D+K3OTbn9TuP22Oc3RbEOk/QhYZRx/56j8dFAvmH37cPwIAAAAAAPA/ECD8qMdq3z+c04Y3ek3cP0GdKKEMyOQ/FN3Fiex/5z8y+Xjz3mvsP0vqvOmMMus/0n168h6K5j9lNHvyOa/rP4hj1cx9WOM/0h3hGGkw5D8=",
          "dtype": "f8"
         },
         "yaxis": "y"
        },
        {
         "legendgroup": "4",
         "line": {
          "color": "#AB63FA",
          "width": 2
         },
         "marker": {
          "color": "#AB63FA",
          "line": {
           "color": "rgba(0,0,0,0.3)",
           "width": 1
          }
         },
         "name": "4",
         "showlegend": false,
         "type": "box",
         "xaxis": "x2",
         "y": {
          "bdata": "Smp474FaXUDoNDbOo+A/QHBF00UdrjVAXi7G5H7FTUAcXwCv+WAqQI/PEI5ESTJAyMZnJ3woSUANuZadAqg6QAaSWqYc3UVA9KQ8x9CbUkA/SsJ/DcxSQEQAam6qekBAA6yQJ8m+M0A5RTxn/yQ1QM6QmLczpCpAnN63G+AWNkCr2s80Mag6QNlZZlotXDdAi4FXbasMRUAdMhNlL8NCQC7habnZ7jNAn7/KI+xuOkCzQ+YOmTsTQFl7h/mPfDhAPrzsRqSSJEDetRQKee8qQICp/aX2F0JAxniiMPuWJEDfBFssdukoQNRlqQadB0JAmuGF29PtOEAR0j4lxi5AQJ+3oQSpY0JAEFX+9cP3V0BVDJCjR7U7QDKpuKVZbCJAxfs3lQr0OkAMzEbP8lYrQD2h8/5AwjVALCzBv2b2LEBQh2hTUzIuQAAAAAAA9UNA0PveGfkjWkBhv8KVtlZQQPZbbQxNFzRA6goH9K0+KkAeATfuKShTQEwOht4WcFRAdi4MWVeVZUA26uWXjqU3QNj2dbfhmThAr8zlb+f4EEDIWkmnt5M7QC+bIUrnsjBAbE8GILx6IkAI/YTaBLIhQAxg2UvLmjlAoqGqhTLTIkDXZm3WZi0zQJqNfpBd1TZAICO+xVLgUUD52ZxY4tRRQJ4D477gazdAMsGCfJUxOUCObnzdIW9GQFGWUXrK+ThApU74PaksO0ApsFyaoq1LQNFFF110EVpAbFB53uQrQECbhtzRuoMrQI7jOI7j+DRAYaQfD47vJUAxkNlY2X1HQLk83dF+SUlAwvP2MCQ8QUDUEjAWlHVPQMxc/naODyBAFyRjpaIUMUDRHugYMyVQQAwbpAamNjBAkW0q6eIZQUAaqLRR2BQ2QGd0Mt/YBUZApcgtkoHCKUDsJbSX0Do6QBqi77V/D1lAGxw6dqdpKUA3EPpSSc47QNluQILYZR1AJkhbxW5ZWEDvM0r8jBIuQECTLxs0eVlAfioQVOhEUEDI9LdyNxJFQKaQvuapNEtAdxR7NND9OUARPIMqCqEwQI5SyEwtsSVAzyB0A3jqZEA=",
          "dtype": "f8"
         },
         "yaxis": "y2"
        },
        {
         "legendgroup": "4",
         "line": {
          "color": "#AB63FA",
          "width": 2
         },
         "marker": {
          "color": "#AB63FA",
          "line": {
           "color": "rgba(0,0,0,0.3)",
           "width": 1
          }
         },
         "name": "4",
         "showlegend": false,
         "type": "box",
         "xaxis": "x3",
         "y": {
          "bdata": "XI/C9SgsRUAUrkfhevQ+QAAAAAAAYDVAhetRuB6lNUD2KFyPwoU1QKRwPQrX8zlAzMzMzMy8N0D2KFyPwkU5QAAAAAAAMDhASOF6FK6XQUBwPQrXo6A7QArXo3A9+kBACtejcD1iQECamZmZmQkzQM3MzMzMvDdAmpmZmZmZNkB7FK5H4VoyQPYoXI/CBTlAcT0K16NoQkDsUbgehQNGQM3MzMzMzDlA16NwPQonO0DXo3A9Cic5QArXo3A9+jZAKVyPwvWIPED2KFyPwqU1QFK4HoXr4ThAhetRuB61OUDhehSuR7E3QHsUrkfhijxAH4XrUbhONUCF61G4HvU9QB+F61G4zjxA4XoUrkfBN0B7FK5H4Qo9QJqZmZmZaTxA9ihcj8IFOEBwPQrXowA7QAAAAAAAwDlAcT0K16PAOECkcD0K13M3QLgehetRiDdAXI/C9SgsMkCF61G4HmU1QBSuR+F6vEBAAAAAAABgOUD2KFyPwhUwQK5H4XoULjxAwvUoXI9yOkBcj8L1KBw4QOxRuB6F+zFA16NwPQr3MUD2KFyPwhUxQK5H4XoU7jdAZmZmZmbWNUAAAAAAAMAyQJDC9ShcTzVAwvUoXI8CNUBSuB6F62E1QOF6FK5HsTpAwvUoXI8CPkApXI/C9Qg4QB+F61G4LjZAFK5H4XqMQkCamZmZmTlCQD4K16NwTTZA9ihcj8JlQUBSuB6F6xE1QHE9CtejgDFAw/UoXI9iM0D2KFyPwlU6QFyPwvUo/DdAzczMzMxsOECPwvUoXK80QArXo3A9ajFAcD0K16NQNUD2KFyPwqU7QLgehetRmDZA7FG4HoWLMkA9CtejcD03QAAAAAAAkDtA7FG4HoXLNkC4HoXrUcg5QNejcD0KFz1AexSuR+EaNkBI4XoUrl9NQLgehetRqDhAwvUoXI/iNUBmZmZmZmY3QKRwPQrX0zxAKVyPwvUoN0DXo3A9Coc1QK5H4XoUHjpAkML1KFx/QUDiehSuR7E9QBWuR+F6ZDxAuB6F61FINEAehetRuB4/QLgehetRGDxAZmZmZmamNkA=",
          "dtype": "f8"
         },
         "yaxis": "y3"
        },
        {
         "legendgroup": "4",
         "line": {
          "color": "#AB63FA",
          "width": 2
         },
         "marker": {
          "color": "#AB63FA",
          "line": {
           "color": "rgba(0,0,0,0.3)",
           "width": 1
          }
         },
         "name": "4",
         "showlegend": false,
         "type": "box",
         "xaxis": "x4",
         "y": {
          "bdata": "zczMzMzM5D8AAAAAAADUPwAAAAAAAAAAAAAAAAAAyD8AAAAAAAAAAAAAAAAAAOQ/AAAAAAAA4D/btm3btm3bP5IkSZIkSaI/VVVVVVVVxT+amZmZmZnJP1VVVVVVVd0/AAAAAAAA5j9VVVVVVVXVP1VVVVVVVeU/VVVVVVVV5T8AAAAAAADgPwAAAAAAANg/3LZt27Zt4z8AAAAAAADgPwAAAAAAAOg/27Zt27Zt6z9VVVVVVVXlP6qqqqqqquI/kiRJkiRJ4j9VVVVVVVXlPzMzMzMzM+M/AAAAAAAA5D+amZmZmZnhP1VVVVVVVd0/AAAAAAAAAAAAAAAAAADAPwAAAAAAAOQ/VVVVVVVV1T8AAAAAAADYPwAAAAAAAOA/AAAAAAAA6D8AAAAAAADgPwAAAAAAAOg/kiRJkiRJ4j+amZmZmZnpP1VVVVVVVd0/AAAAAAAA8D8AAAAAAAAAAKqqqqqqquY/VVVVVVVV1T8AAAAAAADgPzQzMzMzM9M/27Zt27Ztyz+amZmZmZnZP1VVVVVVVdU/VVVVVVVVxT+qqqqqqqraPzQzMzMzM+M/AAAAAAAA5j8AAAAAAAAAAJqZmZmZmeE/AAAAAAAA0D/////////fPwAAAAAAAPA/AAAAAAAA3D9VVVVVVVXlPwAAAAAAAOg/qqqqqqqqyj8AAAAAAADQPwAAAAAAAAAAmpmZmZmZyT8AAAAAAADmPzQzMzMzM8M/AAAAAAAA8D8AAAAAAADQPwAAAAAAALA/qqqqqqqq2j+qqqqqqqraP1VVVVVVVcU/AAAAAAAAyD8AAAAAAADQPwAAAAAAAOI/AAAAAAAA6D8AAAAAAADwPwAAAAAAANQ/AAAAAAAA8D8AAAAAAADcPzMzMzMzM+M/VVVVVVVV1T8AAAAAAADUP6qqqqqqquI/VVVVVVVV1T/////////fPwAAAAAAAOA/AAAAAAAAAAAAAAAAAADiP1VVVVVVVbU/AAAAAAAAuD+2bdu2bdvGP27btm3btuU/mpmZmZmZ6T/btm3btm3bP6qqqqqqqtI/AAAAAAAA6j8=",
          "dtype": "f8"
         },
         "yaxis": "y4"
        },
        {
         "legendgroup": "4",
         "line": {
          "color": "#AB63FA",
          "width": 2
         },
         "marker": {
          "color": "#AB63FA",
          "line": {
           "color": "rgba(0,0,0,0.3)",
           "width": 1
          }
         },
         "name": "4",
         "showlegend": false,
         "type": "box",
         "xaxis": "x5",
         "y": {
          "bdata": "nud5nud52j/e3d3d3d3VPwAAAAAAAAAAVVVVVVVV1T8AAAAAAAAAAFVVVVVVVeU/AAAAAAAA4D9mZmZmZmbiPwAAAAAAAKA/SZIkSZIkwT9VVVVVVVXFP0mSJEmSJN0/AAAAAAAA5j9VVVVVVVXdPwAAAAAAAOQ/vLu7u7u72z+JiIiIiIjYP1ZVVVVVVdU/vtVbvdVb4j/DMAzDMAzjPwAAAAAAAOg/IiIiIiIi5j+EOqiDOqjjPwAAAAAAAOA/kiRJkiRJ4j9VVVVVVVXlP6iDOqiDOuA/AAAAAAAA4z9VVVVVVVXdPwAAAAAAAOA/AAAAAAAAAAAAAAAAAADAP27btm3btuA/iYiIiIiI2D8kSZIkSZLaP4mIiIiIiNg/ZmZmZmZm4D+amZmZmZnZPwAAAAAAAOg/AAAAAAAA4j+amZmZmZnpP3qe53me59k/AAAAAAAA6j8AAAAAAAAAAG7btm3btuU/VVVVVVVV3T+qqqqqqqrePzQzMzMzM9M/OI7jOI7j2D+amZmZmZnZPwAAAAAAANw/VVVVVVVVxT+qqqqqqqraP3h3d3d3d+c/AAAAAAAA5j8AAAAAAAAAAM3MzMzMzOI/NDMzMzMzyz8AAAAAAADcPwAAAAAAAOg/AAAAAAAA2D8AAAAAAADgPwAAAAAAAOg/1EEd1EEdzD96nud5nufRPwAAAAAAAAAAiIiIiIiI0D9VVVVVVVXnPwAAAAAAANg/zczMzMzM7D9VVVVVVVXVPwAAAAAAAMA/qqqqqqqq2j+qqqqqqqraP1VVVVVVVcU/AAAAAAAAyD8AAAAAAADQPwAAAAAAAOI/AAAAAAAA6D8AAAAAAADoP27btm3bttU/AAAAAAAA8D9VVVVVVVXdPzMzMzMzM+M/AAAAAAAA1D/ZiZ3YiZ3IPwAAAAAAAOw/VVVVVVVV0T9VVVVVVVXdP83MzMzMzOY/AAAAAAAAAAAAAAAAAADYP5qZmZmZmak/zczMzMzMtD9JkiRJkiTFP27btm3btuU/ZmZmZmZm7j/kOI7jOI7ZP2ZmZmZmZtI/67qu67qu2z8=",
          "dtype": "f8"
         },
         "yaxis": "y5"
        },
        {
         "legendgroup": "4",
         "line": {
          "color": "#AB63FA",
          "width": 2
         },
         "marker": {
          "color": "#AB63FA",
          "line": {
           "color": "rgba(0,0,0,0.3)",
           "width": 1
          }
         },
         "name": "4",
         "showlegend": false,
         "type": "box",
         "xaxis": "x6",
         "y": {
          "bdata": "WIIlWIIl4D/EPdzDPdzTPwAAAAAAAAAAnud5nud5zj8AAAAAAAAAACVJkiRJkuQ/AAAAAAAA4D8ndmIndmLfPxEREREREaE/0y/90i/9wj9FF1100UXHP73QC73QC90/AAAAAAAA5j+JiIiIiIjYPyRJkiRJkuQ/bMEWbMEW4D+8u7u7u7vbP5dlWZZlWdY/btu2bdu24j/yFV/xFV/hPwAAAAAAAOg/cnJycnJy6D9cdNFFF13kP0EQBEEQBOE/kiRJkiRJ4j9VVVVVVVXlP4e1b1j7huE/27Zt27Zt4z/////////fP2ZmZmZmZt4/AAAAAAAAAAAAAAAAAADAPyqjMiqjMuI/ySabbLLJ1j8zMzMzMzPZP7y7u7u7u9s/27Zt27Zt4z8dx3Ecx3HcPwAAAAAAAOg/0iAN0iAN4j+bmZmZmZnpP8u3fMu3fNs/JEmSJEmS7D8AAAAAAAAAAHZiJ3ZiJ+Y/iYiIiIiI2D/P8zzP8zzfPzQzMzMzM9M/zczMzMzM0D+amZmZmZnZP1h8xVd8xdc/VVVVVVVVxT+qqqqqqqraP87MzMzMzOQ/AAAAAAAA5j8AAAAAAAAAACMiIiIiIuI/VlVVVVVVzT9u27Zt27bdP9u2bdu2bes/chzHcRzH2T+TJEmSJEniPwAAAAAAAOg/hphCEsf8yj8cx3Ecx3HQPwAAAAAAAAAAOKx9w9o3zD8lSZIkSZLmP9y2bdu2bcs/AAAAAAAA7j+TJEmSJEnSP1VVVVVVVbU/qqqqqqqq2j+qqqqqqqraP1VVVVVVVcU/AAAAAAAAyD8AAAAAAADQPwAAAAAAAOI/AAAAAAAA6D/btm3btm3rP8zMzMzMzNQ/AAAAAAAA8D8lSZIkSZLcPzMzMzMzM+M/JEmSJEmS1D+e53me53nOP2dmZmZmZuY/xDAMwzAM0z+e53me53neP8PaN6x9w+I/AAAAAAAAAADNzMzMzMzcPwAAAAAAALA/juM4juM4tj8WX/EVX/HFP27btm3btuU/vLu7u7u76z8WZVEWZVHaP/aOqYG9Y9I/3KtglpQD4j8=",
          "dtype": "f8"
         },
         "yaxis": "y6"
        },
        {
         "legendgroup": "5",
         "line": {
          "color": "#FFA15A",
          "width": 2
         },
         "marker": {
          "color": "#FFA15A",
          "line": {
           "color": "rgba(0,0,0,0.3)",
           "width": 1
          }
         },
         "name": "5",
         "showlegend": false,
         "type": "box",
         "xaxis": "x",
         "y": {
          "bdata": "Q5k1tRFM6T/o+qqLQiPtPwIAAAAAAPA/8qYn3bEA6T+4bAmnFkDaPzJ/erukseU/Uln+2v5F6T9OGvzgNjnsPyC+lseDjOk/BIoNXsPy4z9oQ5FNTbXhPzitLuTb/+s/BgAAAAAA8D8BAAAAAADwPwvAyNdT3+w/Qfb9k8wC6z8On6ddXIbsPy0VI4XFBew/BonWIugq7j/cBEWGMizoP6o5rI1JQ+o/9IiTHyUw7D/lXXTqQ4XoP3jQHQCnLeQ/zjjUsiuy7j/SbGQUBCbsP4An6rO8/Oo/gi0e4ie87j8GAAAAAADwPwMAAAAAAPA/8N4DAyOd7T8WiBSKEn/tP0lIsFfPs+w/slribjf+6T8EAAAAAADwPwQAAAAAAPA/dtmXF5VH7j8AAAAAAADwPz0JIlrTqOQ/30hmF2dE7T/ClIMwpr3nP6DdFe+cNuA/hMV9kTy11z8IQnU66VzpP2Mkri/25uE/KoJ19gyP6D90bWEf5pvnP9HILuY2SOo/73dpjSB/5D9cCHPZMDXtP4znwgtkWu8/MslXCL5u6T/HCD7w04nbP1BKIJQO7+4/I3ZOnnkl7T/2arRx8InnP/UXqPdNMeQ/k4K4uswK5j/v5p+3fRvqP55ORQRlGuk/Alp/LiwL6z+SDACznZ/rPysNiq8/tus/JyOeLhto7j+SxzjEv47aP2onWrUs9uY/o3jjZOxt4z/klDWnG/vsPxSL5mINAeQ/AAAAAAAA8D9+JgcoFgjqP4KiGx5ZzOc/Ixx/mMtK6z/WE/pTwmLuP8UX48NLHeY/Ol79Mdkm6z9iJtJ8nE/oP7mCJNZWCew/CyJVnHH77T9OkQ1FExfbP3QI9Y46res/31EfbMuB7j8IyuuHhcTYPwEDMlcBguE/5ocfGsNN5D+K3OTbn9TuP8rxV2N9j+k/QhYZRx/56j8QselDV5HaPwIAAAAAAPA/3N0NvB7g2j8hAqUfXizePyD3MqMgj90/6FLODukz5j/ez4hrk2jtP0vqvOmMMus/0n168h6K5j9lNHvyOa/rP46jMmOnROI/QK+dsk1M4j8=",
          "dtype": "f8"
         },
         "yaxis": "y"
        },
        {
         "legendgroup": "5",
         "line": {
          "color": "#FFA15A",
          "width": 2
         },
         "marker": {
          "color": "#FFA15A",
          "line": {
           "color": "rgba(0,0,0,0.3)",
           "width": 1
          }
         },
         "name": "5",
         "showlegend": false,
         "type": "box",
         "xaxis": "x2",
         "y": {
          "bdata": "5jEtsNSBVkBWDLUgz0RHQJPizXvkni9AQRALCfrlS0CL62ZbKu4fQDk9xBVANSBAhN9V8XGhNUD73ko10+YSQHBsYHkKIlFAzI4DNu7xQkCMT5l2DpZEQKwY6S6xaTRA6NM325XiLEDrDmMCbNcvQPr//////whAVwgS+UfaLEA21mJCcWYvQK05Y514UC9A3soBB6d1IkBOEOATOZAyQBnrDUzNIRxATAGSF0SoJ0BkLoLzlrHkP9OB93xj2vQ/9x6TjzqzHkB8qqLM+IQhQEAe2EszAiBAELQxvSIhBkBEJfU2ZJ8UQCnpdwqJMEVAnYW9Bn1uNkA2T/cEtD1DQMdjPdr0pTpAqvKvH770UUCa4EAWxAMgQJiKW5rFqhNAQyf/1x0CJECgkTWPdCkqQLJ/E0fJQC9A9/qJrdtmL0DVeNnME/AeQKuqqqqqAjhAg3zk6qTIVUBxD+QbrWhLQLmD/VYbQx9ACXFZzjpPKUCEWJOOsVtDQMe0t6KHv0JAcaUYPW+KU0CGZo16+aUrQM9TPklQRBJAfpU2LHP5+z+lAPnt79o4QHxbLVm8tzFAQt60IrAKE0BTWv+jPbsoQFSXy9a+MypAPvTet7gw9D8Hr/AKr/AUQHd8dZFS7AlAT3I5UM7gQUA5Y6qepnxNQAZ0LaXeaihAQ5o8s9hCSEC/1/yWA7MjQOkoF1ESG0JAjwj0QwcpOkAEH5IXRqE0QBdddNFFFz1Aq0YOearDMUBL1whgpsUfQOQ4juM4zkBA8EO9Usd7BkDsmRjnP/pGQM2novrw1UVAxuvlUGi8QEAsxak6keAyQKMTbFJF/RhAU1FKmJi2NUB/XlA7JcM0QCcfCxYn0RxAgswu93BhL0CReLByqwAoQNHVK1r9/RRAAniC6HIAG0A1juM4jnsmQOTZ1JnzBUhAMq8q9A8fBkBOx7InVM8pQGm7AQlilxFA4XSx6ZugWEBLbKMrYUo1QFR6amGlp1hA5n4thoa7PEAHvHY+3+5CQIp4SUA4ETlAX6U4wMTpLkBL+Kaewzs6QAUETdF25iFAi3EpoH3NUkA=",
          "dtype": "f8"
         },
         "yaxis": "y2"
        },
        {
         "legendgroup": "5",
         "line": {
          "color": "#FFA15A",
          "width": 2
         },
         "marker": {
          "color": "#FFA15A",
          "line": {
           "color": "rgba(0,0,0,0.3)",
           "width": 1
          }
         },
         "name": "5",
         "showlegend": false,
         "type": "box",
         "xaxis": "x3",
         "y": {
          "bdata": "SOF6FK5HQ0A9CtejcD06QLgehetRuDtASOF6FK6HN0BmZmZmZmYyQKRwPQrXoztAFK5H4XqUNUDNzMzMzIw6QBSuR+F6lDZApHA9CtfDQ0AzMzMzM7M7QClcj8L1qERA4XoUrkfhPkDhehSuRyExQM3MzMzMjDZAXI/C9SgcOUAAAAAAAEAzQM3MzMzMDDRA9ihcj8JVRUBcj8L1KJxFQOxRuB6FazxAj8L1KFwPO0D2KFyPwnU8QBSuR+F6VDVAj8L1KFwPPUDD9ShcjwIzQOF6FK5H4ThAPQrXo3B9PEDXo3A9Clc3QLgehetReEJAzczMzMyMM0AUrkfhelQ9QOxRuB6Fqz5AKVyPwvWoNUDXo3A9CldAQHsUrkfh+jZA16NwPQoXOEDhehSuR2E4QOF6FK5HYTpACtejcD2KNUAfhetRuN4zQNejcD0KlzVAhetRuB5FNUD2KFyPwvU4QMP1KFyPwkBA9ihcj8J1M0B7FK5H4XowQI/C9ShczzpAPQrXo3C9OED2KFyPwvUwQOxRuB6Fay5APQrXo3B9MkAUrkfhehQxQAAAAAAAwDtAcT0K16PwMkCPwvUoXI80QHE9CtejsDZAzczMzMzMMEAAAAAAAEA0QHE9CtejMDVA9ihcj8K1QUDD9ShcjwI4QOF6FK5H4TRAPQrXo3D9Q0DsUbgehas/QB+F61G4XjRAMzMzMzMzOUDXo3A9Ctc6QEjhehSuxzBAXI/C9SjcLkAUrkfhelQ4QOF6FK5HYTxA4XoUrkehOUDhehSuR+EzQFK4HoXrkTFAj8L1KFyPOUCuR+F6FG4/QArXo3A9SjJArkfhehQuMUCF61G4HgU5QOF6FK5H4TtAzczMzMxMNEDsUbgehas4QI/C9ShcDztAPQrXo3C9MkCuR+F6FO5KQMP1KFyPwjVAj8L1KFxPNEBmZmZmZmY2QHsUrkfh+jpACtejcD3KOkCF61G4HsUxQIXrUbgehTZA7FG4HoWrRkAUrkfhehRAQHsUrkfhej1ApHA9CtcjNUAUrkfhelQ/QPYoXI/C9TNAUrgehesRNUA=",
          "dtype": "f8"
         },
         "yaxis": "y3"
        },
        {
         "legendgroup": "5",
         "line": {
          "color": "#FFA15A",
          "width": 2
         },
         "marker": {
          "color": "#FFA15A",
          "line": {
           "color": "rgba(0,0,0,0.3)",
           "width": 1
          }
         },
         "name": "5",
         "showlegend": false,
         "type": "box",
         "xaxis": "x4",
         "y": {
          "bdata": "mpmZmZmZ6T8AAAAAAADgPwAAAAAAAAAAAAAAAAAA0D8AAAAAAAAAAAAAAAAAAOg/AAAAAAAA4D/btm3btm3bP5IkSZIkScI/VVVVVVVVxT+amZmZmZnJP1VVVVVVVeU/AAAAAAAA6D9VVVVVVVXVP1VVVVVVVeU/AAAAAAAA8D8AAAAAAADgPwAAAAAAAOA/t23btm3b5j8AAAAAAADgPwAAAAAAAOg/27Zt27Zt6z+rqqqqqqrqP1VVVVVVVeU/kiRJkiRJ4j9VVVVVVVXlPzMzMzMzM+M/VVVVVVVV5T8zMzMzMzPjP1VVVVVVVeU/AAAAAAAAAAAAAAAAAADQP1VVVVVVVeU/VVVVVVVV1T8AAAAAAADYPwAAAAAAAOA/AAAAAAAA8D8AAAAAAADgPwAAAAAAAOg/t23btm3b5j+amZmZmZnpPwAAAAAAAOA/AAAAAAAA8D8AAAAAAAAAAFVVVVVVVeU/VVVVVVVV1T9VVVVVVVXlP5qZmZmZmdk/kiRJkiRJ0j8zMzMzMzPjP1VVVVVVVdU/VVVVVVVV1T9VVVVVVVXlP5qZmZmZmek/AAAAAAAA6D8AAAAAAAAAAJqZmZmZmek/AAAAAAAA0D9VVVVVVVXlPwAAAAAAAPA/AAAAAAAA4D9VVVVVVVXlPwAAAAAAAOg/VVVVVVVV1T+amZmZmZnJPwAAAAAAAAAAmpmZmZmZyT8AAAAAAADgP5qZmZmZmck/AAAAAAAA8D8AAAAAAADQPwAAAAAAANA/VVVVVVVV5T9VVVVVVVXlP1VVVVVVVdU/AAAAAAAA6D9VVVVVVVXVPwAAAAAAAOg/AAAAAAAA8D8AAAAAAADwPwAAAAAAANg/AAAAAAAA8D8AAAAAAADgPzMzMzMzM+M/VVVVVVVV1T8AAAAAAADgP1VVVVVVVeU/VVVVVVVV1T9VVVVVVVXlPwAAAAAAAOA/AAAAAAAAAAAAAAAAAADoP1VVVVVVVdU/AAAAAAAAwD+SJEmSJEnSP7dt27Zt2+Y/mpmZmZmZ6T+3bdu2bdvmP1VVVVVVVdU/AAAAAAAA6D8=",
          "dtype": "f8"
         },
         "yaxis": "y4"
        },
        {
         "legendgroup": "5",
         "line": {
          "color": "#FFA15A",
          "width": 2
         },
         "marker": {
          "color": "#FFA15A",
          "line": {
           "color": "rgba(0,0,0,0.3)",
           "width": 1
          }
         },
         "name": "5",
         "showlegend": false,
         "type": "box",
         "xaxis": "x5",
         "y": {
          "bdata": "kiRJkiRJ4j9VVVVVVVXVPwAAAAAAAAAAAAAAAAAA4D8AAAAAAAAAAAAAAAAAAOg/AAAAAAAA4D8zMzMzMzPjPwAAAAAAAMA/AAAAAAAAwD9VVVVVVVXFP5IkSZIkSeI/AAAAAAAA6D8AAAAAAADgP1VVVVVVVeU/AAAAAAAA4D+amZmZmZnZP5qZmZmZmdk/t23btm3b5j9VVVVVVVXlPwAAAAAAAOg/AAAAAAAA6D+3bdu2bdvmP1VVVVVVVeU/kiRJkiRJ4j9VVVVVVVXlPzMzMzMzM+M/VVVVVVVV5T8AAAAAAADgP1VVVVVVVeU/AAAAAAAAAAAAAAAAAADQP5IkSZIkSeI/mpmZmZmZ2T/btm3btm3bP5qZmZmZmdk/AAAAAAAA6D+amZmZmZnZPwAAAAAAAOg/AAAAAAAA5D+amZmZmZnpP9u2bdu2bds/AAAAAAAA8D8AAAAAAAAAAFVVVVVVVeU/AAAAAAAA4D9VVVVVVVXlP5qZmZmZmdk/VVVVVVVV5T8zMzMzMzPjPwAAAAAAAOA/VVVVVVVV1T9VVVVVVVXlP5qZmZmZmek/AAAAAAAA6D8AAAAAAAAAAJqZmZmZmek/AAAAAAAA0D9VVVVVVVXlPwAAAAAAAOg/AAAAAAAA4D8AAAAAAADgPwAAAAAAAOg/kiRJkiRJ0j9VVVVVVVXVPwAAAAAAAAAAVVVVVVVV1T9VVVVVVVXlPwAAAAAAAOA/AAAAAAAA8D9VVVVVVVXVPwAAAAAAAOA/VVVVVVVV5T9VVVVVVVXlP1VVVVVVVdU/AAAAAAAA6D9VVVVVVVXVPwAAAAAAAOg/AAAAAAAA8D8AAAAAAADoP9u2bdu2bds/AAAAAAAA8D8AAAAAAADgPzMzMzMzM+M/VVVVVVVV1T8UO7ETO7HTPwAAAAAAAPA/VVVVVVVV1T9VVVVVVVXlPwAAAAAAAOg/AAAAAAAAAAAAAAAAAADgP5qZmZmZmck/AAAAAAAAwD+SJEmSJEnSP7dt27Zt2+Y/AAAAAAAA8D8AAAAAAADkP5qZmZmZmdk/27Zt27Zt2z8=",
          "dtype": "f8"
         },
         "yaxis": "y5"
        },
        {
         "legendgroup": "5",
         "line": {
          "color": "#FFA15A",
          "width": 2
         },
         "marker": {
          "color": "#FFA15A",
          "line": {
           "color": "rgba(0,0,0,0.3)",
           "width": 1
          }
         },
         "name": "5",
         "showlegend": false,
         "type": "box",
         "xaxis": "x6",
         "y": {
          "bdata": "VVVVVVVV5T+amZmZmZnZPwAAAAAAAAAAVVVVVVVV1T8AAAAAAAAAAAAAAAAAAOg/AAAAAAAA4D8AAAAAAADgPxEREREREcE/kyRJkiRJwj9FF1100UXHPxM7sRM7seM/AAAAAAAA6D+amZmZmZnZP1VVVVVVVeU/VVVVVVVV5T8dx3Ecx3HcPx3HcRzHcdw/t23btm3b5j+TJEmSJEniPwAAAAAAAOg/mZmZmZmZ6T/YiZ3YiZ3oP1VVVVVVVeU/kiRJkiRJ4j9VVVVVVVXlPzMzMzMzM+M/VVVVVVVV5T900UUXXXThP1VVVVVVVeU/AAAAAAAAAAAAAAAAAADQPxM7sRM7seM/RRdddNFF1z+ZmZmZmZnZPx3HcRzHcdw/27Zt27Zt6z8dx3Ecx3HcPwAAAAAAAOg/VVVVVVVV5T+bmZmZmZnpP53YiZ3Yid0/AAAAAAAA8D8AAAAAAAAAAFVVVVVVVeU/mpmZmZmZ2T9VVVVVVVXlP5uZmZmZmdk/mpmZmZmZ2T8zMzMzMzPjP5qZmZmZmdk/VVVVVVVV1T9VVVVVVVXlP5uZmZmZmek/AAAAAAAA6D8AAAAAAAAAAJuZmZmZmek/AAAAAAAA0D9VVVVVVVXlP9u2bdu2bes/AAAAAAAA4D+TJEmSJEniPwAAAAAAAOg/EzuxEzux0z8AAAAAAADQPwAAAAAAAAAAAAAAAAAA0D+TJEmSJEniP5MkSZIkSdI/AAAAAAAA8D+TJEmSJEnSP1VVVVVVVdU/VVVVVVVV5T9VVVVVVVXlP1VVVVVVVdU/AAAAAAAA6D9VVVVVVVXVPwAAAAAAAOg/AAAAAAAA8D/btm3btm3rP5mZmZmZmdk/AAAAAAAA8D8AAAAAAADgPzMzMzMzM+M/VVVVVVVV1T8ZhmEYhmHYP5qZmZmZmek/VVVVVVVV1T9VVVVVVVXlPzMzMzMzM+M/AAAAAAAAAAAzMzMzMzPjPwAAAAAAANA/AAAAAAAAwD+SJEmSJEnSP7dt27Zt2+Y/HcdxHMdx7D9VVVVVVVXlP0UXXXTRRdc/dNFFF1104T8=",
          "dtype": "f8"
         },
         "yaxis": "y6"
        },
        {
         "legendgroup": "6",
         "line": {
          "color": "#19D3F3",
          "width": 2
         },
         "marker": {
          "color": "#19D3F3",
          "line": {
           "color": "rgba(0,0,0,0.3)",
           "width": 1
          }
         },
         "name": "6",
         "showlegend": false,
         "type": "box",
         "xaxis": "x",
         "y": {
          "bdata": "Li5NZk7Y6T9ogAO9qUXuPwQpW+h8oOg/fHET8wek6T+PGoRHHnPaPxJXGc+Pi+Y/j7YWwAQL7T/8///////vPwIAAAAAAPA/EczCdRO25T+34l3vaqLjP5pqxeTbaOw/SBDJqd2A7D8BAAAAAADwPwQAAAAAAPA/g48CvQXH6z8CAAAAAADwPwYAAAAAAPA/AAAAAAAA8D8BAAAAAADwPwEAAAAAAPA/wQ9lopDo6z+ojur866TvPwIAAAAAAPA/AgAAAAAA8D8CAAAAAADwPyTvv3lWMe4/AgAAAAAA8D81KIvzVvXuP2A4MCDfau8/lALZDXsd7j9y9jQbaE/uPwAAAAAAAPA/AAAAAAAA8D8EAAAAAADwPwQAAAAAAPA/1ID0ZWB67j8AAAAAAADwPzjO581Tpug//v//////7z9pRiOWngLrP7JIC5lhJOs/TzjmORc46T8DAAAAAADwP4krfi4ubuQ//Omdb/9H4T/QzoIvuZvnP+ABqCUXp+g/WqJhJu/z3z/CRibu73vjPwIAAAAAAPA/+bgYigW+7j/HCD7w04nbP/7//////+8/BgAAAAAA8D+saaAbL1XsP/UXqPdNMeQ/k4K4uswK5j8S5GSyJRbqPwQAAAAAAPA/b7jzaRS73j8CAAAAAADwPysNiq8/tus/6kz8MXwY5T8RxYgeX3HmP//ktUth9Ow/E5WTjK7S6D/yG2gOpEbjP6EbjnLvZuI/hL8euKG35z/sGt9dtQnrPx7yKqmlzOw/N54VIfBi7T8AAAAAAADwPzaZf/njuuU/v5InqzQX4D9aE/zDcxbbPwTPci5tduk/F7/apQHJ6T+OolcVSSLbP7j1BpA0eO0/AEjQWJa/7T+q2nFgvPLtPwRkejlVyeQ/0Dfclbb07D8CAAAAAADwPyrar/F4X+Y/Kvr4qe1b6z9qZTCBsmrdPwIAAAAAAPA/6zZDPK+z6D+qVKlpWoThP/baFjw6k+E/6cNE4I0+7D+XSQRacdftP0vqvOmMMus/qhf4Vtuh5T8EAAAAAADwP5IgsuNKGew/wgzLrLHd6z8=",
          "dtype": "f8"
         },
         "yaxis": "y"
        },
        {
         "legendgroup": "6",
         "line": {
          "color": "#19D3F3",
          "width": 2
         },
         "marker": {
          "color": "#19D3F3",
          "line": {
           "color": "rgba(0,0,0,0.3)",
           "width": 1
          }
         },
         "name": "6",
         "showlegend": false,
         "type": "box",
         "xaxis": "x2",
         "y": {
          "bdata": "yrL9iRcxVUABAvVz6HojQE7twK/3CkBAjkUpVz4YUkC0bral4v4aQKw37jWCaPU/fqy/YVnnC0CBOxaE1CpCQBpQBI4NbDxAkRMpnjLpSkBafZSE/2pDQHUNt+wsliZA0bYuuMuJOUBMgO16OtY9QCi66KKLLgJAe9nyPB6AF0BBohU2B1JKQKHmPa5VajRAmuX1qa8uP0DkoU2dtk8wQBHxCaSS8x5ACarhnojWHUB3RrwZ8WYAQC7ZX+sKzTVAYENPCxaGH0C0r4YERjfyPxLQSkArASVADjeHXc+EMEDKTQkaqgkiQLQpAil6xB9AjVhCahwZLkCmPN0T0PbqP5V8UdpfVzFALAQZloQbQECekHoYvp0LQCgIsmTDP/I/lKY+kF9jE0DZEhbCSYIwQGScHpakIx5AbB+gzAR8DUCD7FEBEAL5P1ZVVVVVI0JAOqZ4L3aFOUC3VQ2nxPYcQPWyiE8gFRdAQRHJw0xKO0C5p6CI0JFBQC//QOAxmy1Ab2OV/kg9QEB0mi4y83ogQNZg29fdhjVAzp7pBJtUCUD+MbmxR3MyQBXmg91NYTNAhs3/Hiq8I0CYreeozCdFQGgd4fKRhEJAGcOubhtNAEBUMiVTMj1UQBJ2JC3KGEFAgnauvy3JM0CEBe3P7MYlQK+Hp1rPRCdAbmKUzOtuM0DmIgdFvCEuQIf8JzSo8TVAHguKCyMCPkDGHTDZBc5JQEYXXXTRFWBAbDllU09cIUBaEJhAx/o8QFZVVVVVVTdAgOi/9sGSJ0DGs4IRCwBDQObsMLzbAEZAovF6ORQaRUAa5d8EUepWQJdOsEkV9SNA9fL1IZFXCUBwIz72LUlEQHopDUkiWRxAqKSLZzolR0Bz0o8N53wqQA90LU3S0y5AU5UGbDIBNkAO7SW0l6wUQFuCb/NXGFNA2mWkdNDNOEA35BQD/NcwQFXucH6R9DVAMFN/DzjdTUD8jBI/o+RAQAi8/ZDAm1tA1Lr+ki/ELECBPRtnBzVDQAoIJ+IlQU1ALadBJ5bMSEBeYTzEvegmQLJ3Db8V/ThAlCgCi151aUA=",
          "dtype": "f8"
         },
         "yaxis": "y2"
        },
        {
         "legendgroup": "6",
         "line": {
          "color": "#19D3F3",
          "width": 2
         },
         "marker": {
          "color": "#19D3F3",
          "line": {
           "color": "rgba(0,0,0,0.3)",
           "width": 1
          }
         },
         "name": "6",
         "showlegend": false,
         "type": "box",
         "xaxis": "x3",
         "y": {
          "bdata": "61G4HoVrN0AUrkfhekQyQDMzMzMzQzBAAAAAAABAFUCamZmZmZkrQFK4HoXrsSdAhetRuB4FK0CamZmZmRkoQB6F61G43itAwvUoXI9iJkAUrkfhehQqQOF6FK5HoSpAMzMzMzMTIEDXo3A9CtcdQJDC9ShcLyFAcD0K16PwHkA+CtejcP0gQFyPwvUonB1ApHA9CtfDI0CG61G4HoUqQKRwPQrXgyBAhetRuB6FKUDsUbgehYspQMzMzMzMjBtAcT0K16OwKUBSuB6F63EgQNejcD0KtyRA16NwPQp3J0DhehSuRwEkQNejcD0KtyVA16NwPQrXHUCF61G4HjUwQJqZmZmZiTJAcT0K16PQI0CuR+F6FM4qQKRwPQrXYyZAZmZmZmYmG0AUrkfhevQpQFyPwvUoXCRA4XoUrkdBLEDsUbgehcskQKRwPQrXwyZAuB6F61F4G0D2KFyPwlUnQClcj8L16CZAAAAAAABAGEDhehSuR6EbQHE9CtejEChAkML1KFwvKEB7FK5H4TohQEjhehSuhxtACtejcD2KI0BwPQrXo7AdQHsUrkfh2iZA7FG4HoVLKkC4HoXrUVgjQDMzMzMzEyFA9ihcj8J1JUCkcD0K1wMjQD4K16NwnSNAmpmZmZm5KEApXI/C9egiQB+F61G43itAzczMzMzMLECuR+F6FI4nQK5H4XoUrh5AFK5H4XqUH0ApXI/C9eggQArXo3A9SiJACtejcD0KGEB7FK5H4TojQAAAAAAAYCFApHA9CtcjKEDXo3A9CpcmQK5H4XoULiBAcT0K16PwI0BwPQrXo/AuQEjhehSu5yZA16NwPQpXIEAehetRuN4tQPYoXI/CNSxAKVyPwvXoIEBcj8L1KNwsQGZmZmZmxilAmpmZmZn5J0AzMzMzMxMrQOF6FK5HYSVA16NwPQr3I0AAAAAAAIAgQEjhehSuZypAwvUoXI9CJkAUrkfhetQhQI/C9ShcjyFAZmZmZmZmIUApXI/C9egiQMP1KFyPQidASOF6FK7nJ0A+CtejcJ0kQJqZmZmZOSZAAAAAAAAAI0A=",
          "dtype": "f8"
         },
         "yaxis": "y3"
        },
        {
         "legendgroup": "6",
         "line": {
          "color": "#19D3F3",
          "width": 2
         },
         "marker": {
          "color": "#19D3F3",
          "line": {
           "color": "rgba(0,0,0,0.3)",
           "width": 1
          }
         },
         "name": "6",
         "showlegend": false,
         "type": "box",
         "xaxis": "x4",
         "y": {
          "bdata": "ZmZmZmZm7j8AAAAAAADgP1VVVVVVVaU/AAAAAAAAyD8AAAAAAAAAAAAAAAAAAOg/VlVVVVVV7T9u27Zt27blPyRJkiRJktQ/VVVVVVVV1T+amZmZmZnpP6uqqqqqqu4/AAAAAAAA6j9VVVVVVVXVPwAAAAAAAOg/AAAAAAAA8D8AAAAAAADuPwAAAAAAAOY/SZIkSZIk6T8AAAAAAADuPwAAAAAAAOg/AAAAAAAA8D+rqqqqqqrqP1VVVVVVVeU/kiRJkiRJ4j8AAAAAAADwP5qZmZmZmek/AAAAAAAA5D+amZmZmZnpP6qqqqqqquI/AAAAAAAA0D8AAAAAAADwP6uqqqqqquo/AAAAAAAA4D8AAAAAAADhPwAAAAAAAPA/AAAAAAAA8D8AAAAAAADoPwAAAAAAAOg/27Zt27Zt6z8AAAAAAADwP6uqqqqqquo/AAAAAAAA8D8AAAAAAADwP6uqqqqqqu4/VVVVVVVV1T9VVVVVVVXlPzMzMzMzM+M/27Zt27Zt6z+amZmZmZnpP6qqqqqqquo/AAAAAAAA8D8AAAAAAADwPwAAAAAAAPA/AAAAAAAA6D8AAAAAAADQP83MzMzMzOQ/AAAAAAAA0D9VVVVVVVXlP1VVVVVVVe0/AAAAAAAA6D8AAAAAAADwPwAAAAAAAOg/qqqqqqqqyj/NzMzMzMzcPwAAAAAAANQ/mpmZmZmZ2T8AAAAAAADmP83MzMzMzOw/VVVVVVVV7T8AAAAAAADQPwAAAAAAAAAAVVVVVVVV5T8AAAAAAADgP6qqqqqqqto/AAAAAAAAAABVVVVVVVXVPwAAAAAAAOA/VVVVVVVV5T8AAAAAAADwPwAAAAAAAOQ/AAAAAAAA8D8AAAAAAADmP83MzMzMzNw/AAAAAAAA8D8AAAAAAADgP1VVVVVVVdU/VVVVVVVV5T9VVVVVVVXtP1VVVVVVVeU/AAAAAAAA4D8AAAAAAADoP6qqqqqqquo/AAAAAAAAAAAAAAAAAADgP7dt27Zt2+Y/mpmZmZmZ4T8kSZIkSZLsP1VVVVVVVek/AAAAAAAA5j8=",
          "dtype": "f8"
         },
         "yaxis": "y4"
        },
        {
         "legendgroup": "6",
         "line": {
          "color": "#19D3F3",
          "width": 2
         },
         "marker": {
          "color": "#19D3F3",
          "line": {
           "color": "rgba(0,0,0,0.3)",
           "width": 1
          }
         },
         "name": "6",
         "showlegend": false,
         "type": "box",
         "xaxis": "x5",
         "y": {
          "bdata": "btu2bdu25T8AAAAAAADwPwAAAAAAAMA/VVVVVVVV1T8AAAAAAAAAAAAAAAAAAOg/VlVVVVVV7T9WVVVVVVXpP7dt27Zt29Q/VVVVVVVV1T+amZmZmZnpP6uqqqqqqu4/AAAAAAAA6j8AAAAAAADgPwAAAAAAAPA/AAAAAAAA6D8AAAAAAADuP1VVVVVVVes/DMMwDMMw7D8AAAAAAADwPwAAAAAAAPA/AAAAAAAA8D+rqqqqqqrqP1VVVVVVVeU/VVVVVVVV5T8AAAAAAADwP5qZmZmZmek/z/M8z/M84z+amZmZmZnpP1VVVVVVVeU/VVVVVVVV1T8AAAAAAADwP6uqqqqqquo/MzMzMzMz4z/btm3btm3jPwAAAAAAAPA/AAAAAAAA8D8AAAAAAADwPwAAAAAAAOg/27Zt27Zt6z8AAAAAAADwP6uqqqqqquo/AAAAAAAA8D/0PM/zPM/nPwAAAAAAAPA/AAAAAAAA4D9VVVVVVVXlP2ZmZmZmZuQ/AAAAAAAA8D+amZmZmZnpP1VVVVVVVe0/AAAAAAAA8D8AAAAAAADwPwAAAAAAAPA/AAAAAAAA6D9VVVVVVVXVP2ZmZmZmZug/AAAAAAAA0D/e3d3d3d3hP1VVVVVVVe0/zczMzMzM5j8AAAAAAADuPwAAAAAAAOg/AAAAAAAA0D8AAAAAAADmP1VVVVVVVeE/AAAAAAAA4D8AAAAAAADmP83MzMzMzOg/AAAAAAAA8D9VVVVVVVXVPwAAAAAAAAAAVVVVVVVV5T8AAAAAAADkPwAAAAAAAOQ/AAAAAAAAAACqqqqqqqrSPwAAAAAAAOA/VVVVVVVV5T8AAAAAAADoP7dt27Zt2+Y/AAAAAAAA8D9VVVVVVVXtP83MzMzMzNw/AAAAAAAA8D8YhmEYhmHkPwAAAAAAAOA/VVVVVVVV5T8AAAAAAADqP5qZmZmZmek/NDMzMzMz2z8zMzMzMzPjPwAAAAAAAOQ/AAAAAAAAAACqqqqqqqriP6uqqqqqquo/VVVVVVVV5z9u27Zt27btP+AETuAETug/VVVVVVVV3T8=",
          "dtype": "f8"
         },
         "yaxis": "y5"
        },
        {
         "legendgroup": "6",
         "line": {
          "color": "#19D3F3",
          "width": 2
         },
         "marker": {
          "color": "#19D3F3",
          "line": {
           "color": "rgba(0,0,0,0.3)",
           "width": 1
          }
         },
         "name": "6",
         "showlegend": false,
         "type": "box",
         "xaxis": "x6",
         "y": {
          "bdata": "VVVVVVVV6T9VVVVVVVXlPwAAAAAAALA/nud5nud5zj8AAAAAAAAAAAAAAAAAAOg/VlVVVVVV7T8ndmIndmLnP0RKpERKpNQ/VVVVVVVV1T+bmZmZmZnpP6uqqqqqqu4/AAAAAAAA6j+amZmZmZnZPzQzMzMzM+s/27Zt27Zt6z8AAAAAAADuP5IkSZIkSeg/yqiMyqiM6j/v7u7u7u7uP9u2bdu2bes/AAAAAAAA8D+rqqqqqqrqP1VVVVVVVeU/EzuxEzux4z8AAAAAAADwP5uZmZmZmek/b/mWb/mW4z+bmZmZmZnpP+CDDz744OM/kyRJkiRJ0j8AAAAAAADwP6uqqqqqquo/dNFFF1104T8iIiIiIiLiPwAAAAAAAPA/AAAAAAAA8D/btm3btm3rPwAAAAAAAOg/27Zt27Zt6z8AAAAAAADwP6uqqqqqquo/AAAAAAAA8D9FF1100UXrP0YXXXTRRe8/mpmZmZmZ2T9VVVVVVVXlP7u7u7u7u+M/ndiJndiJ7T+bmZmZmZnpP7y7u7u7u+s/AAAAAAAA8D8AAAAAAADwPwAAAAAAAPA/AAAAAAAA6D+TJEmSJEnSP2ZmZmZmZuY/AAAAAAAA0D/P8zzP8zzjP1VVVVVVVe0/VVVVVVVV5z+3bdu2bdvuPwAAAAAAAOg/Fl100UUXzT9VVVVVVVXhP0mSJEmSJNk/HcdxHMdx3D8AAAAAAADmP54S5ClBnuo/ZmZmZmZm7j+TJEmSJEnSPwAAAAAAAAAAVVVVVVVV5T+amZmZmZnhPwAAAAAAAOA/AAAAAAAAAAD0PM/zPM/TPwAAAAAAAOA/VVVVVVVV5T/btm3btm3rP1VVVVVVVeU/AAAAAAAA8D9JkiRJkiTpP87MzMzMzNw/AAAAAAAA8D96nud5nufhP5qZmZmZmdk/VVVVVVVV5T+Lr/iKr/jqP0UXXXTRRec/VlVVVVVV3T9VVVVVVVXlP7dt27Zt2+Y/AAAAAAAAAACwEzuxEzvhP9iJndiJneg/////////4z+VURmVURntP8Rz9k+isOg/mpmZmZmZ4T8=",
          "dtype": "f8"
         },
         "yaxis": "y6"
        },
        {
         "legendgroup": "7",
         "line": {
          "color": "#FF6692",
          "width": 2
         },
         "marker": {
          "color": "#FF6692",
          "line": {
           "color": "rgba(0,0,0,0.3)",
           "width": 1
          }
         },
         "name": "7",
         "showlegend": false,
         "type": "box",
         "xaxis": "x",
         "y": {
          "bdata": "Q5k1tRFM6T/+///////vP1rhzjVRK+Y/8qYn3bEA6T+PGoRHHnPaP6wbNj8R7uc/+///////7z/8///////vPwIAAAAAAPA/Kc1Abmu25D+34l3vaqLjP5pqxeTbaOw/SBDJqd2A7D8BAAAAAADwPwQAAAAAAPA/ao0k4IXH6z8CAAAAAADwPwYAAAAAAPA/AAAAAAAA8D8BAAAAAADwPwEAAAAAAPA/UMSFyY7r6z+ojur866TvPwIAAAAAAPA/AgAAAAAA8D8CAAAAAADwP1sbMphWMe4/AgAAAAAA8D8GAAAAAADwPwMAAAAAAPA/YF2tNy9p7z9y9jQbaE/uPwAAAAAAAPA/AAAAAAAA8D8EAAAAAADwPwQAAAAAAPA/VujKZFZ67j8AAAAAAADwPwrHhze/3+g//v//////7z9pRiOWngLrP7RAkcvN0eY/TzjmORc46T8DAAAAAADwP3xGYFIBbuQ/6pkkZZW77D90bWEf5pvnP7X7Yuc3euw/WqJhJu/z3z/CRibu73vjPwIAAAAAAPA/AQAAAAAA8D/HCD7w04nbP/7//////+8/BgAAAAAA8D8AAAAAAADwP/UXqPdNMeQ/k4K4uswK5j8CAAAAAADwPwQAAAAAAPA/b7jzaRS73j8CAAAAAADwPysNiq8/tus/NGJoRUA95D8/CoRVfVPsP7kxrUUZ+e4/E5WTjK7S6D/gyuSZTNrkP6EbjnLvZuI/ErPF/6Nn5z+p3H2/zIvrPx7yKqmlzOw/N54VIfBi7T8AAAAAAADwPzTOdraANeU/v5InqzQX4D9aE/zDcxbbPwTPci5tduk/xCxPoj4H7T9ck46EPxPcP/7//////+8/31EfbMuB7j8GAAAAAADwP75O2ZlHxeM/Kkto5pgL7z8CAAAAAADwPyrar/F4X+Y/4KWY0liE7D/NPRfuDJ7dPwIAAAAAAPA/6zZDPK+z6D/icmYIrIrhP40Ky46zluQ/ImNszYrx6z8BAAAAAADwP0vqvOmMMus/qhf4Vtuh5T8EAAAAAADwPxePxO+4AOw/wgzLrLHd6z8=",
          "dtype": "f8"
         },
         "yaxis": "y"
        },
        {
         "legendgroup": "7",
         "line": {
          "color": "#FF6692",
          "width": 2
         },
         "marker": {
          "color": "#FF6692",
          "line": {
           "color": "rgba(0,0,0,0.3)",
           "width": 1
          }
         },
         "name": "7",
         "showlegend": false,
         "type": "box",
         "xaxis": "x2",
         "y": {
          "bdata": "VcG4RuTmU0BxIu+289siQFBCgwOaqj9AJwHk5iDiUUC0bral4v4aQCHLP6Ngj/U/Rn+2BXPZCkBFFB4ctn1AQKSKQtg+zCtAfuqKa0nmRkCQrQgaTupDQN6OMdW5RfQ/phzhMRpgPUBMgO16OtY9QCgFav1KgRlAe9nyPB6AF0Axmh/tbrNGQCe4U4p/LxlA9WDvYa1IOEAE6kpNM4b+P7x+q42h6R5A7bZSMSbNBEAp/ki/lRn+P4QKlrV3mB9AZ9iyqiV5AEA49PuOrwDuP7HbL9goyiRA8qFP9WsKMUCi1kBOMlciQFyEmporeA1AG0eGiAfXLUBfr5vL1GHqPxoJUsc5oOM/51UDFHjQPkBt7kKutI8PQCgIsmTDP/I/AoyX+CGF8j/ZEhbCSYIwQC7QkzOCdx5A9IS69n5c8D98SZmCDzz4P1dVVVVVVRxAv//uatK2NkCuyAI/Jjn+P63kvCziEwhAMveOpjHFNEBRRYUrxz42QFPdRrb7CjJAC98q1nyaOEC8rsmImLYgQL1xi6zapTtAAzxKmMU+CUDA4NoZvEwyQIkUH/+XSDNANdqZuTq9FkAGJKyY83FFQHMs1XRfYTdANgDe0Ax3/D+IeqiHeohQQDRXhE7nfz9AwTeWK9G6D0DhB1PyszkhQB4G2psXAfU/FH/WeO8UM0AMP/IBzQQfQCTIy2pYUBZA5lhQXBgRPkD7YosDGGlKQHTRRRdd9FhAINYX/XYKCkDg2GOZaNM8QER7Ce0ltDdAGBK2sMegDkBE57tGHDI1QObsMLzbAEZApQps1U+qTkDWANl3rShVQJzpBJtUUSNAcEuBP++NDEDPc3kb8bE/QHjuSB8OYQpAQgJ6Sf3TRUDxiQh1rZQsQEE9Mw8CHixADNs4vMrbNUAEOY7jOI7+P1WFq62D31JAowaHjt1pCkDUcnpSpHYyQNjG1lx8Uy9APeMZz3jGTUAJUxrzoAlBQKI41zGKc1hAugR/lGpdJ0Alh0UpAbhBQBXS1zyVQk1A0L7TSV7ZSUBR+KaewzsqQCCJsPRtjjtAn9/adT/daUA=",
          "dtype": "f8"
         },
         "yaxis": "y2"
        },
        {
         "legendgroup": "7",
         "line": {
          "color": "#FF6692",
          "width": 2
         },
         "marker": {
          "color": "#FF6692",
          "line": {
           "color": "rgba(0,0,0,0.3)",
           "width": 1
          }
         },
         "name": "7",
         "showlegend": false,
         "type": "box",
         "xaxis": "x3",
         "y": {
          "bdata": "FK5H4XrUN0B7FK5H4foxQClcj8L16DFAAAAAAAAAFUAfhetRuJ4tQClcj8L1KB1AhetRuB6FJUDD9Shcj8InQLgehetROCVAw/UoXI/CLkB7FK5H4XojQIXrUbgehStAXI/C9SjcIUDsUbgehesZQHE9CtejcCNAXI/C9ShcG0BSuB6F61EgQI/C9ShcjxxAAAAAAACAJEAfhetRuJ4nQOF6FK5H4RtAmpmZmZkZI0AK16NwPQooQGZmZmZm5iFAXI/C9ShcI0AUrkfhehQeQOxRuB6FayFAmpmZmZkZI0AfhetRuB4jQOxRuB6F6yJAj8L1KFwPIECuR+F6FK4sQM3MzMzMjDFAKVyPwvUoIkAfhetRuJ4rQDMzMzMzsyFArkfhehSuFUC4HoXrUTgnQMP1KFyPQiJASOF6FK7HJUDhehSuR+EgQK5H4XoUriVAZmZmZmZmF0C4HoXrUTgkQFyPwvUo3CBACtejcD0KHEDhehSuR+EeQEjhehSuRypAexSuR+F6IUBmZmZmZmYYQHE9CtejcBpA16NwPQpXIkA9CtejcD0YQOF6FK5HYSRAXI/C9SjcKUBxPQrXo3AmQOxRuB6F6x9AhetRuB4FI0DNzMzMzMwWQHsUrkfhehtAuB6F61G4LECamZmZmZkiQB+F61G4HihA7FG4HoVrIUDsUbgehWsnQD0K16NwvSBAKVyPwvUoGkD2KFyPwvUeQOF6FK5H4R5ACtejcD0KGkDD9Shcj8IiQFyPwvUoXCJASOF6FK5HKECuR+F6FK4oQArXo3A9iiJAAAAAAAAAJEDNzMzMzIwzQFK4HoXrURtA4XoUrkfhH0BxPQrXo/AyQI/C9ShcDy1AuB6F61E4IEA9CtejcL0tQB+F61G4HidApHA9CtcjJ0DXo3A9CpcwQDMzMzMzsypAw/UoXI9CI0DXo3A9CtcbQOF6FK5H4ShAmpmZmZmZI0Bcj8L1KNwhQNejcD0K1yFAAAAAAAAAIkA9CtejcL0gQI/C9ShcjyNAzczMzMzMJUCuR+F6FC4mQKRwPQrXoyZAj8L1KFwPJUA=",
          "dtype": "f8"
         },
         "yaxis": "y3"
        },
        {
         "legendgroup": "7",
         "line": {
          "color": "#FF6692",
          "width": 2
         },
         "marker": {
          "color": "#FF6692",
          "line": {
           "color": "rgba(0,0,0,0.3)",
           "width": 1
          }
         },
         "name": "7",
         "showlegend": false,
         "type": "box",
         "xaxis": "x4",
         "y": {
          "bdata": "AAAAAAAA8D8AAAAAAADgP1VVVVVVVcU/AAAAAAAA0D8AAAAAAAAAAAAAAAAAAOg/AAAAAAAA8D+3bdu2bdvmP9u2bdu2bds/VVVVVVVV1T+amZmZmZnpPwAAAAAAAPA/AAAAAAAA8D9VVVVVVVXVPwAAAAAAAPA/AAAAAAAA8D8AAAAAAADwPwAAAAAAAOg/27Zt27Zt6z8AAAAAAADwPwAAAAAAAOg/AAAAAAAA8D+rqqqqqqrqP1VVVVVVVeU/kiRJkiRJ4j8AAAAAAADwP5qZmZmZmek/VVVVVVVV5T+amZmZmZnpP1VVVVVVVeU/AAAAAAAA0D8AAAAAAADwP6uqqqqqquo/AAAAAAAA4D8AAAAAAADkPwAAAAAAAPA/AAAAAAAA8D8AAAAAAADoPwAAAAAAAOg/27Zt27Zt6z8AAAAAAADwP6uqqqqqquo/AAAAAAAA8D8AAAAAAADwPwAAAAAAAPA/VVVVVVVV1T9VVVVVVVXlPzMzMzMzM+M/27Zt27Zt6z+amZmZmZnpPwAAAAAAAPA/AAAAAAAA8D8AAAAAAADwPwAAAAAAAPA/AAAAAAAA6D8AAAAAAADQPzMzMzMzM+M/AAAAAAAA0D9VVVVVVVXlPwAAAAAAAPA/AAAAAAAA6D8AAAAAAADwPwAAAAAAAOg/VVVVVVVV1T+amZmZmZnZPwAAAAAAAOA/mpmZmZmZ2T8AAAAAAADwPwAAAAAAAPA/AAAAAAAA8D8AAAAAAADQPwAAAAAAAAAAVVVVVVVV5T8AAAAAAADwP1VVVVVVVeU/AAAAAAAAAABVVVVVVVXVPwAAAAAAAOA/VVVVVVVV5T8AAAAAAADwPwAAAAAAAOQ/AAAAAAAA8D8AAAAAAADoPzMzMzMzM+M/AAAAAAAA8D8AAAAAAADkP1VVVVVVVdU/VVVVVVVV5T8AAAAAAADwP1VVVVVVVeU/AAAAAAAA4D8AAAAAAADoP1VVVVVVVdU/AAAAAAAAAACSJEmSJEniP7dt27Zt2+Y/MzMzMzMz4z8AAAAAAADwPwAAAAAAAPA/AAAAAAAA6D8=",
          "dtype": "f8"
         },
         "yaxis": "y4"
        },
        {
         "legendgroup": "7",
         "line": {
          "color": "#FF6692",
          "width": 2
         },
         "marker": {
          "color": "#FF6692",
          "line": {
           "color": "rgba(0,0,0,0.3)",
           "width": 1
          }
         },
         "name": "7",
         "showlegend": false,
         "type": "box",
         "xaxis": "x5",
         "y": {
          "bdata": "t23btm3b5j8AAAAAAADwPwAAAAAAAOA/AAAAAAAA4D8AAAAAAAAAAAAAAAAAAOg/AAAAAAAA8D+rqqqqqqrqPwAAAAAAAOA/VVVVVVVV1T+amZmZmZnpPwAAAAAAAPA/AAAAAAAA8D8AAAAAAADgPwAAAAAAAPA/AAAAAAAA6D8AAAAAAADwPwAAAAAAAOg/AAAAAAAA8D8AAAAAAADwPwAAAAAAAPA/AAAAAAAA8D+rqqqqqqrqP1VVVVVVVeU/VVVVVVVV5T8AAAAAAADwP5qZmZmZmek/VVVVVVVV5T+amZmZmZnpP5qZmZmZmek/VVVVVVVV1T8AAAAAAADwP6uqqqqqquo/MzMzMzMz4z+3bdu2bdvmPwAAAAAAAPA/AAAAAAAA8D8AAAAAAADwPwAAAAAAAOg/27Zt27Zt6z8AAAAAAADwP6uqqqqqquo/AAAAAAAA8D+3bdu2bdvmPwAAAAAAAPA/AAAAAAAA4D9VVVVVVVXlPwAAAAAAAOg/AAAAAAAA8D+amZmZmZnpPwAAAAAAAPA/AAAAAAAA8D8AAAAAAADwPwAAAAAAAPA/AAAAAAAA6D9VVVVVVVXVPwAAAAAAAOg/AAAAAAAA0D9VVVVVVVXlPwAAAAAAAPA/AAAAAAAA6D8AAAAAAADwPwAAAAAAAOg/mpmZmZmZ2T9VVVVVVVXlP1VVVVVVVeU/AAAAAAAA4D8AAAAAAADwP6uqqqqqquo/AAAAAAAA8D9VVVVVVVXVPwAAAAAAAAAAVVVVVVVV5T8AAAAAAADwPwAAAAAAAPA/AAAAAAAAAAAAAAAAAADQPwAAAAAAAOA/VVVVVVVV5T8AAAAAAADoP7dt27Zt2+Y/AAAAAAAA8D8AAAAAAADwPzMzMzMzM+M/AAAAAAAA8D+3bdu2bdvmPwAAAAAAAOA/VVVVVVVV5T8AAAAAAADoP5qZmZmZmek/AAAAAAAA4D8zMzMzMzPjPwAAAAAAANA/AAAAAAAAAABVVVVVVVXlP6uqqqqqquo/AAAAAAAA6D8AAAAAAADwP9u2bdu2bes/AAAAAAAA4D8=",
          "dtype": "f8"
         },
         "yaxis": "y5"
        },
        {
         "legendgroup": "7",
         "line": {
          "color": "#FF6692",
          "width": 2
         },
         "marker": {
          "color": "#FF6692",
          "line": {
           "color": "rgba(0,0,0,0.3)",
           "width": 1
          }
         },
         "name": "7",
         "showlegend": false,
         "type": "box",
         "xaxis": "x6",
         "y": {
          "bdata": "qqqqqqqq6j9VVVVVVVXlPwAAAAAAANA/VVVVVVVV1T8AAAAAAAAAAAAAAAAAAOg/AAAAAAAA8D/YiZ3YiZ3oP53YiZ3Yid0/VVVVVVVV1T+bmZmZmZnpPwAAAAAAAPA/AAAAAAAA8D+amZmZmZnZPwAAAAAAAPA/27Zt27Zt6z8AAAAAAADwPwAAAAAAAOg/ndiJndiJ7T8AAAAAAADwP9u2bdu2bes/AAAAAAAA8D+rqqqqqqrqP1VVVVVVVeU/EzuxEzux4z8AAAAAAADwP5uZmZmZmek/VVVVVVVV5T+bmZmZmZnpP0UXXXTRRec/kyRJkiRJ0j8AAAAAAADwP6uqqqqqquo/dNFFF1104T9VVVVVVVXlPwAAAAAAAPA/AAAAAAAA8D/btm3btm3rPwAAAAAAAOg/27Zt27Zt6z8AAAAAAADwP6uqqqqqquo/AAAAAAAA8D+qqqqqqqrqPwAAAAAAAPA/mpmZmZmZ2T9VVVVVVVXlP1RVVVVVVeU/ndiJndiJ7T+bmZmZmZnpPwAAAAAAAPA/AAAAAAAA8D8AAAAAAADwPwAAAAAAAPA/AAAAAAAA6D+TJEmSJEnSP1RVVVVVVeU/AAAAAAAA0D9VVVVVVVXlPwAAAAAAAPA/AAAAAAAA6D8AAAAAAADwPwAAAAAAAOg/RRdddNFF1z8AAAAAAADgP5MkSZIkSeI/HcdxHMdx3D8AAAAAAADwPxdddNFFF+0/AAAAAAAA8D+TJEmSJEnSPwAAAAAAAAAAVVVVVVVV5T8AAAAAAADwP5qZmZmZmek/AAAAAAAAAACTJEmSJEnSPwAAAAAAAOA/VVVVVVVV5T/btm3btm3rP1VVVVVVVeU/AAAAAAAA8D/btm3btm3rPzMzMzMzM+M/AAAAAAAA8D9VVVVVVVXlP5qZmZmZmdk/VVVVVVVV5T/btm3btm3rP0UXXXTRRec/AAAAAAAA4D9UVVVVVVXlP5MkSZIkSdI/AAAAAAAAAAATO7ETO7HjP9iJndiJneg/VFVVVVVV5T8AAAAAAADwP53YiZ3Yie0/MzMzMzMz4z8=",
          "dtype": "f8"
         },
         "yaxis": "y6"
        },
        {
         "legendgroup": "8",
         "line": {
          "color": "#B6E880",
          "width": 2
         },
         "marker": {
          "color": "#B6E880",
          "line": {
           "color": "rgba(0,0,0,0.3)",
           "width": 1
          }
         },
         "name": "8",
         "showlegend": false,
         "type": "box",
         "xaxis": "x",
         "y": {
          "bdata": "BAAAAAAA8D/+///////vP8qvfKO1r9A/EKHFDAOO6z+uaP6D2sPbPzDRfXsIFu0/AtPYGJRL6D8mZswYo0/rPyRUCQGZsuM/rtOPL/K76D+rQV3WJDXmP2Y4+yxujOI/SBDJqd2A7D/I+oDQbR7oP6TCUHjkbeo//ApLeq4H4j/YtCkFMePmPwYAAAAAAPA/AAAAAAAA8D+C/TPeN8PrP5QdOKj//+8/l+ZrmeG66z+ojur866TvP5BicVz6tNk/qr1ZIl6A6T/MbPNXBGrpP1WL2PfM1eo/QMj25kzM6j+YNWTvc5zuP/xuBehUHOk/KJ5YHSmD7j8Q46LXpKjXPwAAAAAAAPA/1Gc58a9l5T8EAAAAAADwPwQAAAAAAPA/AgAAAAAA8D8AAAAAAADwP8AHbfpqB+Y/13+3DmGZ6j+SglYqpALrP6OwX96+t+g/jg5plOSY5j/fvByfegfVP6CtZg1xkcg/sF435prt2j+s1EunTQPpP0RGt40u0eY/lUYd0a086D+qxCkgFA3dPwIAAAAAAPA/AQAAAAAA8D/HCD7w04nbP/7//////+8/I3ZOnnkl7T9uqrg7m8zXPzQ0LZaPMts/3NgKD0RM5j9Mn124tb7kPwgakwGNnew/S/+L2rZF4T+H5Gy+uursP+CJp8OvyOw/5mMhS0Vp5D/xGfhQgUjfPx3/WwarLOk/HgBlibQY5D/UwhtaVQTjP9L55G0deuQ/5p27PeYp7j8kn1JONaDqPx9DygZOLeg/pzbQGDQK7j8AAAAAAADwP5JOI/Lwhug/cK0DRliA6j9QJPGDZgbgP1IfcC4CMeU/M0UJp0K06D9ck46EPxPcP3QI9Y46res/31EfbMuB7j8z5O/Orc/kP782ET4LcOk/uChwJYML3j8CAAAAAADwP+ckMKBMZuc/sxeDpP//7z/YJlmahT3dP17c14v5hew/6zZDPK+z6D8mDm7ZPcvjPzx0Pe30U+c/Ku7AzK+T5j8/fzkPpYPmP7HW9to/n+Y/AmNf0bJT5j8EAAAAAADwP3j/MjrxmOY/1qPa8+wM6j8=",
          "dtype": "f8"
         },
         "yaxis": "y"
        },
        {
         "legendgroup": "8",
         "line": {
          "color": "#B6E880",
          "width": 2
         },
         "marker": {
          "color": "#B6E880",
          "line": {
           "color": "rgba(0,0,0,0.3)",
           "width": 1
          }
         },
         "name": "8",
         "showlegend": false,
         "type": "box",
         "xaxis": "x2",
         "y": {
          "bdata": "IPwKeVUBV0CUgTVxBTUgQIT+GdpUPkFAjDG5X1lzUEDwzsNB/6EaQOQSz3JxHeo/dItsiSMeHkCx7Uecvjc4QIs+i8T++0ZA2jW98k1CPkBbETSc1H1DQFovtyFk6zBAXpKij2jsN0ByG1otBP0IQDmO4ziOI1RA7oE6A00aMECKVtgcSFRgQAbPbvCdP09AiNJ8FhL7UkAHYnUP15oiQGVouoP91kpAW1paWlr6RkDTFYPl785JQN5O5dGBd0hAJvGU8jM+T0AY0fsISbtSQDObbRJc70xABSC8YBUo+T9UIlgc6qxEQPUynSlx3BxABwzVdMwlRkDm6sLZFVhTQCF57VtxjEpAulHqffP0WUCuqqqqqqogQKfuJCFF7/Y/f4JVyDkqTUC5MA2p1GYyQJtwu5qGZi9Atm6bzWkiSkD64RMRr4pXQAAAAAAAQFVAZ4+m5KAdWEDHAj8mOV4/QDovi/gEkilAVD5JUETyIEC+uap3MAsuQBzPXcOxb1xAx8ZREnJ4YUA083ry7XAkQMmRbqpECxhA9s/3UsjNQUDCbM4TWsUwQKUeSzxBakRAE0RmzXhrKUBcBt4hJGY3QC61BtVWBkJAan+dwZy4FUDDK7zCK4w5QO4yiCJDfFFAXqvvQGKZMUCZpyZ+MEVVQIDg8CvDi0FA8Isb3dbvJUBwStmgZ9wwQGwTxW6YyytADofcZAzVOkB70aTcFg5DQOmiiy66mGlApJBzGYLGHUBtml2yBGMqQBTaS2gv4TxAyPpYPPZaLED+hHzAHIc5QPeDcdf0E0hAQUb85g5kRkAVHr/1Dn02QJzdwq/GxEJAysS0DUb0EEC6cJUyn8Q4QGUHuRG7RCJAlM14GdY7R0Crty+7MtlFQP46yZhEVTBA78tjK4KGMED6EtpLaDMqQJ5D/lzTu1ZAgLEQLhQHNUAEOGzsr3YzQFgANa2E60xAuy2NgweATUBQqtyHZ+ZaQA4JvP2QQFdAorXjbGnXQED1JpHYjONBQEwCwol4aURAKH6FjEFhNUC1RJ9FYv8wQPOIdeAaFUJAGr/wbexXcEA=",
          "dtype": "f8"
         },
         "yaxis": "y2"
        },
        {
         "legendgroup": "8",
         "line": {
          "color": "#B6E880",
          "width": 2
         },
         "marker": {
          "color": "#B6E880",
          "line": {
           "color": "rgba(0,0,0,0.3)",
           "width": 1
          }
         },
         "name": "8",
         "showlegend": false,
         "type": "box",
         "xaxis": "x3",
         "y": {
          "bdata": "zczMzMxcMEAUrkfhelQxQDMzMzMzAzBAXI/C9ShcEECamZmZmXkiQHsUrkfhWiNA9ihcj8LVIkC4HoXrUTgaQJqZmZmZ2R5AMzMzMzNzF0AfhetRuB4VQPYoXI/CtR5APgrXo3D9E0BSuB6F65ERQHE9CtejMCFApHA9CtejFECF61G4HoUVQOxRuB6FaxNA7FG4HoVrG0CamZmZmRkkQFK4HoXrkRtA9ihcj8I1JUD2KFyPwtUgQFK4HoXr0Q9AwvUoXI9CF0CuR+F6FK4VQJqZmZmZ2RhApHA9CtfjG0DsUbgehesWQB+F61G4XhlA4XoUrkchE0DD9Shcj4IiQLgehetRWCZArkfhehSuIUBxPQrXo7AZQNejcD0KdyVA9ihcj8I1GUCkcD0K1yMgQNejcD0KlyJAUrgehevRIUAUrkfhelQWQI/C9Shcjx9AMzMzMzMzFEBcj8L1KNwYQHsUrkfheiNAcT0K16NwGEBmZmZmZqYTQOxRuB6F6x5AZmZmZmYmIkBSuB6F61EVQM3MzMzMzA5Aw/UoXI9CHkCamZmZmRkZQArXo3A9yhZAhetRuB4lI0AK16NwPUoeQHsUrkfhehRAmpmZmZnZH0DXo3A9CpcbQNejcD0K1xdA4XoUrkchIkCamZmZmZkYQNejcD0KVyFAmpmZmZl5JkCamZmZmRklQArXo3A9yhtA4XoUrkehGUAAAAAAAIAeQIXrUbgeBRxA16NwPQrXEUAehetRuJ4gQNejcD0Klx9ApHA9CtfjJEB7FK5H4XokQFK4HoXrER5ApHA9CtejHkAK16NwPWonQLgehetRmCBAMzMzMzPzHUCuR+F6FC4mQI/C9ShcDyVA9ihcj8J1HkBI4XoUricjQIXrUbgehSNAZmZmZmbmIEDXo3A9CpcmQML1KFyPIiVAMzMzMzOTIkAzMzMzMzMVQLgehetRWCdA16NwPQpXIkAVrkfhelQaQHE9Ctej8BlAexSuR+HaIUCamZmZmbkjQFK4HoXrUSJACtejcD0KJEBcj8L1KPwkQFK4HoXrUSFAUrgehevRHkA=",
          "dtype": "f8"
         },
         "yaxis": "y3"
        },
        {
         "legendgroup": "8",
         "line": {
          "color": "#B6E880",
          "width": 2
         },
         "marker": {
          "color": "#B6E880",
          "line": {
           "color": "rgba(0,0,0,0.3)",
           "width": 1
          }
         },
         "name": "8",
         "showlegend": false,
         "type": "box",
         "xaxis": "x4",
         "y": {
          "bdata": "MzMzMzMz4z8AAAAAAADoPwAAAAAAAAAAAAAAAAAA3D8AAAAAAAAAAAAAAAAAAOA/q6qqqqqq6j+2bdu2bdvWP9u2bdu2bds/VVVVVVVV1T8AAAAAAADgPwAAAAAAAOQ/AAAAAAAA4D9VVVVVVVXVPwAAAAAAAPA/qqqqqqqq2j8AAAAAAADoPwAAAAAAAOg/AAAAAAAA6D8AAAAAAADoPwAAAAAAAOA/btu2bdu27T9VVVVVVVXlP1VVVVVVVeU/kiRJkiRJ4j9VVVVVVVXlP83MzMzMzOw/VVVVVVVV5T+amZmZmZnpP1VVVVVVVeE/AAAAAAAA4D8AAAAAAADgP1ZVVVVVVek/VVVVVVVV3T8AAAAAAADYPwAAAAAAAPA/AAAAAAAA8D8AAAAAAADgPwAAAAAAAOA/27Zt27Zt6z8AAAAAAADwP6uqqqqqquo/AAAAAAAA8D+amZmZmZnJP6qqqqqqquI/VVVVVVVV1T9VVVVVVVXtPzMzMzMzM+M/t23btm3b5j9nZmZmZmbWP1VVVVVVVeU/VVVVVVVV5T9VVVVVVVXlPwAAAAAAAPA/AAAAAAAA8D8AAAAAAADUP5qZmZmZmeE/AAAAAAAAAAAAAAAAAADQPwAAAAAAAOg/AAAAAAAA1D+qqqqqqqrqPwAAAAAAAOg/AAAAAAAA6D8AAAAAAADQPwAAAAAAANw/mpmZmZmZ2T8AAAAAAADgPzMzMzMzM+s/VVVVVVVV7T8AAAAAAADmPwAAAAAAAMg/AAAAAAAA6D+qqqqqqqriP1VVVVVVVdU/AAAAAAAA5D9VVVVVVVXVPwAAAAAAANg/VVVVVVVV5T+qqqqqqqrqPwAAAAAAAOg/AAAAAAAA8D8AAAAAAADiPwAAAAAAAOg/VVVVVVVV1T8AAAAAAADoPwAAAAAAAPA/qqqqqqqq4j8AAAAAAADoPwAAAAAAAPA/AAAAAAAA6j8AAAAAAADiPwAAAAAAAPA/AAAAAAAA7D/btm3btm3bP9u2bdu2bes/mpmZmZmZ6T/btm3btm3bP6uqqqqqquo/AAAAAAAA8D8=",
          "dtype": "f8"
         },
         "yaxis": "y4"
        },
        {
         "legendgroup": "8",
         "line": {
          "color": "#B6E880",
          "width": 2
         },
         "marker": {
          "color": "#B6E880",
          "line": {
           "color": "rgba(0,0,0,0.3)",
           "width": 1
          }
         },
         "name": "8",
         "showlegend": false,
         "type": "box",
         "xaxis": "x5",
         "y": {
          "bdata": "JEmSJEmS3D/NzMzMzMzmPwAAAAAAAAAAVVVVVVVV4T8AAAAAAAAAAFVVVVVVVeU/q6qqqqqq6j8MwzAMwzDcPwAAAAAAANY/kiRJkiRJ0j8AAAAAAADgP97d3d3d3eU/mpmZmZmZ2T8AAAAAAADgPwAAAAAAAPA/mpmZmZmZ0T8zMzMzMzPjP83MzMzMzOY/AAAAAAAA6D9hGIZhGIbnP6qqqqqqquI/AAAAAAAA6z+SJEmSJEniP1VVVVVVVeU/JEmSJEmS5D9VVVVVVVXlPyIiIiIiIuo/nud5nud54j+amZmZmZnpP7y7u7u7u+M/VVVVVVVV5T8AAAAAAADgPyRJkiRJkuM/mpmZmZmZ4T+3bdu2bdveP5qZmZmZmek/AAAAAAAA8D+qqqqqqqriPwAAAAAAAOA/27Zt27Zt6z8AAAAAAADwPzEMwzAMw+g/AAAAAAAA8D+JiIiIiIjIPwIncAIncOI/VVVVVVVV1T9VVVVVVVXtPzMzMzMzM+M/btu2bdu26T9VVVVVVVXdPwAAAAAAAPA/VVVVVVVV5T9VVVVVVVXlPwAAAAAAAPA/AAAAAAAA8D+qqqqqqqraPwAAAAAAAOY/AAAAAAAAAACqqqqqqqrSPwAAAAAAAOY/AAAAAAAA1D8AAAAAAADuPwAAAAAAAOg/IiIiIiIi6j8AAAAAAADQP4iIiIiIiNg/mpmZmZmZ2T8AAAAAAADgPwAAAAAAAOg/AAAAAAAA8D9mZmZmZmbiP1VVVVVVVdU/AAAAAAAA6D8AAAAAAADoPwAAAAAAAPA/zczMzMzM5D+JiIiIiIjIPwAAAAAAANg/VVVVVVVV5T+qqqqqqqrmP9u2bdu2bes/AAAAAAAA8D8iIiIiIiLiPwAAAAAAAOg/VVVVVVVV1T8AAAAAAADoPwAAAAAAAO4/qqqqqqqq4j/NzMzMzMzsPwAAAAAAAPA/zczMzMzM5D/NzMzMzMzcPwAAAAAAAOI/AAAAAAAA7D9u27Zt27bZP9u2bdu2bes/AAAAAAAA8D8AAAAAAADYPwAAAAAAAOQ/qqqqqqqq4j8=",
          "dtype": "f8"
         },
         "yaxis": "y5"
        },
        {
         "legendgroup": "8",
         "line": {
          "color": "#B6E880",
          "width": 2
         },
         "marker": {
          "color": "#B6E880",
          "line": {
           "color": "rgba(0,0,0,0.3)",
           "width": 1
          }
         },
         "name": "8",
         "showlegend": false,
         "type": "box",
         "xaxis": "x6",
         "y": {
          "bdata": "XXTRRRdd4D9VVVVVVVXnPwAAAAAAAAAAuG3btm3b3j8AAAAAAAAAAJMkSZIkSeI/q6qqqqqq6j/RER3RER3ZP2dmZmZmZtg/EzuxEzux0z8AAAAAAADgP9lkk0022eQ/HcdxHMdx3D+amZmZmZnZPwAAAAAAAPA/SpIkSZIk1T9UVVVVVVXlP1VVVVVVVec/AAAAAAAA6D+ysbGxsbHnP0qSJEmSJOE/RERERERE7D8TO7ETO7HjP1VVVVVVVeU/czVXczVX4z9VVVVVVVXlP1n7hrVvWOs/BDzAAzzA4z+bmZmZmZnpP2yyySabbOI/kyRJkiRJ4j8AAAAAAADgPw7hEA7hEOY/////////3z+Kr/iKr/jaPx3HcRzHcew/AAAAAAAA8D9KkiRJkiThPwAAAAAAAOA/27Zt27Zt6z8AAAAAAADwP0IapEEapOk/AAAAAAAA8D8GeUqQpwTJP1icIp6zf+I/VVVVVVVV1T9VVVVVVVXtPzMzMzMzM+M/0AIt0AIt6D9WVVVVVVXZP5qZmZmZmek/VVVVVVVV5T9VVVVVVVXlPwAAAAAAAPA/AAAAAAAA8D+4bdu2bdvWP+I4juM4juM/AAAAAAAAAAARERERERHRP7Zt27Zt2+Y/AAAAAAAA1D+EOqiDOqjrPwAAAAAAAOg/+OCDDz746D8BAAAAAADQP/qXf/mXf9k/m5mZmZmZ2T8AAAAAAADgP7V+pUCtX+k/ZmZmZmZm7j/////////jP57neZ7nec4/AAAAAAAA6D8AAAAAAADkPwAAAAAAAOA/AAAAAAAA5D/HcRzHcRzPPwAAAAAAANg/VVVVVVVV5T8YhmEYhmHoP5mZmZmZmek/AAAAAAAA8D96nud5nufhPwEAAAAAAOg/VVVVVVVV1T8AAAAAAADoP7dt27Zt2+4/qqqqqqqq4j8zMzMzMzPpPwAAAAAAAPA/xnEcx3Ec5z8AAAAAAADgP7Zt27Zt2+Y/AAAAAAAA7D86qIM6qIPaP9u2bdu2bes/HcdxHMdx7D+ZmZmZmZnZP7dt27Zt2+Y/eHd3d3d35z8=",
          "dtype": "f8"
         },
         "yaxis": "y6"
        },
        {
         "legendgroup": "9",
         "line": {
          "color": "#FF97FF",
          "width": 2
         },
         "marker": {
          "color": "#FF97FF",
          "line": {
           "color": "rgba(0,0,0,0.3)",
           "width": 1
          }
         },
         "name": "9",
         "showlegend": false,
         "type": "box",
         "xaxis": "x",
         "y": {
          "bdata": "BAAAAAAA8D/+///////vP8qvfKO1r9A/B3G05PuN6z+4bAmnFkDaPzDRfXsIFu0/aPbdAjPS5z8mZswYo0/rP5ZInYR7leQ/QJIeyWGc6T8+hKizQ1DlP8HzUpXWPuE/SBDJqd2A7D904//YuBzoP6TCUHjkbeo/4iJwUZb64j/YtCkFMePmPwYAAAAAAPA/AAAAAAAA8D+C/TPeN8PrP0t24KD+/+8/0tbLaH9P6z+ojur866TvP5BicVz6tNk/qr1ZIl6A6T/MbPNXBGrpPyy8Yp/6tuo/QMj25kzM6j+YNWTvc5zuP71i5DcA1+o/YF2tNy9p7z+QHmxb8KjXPwAAAAAAAPA/tiOgIHwD6D8EAAAAAADwPwQAAAAAAPA/AgAAAAAA8D8AAAAAAADwP9Y+ViW7UOc/13+3DmGZ6j9pRiOWngLrP6OwX96+t+g/BAyVBOhD5T85fZx/NQfVP6CtZg1xkcg/sF435prt2j8C6DqFSwPpP0RGt40u0eY/lUYd0a086D/5X19nJTfePwIAAAAAAPA/AQAAAAAA8D/HCD7w04nbP/7//////+8/I3ZOnnkl7T9uqrg7m8zXPzQ0LZaPMts/zKTLREX76j/SSdti2+LkPwh4GQK8fOs/b7jzaRS73j8u1zvCGVntPysNiq8/tus/5mMhS0Vp5D+Ys8LJLUrfPwIAAAAAAPA/HgBlibQY5D/SFpUxJKvhP9L55G0deuQ/vJLEFf7/7z9I4hcAIv/qP5MHkm8XMug/N54VIfBi7T8AAAAAAADwP01CJxrSUuw/cK0DRliA6j++jD8rEVnhPz6ZAbIN6eI/M0UJp0K06D9ck46EPxPcP3QI9Y46res/31EfbMuB7j8k4enYNvvnP782ET4LcOk/uChwJYML3j8CAAAAAADwPzZmUDainec/xF4Mkv7/7z+tCl1wHLTdP17c14v5hew/6zZDPK+z6D+U+vUBoWbkPzx0Pe30U+c/WlUuaC/B5z+wIN+EOaDmP6DFmM0LT+c/CkWVQDlp6D8EAAAAAADwP1Bk+TN1R+U/1qPa8+wM6j8=",
          "dtype": "f8"
         },
         "yaxis": "y"
        },
        {
         "legendgroup": "9",
         "line": {
          "color": "#FF97FF",
          "width": 2
         },
         "marker": {
          "color": "#FF97FF",
          "line": {
           "color": "rgba(0,0,0,0.3)",
           "width": 1
          }
         },
         "name": "9",
         "showlegend": false,
         "type": "box",
         "xaxis": "x2",
         "y": {
          "bdata": "R7BljB5kU0ASq1eLuuYiQAgCtIRIgiJADkM7uKFDS0Dl7o0ik7QaQOQSz3JxHeo/cMcqS9uPFkDhn3m0qEQ+QAgYzt3QJk1ACCXVRtadPEBBw0ndl0dDQGsgudWNIhFAwogy1kmNNUByG1otBP0IQMIHH3zwwUlAXqxBSutcJECU+PRrFT1gQA8AT8eM101AE1TUg72HS0AxLNSVmmYcQDzYb7UxNEdAT0nwJ+XOGEDTFYPl785JQGpup/LowC9AZs3vZhLASkAY0fsISbtSQLzwWSzRGkRAwd2/hz7VA0BP8GjGZrpDQHtF0ypfDCdABwzVdMwlRkCSiNZgNvNSQJ5M8GdklUtAb5R63zxtQUAt+a+ILdQfQB9hZEbjkO8/f4JVyDkqTUB5lrdayYwrQO0t4XY1DTFAZJe8PV7gQ0A68nj6XEdUQFVVVVVVVSdAuOU/jqzXVkCabRwKeWIoQBma7mC/VTBAmjB64xZZBUD9ja8hDPYaQI8yIHzqmVJABcaJu3JnZkAHbMZbSuMSQMsnCYpIHhZA9s/3UsjNQUB8Q+ZZJNcwQOG0w74VTjNAJnvKdnQVEEA0BFbvPnM9QLThavZhXzZAD5LtjQSlKkDMt3zLt/wwQFA+05ejUFBAtHr6GJ8BIkCRWjYhlOFSQIIA9vBU6zFADuCO08ALKEDk3FPzOrMoQB4TJOHizjBAU8DyeCObN0BvvsNnBas+QAAAAAAAAGlAXBhluT4PDECxps8iGj8qQE5oL6G9hDtA5HrKhqzuK0DQ8hB4RyszQP4xv33GK0ZAfdYNpshnOUDRdNMSMBYwQDrBJlXUD0NAcEuBP++NDEDEHFAop1E/QJbtMxLHcBNAqYqQmlkfRkCmRWAJCFBCQNKwokJdKjBAjCWLAsHqJUDxJbSX0H4nQEIoAcIdWFZAgLEQLhQHNUDn0WiHFIsjQPpF0quwFkdAiMmf7udJT0AOZSTiAANRQD+TLxs0+VVAz5/YzMLBQEAkI35zBzI6QK3WW1CG1UJAlRNojVQINEDHP48ReckwQKduelRRKztA7JFOKj5wbkA=",
          "dtype": "f8"
         },
         "yaxis": "y2"
        },
        {
         "legendgroup": "9",
         "line": {
          "color": "#FF97FF",
          "width": 2
         },
         "marker": {
          "color": "#FF97FF",
          "line": {
           "color": "rgba(0,0,0,0.3)",
           "width": 1
          }
         },
         "name": "9",
         "showlegend": false,
         "type": "box",
         "xaxis": "x3",
         "y": {
          "bdata": "KVyPwvUoKUDNzMzMzMwxQI/C9ShczzBAhetRuB6FEUCF61G4HoUVQK5H4XoUrhVAH4XrUbgeFkAK16NwPQoVQNejcD0K1x9AzczMzMzMFkBSuB6F61ESQB+F61G4HhRAzczMzMzMEUBcj8L1KFwJQK5H4XoUrh1AXI/C9ShcE0D2KFyPwvURQBSuR+F6FBRAcT0K16NwH0Bcj8L1KNwjQArXo3A9ChlAw/UoXI/CIkCPwvUoXI8dQOxRuB6F6w9A7FG4HoXrFEAzMzMzMzMPQArXo3A9ChtAhetRuB6FHEAfhetRuB4VQHE9CtejcBlAZmZmZmZmDkApXI/C9SgeQK5H4XoUriFAmpmZmZmZHUDhehSuR+EWQI/C9ShcDyFAzczMzMzME0AfhetRuB4VQHE9CtejcBZAZmZmZmZmIECuR+F6FK4aQFK4HoXrURpApHA9CtejDkA9CtejcD0dQI/C9ShcjxZA7FG4HoXrEkBcj8L1KFwbQArXo3A9ChtA7FG4HoXrGkCPwvUoXI8TQOF6FK5H4QpAFK5H4XoUGEAUrkfhehQRQGZmZmZmZhdAuB6F61E4JkDNzMzMzEwgQBSuR+F6FBBACtejcD0KGEAfhetRuB4YQArXo3A9CglAH4XrUbieJEDNzMzMzMwRQM3MzMzMTCRAhetRuB4FKUCamZmZmRkjQJqZmZmZmRlAzczMzMzMHEBcj8L1KFwcQKRwPQrXoxlAKVyPwvUoCkAAAAAAAAAdQAAAAAAAABtA16NwPQrXJUCkcD0K1yMiQK5H4XoUrhxAPQrXo3A9F0C4HoXrUbgpQJqZmZmZmSFAexSuR+F6FkBI4XoUrsciQOxRuB6F6yRAcT0K16NwHEC4HoXrUbgmQGZmZmZmZiBAAAAAAAAAHUBSuB6F61EmQMP1KFyPQiJA7FG4HoVrIUCPwvUoXI8ZQB+F61G4HidAUrgehetRI0DsUbgehesbQIXrUbgehRZAFK5H4XqUIkCkcD0K16MlQBSuR+F6FB1A7FG4HoXrIkBcj8L1KFwjQOxRuB6F6yFAPQrXo3C9IUA=",
          "dtype": "f8"
         },
         "yaxis": "y3"
        },
        {
         "legendgroup": "9",
         "line": {
          "color": "#FF97FF",
          "width": 2
         },
         "marker": {
          "color": "#FF97FF",
          "line": {
           "color": "rgba(0,0,0,0.3)",
           "width": 1
          }
         },
         "name": "9",
         "showlegend": false,
         "type": "box",
         "xaxis": "x4",
         "y": {
          "bdata": "MzMzMzMz4z8AAAAAAADoPwAAAAAAAAAAAAAAAAAA4D8AAAAAAAAAAAAAAAAAAOA/q6qqqqqq6j/btm3btm3bP7dt27Zt2+Y/VVVVVVVV1T8zMzMzMzPjP1VVVVVVVeU/AAAAAAAA4D9VVVVVVVXVPwAAAAAAAPA/VVVVVVVV5T8AAAAAAADoPwAAAAAAAOg/27Zt27Zt6z8AAAAAAADoPwAAAAAAAOA/AAAAAAAA8D9VVVVVVVXlP1VVVVVVVeU/kiRJkiRJ4j9VVVVVVVXlPwAAAAAAAPA/VVVVVVVV5T+amZmZmZnpP1VVVVVVVeU/AAAAAAAA4D8AAAAAAADgP6uqqqqqquo/AAAAAAAA4D8AAAAAAADYPwAAAAAAAPA/AAAAAAAA8D8AAAAAAADgPwAAAAAAAOA/27Zt27Zt6z8AAAAAAADwP6uqqqqqquo/AAAAAAAA8D+amZmZmZnJP1VVVVVVVeU/VVVVVVVV1T8AAAAAAADwPzMzMzMzM+M/t23btm3b5j+amZmZmZnZP1VVVVVVVeU/VVVVVVVV5T9VVVVVVVXlPwAAAAAAAPA/AAAAAAAA8D8AAAAAAADgPzMzMzMzM+M/AAAAAAAAAABVVVVVVVXVP1VVVVVVVeU/AAAAAAAA4D9VVVVVVVXlPwAAAAAAAOg/q6qqqqqq6j+amZmZmZnZPwAAAAAAAOA/mpmZmZmZ2T8AAAAAAADgPwAAAAAAAPA/AAAAAAAA8D8AAAAAAADoPwAAAAAAANA/AAAAAAAA8D9VVVVVVVXlP1VVVVVVVdU/AAAAAAAA6D9VVVVVVVXVPwAAAAAAAOA/VVVVVVVV5T8AAAAAAADwPwAAAAAAAOg/AAAAAAAA8D8AAAAAAADgP5qZmZmZmek/VVVVVVVV1T8AAAAAAADoPwAAAAAAAPA/VVVVVVVV5T8AAAAAAADwPwAAAAAAAPA/AAAAAAAA8D8AAAAAAADgPwAAAAAAAPA/AAAAAAAA7D/btm3btm3bP9u2bdu2bes/mpmZmZmZ6T/btm3btm3bP6uqqqqqquo/AAAAAAAA8D8=",
          "dtype": "f8"
         },
         "yaxis": "y4"
        },
        {
         "legendgroup": "9",
         "line": {
          "color": "#FF97FF",
          "width": 2
         },
         "marker": {
          "color": "#FF97FF",
          "line": {
           "color": "rgba(0,0,0,0.3)",
           "width": 1
          }
         },
         "name": "9",
         "showlegend": false,
         "type": "box",
         "xaxis": "x5",
         "y": {
          "bdata": "27Zt27Zt2z8AAAAAAADoPwAAAAAAAAAAAAAAAAAA4D8AAAAAAAAAAFVVVVVVVeU/q6qqqqqq6j8zMzMzMzPjP3Icx3Ecx+E/kiRJkiRJ0j8zMzMzMzPjP5qZmZmZmek/mpmZmZmZ2T8AAAAAAADgPwAAAAAAAPA/mpmZmZmZ2T8zMzMzMzPjPwAAAAAAAOg/27Zt27Zt6z/btm3btm3rP1VVVVVVVeU/AAAAAAAA7D+SJEmSJEniP1VVVVVVVeU/VVVVVVVV5T9VVVVVVVXlP6uqqqqqquo/VVVVVVVV5T+amZmZmZnpP1VVVVVVVeU/VVVVVVVV5T8AAAAAAADgPwAAAAAAAOQ/MzMzMzMz4z8AAAAAAADgP5qZmZmZmek/AAAAAAAA8D9VVVVVVVXlPwAAAAAAAOA/27Zt27Zt6z8AAAAAAADwP6uqqqqqquo/AAAAAAAA8D+amZmZmZnJP1VVVVVVVeU/VVVVVVVV1T8AAAAAAADwPzMzMzMzM+M/t23btm3b5j8AAAAAAADgPwAAAAAAAPA/VVVVVVVV5T9VVVVVVVXlPwAAAAAAAPA/AAAAAAAA8D9VVVVVVVXlPwAAAAAAAOg/AAAAAAAAAAAAAAAAAADgP1VVVVVVVeU/AAAAAAAA4D8AAAAAAADwPwAAAAAAAOg/q6qqqqqq6j+amZmZmZnZP1VVVVVVVeU/mpmZmZmZ2T8AAAAAAADgP6uqqqqqquo/AAAAAAAA8D8zMzMzMzPjPwAAAAAAAOA/AAAAAAAA8D9VVVVVVVXlPwAAAAAAAPA/AAAAAAAA6D+amZmZmZnJPwAAAAAAAOA/VVVVVVVV5T8AAAAAAADoP9u2bdu2bes/AAAAAAAA8D9VVVVVVVXlP5qZmZmZmek/VVVVVVVV1T8AAAAAAADoPwAAAAAAAPA/VVVVVVVV5T8zMzMzMzPjPwAAAAAAAPA/mpmZmZmZ6T+amZmZmZnZPwAAAAAAAOg/AAAAAAAA7D8AAAAAAADYP9u2bdu2bes/AAAAAAAA8D8AAAAAAADYPwAAAAAAAOQ/AAAAAAAA4D8=",
          "dtype": "f8"
         },
         "yaxis": "y5"
        },
        {
         "legendgroup": "9",
         "line": {
          "color": "#FF97FF",
          "width": 2
         },
         "marker": {
          "color": "#FF97FF",
          "line": {
           "color": "rgba(0,0,0,0.3)",
           "width": 1
          }
         },
         "name": "9",
         "showlegend": false,
         "type": "box",
         "xaxis": "x6",
         "y": {
          "bdata": "AAAAAAAA4D8AAAAAAADoPwAAAAAAAAAAAAAAAAAA4D8AAAAAAAAAAJMkSZIkSeI/q6qqqqqq6j8AAAAAAADgPwEAAAAAAOQ/EzuxEzux0z8zMzMzMzPjP0UXXXTRRec/HcdxHMdx3D+amZmZmZnZPwAAAAAAAPA/AAAAAAAA4D9UVVVVVVXlPwAAAAAAAOg/27Zt27Zt6z+ZmZmZmZnpP5MkSZIkSeI/3t3d3d3d7T8TO7ETO7HjP1VVVVVVVeU/EzuxEzux4z9VVVVVVVXlPxdddNFFF+0/VVVVVVVV5T+bmZmZmZnpP1VVVVVVVeU/kyRJkiRJ4j8AAAAAAADgP7dt27Zt2+Y/dNFFF1104T/btm3btm3bPx3HcRzHcew/AAAAAAAA8D+TJEmSJEniPwAAAAAAAOA/27Zt27Zt6z8AAAAAAADwP6uqqqqqquo/AAAAAAAA8D+bmZmZmZnJP1VVVVVVVeU/VVVVVVVV1T8AAAAAAADwPzMzMzMzM+M/t23btm3b5j8dx3Ecx3HcP5qZmZmZmek/VVVVVVVV5T9VVVVVVVXlPwAAAAAAAPA/AAAAAAAA8D+TJEmSJEniP1RVVVVVVeU/AAAAAAAAAACamZmZmZnZP1VVVVVVVeU/AAAAAAAA4D+amZmZmZnpPwAAAAAAAOg/q6qqqqqq6j+bmZmZmZnZP5MkSZIkSeI/m5mZmZmZ2T8AAAAAAADgPxdddNFFF+0/AAAAAAAA8D9UVVVVVVXlP1VVVVVVVdU/AAAAAAAA8D9VVVVVVVXlPwAAAAAAAOA/AAAAAAAA6D8AAAAAAADQPwAAAAAAAOA/VVVVVVVV5T/btm3btm3rP5mZmZmZmek/AAAAAAAA8D+TJEmSJEniP5uZmZmZmek/VVVVVVVV1T8AAAAAAADoPwAAAAAAAPA/VVVVVVVV5T/////////nPwAAAAAAAPA/HcdxHMdx7D8dx3Ecx3HcP9u2bdu2bes/AAAAAAAA7D+ZmZmZmZnZP9u2bdu2bes/HcdxHMdx7D+ZmZmZmZnZP7dt27Zt2+Y/VVVVVVVV5T8=",
          "dtype": "f8"
         },
         "yaxis": "y6"
        },
        {
         "legendgroup": "1",
         "marker": {
          "color": "#636EFA",
          "line": {
           "color": "rgba(0,0,0,0.3)",
           "width": 2
          },
          "size": 12,
          "symbol": "circle"
         },
         "mode": "markers",
         "name": "1: January AI",
         "showlegend": true,
         "type": "scatter",
         "x": [
          null
         ],
         "y": [
          null
         ]
        },
        {
         "legendgroup": "2",
         "marker": {
          "color": "#EF553B",
          "line": {
           "color": "rgba(0,0,0,0.3)",
           "width": 2
          },
          "size": 12,
          "symbol": "circle"
         },
         "mode": "markers",
         "name": "2: gemini-2.5-flash (Avg)",
         "showlegend": true,
         "type": "scatter",
         "x": [
          null
         ],
         "y": [
          null
         ]
        },
        {
         "legendgroup": "3",
         "marker": {
          "color": "#00CC96",
          "line": {
           "color": "rgba(0,0,0,0.3)",
           "width": 2
          },
          "size": 12,
          "symbol": "circle"
         },
         "mode": "markers",
         "name": "3: gemini-2.5-flash (Best)",
         "showlegend": true,
         "type": "scatter",
         "x": [
          null
         ],
         "y": [
          null
         ]
        },
        {
         "legendgroup": "4",
         "marker": {
          "color": "#AB63FA",
          "line": {
           "color": "rgba(0,0,0,0.3)",
           "width": 2
          },
          "size": 12,
          "symbol": "circle"
         },
         "mode": "markers",
         "name": "4: gemini-2.5-pro (Avg)",
         "showlegend": true,
         "type": "scatter",
         "x": [
          null
         ],
         "y": [
          null
         ]
        },
        {
         "legendgroup": "5",
         "marker": {
          "color": "#FFA15A",
          "line": {
           "color": "rgba(0,0,0,0.3)",
           "width": 2
          },
          "size": 12,
          "symbol": "circle"
         },
         "mode": "markers",
         "name": "5: gemini-2.5-pro (Best)",
         "showlegend": true,
         "type": "scatter",
         "x": [
          null
         ],
         "y": [
          null
         ]
        },
        {
         "legendgroup": "6",
         "marker": {
          "color": "#19D3F3",
          "line": {
           "color": "rgba(0,0,0,0.3)",
           "width": 2
          },
          "size": 12,
          "symbol": "circle"
         },
         "mode": "markers",
         "name": "6: gpt-4o (Avg)",
         "showlegend": true,
         "type": "scatter",
         "x": [
          null
         ],
         "y": [
          null
         ]
        },
        {
         "legendgroup": "7",
         "marker": {
          "color": "#FF6692",
          "line": {
           "color": "rgba(0,0,0,0.3)",
           "width": 2
          },
          "size": 12,
          "symbol": "circle"
         },
         "mode": "markers",
         "name": "7: gpt-4o (Best)",
         "showlegend": true,
         "type": "scatter",
         "x": [
          null
         ],
         "y": [
          null
         ]
        },
        {
         "legendgroup": "8",
         "marker": {
          "color": "#B6E880",
          "line": {
           "color": "rgba(0,0,0,0.3)",
           "width": 2
          },
          "size": 12,
          "symbol": "circle"
         },
         "mode": "markers",
         "name": "8: gpt-4o-mini (Avg)",
         "showlegend": true,
         "type": "scatter",
         "x": [
          null
         ],
         "y": [
          null
         ]
        },
        {
         "legendgroup": "9",
         "marker": {
          "color": "#FF97FF",
          "line": {
           "color": "rgba(0,0,0,0.3)",
           "width": 2
          },
          "size": 12,
          "symbol": "circle"
         },
         "mode": "markers",
         "name": "9: gpt-4o-mini (Best)",
         "showlegend": true,
         "type": "scatter",
         "x": [
          null
         ],
         "y": [
          null
         ]
        }
       ],
       "layout": {
        "annotations": [
         {
          "font": {
           "size": 16
          },
          "showarrow": false,
          "text": "Meal Name Similarity",
          "x": 0.13999999999999999,
          "xanchor": "center",
          "xref": "paper",
          "y": 1,
          "yanchor": "bottom",
          "yref": "paper"
         },
         {
          "font": {
           "size": 16
          },
          "showarrow": false,
          "text": "Macro Nutritional wMAPE (%)",
          "x": 0.49999999999999994,
          "xanchor": "center",
          "xref": "paper",
          "y": 1,
          "yanchor": "bottom",
          "yref": "paper"
         },
         {
          "font": {
           "size": 16
          },
          "showarrow": false,
          "text": "Response Time Distribution",
          "x": 0.86,
          "xanchor": "center",
          "xref": "paper",
          "y": 1,
          "yanchor": "bottom",
          "yref": "paper"
         },
         {
          "font": {
           "size": 16
          },
          "showarrow": false,
          "text": "Recall (Ingredients)",
          "x": 0.13999999999999999,
          "xanchor": "center",
          "xref": "paper",
          "y": 0.425,
          "yanchor": "bottom",
          "yref": "paper"
         },
         {
          "font": {
           "size": 16
          },
          "showarrow": false,
          "text": "Precision (Ingredients)",
          "x": 0.49999999999999994,
          "xanchor": "center",
          "xref": "paper",
          "y": 0.425,
          "yanchor": "bottom",
          "yref": "paper"
         },
         {
          "font": {
           "size": 16
          },
          "showarrow": false,
          "text": "F1 Score (Ingredients)",
          "x": 0.86,
          "xanchor": "center",
          "xref": "paper",
          "y": 0.425,
          "yanchor": "bottom",
          "yref": "paper"
         }
        ],
        "font": {
         "color": "#2f2f2f",
         "family": "Arial, sans-serif",
         "size": 11
        },
        "height": 800,
        "hovermode": "closest",
        "legend": {
         "bgcolor": "rgba(255,255,255,0.8)",
         "bordercolor": "rgba(128,128,128,0.5)",
         "borderwidth": 1,
         "font": {
          "size": 11
         },
         "title": {
          "font": {
           "color": "#1f1f1f",
           "size": 14
          },
          "text": "<b>Models</b>"
         },
         "x": 1.02,
         "xanchor": "left",
         "y": 1,
         "yanchor": "top"
        },
        "margin": {
         "b": 80,
         "l": 80,
         "r": 200,
         "t": 120
        },
        "paper_bgcolor": "white",
        "plot_bgcolor": "rgba(248,249,250,0.8)",
        "showlegend": true,
        "template": {
         "data": {
          "bar": [
           {
            "error_x": {
             "color": "#2a3f5f"
            },
            "error_y": {
             "color": "#2a3f5f"
            },
            "marker": {
             "line": {
              "color": "#E5ECF6",
              "width": 0.5
             },
             "pattern": {
              "fillmode": "overlay",
              "size": 10,
              "solidity": 0.2
             }
            },
            "type": "bar"
           }
          ],
          "barpolar": [
           {
            "marker": {
             "line": {
              "color": "#E5ECF6",
              "width": 0.5
             },
             "pattern": {
              "fillmode": "overlay",
              "size": 10,
              "solidity": 0.2
             }
            },
            "type": "barpolar"
           }
          ],
          "carpet": [
           {
            "aaxis": {
             "endlinecolor": "#2a3f5f",
             "gridcolor": "white",
             "linecolor": "white",
             "minorgridcolor": "white",
             "startlinecolor": "#2a3f5f"
            },
            "baxis": {
             "endlinecolor": "#2a3f5f",
             "gridcolor": "white",
             "linecolor": "white",
             "minorgridcolor": "white",
             "startlinecolor": "#2a3f5f"
            },
            "type": "carpet"
           }
          ],
          "choropleth": [
           {
            "colorbar": {
             "outlinewidth": 0,
             "ticks": ""
            },
            "type": "choropleth"
           }
          ],
          "contour": [
           {
            "colorbar": {
             "outlinewidth": 0,
             "ticks": ""
            },
            "colorscale": [
             [
              0,
              "#0d0887"
             ],
             [
              0.1111111111111111,
              "#46039f"
             ],
             [
              0.2222222222222222,
              "#7201a8"
             ],
             [
              0.3333333333333333,
              "#9c179e"
             ],
             [
              0.4444444444444444,
              "#bd3786"
             ],
             [
              0.5555555555555556,
              "#d8576b"
             ],
             [
              0.6666666666666666,
              "#ed7953"
             ],
             [
              0.7777777777777778,
              "#fb9f3a"
             ],
             [
              0.8888888888888888,
              "#fdca26"
             ],
             [
              1,
              "#f0f921"
             ]
            ],
            "type": "contour"
           }
          ],
          "contourcarpet": [
           {
            "colorbar": {
             "outlinewidth": 0,
             "ticks": ""
            },
            "type": "contourcarpet"
           }
          ],
          "heatmap": [
           {
            "colorbar": {
             "outlinewidth": 0,
             "ticks": ""
            },
            "colorscale": [
             [
              0,
              "#0d0887"
             ],
             [
              0.1111111111111111,
              "#46039f"
             ],
             [
              0.2222222222222222,
              "#7201a8"
             ],
             [
              0.3333333333333333,
              "#9c179e"
             ],
             [
              0.4444444444444444,
              "#bd3786"
             ],
             [
              0.5555555555555556,
              "#d8576b"
             ],
             [
              0.6666666666666666,
              "#ed7953"
             ],
             [
              0.7777777777777778,
              "#fb9f3a"
             ],
             [
              0.8888888888888888,
              "#fdca26"
             ],
             [
              1,
              "#f0f921"
             ]
            ],
            "type": "heatmap"
           }
          ],
          "histogram": [
           {
            "marker": {
             "pattern": {
              "fillmode": "overlay",
              "size": 10,
              "solidity": 0.2
             }
            },
            "type": "histogram"
           }
          ],
          "histogram2d": [
           {
            "colorbar": {
             "outlinewidth": 0,
             "ticks": ""
            },
            "colorscale": [
             [
              0,
              "#0d0887"
             ],
             [
              0.1111111111111111,
              "#46039f"
             ],
             [
              0.2222222222222222,
              "#7201a8"
             ],
             [
              0.3333333333333333,
              "#9c179e"
             ],
             [
              0.4444444444444444,
              "#bd3786"
             ],
             [
              0.5555555555555556,
              "#d8576b"
             ],
             [
              0.6666666666666666,
              "#ed7953"
             ],
             [
              0.7777777777777778,
              "#fb9f3a"
             ],
             [
              0.8888888888888888,
              "#fdca26"
             ],
             [
              1,
              "#f0f921"
             ]
            ],
            "type": "histogram2d"
           }
          ],
          "histogram2dcontour": [
           {
            "colorbar": {
             "outlinewidth": 0,
             "ticks": ""
            },
            "colorscale": [
             [
              0,
              "#0d0887"
             ],
             [
              0.1111111111111111,
              "#46039f"
             ],
             [
              0.2222222222222222,
              "#7201a8"
             ],
             [
              0.3333333333333333,
              "#9c179e"
             ],
             [
              0.4444444444444444,
              "#bd3786"
             ],
             [
              0.5555555555555556,
              "#d8576b"
             ],
             [
              0.6666666666666666,
              "#ed7953"
             ],
             [
              0.7777777777777778,
              "#fb9f3a"
             ],
             [
              0.8888888888888888,
              "#fdca26"
             ],
             [
              1,
              "#f0f921"
             ]
            ],
            "type": "histogram2dcontour"
           }
          ],
          "mesh3d": [
           {
            "colorbar": {
             "outlinewidth": 0,
             "ticks": ""
            },
            "type": "mesh3d"
           }
          ],
          "parcoords": [
           {
            "line": {
             "colorbar": {
              "outlinewidth": 0,
              "ticks": ""
             }
            },
            "type": "parcoords"
           }
          ],
          "pie": [
           {
            "automargin": true,
            "type": "pie"
           }
          ],
          "scatter": [
           {
            "fillpattern": {
             "fillmode": "overlay",
             "size": 10,
             "solidity": 0.2
            },
            "type": "scatter"
           }
          ],
          "scatter3d": [
           {
            "line": {
             "colorbar": {
              "outlinewidth": 0,
              "ticks": ""
             }
            },
            "marker": {
             "colorbar": {
              "outlinewidth": 0,
              "ticks": ""
             }
            },
            "type": "scatter3d"
           }
          ],
          "scattercarpet": [
           {
            "marker": {
             "colorbar": {
              "outlinewidth": 0,
              "ticks": ""
             }
            },
            "type": "scattercarpet"
           }
          ],
          "scattergeo": [
           {
            "marker": {
             "colorbar": {
              "outlinewidth": 0,
              "ticks": ""
             }
            },
            "type": "scattergeo"
           }
          ],
          "scattergl": [
           {
            "marker": {
             "colorbar": {
              "outlinewidth": 0,
              "ticks": ""
             }
            },
            "type": "scattergl"
           }
          ],
          "scattermap": [
           {
            "marker": {
             "colorbar": {
              "outlinewidth": 0,
              "ticks": ""
             }
            },
            "type": "scattermap"
           }
          ],
          "scattermapbox": [
           {
            "marker": {
             "colorbar": {
              "outlinewidth": 0,
              "ticks": ""
             }
            },
            "type": "scattermapbox"
           }
          ],
          "scatterpolar": [
           {
            "marker": {
             "colorbar": {
              "outlinewidth": 0,
              "ticks": ""
             }
            },
            "type": "scatterpolar"
           }
          ],
          "scatterpolargl": [
           {
            "marker": {
             "colorbar": {
              "outlinewidth": 0,
              "ticks": ""
             }
            },
            "type": "scatterpolargl"
           }
          ],
          "scatterternary": [
           {
            "marker": {
             "colorbar": {
              "outlinewidth": 0,
              "ticks": ""
             }
            },
            "type": "scatterternary"
           }
          ],
          "surface": [
           {
            "colorbar": {
             "outlinewidth": 0,
             "ticks": ""
            },
            "colorscale": [
             [
              0,
              "#0d0887"
             ],
             [
              0.1111111111111111,
              "#46039f"
             ],
             [
              0.2222222222222222,
              "#7201a8"
             ],
             [
              0.3333333333333333,
              "#9c179e"
             ],
             [
              0.4444444444444444,
              "#bd3786"
             ],
             [
              0.5555555555555556,
              "#d8576b"
             ],
             [
              0.6666666666666666,
              "#ed7953"
             ],
             [
              0.7777777777777778,
              "#fb9f3a"
             ],
             [
              0.8888888888888888,
              "#fdca26"
             ],
             [
              1,
              "#f0f921"
             ]
            ],
            "type": "surface"
           }
          ],
          "table": [
           {
            "cells": {
             "fill": {
              "color": "#EBF0F8"
             },
             "line": {
              "color": "white"
             }
            },
            "header": {
             "fill": {
              "color": "#C8D4E3"
             },
             "line": {
              "color": "white"
             }
            },
            "type": "table"
           }
          ]
         },
         "layout": {
          "annotationdefaults": {
           "arrowcolor": "#2a3f5f",
           "arrowhead": 0,
           "arrowwidth": 1
          },
          "autotypenumbers": "strict",
          "coloraxis": {
           "colorbar": {
            "outlinewidth": 0,
            "ticks": ""
           }
          },
          "colorscale": {
           "diverging": [
            [
             0,
             "#8e0152"
            ],
            [
             0.1,
             "#c51b7d"
            ],
            [
             0.2,
             "#de77ae"
            ],
            [
             0.3,
             "#f1b6da"
            ],
            [
             0.4,
             "#fde0ef"
            ],
            [
             0.5,
             "#f7f7f7"
            ],
            [
             0.6,
             "#e6f5d0"
            ],
            [
             0.7,
             "#b8e186"
            ],
            [
             0.8,
             "#7fbc41"
            ],
            [
             0.9,
             "#4d9221"
            ],
            [
             1,
             "#276419"
            ]
           ],
           "sequential": [
            [
             0,
             "#0d0887"
            ],
            [
             0.1111111111111111,
             "#46039f"
            ],
            [
             0.2222222222222222,
             "#7201a8"
            ],
            [
             0.3333333333333333,
             "#9c179e"
            ],
            [
             0.4444444444444444,
             "#bd3786"
            ],
            [
             0.5555555555555556,
             "#d8576b"
            ],
            [
             0.6666666666666666,
             "#ed7953"
            ],
            [
             0.7777777777777778,
             "#fb9f3a"
            ],
            [
             0.8888888888888888,
             "#fdca26"
            ],
            [
             1,
             "#f0f921"
            ]
           ],
           "sequentialminus": [
            [
             0,
             "#0d0887"
            ],
            [
             0.1111111111111111,
             "#46039f"
            ],
            [
             0.2222222222222222,
             "#7201a8"
            ],
            [
             0.3333333333333333,
             "#9c179e"
            ],
            [
             0.4444444444444444,
             "#bd3786"
            ],
            [
             0.5555555555555556,
             "#d8576b"
            ],
            [
             0.6666666666666666,
             "#ed7953"
            ],
            [
             0.7777777777777778,
             "#fb9f3a"
            ],
            [
             0.8888888888888888,
             "#fdca26"
            ],
            [
             1,
             "#f0f921"
            ]
           ]
          },
          "colorway": [
           "#636efa",
           "#EF553B",
           "#00cc96",
           "#ab63fa",
           "#FFA15A",
           "#19d3f3",
           "#FF6692",
           "#B6E880",
           "#FF97FF",
           "#FECB52"
          ],
          "font": {
           "color": "#2a3f5f"
          },
          "geo": {
           "bgcolor": "white",
           "lakecolor": "white",
           "landcolor": "#E5ECF6",
           "showlakes": true,
           "showland": true,
           "subunitcolor": "white"
          },
          "hoverlabel": {
           "align": "left"
          },
          "hovermode": "closest",
          "mapbox": {
           "style": "light"
          },
          "paper_bgcolor": "white",
          "plot_bgcolor": "#E5ECF6",
          "polar": {
           "angularaxis": {
            "gridcolor": "white",
            "linecolor": "white",
            "ticks": ""
           },
           "bgcolor": "#E5ECF6",
           "radialaxis": {
            "gridcolor": "white",
            "linecolor": "white",
            "ticks": ""
           }
          },
          "scene": {
           "xaxis": {
            "backgroundcolor": "#E5ECF6",
            "gridcolor": "white",
            "gridwidth": 2,
            "linecolor": "white",
            "showbackground": true,
            "ticks": "",
            "zerolinecolor": "white"
           },
           "yaxis": {
            "backgroundcolor": "#E5ECF6",
            "gridcolor": "white",
            "gridwidth": 2,
            "linecolor": "white",
            "showbackground": true,
            "ticks": "",
            "zerolinecolor": "white"
           },
           "zaxis": {
            "backgroundcolor": "#E5ECF6",
            "gridcolor": "white",
            "gridwidth": 2,
            "linecolor": "white",
            "showbackground": true,
            "ticks": "",
            "zerolinecolor": "white"
           }
          },
          "shapedefaults": {
           "line": {
            "color": "#2a3f5f"
           }
          },
          "ternary": {
           "aaxis": {
            "gridcolor": "white",
            "linecolor": "white",
            "ticks": ""
           },
           "baxis": {
            "gridcolor": "white",
            "linecolor": "white",
            "ticks": ""
           },
           "bgcolor": "#E5ECF6",
           "caxis": {
            "gridcolor": "white",
            "linecolor": "white",
            "ticks": ""
           }
          },
          "title": {
           "x": 0.05
          },
          "xaxis": {
           "automargin": true,
           "gridcolor": "white",
           "linecolor": "white",
           "ticks": "",
           "title": {
            "standoff": 15
           },
           "zerolinecolor": "white",
           "zerolinewidth": 2
          },
          "yaxis": {
           "automargin": true,
           "gridcolor": "white",
           "linecolor": "white",
           "ticks": "",
           "title": {
            "standoff": 15
           },
           "zerolinecolor": "white",
           "zerolinewidth": 2
          }
         }
        },
        "title": {
         "font": {
          "color": "#1f1f1f",
          "family": "Arial Black",
          "size": 24
         },
         "text": "<b>Model Performance Dashboard</b>",
         "x": 0.5,
         "xanchor": "center"
        },
        "width": 1400,
        "xaxis": {
         "anchor": "y",
         "domain": [
          0,
          0.27999999999999997
         ],
         "gridcolor": "rgba(128,128,128,0.2)",
         "gridwidth": 1,
         "showgrid": true,
         "tickfont": {
          "color": "#2f2f2f",
          "size": 11
         },
         "zeroline": true,
         "zerolinecolor": "rgba(128,128,128,0.4)",
         "zerolinewidth": 1
        },
        "xaxis2": {
         "anchor": "y2",
         "domain": [
          0.36,
          0.6399999999999999
         ],
         "gridcolor": "rgba(128,128,128,0.2)",
         "gridwidth": 1,
         "showgrid": true,
         "tickfont": {
          "color": "#2f2f2f",
          "size": 11
         },
         "zeroline": true,
         "zerolinecolor": "rgba(128,128,128,0.4)",
         "zerolinewidth": 1
        },
        "xaxis3": {
         "anchor": "y3",
         "domain": [
          0.72,
          1
         ],
         "gridcolor": "rgba(128,128,128,0.2)",
         "gridwidth": 1,
         "showgrid": true,
         "tickfont": {
          "color": "#2f2f2f",
          "size": 11
         },
         "zeroline": true,
         "zerolinecolor": "rgba(128,128,128,0.4)",
         "zerolinewidth": 1
        },
        "xaxis4": {
         "anchor": "y4",
         "domain": [
          0,
          0.27999999999999997
         ],
         "gridcolor": "rgba(128,128,128,0.2)",
         "gridwidth": 1,
         "showgrid": true,
         "tickfont": {
          "color": "#2f2f2f",
          "size": 11
         },
         "zeroline": true,
         "zerolinecolor": "rgba(128,128,128,0.4)",
         "zerolinewidth": 1
        },
        "xaxis5": {
         "anchor": "y5",
         "domain": [
          0.36,
          0.6399999999999999
         ],
         "gridcolor": "rgba(128,128,128,0.2)",
         "gridwidth": 1,
         "showgrid": true,
         "tickfont": {
          "color": "#2f2f2f",
          "size": 11
         },
         "zeroline": true,
         "zerolinecolor": "rgba(128,128,128,0.4)",
         "zerolinewidth": 1
        },
        "xaxis6": {
         "anchor": "y6",
         "domain": [
          0.72,
          1
         ],
         "gridcolor": "rgba(128,128,128,0.2)",
         "gridwidth": 1,
         "showgrid": true,
         "tickfont": {
          "color": "#2f2f2f",
          "size": 11
         },
         "zeroline": true,
         "zerolinecolor": "rgba(128,128,128,0.4)",
         "zerolinewidth": 1
        },
        "yaxis": {
         "anchor": "x",
         "domain": [
          0.575,
          1
         ],
         "gridcolor": "rgba(128,128,128,0.2)",
         "gridwidth": 1,
         "showgrid": true,
         "tickfont": {
          "color": "#2f2f2f",
          "size": 11
         },
         "title": {
          "text": "Cosine Similarity"
         },
         "zeroline": true,
         "zerolinecolor": "rgba(128,128,128,0.4)",
         "zerolinewidth": 1
        },
        "yaxis2": {
         "anchor": "x2",
         "domain": [
          0.575,
          1
         ],
         "gridcolor": "rgba(128,128,128,0.2)",
         "gridwidth": 1,
         "showgrid": true,
         "tickfont": {
          "color": "#2f2f2f",
          "size": 11
         },
         "title": {
          "text": "Weighted MAPE (%)"
         },
         "zeroline": true,
         "zerolinecolor": "rgba(128,128,128,0.4)",
         "zerolinewidth": 1
        },
        "yaxis3": {
         "anchor": "x3",
         "domain": [
          0.575,
          1
         ],
         "gridcolor": "rgba(128,128,128,0.2)",
         "gridwidth": 1,
         "showgrid": true,
         "tickfont": {
          "color": "#2f2f2f",
          "size": 11
         },
         "title": {
          "text": "Response Time (sec)"
         },
         "zeroline": true,
         "zerolinecolor": "rgba(128,128,128,0.4)",
         "zerolinewidth": 1
        },
        "yaxis4": {
         "anchor": "x4",
         "domain": [
          0,
          0.425
         ],
         "gridcolor": "rgba(128,128,128,0.2)",
         "gridwidth": 1,
         "showgrid": true,
         "tickfont": {
          "color": "#2f2f2f",
          "size": 11
         },
         "title": {
          "text": "Recall"
         },
         "zeroline": true,
         "zerolinecolor": "rgba(128,128,128,0.4)",
         "zerolinewidth": 1
        },
        "yaxis5": {
         "anchor": "x5",
         "domain": [
          0,
          0.425
         ],
         "gridcolor": "rgba(128,128,128,0.2)",
         "gridwidth": 1,
         "showgrid": true,
         "tickfont": {
          "color": "#2f2f2f",
          "size": 11
         },
         "title": {
          "text": "Precision"
         },
         "zeroline": true,
         "zerolinecolor": "rgba(128,128,128,0.4)",
         "zerolinewidth": 1
        },
        "yaxis6": {
         "anchor": "x6",
         "domain": [
          0,
          0.425
         ],
         "gridcolor": "rgba(128,128,128,0.2)",
         "gridwidth": 1,
         "showgrid": true,
         "tickfont": {
          "color": "#2f2f2f",
          "size": 11
         },
         "title": {
          "text": "F1 Score"
         },
         "zeroline": true,
         "zerolinecolor": "rgba(128,128,128,0.4)",
         "zerolinewidth": 1
        }
       }
      }
     },
     "metadata": {},
     "output_type": "display_data"
    },
    {
     "data": {
      "application/vnd.plotly.v1+json": {
       "config": {
        "plotlyServerURL": "https://plot.ly"
       },
       "data": [
        {
         "customdata": [
          91
         ],
         "hovertemplate": "<b>Win</b><br>Count: %{customdata}<br>Percentage: %{x:.1f}%<br><extra></extra>",
         "marker": {
          "color": "#16A085"
         },
         "name": "Win",
         "orientation": "h",
         "showlegend": false,
         "text": "91%",
         "textposition": "inside",
         "type": "bar",
         "x": [
          91
         ],
         "xaxis": "x",
         "y": [
          "gemini-2.5-flash (Avg)"
         ],
         "yaxis": "y"
        },
        {
         "customdata": [
          0
         ],
         "hovertemplate": "<b>Tie</b><br>Count: %{customdata}<br>Percentage: %{x:.1f}%<br><extra></extra>",
         "marker": {
          "color": "#95A5A6"
         },
         "name": "Tie",
         "orientation": "h",
         "showlegend": false,
         "text": "",
         "textposition": "inside",
         "type": "bar",
         "x": [
          0
         ],
         "xaxis": "x",
         "y": [
          "gemini-2.5-flash (Avg)"
         ],
         "yaxis": "y"
        },
        {
         "customdata": [
          9
         ],
         "hovertemplate": "<b>Loss</b><br>Count: %{customdata}<br>Percentage: %{x:.1f}%<br><extra></extra>",
         "marker": {
          "color": "#E74C3C"
         },
         "name": "Loss",
         "orientation": "h",
         "showlegend": false,
         "text": "9%",
         "textposition": "inside",
         "type": "bar",
         "x": [
          9
         ],
         "xaxis": "x",
         "y": [
          "gemini-2.5-flash (Avg)"
         ],
         "yaxis": "y"
        },
        {
         "customdata": [
          88
         ],
         "hovertemplate": "<b>Win</b><br>Count: %{customdata}<br>Percentage: %{x:.1f}%<br><extra></extra>",
         "marker": {
          "color": "#16A085"
         },
         "name": "Win",
         "orientation": "h",
         "showlegend": false,
         "text": "88%",
         "textposition": "inside",
         "type": "bar",
         "x": [
          88
         ],
         "xaxis": "x2",
         "y": [
          "gemini-2.5-flash (Avg)"
         ],
         "yaxis": "y2"
        },
        {
         "customdata": [
          0
         ],
         "hovertemplate": "<b>Tie</b><br>Count: %{customdata}<br>Percentage: %{x:.1f}%<br><extra></extra>",
         "marker": {
          "color": "#95A5A6"
         },
         "name": "Tie",
         "orientation": "h",
         "showlegend": false,
         "text": "",
         "textposition": "inside",
         "type": "bar",
         "x": [
          0
         ],
         "xaxis": "x2",
         "y": [
          "gemini-2.5-flash (Avg)"
         ],
         "yaxis": "y2"
        },
        {
         "customdata": [
          12
         ],
         "hovertemplate": "<b>Loss</b><br>Count: %{customdata}<br>Percentage: %{x:.1f}%<br><extra></extra>",
         "marker": {
          "color": "#E74C3C"
         },
         "name": "Loss",
         "orientation": "h",
         "showlegend": false,
         "text": "12%",
         "textposition": "inside",
         "type": "bar",
         "x": [
          12
         ],
         "xaxis": "x2",
         "y": [
          "gemini-2.5-flash (Avg)"
         ],
         "yaxis": "y2"
        },
        {
         "customdata": [
          87
         ],
         "hovertemplate": "<b>Win</b><br>Count: %{customdata}<br>Percentage: %{x:.1f}%<br><extra></extra>",
         "marker": {
          "color": "#16A085"
         },
         "name": "Win",
         "orientation": "h",
         "showlegend": false,
         "text": "87%",
         "textposition": "inside",
         "type": "bar",
         "x": [
          87
         ],
         "xaxis": "x3",
         "y": [
          "gemini-2.5-flash (Avg)"
         ],
         "yaxis": "y3"
        },
        {
         "customdata": [
          0
         ],
         "hovertemplate": "<b>Tie</b><br>Count: %{customdata}<br>Percentage: %{x:.1f}%<br><extra></extra>",
         "marker": {
          "color": "#95A5A6"
         },
         "name": "Tie",
         "orientation": "h",
         "showlegend": false,
         "text": "",
         "textposition": "inside",
         "type": "bar",
         "x": [
          0
         ],
         "xaxis": "x3",
         "y": [
          "gemini-2.5-flash (Avg)"
         ],
         "yaxis": "y3"
        },
        {
         "customdata": [
          13
         ],
         "hovertemplate": "<b>Loss</b><br>Count: %{customdata}<br>Percentage: %{x:.1f}%<br><extra></extra>",
         "marker": {
          "color": "#E74C3C"
         },
         "name": "Loss",
         "orientation": "h",
         "showlegend": false,
         "text": "13%",
         "textposition": "inside",
         "type": "bar",
         "x": [
          13
         ],
         "xaxis": "x3",
         "y": [
          "gemini-2.5-flash (Avg)"
         ],
         "yaxis": "y3"
        },
        {
         "customdata": [
          86
         ],
         "hovertemplate": "<b>Win</b><br>Count: %{customdata}<br>Percentage: %{x:.1f}%<br><extra></extra>",
         "marker": {
          "color": "#16A085"
         },
         "name": "Win",
         "orientation": "h",
         "showlegend": false,
         "text": "86%",
         "textposition": "inside",
         "type": "bar",
         "x": [
          86
         ],
         "xaxis": "x4",
         "y": [
          "gemini-2.5-flash (Avg)"
         ],
         "yaxis": "y4"
        },
        {
         "customdata": [
          0
         ],
         "hovertemplate": "<b>Tie</b><br>Count: %{customdata}<br>Percentage: %{x:.1f}%<br><extra></extra>",
         "marker": {
          "color": "#95A5A6"
         },
         "name": "Tie",
         "orientation": "h",
         "showlegend": false,
         "text": "",
         "textposition": "inside",
         "type": "bar",
         "x": [
          0
         ],
         "xaxis": "x4",
         "y": [
          "gemini-2.5-flash (Avg)"
         ],
         "yaxis": "y4"
        },
        {
         "customdata": [
          14
         ],
         "hovertemplate": "<b>Loss</b><br>Count: %{customdata}<br>Percentage: %{x:.1f}%<br><extra></extra>",
         "marker": {
          "color": "#E74C3C"
         },
         "name": "Loss",
         "orientation": "h",
         "showlegend": false,
         "text": "14%",
         "textposition": "inside",
         "type": "bar",
         "x": [
          14.000000000000002
         ],
         "xaxis": "x4",
         "y": [
          "gemini-2.5-flash (Avg)"
         ],
         "yaxis": "y4"
        },
        {
         "customdata": [
          84
         ],
         "hovertemplate": "<b>Win</b><br>Count: %{customdata}<br>Percentage: %{x:.1f}%<br><extra></extra>",
         "marker": {
          "color": "#16A085"
         },
         "name": "Win",
         "orientation": "h",
         "showlegend": false,
         "text": "84%",
         "textposition": "inside",
         "type": "bar",
         "x": [
          84
         ],
         "xaxis": "x5",
         "y": [
          "gemini-2.5-flash (Best)"
         ],
         "yaxis": "y5"
        },
        {
         "customdata": [
          0
         ],
         "hovertemplate": "<b>Tie</b><br>Count: %{customdata}<br>Percentage: %{x:.1f}%<br><extra></extra>",
         "marker": {
          "color": "#95A5A6"
         },
         "name": "Tie",
         "orientation": "h",
         "showlegend": false,
         "text": "",
         "textposition": "inside",
         "type": "bar",
         "x": [
          0
         ],
         "xaxis": "x5",
         "y": [
          "gemini-2.5-flash (Best)"
         ],
         "yaxis": "y5"
        },
        {
         "customdata": [
          16
         ],
         "hovertemplate": "<b>Loss</b><br>Count: %{customdata}<br>Percentage: %{x:.1f}%<br><extra></extra>",
         "marker": {
          "color": "#E74C3C"
         },
         "name": "Loss",
         "orientation": "h",
         "showlegend": false,
         "text": "16%",
         "textposition": "inside",
         "type": "bar",
         "x": [
          16
         ],
         "xaxis": "x5",
         "y": [
          "gemini-2.5-flash (Best)"
         ],
         "yaxis": "y5"
        },
        {
         "customdata": [
          85
         ],
         "hovertemplate": "<b>Win</b><br>Count: %{customdata}<br>Percentage: %{x:.1f}%<br><extra></extra>",
         "marker": {
          "color": "#16A085"
         },
         "name": "Win",
         "orientation": "h",
         "showlegend": false,
         "text": "85%",
         "textposition": "inside",
         "type": "bar",
         "x": [
          85
         ],
         "xaxis": "x6",
         "y": [
          "gemini-2.5-flash (Best)"
         ],
         "yaxis": "y6"
        },
        {
         "customdata": [
          0
         ],
         "hovertemplate": "<b>Tie</b><br>Count: %{customdata}<br>Percentage: %{x:.1f}%<br><extra></extra>",
         "marker": {
          "color": "#95A5A6"
         },
         "name": "Tie",
         "orientation": "h",
         "showlegend": false,
         "text": "",
         "textposition": "inside",
         "type": "bar",
         "x": [
          0
         ],
         "xaxis": "x6",
         "y": [
          "gemini-2.5-flash (Best)"
         ],
         "yaxis": "y6"
        },
        {
         "customdata": [
          15
         ],
         "hovertemplate": "<b>Loss</b><br>Count: %{customdata}<br>Percentage: %{x:.1f}%<br><extra></extra>",
         "marker": {
          "color": "#E74C3C"
         },
         "name": "Loss",
         "orientation": "h",
         "showlegend": false,
         "text": "15%",
         "textposition": "inside",
         "type": "bar",
         "x": [
          15
         ],
         "xaxis": "x6",
         "y": [
          "gemini-2.5-flash (Best)"
         ],
         "yaxis": "y6"
        },
        {
         "customdata": [
          82
         ],
         "hovertemplate": "<b>Win</b><br>Count: %{customdata}<br>Percentage: %{x:.1f}%<br><extra></extra>",
         "marker": {
          "color": "#16A085"
         },
         "name": "Win",
         "orientation": "h",
         "showlegend": false,
         "text": "82%",
         "textposition": "inside",
         "type": "bar",
         "x": [
          82
         ],
         "xaxis": "x7",
         "y": [
          "gemini-2.5-flash (Best)"
         ],
         "yaxis": "y7"
        },
        {
         "customdata": [
          0
         ],
         "hovertemplate": "<b>Tie</b><br>Count: %{customdata}<br>Percentage: %{x:.1f}%<br><extra></extra>",
         "marker": {
          "color": "#95A5A6"
         },
         "name": "Tie",
         "orientation": "h",
         "showlegend": false,
         "text": "",
         "textposition": "inside",
         "type": "bar",
         "x": [
          0
         ],
         "xaxis": "x7",
         "y": [
          "gemini-2.5-flash (Best)"
         ],
         "yaxis": "y7"
        },
        {
         "customdata": [
          18
         ],
         "hovertemplate": "<b>Loss</b><br>Count: %{customdata}<br>Percentage: %{x:.1f}%<br><extra></extra>",
         "marker": {
          "color": "#E74C3C"
         },
         "name": "Loss",
         "orientation": "h",
         "showlegend": false,
         "text": "18%",
         "textposition": "inside",
         "type": "bar",
         "x": [
          18
         ],
         "xaxis": "x7",
         "y": [
          "gemini-2.5-flash (Best)"
         ],
         "yaxis": "y7"
        },
        {
         "customdata": [
          80
         ],
         "hovertemplate": "<b>Win</b><br>Count: %{customdata}<br>Percentage: %{x:.1f}%<br><extra></extra>",
         "marker": {
          "color": "#16A085"
         },
         "name": "Win",
         "orientation": "h",
         "showlegend": false,
         "text": "80%",
         "textposition": "inside",
         "type": "bar",
         "x": [
          80
         ],
         "xaxis": "x8",
         "y": [
          "gemini-2.5-flash (Best)"
         ],
         "yaxis": "y8"
        },
        {
         "customdata": [
          0
         ],
         "hovertemplate": "<b>Tie</b><br>Count: %{customdata}<br>Percentage: %{x:.1f}%<br><extra></extra>",
         "marker": {
          "color": "#95A5A6"
         },
         "name": "Tie",
         "orientation": "h",
         "showlegend": false,
         "text": "",
         "textposition": "inside",
         "type": "bar",
         "x": [
          0
         ],
         "xaxis": "x8",
         "y": [
          "gemini-2.5-flash (Best)"
         ],
         "yaxis": "y8"
        },
        {
         "customdata": [
          20
         ],
         "hovertemplate": "<b>Loss</b><br>Count: %{customdata}<br>Percentage: %{x:.1f}%<br><extra></extra>",
         "marker": {
          "color": "#E74C3C"
         },
         "name": "Loss",
         "orientation": "h",
         "showlegend": false,
         "text": "20%",
         "textposition": "inside",
         "type": "bar",
         "x": [
          20
         ],
         "xaxis": "x8",
         "y": [
          "gemini-2.5-flash (Best)"
         ],
         "yaxis": "y8"
        },
        {
         "customdata": [
          85
         ],
         "hovertemplate": "<b>Win</b><br>Count: %{customdata}<br>Percentage: %{x:.1f}%<br><extra></extra>",
         "marker": {
          "color": "#16A085"
         },
         "name": "Win",
         "orientation": "h",
         "showlegend": false,
         "text": "85%",
         "textposition": "inside",
         "type": "bar",
         "x": [
          85
         ],
         "xaxis": "x9",
         "y": [
          "gemini-2.5-pro (Avg)"
         ],
         "yaxis": "y9"
        },
        {
         "customdata": [
          0
         ],
         "hovertemplate": "<b>Tie</b><br>Count: %{customdata}<br>Percentage: %{x:.1f}%<br><extra></extra>",
         "marker": {
          "color": "#95A5A6"
         },
         "name": "Tie",
         "orientation": "h",
         "showlegend": false,
         "text": "",
         "textposition": "inside",
         "type": "bar",
         "x": [
          0
         ],
         "xaxis": "x9",
         "y": [
          "gemini-2.5-pro (Avg)"
         ],
         "yaxis": "y9"
        },
        {
         "customdata": [
          15
         ],
         "hovertemplate": "<b>Loss</b><br>Count: %{customdata}<br>Percentage: %{x:.1f}%<br><extra></extra>",
         "marker": {
          "color": "#E74C3C"
         },
         "name": "Loss",
         "orientation": "h",
         "showlegend": false,
         "text": "15%",
         "textposition": "inside",
         "type": "bar",
         "x": [
          15
         ],
         "xaxis": "x9",
         "y": [
          "gemini-2.5-pro (Avg)"
         ],
         "yaxis": "y9"
        },
        {
         "customdata": [
          82
         ],
         "hovertemplate": "<b>Win</b><br>Count: %{customdata}<br>Percentage: %{x:.1f}%<br><extra></extra>",
         "marker": {
          "color": "#16A085"
         },
         "name": "Win",
         "orientation": "h",
         "showlegend": false,
         "text": "82%",
         "textposition": "inside",
         "type": "bar",
         "x": [
          82
         ],
         "xaxis": "x10",
         "y": [
          "gemini-2.5-pro (Avg)"
         ],
         "yaxis": "y10"
        },
        {
         "customdata": [
          0
         ],
         "hovertemplate": "<b>Tie</b><br>Count: %{customdata}<br>Percentage: %{x:.1f}%<br><extra></extra>",
         "marker": {
          "color": "#95A5A6"
         },
         "name": "Tie",
         "orientation": "h",
         "showlegend": false,
         "text": "",
         "textposition": "inside",
         "type": "bar",
         "x": [
          0
         ],
         "xaxis": "x10",
         "y": [
          "gemini-2.5-pro (Avg)"
         ],
         "yaxis": "y10"
        },
        {
         "customdata": [
          18
         ],
         "hovertemplate": "<b>Loss</b><br>Count: %{customdata}<br>Percentage: %{x:.1f}%<br><extra></extra>",
         "marker": {
          "color": "#E74C3C"
         },
         "name": "Loss",
         "orientation": "h",
         "showlegend": false,
         "text": "18%",
         "textposition": "inside",
         "type": "bar",
         "x": [
          18
         ],
         "xaxis": "x10",
         "y": [
          "gemini-2.5-pro (Avg)"
         ],
         "yaxis": "y10"
        },
        {
         "customdata": [
          91
         ],
         "hovertemplate": "<b>Win</b><br>Count: %{customdata}<br>Percentage: %{x:.1f}%<br><extra></extra>",
         "marker": {
          "color": "#16A085"
         },
         "name": "Win",
         "orientation": "h",
         "showlegend": false,
         "text": "91%",
         "textposition": "inside",
         "type": "bar",
         "x": [
          91
         ],
         "xaxis": "x11",
         "y": [
          "gemini-2.5-pro (Avg)"
         ],
         "yaxis": "y11"
        },
        {
         "customdata": [
          0
         ],
         "hovertemplate": "<b>Tie</b><br>Count: %{customdata}<br>Percentage: %{x:.1f}%<br><extra></extra>",
         "marker": {
          "color": "#95A5A6"
         },
         "name": "Tie",
         "orientation": "h",
         "showlegend": false,
         "text": "",
         "textposition": "inside",
         "type": "bar",
         "x": [
          0
         ],
         "xaxis": "x11",
         "y": [
          "gemini-2.5-pro (Avg)"
         ],
         "yaxis": "y11"
        },
        {
         "customdata": [
          9
         ],
         "hovertemplate": "<b>Loss</b><br>Count: %{customdata}<br>Percentage: %{x:.1f}%<br><extra></extra>",
         "marker": {
          "color": "#E74C3C"
         },
         "name": "Loss",
         "orientation": "h",
         "showlegend": false,
         "text": "9%",
         "textposition": "inside",
         "type": "bar",
         "x": [
          9
         ],
         "xaxis": "x11",
         "y": [
          "gemini-2.5-pro (Avg)"
         ],
         "yaxis": "y11"
        },
        {
         "customdata": [
          85
         ],
         "hovertemplate": "<b>Win</b><br>Count: %{customdata}<br>Percentage: %{x:.1f}%<br><extra></extra>",
         "marker": {
          "color": "#16A085"
         },
         "name": "Win",
         "orientation": "h",
         "showlegend": false,
         "text": "85%",
         "textposition": "inside",
         "type": "bar",
         "x": [
          85
         ],
         "xaxis": "x12",
         "y": [
          "gemini-2.5-pro (Avg)"
         ],
         "yaxis": "y12"
        },
        {
         "customdata": [
          0
         ],
         "hovertemplate": "<b>Tie</b><br>Count: %{customdata}<br>Percentage: %{x:.1f}%<br><extra></extra>",
         "marker": {
          "color": "#95A5A6"
         },
         "name": "Tie",
         "orientation": "h",
         "showlegend": false,
         "text": "",
         "textposition": "inside",
         "type": "bar",
         "x": [
          0
         ],
         "xaxis": "x12",
         "y": [
          "gemini-2.5-pro (Avg)"
         ],
         "yaxis": "y12"
        },
        {
         "customdata": [
          15
         ],
         "hovertemplate": "<b>Loss</b><br>Count: %{customdata}<br>Percentage: %{x:.1f}%<br><extra></extra>",
         "marker": {
          "color": "#E74C3C"
         },
         "name": "Loss",
         "orientation": "h",
         "showlegend": false,
         "text": "15%",
         "textposition": "inside",
         "type": "bar",
         "x": [
          15
         ],
         "xaxis": "x12",
         "y": [
          "gemini-2.5-pro (Avg)"
         ],
         "yaxis": "y12"
        },
        {
         "customdata": [
          75
         ],
         "hovertemplate": "<b>Win</b><br>Count: %{customdata}<br>Percentage: %{x:.1f}%<br><extra></extra>",
         "marker": {
          "color": "#16A085"
         },
         "name": "Win",
         "orientation": "h",
         "showlegend": false,
         "text": "75%",
         "textposition": "inside",
         "type": "bar",
         "x": [
          75
         ],
         "xaxis": "x13",
         "y": [
          "gemini-2.5-pro (Best)"
         ],
         "yaxis": "y13"
        },
        {
         "customdata": [
          0
         ],
         "hovertemplate": "<b>Tie</b><br>Count: %{customdata}<br>Percentage: %{x:.1f}%<br><extra></extra>",
         "marker": {
          "color": "#95A5A6"
         },
         "name": "Tie",
         "orientation": "h",
         "showlegend": false,
         "text": "",
         "textposition": "inside",
         "type": "bar",
         "x": [
          0
         ],
         "xaxis": "x13",
         "y": [
          "gemini-2.5-pro (Best)"
         ],
         "yaxis": "y13"
        },
        {
         "customdata": [
          25
         ],
         "hovertemplate": "<b>Loss</b><br>Count: %{customdata}<br>Percentage: %{x:.1f}%<br><extra></extra>",
         "marker": {
          "color": "#E74C3C"
         },
         "name": "Loss",
         "orientation": "h",
         "showlegend": false,
         "text": "25%",
         "textposition": "inside",
         "type": "bar",
         "x": [
          25
         ],
         "xaxis": "x13",
         "y": [
          "gemini-2.5-pro (Best)"
         ],
         "yaxis": "y13"
        },
        {
         "customdata": [
          78
         ],
         "hovertemplate": "<b>Win</b><br>Count: %{customdata}<br>Percentage: %{x:.1f}%<br><extra></extra>",
         "marker": {
          "color": "#16A085"
         },
         "name": "Win",
         "orientation": "h",
         "showlegend": false,
         "text": "78%",
         "textposition": "inside",
         "type": "bar",
         "x": [
          78
         ],
         "xaxis": "x14",
         "y": [
          "gemini-2.5-pro (Best)"
         ],
         "yaxis": "y14"
        },
        {
         "customdata": [
          0
         ],
         "hovertemplate": "<b>Tie</b><br>Count: %{customdata}<br>Percentage: %{x:.1f}%<br><extra></extra>",
         "marker": {
          "color": "#95A5A6"
         },
         "name": "Tie",
         "orientation": "h",
         "showlegend": false,
         "text": "",
         "textposition": "inside",
         "type": "bar",
         "x": [
          0
         ],
         "xaxis": "x14",
         "y": [
          "gemini-2.5-pro (Best)"
         ],
         "yaxis": "y14"
        },
        {
         "customdata": [
          22
         ],
         "hovertemplate": "<b>Loss</b><br>Count: %{customdata}<br>Percentage: %{x:.1f}%<br><extra></extra>",
         "marker": {
          "color": "#E74C3C"
         },
         "name": "Loss",
         "orientation": "h",
         "showlegend": false,
         "text": "22%",
         "textposition": "inside",
         "type": "bar",
         "x": [
          22
         ],
         "xaxis": "x14",
         "y": [
          "gemini-2.5-pro (Best)"
         ],
         "yaxis": "y14"
        },
        {
         "customdata": [
          80
         ],
         "hovertemplate": "<b>Win</b><br>Count: %{customdata}<br>Percentage: %{x:.1f}%<br><extra></extra>",
         "marker": {
          "color": "#16A085"
         },
         "name": "Win",
         "orientation": "h",
         "showlegend": false,
         "text": "80%",
         "textposition": "inside",
         "type": "bar",
         "x": [
          80
         ],
         "xaxis": "x15",
         "y": [
          "gemini-2.5-pro (Best)"
         ],
         "yaxis": "y15"
        },
        {
         "customdata": [
          0
         ],
         "hovertemplate": "<b>Tie</b><br>Count: %{customdata}<br>Percentage: %{x:.1f}%<br><extra></extra>",
         "marker": {
          "color": "#95A5A6"
         },
         "name": "Tie",
         "orientation": "h",
         "showlegend": false,
         "text": "",
         "textposition": "inside",
         "type": "bar",
         "x": [
          0
         ],
         "xaxis": "x15",
         "y": [
          "gemini-2.5-pro (Best)"
         ],
         "yaxis": "y15"
        },
        {
         "customdata": [
          20
         ],
         "hovertemplate": "<b>Loss</b><br>Count: %{customdata}<br>Percentage: %{x:.1f}%<br><extra></extra>",
         "marker": {
          "color": "#E74C3C"
         },
         "name": "Loss",
         "orientation": "h",
         "showlegend": false,
         "text": "20%",
         "textposition": "inside",
         "type": "bar",
         "x": [
          20
         ],
         "xaxis": "x15",
         "y": [
          "gemini-2.5-pro (Best)"
         ],
         "yaxis": "y15"
        },
        {
         "customdata": [
          81
         ],
         "hovertemplate": "<b>Win</b><br>Count: %{customdata}<br>Percentage: %{x:.1f}%<br><extra></extra>",
         "marker": {
          "color": "#16A085"
         },
         "name": "Win",
         "orientation": "h",
         "showlegend": false,
         "text": "81%",
         "textposition": "inside",
         "type": "bar",
         "x": [
          81
         ],
         "xaxis": "x16",
         "y": [
          "gemini-2.5-pro (Best)"
         ],
         "yaxis": "y16"
        },
        {
         "customdata": [
          0
         ],
         "hovertemplate": "<b>Tie</b><br>Count: %{customdata}<br>Percentage: %{x:.1f}%<br><extra></extra>",
         "marker": {
          "color": "#95A5A6"
         },
         "name": "Tie",
         "orientation": "h",
         "showlegend": false,
         "text": "",
         "textposition": "inside",
         "type": "bar",
         "x": [
          0
         ],
         "xaxis": "x16",
         "y": [
          "gemini-2.5-pro (Best)"
         ],
         "yaxis": "y16"
        },
        {
         "customdata": [
          19
         ],
         "hovertemplate": "<b>Loss</b><br>Count: %{customdata}<br>Percentage: %{x:.1f}%<br><extra></extra>",
         "marker": {
          "color": "#E74C3C"
         },
         "name": "Loss",
         "orientation": "h",
         "showlegend": false,
         "text": "19%",
         "textposition": "inside",
         "type": "bar",
         "x": [
          19
         ],
         "xaxis": "x16",
         "y": [
          "gemini-2.5-pro (Best)"
         ],
         "yaxis": "y16"
        },
        {
         "customdata": [
          74
         ],
         "hovertemplate": "<b>Win</b><br>Count: %{customdata}<br>Percentage: %{x:.1f}%<br><extra></extra>",
         "marker": {
          "color": "#16A085"
         },
         "name": "Win",
         "orientation": "h",
         "showlegend": false,
         "text": "74%",
         "textposition": "inside",
         "type": "bar",
         "x": [
          74
         ],
         "xaxis": "x17",
         "y": [
          "gpt-4o (Avg)"
         ],
         "yaxis": "y17"
        },
        {
         "customdata": [
          0
         ],
         "hovertemplate": "<b>Tie</b><br>Count: %{customdata}<br>Percentage: %{x:.1f}%<br><extra></extra>",
         "marker": {
          "color": "#95A5A6"
         },
         "name": "Tie",
         "orientation": "h",
         "showlegend": false,
         "text": "",
         "textposition": "inside",
         "type": "bar",
         "x": [
          0
         ],
         "xaxis": "x17",
         "y": [
          "gpt-4o (Avg)"
         ],
         "yaxis": "y17"
        },
        {
         "customdata": [
          26
         ],
         "hovertemplate": "<b>Loss</b><br>Count: %{customdata}<br>Percentage: %{x:.1f}%<br><extra></extra>",
         "marker": {
          "color": "#E74C3C"
         },
         "name": "Loss",
         "orientation": "h",
         "showlegend": false,
         "text": "26%",
         "textposition": "inside",
         "type": "bar",
         "x": [
          26
         ],
         "xaxis": "x17",
         "y": [
          "gpt-4o (Avg)"
         ],
         "yaxis": "y17"
        },
        {
         "customdata": [
          79
         ],
         "hovertemplate": "<b>Win</b><br>Count: %{customdata}<br>Percentage: %{x:.1f}%<br><extra></extra>",
         "marker": {
          "color": "#16A085"
         },
         "name": "Win",
         "orientation": "h",
         "showlegend": false,
         "text": "79%",
         "textposition": "inside",
         "type": "bar",
         "x": [
          79
         ],
         "xaxis": "x18",
         "y": [
          "gpt-4o (Avg)"
         ],
         "yaxis": "y18"
        },
        {
         "customdata": [
          0
         ],
         "hovertemplate": "<b>Tie</b><br>Count: %{customdata}<br>Percentage: %{x:.1f}%<br><extra></extra>",
         "marker": {
          "color": "#95A5A6"
         },
         "name": "Tie",
         "orientation": "h",
         "showlegend": false,
         "text": "",
         "textposition": "inside",
         "type": "bar",
         "x": [
          0
         ],
         "xaxis": "x18",
         "y": [
          "gpt-4o (Avg)"
         ],
         "yaxis": "y18"
        },
        {
         "customdata": [
          21
         ],
         "hovertemplate": "<b>Loss</b><br>Count: %{customdata}<br>Percentage: %{x:.1f}%<br><extra></extra>",
         "marker": {
          "color": "#E74C3C"
         },
         "name": "Loss",
         "orientation": "h",
         "showlegend": false,
         "text": "21%",
         "textposition": "inside",
         "type": "bar",
         "x": [
          21
         ],
         "xaxis": "x18",
         "y": [
          "gpt-4o (Avg)"
         ],
         "yaxis": "y18"
        },
        {
         "customdata": [
          78
         ],
         "hovertemplate": "<b>Win</b><br>Count: %{customdata}<br>Percentage: %{x:.1f}%<br><extra></extra>",
         "marker": {
          "color": "#16A085"
         },
         "name": "Win",
         "orientation": "h",
         "showlegend": false,
         "text": "78%",
         "textposition": "inside",
         "type": "bar",
         "x": [
          78
         ],
         "xaxis": "x19",
         "y": [
          "gpt-4o (Avg)"
         ],
         "yaxis": "y19"
        },
        {
         "customdata": [
          0
         ],
         "hovertemplate": "<b>Tie</b><br>Count: %{customdata}<br>Percentage: %{x:.1f}%<br><extra></extra>",
         "marker": {
          "color": "#95A5A6"
         },
         "name": "Tie",
         "orientation": "h",
         "showlegend": false,
         "text": "",
         "textposition": "inside",
         "type": "bar",
         "x": [
          0
         ],
         "xaxis": "x19",
         "y": [
          "gpt-4o (Avg)"
         ],
         "yaxis": "y19"
        },
        {
         "customdata": [
          22
         ],
         "hovertemplate": "<b>Loss</b><br>Count: %{customdata}<br>Percentage: %{x:.1f}%<br><extra></extra>",
         "marker": {
          "color": "#E74C3C"
         },
         "name": "Loss",
         "orientation": "h",
         "showlegend": false,
         "text": "22%",
         "textposition": "inside",
         "type": "bar",
         "x": [
          22
         ],
         "xaxis": "x19",
         "y": [
          "gpt-4o (Avg)"
         ],
         "yaxis": "y19"
        },
        {
         "customdata": [
          82
         ],
         "hovertemplate": "<b>Win</b><br>Count: %{customdata}<br>Percentage: %{x:.1f}%<br><extra></extra>",
         "marker": {
          "color": "#16A085"
         },
         "name": "Win",
         "orientation": "h",
         "showlegend": false,
         "text": "82%",
         "textposition": "inside",
         "type": "bar",
         "x": [
          82
         ],
         "xaxis": "x20",
         "y": [
          "gpt-4o (Avg)"
         ],
         "yaxis": "y20"
        },
        {
         "customdata": [
          0
         ],
         "hovertemplate": "<b>Tie</b><br>Count: %{customdata}<br>Percentage: %{x:.1f}%<br><extra></extra>",
         "marker": {
          "color": "#95A5A6"
         },
         "name": "Tie",
         "orientation": "h",
         "showlegend": false,
         "text": "",
         "textposition": "inside",
         "type": "bar",
         "x": [
          0
         ],
         "xaxis": "x20",
         "y": [
          "gpt-4o (Avg)"
         ],
         "yaxis": "y20"
        },
        {
         "customdata": [
          18
         ],
         "hovertemplate": "<b>Loss</b><br>Count: %{customdata}<br>Percentage: %{x:.1f}%<br><extra></extra>",
         "marker": {
          "color": "#E74C3C"
         },
         "name": "Loss",
         "orientation": "h",
         "showlegend": false,
         "text": "18%",
         "textposition": "inside",
         "type": "bar",
         "x": [
          18
         ],
         "xaxis": "x20",
         "y": [
          "gpt-4o (Avg)"
         ],
         "yaxis": "y20"
        },
        {
         "customdata": [
          63
         ],
         "hovertemplate": "<b>Win</b><br>Count: %{customdata}<br>Percentage: %{x:.1f}%<br><extra></extra>",
         "marker": {
          "color": "#16A085"
         },
         "name": "Win",
         "orientation": "h",
         "showlegend": false,
         "text": "63%",
         "textposition": "inside",
         "type": "bar",
         "x": [
          63
         ],
         "xaxis": "x21",
         "y": [
          "gpt-4o (Best)"
         ],
         "yaxis": "y21"
        },
        {
         "customdata": [
          0
         ],
         "hovertemplate": "<b>Tie</b><br>Count: %{customdata}<br>Percentage: %{x:.1f}%<br><extra></extra>",
         "marker": {
          "color": "#95A5A6"
         },
         "name": "Tie",
         "orientation": "h",
         "showlegend": false,
         "text": "",
         "textposition": "inside",
         "type": "bar",
         "x": [
          0
         ],
         "xaxis": "x21",
         "y": [
          "gpt-4o (Best)"
         ],
         "yaxis": "y21"
        },
        {
         "customdata": [
          37
         ],
         "hovertemplate": "<b>Loss</b><br>Count: %{customdata}<br>Percentage: %{x:.1f}%<br><extra></extra>",
         "marker": {
          "color": "#E74C3C"
         },
         "name": "Loss",
         "orientation": "h",
         "showlegend": false,
         "text": "37%",
         "textposition": "inside",
         "type": "bar",
         "x": [
          37
         ],
         "xaxis": "x21",
         "y": [
          "gpt-4o (Best)"
         ],
         "yaxis": "y21"
        },
        {
         "customdata": [
          73
         ],
         "hovertemplate": "<b>Win</b><br>Count: %{customdata}<br>Percentage: %{x:.1f}%<br><extra></extra>",
         "marker": {
          "color": "#16A085"
         },
         "name": "Win",
         "orientation": "h",
         "showlegend": false,
         "text": "73%",
         "textposition": "inside",
         "type": "bar",
         "x": [
          73
         ],
         "xaxis": "x22",
         "y": [
          "gpt-4o (Best)"
         ],
         "yaxis": "y22"
        },
        {
         "customdata": [
          0
         ],
         "hovertemplate": "<b>Tie</b><br>Count: %{customdata}<br>Percentage: %{x:.1f}%<br><extra></extra>",
         "marker": {
          "color": "#95A5A6"
         },
         "name": "Tie",
         "orientation": "h",
         "showlegend": false,
         "text": "",
         "textposition": "inside",
         "type": "bar",
         "x": [
          0
         ],
         "xaxis": "x22",
         "y": [
          "gpt-4o (Best)"
         ],
         "yaxis": "y22"
        },
        {
         "customdata": [
          27
         ],
         "hovertemplate": "<b>Loss</b><br>Count: %{customdata}<br>Percentage: %{x:.1f}%<br><extra></extra>",
         "marker": {
          "color": "#E74C3C"
         },
         "name": "Loss",
         "orientation": "h",
         "showlegend": false,
         "text": "27%",
         "textposition": "inside",
         "type": "bar",
         "x": [
          27
         ],
         "xaxis": "x22",
         "y": [
          "gpt-4o (Best)"
         ],
         "yaxis": "y22"
        },
        {
         "customdata": [
          70
         ],
         "hovertemplate": "<b>Win</b><br>Count: %{customdata}<br>Percentage: %{x:.1f}%<br><extra></extra>",
         "marker": {
          "color": "#16A085"
         },
         "name": "Win",
         "orientation": "h",
         "showlegend": false,
         "text": "70%",
         "textposition": "inside",
         "type": "bar",
         "x": [
          70
         ],
         "xaxis": "x23",
         "y": [
          "gpt-4o (Best)"
         ],
         "yaxis": "y23"
        },
        {
         "customdata": [
          0
         ],
         "hovertemplate": "<b>Tie</b><br>Count: %{customdata}<br>Percentage: %{x:.1f}%<br><extra></extra>",
         "marker": {
          "color": "#95A5A6"
         },
         "name": "Tie",
         "orientation": "h",
         "showlegend": false,
         "text": "",
         "textposition": "inside",
         "type": "bar",
         "x": [
          0
         ],
         "xaxis": "x23",
         "y": [
          "gpt-4o (Best)"
         ],
         "yaxis": "y23"
        },
        {
         "customdata": [
          30
         ],
         "hovertemplate": "<b>Loss</b><br>Count: %{customdata}<br>Percentage: %{x:.1f}%<br><extra></extra>",
         "marker": {
          "color": "#E74C3C"
         },
         "name": "Loss",
         "orientation": "h",
         "showlegend": false,
         "text": "30%",
         "textposition": "inside",
         "type": "bar",
         "x": [
          30
         ],
         "xaxis": "x23",
         "y": [
          "gpt-4o (Best)"
         ],
         "yaxis": "y23"
        },
        {
         "customdata": [
          75
         ],
         "hovertemplate": "<b>Win</b><br>Count: %{customdata}<br>Percentage: %{x:.1f}%<br><extra></extra>",
         "marker": {
          "color": "#16A085"
         },
         "name": "Win",
         "orientation": "h",
         "showlegend": false,
         "text": "75%",
         "textposition": "inside",
         "type": "bar",
         "x": [
          75
         ],
         "xaxis": "x24",
         "y": [
          "gpt-4o (Best)"
         ],
         "yaxis": "y24"
        },
        {
         "customdata": [
          0
         ],
         "hovertemplate": "<b>Tie</b><br>Count: %{customdata}<br>Percentage: %{x:.1f}%<br><extra></extra>",
         "marker": {
          "color": "#95A5A6"
         },
         "name": "Tie",
         "orientation": "h",
         "showlegend": false,
         "text": "",
         "textposition": "inside",
         "type": "bar",
         "x": [
          0
         ],
         "xaxis": "x24",
         "y": [
          "gpt-4o (Best)"
         ],
         "yaxis": "y24"
        },
        {
         "customdata": [
          25
         ],
         "hovertemplate": "<b>Loss</b><br>Count: %{customdata}<br>Percentage: %{x:.1f}%<br><extra></extra>",
         "marker": {
          "color": "#E74C3C"
         },
         "name": "Loss",
         "orientation": "h",
         "showlegend": false,
         "text": "25%",
         "textposition": "inside",
         "type": "bar",
         "x": [
          25
         ],
         "xaxis": "x24",
         "y": [
          "gpt-4o (Best)"
         ],
         "yaxis": "y24"
        },
        {
         "customdata": [
          80
         ],
         "hovertemplate": "<b>Win</b><br>Count: %{customdata}<br>Percentage: %{x:.1f}%<br><extra></extra>",
         "marker": {
          "color": "#16A085"
         },
         "name": "Win",
         "orientation": "h",
         "showlegend": false,
         "text": "80%",
         "textposition": "inside",
         "type": "bar",
         "x": [
          80
         ],
         "xaxis": "x25",
         "y": [
          "gpt-4o-mini (Avg)"
         ],
         "yaxis": "y25"
        },
        {
         "customdata": [
          0
         ],
         "hovertemplate": "<b>Tie</b><br>Count: %{customdata}<br>Percentage: %{x:.1f}%<br><extra></extra>",
         "marker": {
          "color": "#95A5A6"
         },
         "name": "Tie",
         "orientation": "h",
         "showlegend": false,
         "text": "",
         "textposition": "inside",
         "type": "bar",
         "x": [
          0
         ],
         "xaxis": "x25",
         "y": [
          "gpt-4o-mini (Avg)"
         ],
         "yaxis": "y25"
        },
        {
         "customdata": [
          20
         ],
         "hovertemplate": "<b>Loss</b><br>Count: %{customdata}<br>Percentage: %{x:.1f}%<br><extra></extra>",
         "marker": {
          "color": "#E74C3C"
         },
         "name": "Loss",
         "orientation": "h",
         "showlegend": false,
         "text": "20%",
         "textposition": "inside",
         "type": "bar",
         "x": [
          20
         ],
         "xaxis": "x25",
         "y": [
          "gpt-4o-mini (Avg)"
         ],
         "yaxis": "y25"
        },
        {
         "customdata": [
          84
         ],
         "hovertemplate": "<b>Win</b><br>Count: %{customdata}<br>Percentage: %{x:.1f}%<br><extra></extra>",
         "marker": {
          "color": "#16A085"
         },
         "name": "Win",
         "orientation": "h",
         "showlegend": false,
         "text": "84%",
         "textposition": "inside",
         "type": "bar",
         "x": [
          84
         ],
         "xaxis": "x26",
         "y": [
          "gpt-4o-mini (Avg)"
         ],
         "yaxis": "y26"
        },
        {
         "customdata": [
          0
         ],
         "hovertemplate": "<b>Tie</b><br>Count: %{customdata}<br>Percentage: %{x:.1f}%<br><extra></extra>",
         "marker": {
          "color": "#95A5A6"
         },
         "name": "Tie",
         "orientation": "h",
         "showlegend": false,
         "text": "",
         "textposition": "inside",
         "type": "bar",
         "x": [
          0
         ],
         "xaxis": "x26",
         "y": [
          "gpt-4o-mini (Avg)"
         ],
         "yaxis": "y26"
        },
        {
         "customdata": [
          16
         ],
         "hovertemplate": "<b>Loss</b><br>Count: %{customdata}<br>Percentage: %{x:.1f}%<br><extra></extra>",
         "marker": {
          "color": "#E74C3C"
         },
         "name": "Loss",
         "orientation": "h",
         "showlegend": false,
         "text": "16%",
         "textposition": "inside",
         "type": "bar",
         "x": [
          16
         ],
         "xaxis": "x26",
         "y": [
          "gpt-4o-mini (Avg)"
         ],
         "yaxis": "y26"
        },
        {
         "customdata": [
          88
         ],
         "hovertemplate": "<b>Win</b><br>Count: %{customdata}<br>Percentage: %{x:.1f}%<br><extra></extra>",
         "marker": {
          "color": "#16A085"
         },
         "name": "Win",
         "orientation": "h",
         "showlegend": false,
         "text": "88%",
         "textposition": "inside",
         "type": "bar",
         "x": [
          88
         ],
         "xaxis": "x27",
         "y": [
          "gpt-4o-mini (Avg)"
         ],
         "yaxis": "y27"
        },
        {
         "customdata": [
          0
         ],
         "hovertemplate": "<b>Tie</b><br>Count: %{customdata}<br>Percentage: %{x:.1f}%<br><extra></extra>",
         "marker": {
          "color": "#95A5A6"
         },
         "name": "Tie",
         "orientation": "h",
         "showlegend": false,
         "text": "",
         "textposition": "inside",
         "type": "bar",
         "x": [
          0
         ],
         "xaxis": "x27",
         "y": [
          "gpt-4o-mini (Avg)"
         ],
         "yaxis": "y27"
        },
        {
         "customdata": [
          12
         ],
         "hovertemplate": "<b>Loss</b><br>Count: %{customdata}<br>Percentage: %{x:.1f}%<br><extra></extra>",
         "marker": {
          "color": "#E74C3C"
         },
         "name": "Loss",
         "orientation": "h",
         "showlegend": false,
         "text": "12%",
         "textposition": "inside",
         "type": "bar",
         "x": [
          12
         ],
         "xaxis": "x27",
         "y": [
          "gpt-4o-mini (Avg)"
         ],
         "yaxis": "y27"
        },
        {
         "customdata": [
          87
         ],
         "hovertemplate": "<b>Win</b><br>Count: %{customdata}<br>Percentage: %{x:.1f}%<br><extra></extra>",
         "marker": {
          "color": "#16A085"
         },
         "name": "Win",
         "orientation": "h",
         "showlegend": false,
         "text": "87%",
         "textposition": "inside",
         "type": "bar",
         "x": [
          87
         ],
         "xaxis": "x28",
         "y": [
          "gpt-4o-mini (Avg)"
         ],
         "yaxis": "y28"
        },
        {
         "customdata": [
          0
         ],
         "hovertemplate": "<b>Tie</b><br>Count: %{customdata}<br>Percentage: %{x:.1f}%<br><extra></extra>",
         "marker": {
          "color": "#95A5A6"
         },
         "name": "Tie",
         "orientation": "h",
         "showlegend": false,
         "text": "",
         "textposition": "inside",
         "type": "bar",
         "x": [
          0
         ],
         "xaxis": "x28",
         "y": [
          "gpt-4o-mini (Avg)"
         ],
         "yaxis": "y28"
        },
        {
         "customdata": [
          13
         ],
         "hovertemplate": "<b>Loss</b><br>Count: %{customdata}<br>Percentage: %{x:.1f}%<br><extra></extra>",
         "marker": {
          "color": "#E74C3C"
         },
         "name": "Loss",
         "orientation": "h",
         "showlegend": false,
         "text": "13%",
         "textposition": "inside",
         "type": "bar",
         "x": [
          13
         ],
         "xaxis": "x28",
         "y": [
          "gpt-4o-mini (Avg)"
         ],
         "yaxis": "y28"
        },
        {
         "customdata": [
          78
         ],
         "hovertemplate": "<b>Win</b><br>Count: %{customdata}<br>Percentage: %{x:.1f}%<br><extra></extra>",
         "marker": {
          "color": "#16A085"
         },
         "name": "Win",
         "orientation": "h",
         "showlegend": false,
         "text": "78%",
         "textposition": "inside",
         "type": "bar",
         "x": [
          78
         ],
         "xaxis": "x29",
         "y": [
          "gpt-4o-mini (Best)"
         ],
         "yaxis": "y29"
        },
        {
         "customdata": [
          0
         ],
         "hovertemplate": "<b>Tie</b><br>Count: %{customdata}<br>Percentage: %{x:.1f}%<br><extra></extra>",
         "marker": {
          "color": "#95A5A6"
         },
         "name": "Tie",
         "orientation": "h",
         "showlegend": false,
         "text": "",
         "textposition": "inside",
         "type": "bar",
         "x": [
          0
         ],
         "xaxis": "x29",
         "y": [
          "gpt-4o-mini (Best)"
         ],
         "yaxis": "y29"
        },
        {
         "customdata": [
          22
         ],
         "hovertemplate": "<b>Loss</b><br>Count: %{customdata}<br>Percentage: %{x:.1f}%<br><extra></extra>",
         "marker": {
          "color": "#E74C3C"
         },
         "name": "Loss",
         "orientation": "h",
         "showlegend": false,
         "text": "22%",
         "textposition": "inside",
         "type": "bar",
         "x": [
          22
         ],
         "xaxis": "x29",
         "y": [
          "gpt-4o-mini (Best)"
         ],
         "yaxis": "y29"
        },
        {
         "customdata": [
          80
         ],
         "hovertemplate": "<b>Win</b><br>Count: %{customdata}<br>Percentage: %{x:.1f}%<br><extra></extra>",
         "marker": {
          "color": "#16A085"
         },
         "name": "Win",
         "orientation": "h",
         "showlegend": false,
         "text": "80%",
         "textposition": "inside",
         "type": "bar",
         "x": [
          80
         ],
         "xaxis": "x30",
         "y": [
          "gpt-4o-mini (Best)"
         ],
         "yaxis": "y30"
        },
        {
         "customdata": [
          0
         ],
         "hovertemplate": "<b>Tie</b><br>Count: %{customdata}<br>Percentage: %{x:.1f}%<br><extra></extra>",
         "marker": {
          "color": "#95A5A6"
         },
         "name": "Tie",
         "orientation": "h",
         "showlegend": false,
         "text": "",
         "textposition": "inside",
         "type": "bar",
         "x": [
          0
         ],
         "xaxis": "x30",
         "y": [
          "gpt-4o-mini (Best)"
         ],
         "yaxis": "y30"
        },
        {
         "customdata": [
          20
         ],
         "hovertemplate": "<b>Loss</b><br>Count: %{customdata}<br>Percentage: %{x:.1f}%<br><extra></extra>",
         "marker": {
          "color": "#E74C3C"
         },
         "name": "Loss",
         "orientation": "h",
         "showlegend": false,
         "text": "20%",
         "textposition": "inside",
         "type": "bar",
         "x": [
          20
         ],
         "xaxis": "x30",
         "y": [
          "gpt-4o-mini (Best)"
         ],
         "yaxis": "y30"
        },
        {
         "customdata": [
          83
         ],
         "hovertemplate": "<b>Win</b><br>Count: %{customdata}<br>Percentage: %{x:.1f}%<br><extra></extra>",
         "marker": {
          "color": "#16A085"
         },
         "name": "Win",
         "orientation": "h",
         "showlegend": false,
         "text": "83%",
         "textposition": "inside",
         "type": "bar",
         "x": [
          83
         ],
         "xaxis": "x31",
         "y": [
          "gpt-4o-mini (Best)"
         ],
         "yaxis": "y31"
        },
        {
         "customdata": [
          0
         ],
         "hovertemplate": "<b>Tie</b><br>Count: %{customdata}<br>Percentage: %{x:.1f}%<br><extra></extra>",
         "marker": {
          "color": "#95A5A6"
         },
         "name": "Tie",
         "orientation": "h",
         "showlegend": false,
         "text": "",
         "textposition": "inside",
         "type": "bar",
         "x": [
          0
         ],
         "xaxis": "x31",
         "y": [
          "gpt-4o-mini (Best)"
         ],
         "yaxis": "y31"
        },
        {
         "customdata": [
          17
         ],
         "hovertemplate": "<b>Loss</b><br>Count: %{customdata}<br>Percentage: %{x:.1f}%<br><extra></extra>",
         "marker": {
          "color": "#E74C3C"
         },
         "name": "Loss",
         "orientation": "h",
         "showlegend": false,
         "text": "17%",
         "textposition": "inside",
         "type": "bar",
         "x": [
          17
         ],
         "xaxis": "x31",
         "y": [
          "gpt-4o-mini (Best)"
         ],
         "yaxis": "y31"
        },
        {
         "customdata": [
          82
         ],
         "hovertemplate": "<b>Win</b><br>Count: %{customdata}<br>Percentage: %{x:.1f}%<br><extra></extra>",
         "marker": {
          "color": "#16A085"
         },
         "name": "Win",
         "orientation": "h",
         "showlegend": false,
         "text": "82%",
         "textposition": "inside",
         "type": "bar",
         "x": [
          82
         ],
         "xaxis": "x32",
         "y": [
          "gpt-4o-mini (Best)"
         ],
         "yaxis": "y32"
        },
        {
         "customdata": [
          0
         ],
         "hovertemplate": "<b>Tie</b><br>Count: %{customdata}<br>Percentage: %{x:.1f}%<br><extra></extra>",
         "marker": {
          "color": "#95A5A6"
         },
         "name": "Tie",
         "orientation": "h",
         "showlegend": false,
         "text": "",
         "textposition": "inside",
         "type": "bar",
         "x": [
          0
         ],
         "xaxis": "x32",
         "y": [
          "gpt-4o-mini (Best)"
         ],
         "yaxis": "y32"
        },
        {
         "customdata": [
          18
         ],
         "hovertemplate": "<b>Loss</b><br>Count: %{customdata}<br>Percentage: %{x:.1f}%<br><extra></extra>",
         "marker": {
          "color": "#E74C3C"
         },
         "name": "Loss",
         "orientation": "h",
         "showlegend": false,
         "text": "18%",
         "textposition": "inside",
         "type": "bar",
         "x": [
          18
         ],
         "xaxis": "x32",
         "y": [
          "gpt-4o-mini (Best)"
         ],
         "yaxis": "y32"
        }
       ],
       "layout": {
        "annotations": [
         {
          "font": {
           "size": 16
          },
          "showarrow": false,
          "text": "Calories",
          "x": 0.095,
          "xanchor": "center",
          "xref": "paper",
          "y": 1,
          "yanchor": "bottom",
          "yref": "paper"
         },
         {
          "font": {
           "size": 16
          },
          "showarrow": false,
          "text": "Carbohydrates",
          "x": 0.365,
          "xanchor": "center",
          "xref": "paper",
          "y": 1,
          "yanchor": "bottom",
          "yref": "paper"
         },
         {
          "font": {
           "size": 16
          },
          "showarrow": false,
          "text": "Protein",
          "x": 0.635,
          "xanchor": "center",
          "xref": "paper",
          "y": 1,
          "yanchor": "bottom",
          "yref": "paper"
         },
         {
          "font": {
           "size": 16
          },
          "showarrow": false,
          "text": "Fat",
          "x": 0.905,
          "xanchor": "center",
          "xref": "paper",
          "y": 1,
          "yanchor": "bottom",
          "yref": "paper"
         },
         {
          "font": {
           "size": 12
          },
          "showarrow": false,
          "text": "<b>January AI</b>",
          "x": -0.05,
          "xanchor": "right",
          "xref": "paper",
          "y": "gemini-2.5-flash (Avg)",
          "yanchor": "middle",
          "yref": "y"
         },
         {
          "font": {
           "size": 12
          },
          "showarrow": false,
          "text": "<b>gemini-2.5-flash (Avg)</b>",
          "x": 1.05,
          "xanchor": "left",
          "xref": "paper",
          "y": "gemini-2.5-flash (Avg)",
          "yanchor": "middle",
          "yref": "y"
         },
         {
          "font": {
           "size": 12
          },
          "showarrow": false,
          "text": "<b>January AI</b>",
          "x": -0.05,
          "xanchor": "right",
          "xref": "paper",
          "y": "gemini-2.5-flash (Best)",
          "yanchor": "middle",
          "yref": "y5"
         },
         {
          "font": {
           "size": 12
          },
          "showarrow": false,
          "text": "<b>gemini-2.5-flash (Best)</b>",
          "x": 1.05,
          "xanchor": "left",
          "xref": "paper",
          "y": "gemini-2.5-flash (Best)",
          "yanchor": "middle",
          "yref": "y5"
         },
         {
          "font": {
           "size": 12
          },
          "showarrow": false,
          "text": "<b>January AI</b>",
          "x": -0.05,
          "xanchor": "right",
          "xref": "paper",
          "y": "gemini-2.5-pro (Avg)",
          "yanchor": "middle",
          "yref": "y9"
         },
         {
          "font": {
           "size": 12
          },
          "showarrow": false,
          "text": "<b>gemini-2.5-pro (Avg)</b>",
          "x": 1.05,
          "xanchor": "left",
          "xref": "paper",
          "y": "gemini-2.5-pro (Avg)",
          "yanchor": "middle",
          "yref": "y9"
         },
         {
          "font": {
           "size": 12
          },
          "showarrow": false,
          "text": "<b>January AI</b>",
          "x": -0.05,
          "xanchor": "right",
          "xref": "paper",
          "y": "gemini-2.5-pro (Best)",
          "yanchor": "middle",
          "yref": "y13"
         },
         {
          "font": {
           "size": 12
          },
          "showarrow": false,
          "text": "<b>gemini-2.5-pro (Best)</b>",
          "x": 1.05,
          "xanchor": "left",
          "xref": "paper",
          "y": "gemini-2.5-pro (Best)",
          "yanchor": "middle",
          "yref": "y13"
         },
         {
          "font": {
           "size": 12
          },
          "showarrow": false,
          "text": "<b>January AI</b>",
          "x": -0.05,
          "xanchor": "right",
          "xref": "paper",
          "y": "gpt-4o (Avg)",
          "yanchor": "middle",
          "yref": "y17"
         },
         {
          "font": {
           "size": 12
          },
          "showarrow": false,
          "text": "<b>gpt-4o (Avg)</b>",
          "x": 1.05,
          "xanchor": "left",
          "xref": "paper",
          "y": "gpt-4o (Avg)",
          "yanchor": "middle",
          "yref": "y17"
         },
         {
          "font": {
           "size": 12
          },
          "showarrow": false,
          "text": "<b>January AI</b>",
          "x": -0.05,
          "xanchor": "right",
          "xref": "paper",
          "y": "gpt-4o (Best)",
          "yanchor": "middle",
          "yref": "y21"
         },
         {
          "font": {
           "size": 12
          },
          "showarrow": false,
          "text": "<b>gpt-4o (Best)</b>",
          "x": 1.05,
          "xanchor": "left",
          "xref": "paper",
          "y": "gpt-4o (Best)",
          "yanchor": "middle",
          "yref": "y21"
         },
         {
          "font": {
           "size": 12
          },
          "showarrow": false,
          "text": "<b>January AI</b>",
          "x": -0.05,
          "xanchor": "right",
          "xref": "paper",
          "y": "gpt-4o-mini (Avg)",
          "yanchor": "middle",
          "yref": "y25"
         },
         {
          "font": {
           "size": 12
          },
          "showarrow": false,
          "text": "<b>gpt-4o-mini (Avg)</b>",
          "x": 1.05,
          "xanchor": "left",
          "xref": "paper",
          "y": "gpt-4o-mini (Avg)",
          "yanchor": "middle",
          "yref": "y25"
         },
         {
          "font": {
           "size": 12
          },
          "showarrow": false,
          "text": "<b>January AI</b>",
          "x": -0.05,
          "xanchor": "right",
          "xref": "paper",
          "y": "gpt-4o-mini (Best)",
          "yanchor": "middle",
          "yref": "y29"
         },
         {
          "font": {
           "size": 12
          },
          "showarrow": false,
          "text": "<b>gpt-4o-mini (Best)</b>",
          "x": 1.05,
          "xanchor": "left",
          "xref": "paper",
          "y": "gpt-4o-mini (Best)",
          "yanchor": "middle",
          "yref": "y29"
         }
        ],
        "barmode": "stack",
        "height": 560,
        "margin": {
         "b": 20,
         "l": 200,
         "r": 200,
         "t": 100
        },
        "paper_bgcolor": "white",
        "plot_bgcolor": "rgba(250,251,252,0.8)",
        "showlegend": false,
        "template": {
         "data": {
          "bar": [
           {
            "error_x": {
             "color": "#2a3f5f"
            },
            "error_y": {
             "color": "#2a3f5f"
            },
            "marker": {
             "line": {
              "color": "#E5ECF6",
              "width": 0.5
             },
             "pattern": {
              "fillmode": "overlay",
              "size": 10,
              "solidity": 0.2
             }
            },
            "type": "bar"
           }
          ],
          "barpolar": [
           {
            "marker": {
             "line": {
              "color": "#E5ECF6",
              "width": 0.5
             },
             "pattern": {
              "fillmode": "overlay",
              "size": 10,
              "solidity": 0.2
             }
            },
            "type": "barpolar"
           }
          ],
          "carpet": [
           {
            "aaxis": {
             "endlinecolor": "#2a3f5f",
             "gridcolor": "white",
             "linecolor": "white",
             "minorgridcolor": "white",
             "startlinecolor": "#2a3f5f"
            },
            "baxis": {
             "endlinecolor": "#2a3f5f",
             "gridcolor": "white",
             "linecolor": "white",
             "minorgridcolor": "white",
             "startlinecolor": "#2a3f5f"
            },
            "type": "carpet"
           }
          ],
          "choropleth": [
           {
            "colorbar": {
             "outlinewidth": 0,
             "ticks": ""
            },
            "type": "choropleth"
           }
          ],
          "contour": [
           {
            "colorbar": {
             "outlinewidth": 0,
             "ticks": ""
            },
            "colorscale": [
             [
              0,
              "#0d0887"
             ],
             [
              0.1111111111111111,
              "#46039f"
             ],
             [
              0.2222222222222222,
              "#7201a8"
             ],
             [
              0.3333333333333333,
              "#9c179e"
             ],
             [
              0.4444444444444444,
              "#bd3786"
             ],
             [
              0.5555555555555556,
              "#d8576b"
             ],
             [
              0.6666666666666666,
              "#ed7953"
             ],
             [
              0.7777777777777778,
              "#fb9f3a"
             ],
             [
              0.8888888888888888,
              "#fdca26"
             ],
             [
              1,
              "#f0f921"
             ]
            ],
            "type": "contour"
           }
          ],
          "contourcarpet": [
           {
            "colorbar": {
             "outlinewidth": 0,
             "ticks": ""
            },
            "type": "contourcarpet"
           }
          ],
          "heatmap": [
           {
            "colorbar": {
             "outlinewidth": 0,
             "ticks": ""
            },
            "colorscale": [
             [
              0,
              "#0d0887"
             ],
             [
              0.1111111111111111,
              "#46039f"
             ],
             [
              0.2222222222222222,
              "#7201a8"
             ],
             [
              0.3333333333333333,
              "#9c179e"
             ],
             [
              0.4444444444444444,
              "#bd3786"
             ],
             [
              0.5555555555555556,
              "#d8576b"
             ],
             [
              0.6666666666666666,
              "#ed7953"
             ],
             [
              0.7777777777777778,
              "#fb9f3a"
             ],
             [
              0.8888888888888888,
              "#fdca26"
             ],
             [
              1,
              "#f0f921"
             ]
            ],
            "type": "heatmap"
           }
          ],
          "histogram": [
           {
            "marker": {
             "pattern": {
              "fillmode": "overlay",
              "size": 10,
              "solidity": 0.2
             }
            },
            "type": "histogram"
           }
          ],
          "histogram2d": [
           {
            "colorbar": {
             "outlinewidth": 0,
             "ticks": ""
            },
            "colorscale": [
             [
              0,
              "#0d0887"
             ],
             [
              0.1111111111111111,
              "#46039f"
             ],
             [
              0.2222222222222222,
              "#7201a8"
             ],
             [
              0.3333333333333333,
              "#9c179e"
             ],
             [
              0.4444444444444444,
              "#bd3786"
             ],
             [
              0.5555555555555556,
              "#d8576b"
             ],
             [
              0.6666666666666666,
              "#ed7953"
             ],
             [
              0.7777777777777778,
              "#fb9f3a"
             ],
             [
              0.8888888888888888,
              "#fdca26"
             ],
             [
              1,
              "#f0f921"
             ]
            ],
            "type": "histogram2d"
           }
          ],
          "histogram2dcontour": [
           {
            "colorbar": {
             "outlinewidth": 0,
             "ticks": ""
            },
            "colorscale": [
             [
              0,
              "#0d0887"
             ],
             [
              0.1111111111111111,
              "#46039f"
             ],
             [
              0.2222222222222222,
              "#7201a8"
             ],
             [
              0.3333333333333333,
              "#9c179e"
             ],
             [
              0.4444444444444444,
              "#bd3786"
             ],
             [
              0.5555555555555556,
              "#d8576b"
             ],
             [
              0.6666666666666666,
              "#ed7953"
             ],
             [
              0.7777777777777778,
              "#fb9f3a"
             ],
             [
              0.8888888888888888,
              "#fdca26"
             ],
             [
              1,
              "#f0f921"
             ]
            ],
            "type": "histogram2dcontour"
           }
          ],
          "mesh3d": [
           {
            "colorbar": {
             "outlinewidth": 0,
             "ticks": ""
            },
            "type": "mesh3d"
           }
          ],
          "parcoords": [
           {
            "line": {
             "colorbar": {
              "outlinewidth": 0,
              "ticks": ""
             }
            },
            "type": "parcoords"
           }
          ],
          "pie": [
           {
            "automargin": true,
            "type": "pie"
           }
          ],
          "scatter": [
           {
            "fillpattern": {
             "fillmode": "overlay",
             "size": 10,
             "solidity": 0.2
            },
            "type": "scatter"
           }
          ],
          "scatter3d": [
           {
            "line": {
             "colorbar": {
              "outlinewidth": 0,
              "ticks": ""
             }
            },
            "marker": {
             "colorbar": {
              "outlinewidth": 0,
              "ticks": ""
             }
            },
            "type": "scatter3d"
           }
          ],
          "scattercarpet": [
           {
            "marker": {
             "colorbar": {
              "outlinewidth": 0,
              "ticks": ""
             }
            },
            "type": "scattercarpet"
           }
          ],
          "scattergeo": [
           {
            "marker": {
             "colorbar": {
              "outlinewidth": 0,
              "ticks": ""
             }
            },
            "type": "scattergeo"
           }
          ],
          "scattergl": [
           {
            "marker": {
             "colorbar": {
              "outlinewidth": 0,
              "ticks": ""
             }
            },
            "type": "scattergl"
           }
          ],
          "scattermap": [
           {
            "marker": {
             "colorbar": {
              "outlinewidth": 0,
              "ticks": ""
             }
            },
            "type": "scattermap"
           }
          ],
          "scattermapbox": [
           {
            "marker": {
             "colorbar": {
              "outlinewidth": 0,
              "ticks": ""
             }
            },
            "type": "scattermapbox"
           }
          ],
          "scatterpolar": [
           {
            "marker": {
             "colorbar": {
              "outlinewidth": 0,
              "ticks": ""
             }
            },
            "type": "scatterpolar"
           }
          ],
          "scatterpolargl": [
           {
            "marker": {
             "colorbar": {
              "outlinewidth": 0,
              "ticks": ""
             }
            },
            "type": "scatterpolargl"
           }
          ],
          "scatterternary": [
           {
            "marker": {
             "colorbar": {
              "outlinewidth": 0,
              "ticks": ""
             }
            },
            "type": "scatterternary"
           }
          ],
          "surface": [
           {
            "colorbar": {
             "outlinewidth": 0,
             "ticks": ""
            },
            "colorscale": [
             [
              0,
              "#0d0887"
             ],
             [
              0.1111111111111111,
              "#46039f"
             ],
             [
              0.2222222222222222,
              "#7201a8"
             ],
             [
              0.3333333333333333,
              "#9c179e"
             ],
             [
              0.4444444444444444,
              "#bd3786"
             ],
             [
              0.5555555555555556,
              "#d8576b"
             ],
             [
              0.6666666666666666,
              "#ed7953"
             ],
             [
              0.7777777777777778,
              "#fb9f3a"
             ],
             [
              0.8888888888888888,
              "#fdca26"
             ],
             [
              1,
              "#f0f921"
             ]
            ],
            "type": "surface"
           }
          ],
          "table": [
           {
            "cells": {
             "fill": {
              "color": "#EBF0F8"
             },
             "line": {
              "color": "white"
             }
            },
            "header": {
             "fill": {
              "color": "#C8D4E3"
             },
             "line": {
              "color": "white"
             }
            },
            "type": "table"
           }
          ]
         },
         "layout": {
          "annotationdefaults": {
           "arrowcolor": "#2a3f5f",
           "arrowhead": 0,
           "arrowwidth": 1
          },
          "autotypenumbers": "strict",
          "coloraxis": {
           "colorbar": {
            "outlinewidth": 0,
            "ticks": ""
           }
          },
          "colorscale": {
           "diverging": [
            [
             0,
             "#8e0152"
            ],
            [
             0.1,
             "#c51b7d"
            ],
            [
             0.2,
             "#de77ae"
            ],
            [
             0.3,
             "#f1b6da"
            ],
            [
             0.4,
             "#fde0ef"
            ],
            [
             0.5,
             "#f7f7f7"
            ],
            [
             0.6,
             "#e6f5d0"
            ],
            [
             0.7,
             "#b8e186"
            ],
            [
             0.8,
             "#7fbc41"
            ],
            [
             0.9,
             "#4d9221"
            ],
            [
             1,
             "#276419"
            ]
           ],
           "sequential": [
            [
             0,
             "#0d0887"
            ],
            [
             0.1111111111111111,
             "#46039f"
            ],
            [
             0.2222222222222222,
             "#7201a8"
            ],
            [
             0.3333333333333333,
             "#9c179e"
            ],
            [
             0.4444444444444444,
             "#bd3786"
            ],
            [
             0.5555555555555556,
             "#d8576b"
            ],
            [
             0.6666666666666666,
             "#ed7953"
            ],
            [
             0.7777777777777778,
             "#fb9f3a"
            ],
            [
             0.8888888888888888,
             "#fdca26"
            ],
            [
             1,
             "#f0f921"
            ]
           ],
           "sequentialminus": [
            [
             0,
             "#0d0887"
            ],
            [
             0.1111111111111111,
             "#46039f"
            ],
            [
             0.2222222222222222,
             "#7201a8"
            ],
            [
             0.3333333333333333,
             "#9c179e"
            ],
            [
             0.4444444444444444,
             "#bd3786"
            ],
            [
             0.5555555555555556,
             "#d8576b"
            ],
            [
             0.6666666666666666,
             "#ed7953"
            ],
            [
             0.7777777777777778,
             "#fb9f3a"
            ],
            [
             0.8888888888888888,
             "#fdca26"
            ],
            [
             1,
             "#f0f921"
            ]
           ]
          },
          "colorway": [
           "#636efa",
           "#EF553B",
           "#00cc96",
           "#ab63fa",
           "#FFA15A",
           "#19d3f3",
           "#FF6692",
           "#B6E880",
           "#FF97FF",
           "#FECB52"
          ],
          "font": {
           "color": "#2a3f5f"
          },
          "geo": {
           "bgcolor": "white",
           "lakecolor": "white",
           "landcolor": "#E5ECF6",
           "showlakes": true,
           "showland": true,
           "subunitcolor": "white"
          },
          "hoverlabel": {
           "align": "left"
          },
          "hovermode": "closest",
          "mapbox": {
           "style": "light"
          },
          "paper_bgcolor": "white",
          "plot_bgcolor": "#E5ECF6",
          "polar": {
           "angularaxis": {
            "gridcolor": "white",
            "linecolor": "white",
            "ticks": ""
           },
           "bgcolor": "#E5ECF6",
           "radialaxis": {
            "gridcolor": "white",
            "linecolor": "white",
            "ticks": ""
           }
          },
          "scene": {
           "xaxis": {
            "backgroundcolor": "#E5ECF6",
            "gridcolor": "white",
            "gridwidth": 2,
            "linecolor": "white",
            "showbackground": true,
            "ticks": "",
            "zerolinecolor": "white"
           },
           "yaxis": {
            "backgroundcolor": "#E5ECF6",
            "gridcolor": "white",
            "gridwidth": 2,
            "linecolor": "white",
            "showbackground": true,
            "ticks": "",
            "zerolinecolor": "white"
           },
           "zaxis": {
            "backgroundcolor": "#E5ECF6",
            "gridcolor": "white",
            "gridwidth": 2,
            "linecolor": "white",
            "showbackground": true,
            "ticks": "",
            "zerolinecolor": "white"
           }
          },
          "shapedefaults": {
           "line": {
            "color": "#2a3f5f"
           }
          },
          "ternary": {
           "aaxis": {
            "gridcolor": "white",
            "linecolor": "white",
            "ticks": ""
           },
           "baxis": {
            "gridcolor": "white",
            "linecolor": "white",
            "ticks": ""
           },
           "bgcolor": "#E5ECF6",
           "caxis": {
            "gridcolor": "white",
            "linecolor": "white",
            "ticks": ""
           }
          },
          "title": {
           "x": 0.05
          },
          "xaxis": {
           "automargin": true,
           "gridcolor": "white",
           "linecolor": "white",
           "ticks": "",
           "title": {
            "standoff": 15
           },
           "zerolinecolor": "white",
           "zerolinewidth": 2
          },
          "yaxis": {
           "automargin": true,
           "gridcolor": "white",
           "linecolor": "white",
           "ticks": "",
           "title": {
            "standoff": 15
           },
           "zerolinecolor": "white",
           "zerolinewidth": 2
          }
         }
        },
        "title": {
         "text": "<b>January AI vs. Others</b>",
         "x": 0.5,
         "xanchor": "center"
        },
        "width": 1000,
        "xaxis": {
         "anchor": "y",
         "domain": [
          0,
          0.19
         ],
         "matches": "x29",
         "range": [
          0,
          100
         ],
         "showticklabels": false,
         "ticksuffix": "%"
        },
        "xaxis10": {
         "anchor": "y10",
         "domain": [
          0.27,
          0.46
         ],
         "matches": "x30",
         "range": [
          0,
          100
         ],
         "showticklabels": false,
         "ticksuffix": "%"
        },
        "xaxis11": {
         "anchor": "y11",
         "domain": [
          0.54,
          0.73
         ],
         "matches": "x31",
         "range": [
          0,
          100
         ],
         "showticklabels": false,
         "ticksuffix": "%"
        },
        "xaxis12": {
         "anchor": "y12",
         "domain": [
          0.81,
          1
         ],
         "matches": "x32",
         "range": [
          0,
          100
         ],
         "showticklabels": false,
         "ticksuffix": "%"
        },
        "xaxis13": {
         "anchor": "y13",
         "domain": [
          0,
          0.19
         ],
         "matches": "x29",
         "range": [
          0,
          100
         ],
         "showticklabels": false,
         "ticksuffix": "%"
        },
        "xaxis14": {
         "anchor": "y14",
         "domain": [
          0.27,
          0.46
         ],
         "matches": "x30",
         "range": [
          0,
          100
         ],
         "showticklabels": false,
         "ticksuffix": "%"
        },
        "xaxis15": {
         "anchor": "y15",
         "domain": [
          0.54,
          0.73
         ],
         "matches": "x31",
         "range": [
          0,
          100
         ],
         "showticklabels": false,
         "ticksuffix": "%"
        },
        "xaxis16": {
         "anchor": "y16",
         "domain": [
          0.81,
          1
         ],
         "matches": "x32",
         "range": [
          0,
          100
         ],
         "showticklabels": false,
         "ticksuffix": "%"
        },
        "xaxis17": {
         "anchor": "y17",
         "domain": [
          0,
          0.19
         ],
         "matches": "x29",
         "range": [
          0,
          100
         ],
         "showticklabels": false,
         "ticksuffix": "%"
        },
        "xaxis18": {
         "anchor": "y18",
         "domain": [
          0.27,
          0.46
         ],
         "matches": "x30",
         "range": [
          0,
          100
         ],
         "showticklabels": false,
         "ticksuffix": "%"
        },
        "xaxis19": {
         "anchor": "y19",
         "domain": [
          0.54,
          0.73
         ],
         "matches": "x31",
         "range": [
          0,
          100
         ],
         "showticklabels": false,
         "ticksuffix": "%"
        },
        "xaxis2": {
         "anchor": "y2",
         "domain": [
          0.27,
          0.46
         ],
         "matches": "x30",
         "range": [
          0,
          100
         ],
         "showticklabels": false,
         "ticksuffix": "%"
        },
        "xaxis20": {
         "anchor": "y20",
         "domain": [
          0.81,
          1
         ],
         "matches": "x32",
         "range": [
          0,
          100
         ],
         "showticklabels": false,
         "ticksuffix": "%"
        },
        "xaxis21": {
         "anchor": "y21",
         "domain": [
          0,
          0.19
         ],
         "matches": "x29",
         "range": [
          0,
          100
         ],
         "showticklabels": false,
         "ticksuffix": "%"
        },
        "xaxis22": {
         "anchor": "y22",
         "domain": [
          0.27,
          0.46
         ],
         "matches": "x30",
         "range": [
          0,
          100
         ],
         "showticklabels": false,
         "ticksuffix": "%"
        },
        "xaxis23": {
         "anchor": "y23",
         "domain": [
          0.54,
          0.73
         ],
         "matches": "x31",
         "range": [
          0,
          100
         ],
         "showticklabels": false,
         "ticksuffix": "%"
        },
        "xaxis24": {
         "anchor": "y24",
         "domain": [
          0.81,
          1
         ],
         "matches": "x32",
         "range": [
          0,
          100
         ],
         "showticklabels": false,
         "ticksuffix": "%"
        },
        "xaxis25": {
         "anchor": "y25",
         "domain": [
          0,
          0.19
         ],
         "matches": "x29",
         "range": [
          0,
          100
         ],
         "showticklabels": false,
         "ticksuffix": "%"
        },
        "xaxis26": {
         "anchor": "y26",
         "domain": [
          0.27,
          0.46
         ],
         "matches": "x30",
         "range": [
          0,
          100
         ],
         "showticklabels": false,
         "ticksuffix": "%"
        },
        "xaxis27": {
         "anchor": "y27",
         "domain": [
          0.54,
          0.73
         ],
         "matches": "x31",
         "range": [
          0,
          100
         ],
         "showticklabels": false,
         "ticksuffix": "%"
        },
        "xaxis28": {
         "anchor": "y28",
         "domain": [
          0.81,
          1
         ],
         "matches": "x32",
         "range": [
          0,
          100
         ],
         "showticklabels": false,
         "ticksuffix": "%"
        },
        "xaxis29": {
         "anchor": "y29",
         "domain": [
          0,
          0.19
         ],
         "range": [
          0,
          100
         ],
         "showticklabels": false,
         "ticksuffix": "%"
        },
        "xaxis3": {
         "anchor": "y3",
         "domain": [
          0.54,
          0.73
         ],
         "matches": "x31",
         "range": [
          0,
          100
         ],
         "showticklabels": false,
         "ticksuffix": "%"
        },
        "xaxis30": {
         "anchor": "y30",
         "domain": [
          0.27,
          0.46
         ],
         "range": [
          0,
          100
         ],
         "showticklabels": false,
         "ticksuffix": "%"
        },
        "xaxis31": {
         "anchor": "y31",
         "domain": [
          0.54,
          0.73
         ],
         "range": [
          0,
          100
         ],
         "showticklabels": false,
         "ticksuffix": "%"
        },
        "xaxis32": {
         "anchor": "y32",
         "domain": [
          0.81,
          1
         ],
         "range": [
          0,
          100
         ],
         "showticklabels": false,
         "ticksuffix": "%"
        },
        "xaxis4": {
         "anchor": "y4",
         "domain": [
          0.81,
          1
         ],
         "matches": "x32",
         "range": [
          0,
          100
         ],
         "showticklabels": false,
         "ticksuffix": "%"
        },
        "xaxis5": {
         "anchor": "y5",
         "domain": [
          0,
          0.19
         ],
         "matches": "x29",
         "range": [
          0,
          100
         ],
         "showticklabels": false,
         "ticksuffix": "%"
        },
        "xaxis6": {
         "anchor": "y6",
         "domain": [
          0.27,
          0.46
         ],
         "matches": "x30",
         "range": [
          0,
          100
         ],
         "showticklabels": false,
         "ticksuffix": "%"
        },
        "xaxis7": {
         "anchor": "y7",
         "domain": [
          0.54,
          0.73
         ],
         "matches": "x31",
         "range": [
          0,
          100
         ],
         "showticklabels": false,
         "ticksuffix": "%"
        },
        "xaxis8": {
         "anchor": "y8",
         "domain": [
          0.81,
          1
         ],
         "matches": "x32",
         "range": [
          0,
          100
         ],
         "showticklabels": false,
         "ticksuffix": "%"
        },
        "xaxis9": {
         "anchor": "y9",
         "domain": [
          0,
          0.19
         ],
         "matches": "x29",
         "range": [
          0,
          100
         ],
         "showticklabels": false,
         "ticksuffix": "%"
        },
        "yaxis": {
         "anchor": "x",
         "domain": [
          0.9450000000000001,
          1
         ],
         "showticklabels": false,
         "title": {
          "text": ""
         }
        },
        "yaxis10": {
         "anchor": "x10",
         "domain": [
          0.675,
          0.73
         ],
         "showticklabels": false,
         "title": {
          "text": ""
         }
        },
        "yaxis11": {
         "anchor": "x11",
         "domain": [
          0.675,
          0.73
         ],
         "showticklabels": false,
         "title": {
          "text": ""
         }
        },
        "yaxis12": {
         "anchor": "x12",
         "domain": [
          0.675,
          0.73
         ],
         "showticklabels": false,
         "title": {
          "text": ""
         }
        },
        "yaxis13": {
         "anchor": "x13",
         "domain": [
          0.54,
          0.595
         ],
         "showticklabels": false,
         "title": {
          "text": ""
         }
        },
        "yaxis14": {
         "anchor": "x14",
         "domain": [
          0.54,
          0.595
         ],
         "showticklabels": false,
         "title": {
          "text": ""
         }
        },
        "yaxis15": {
         "anchor": "x15",
         "domain": [
          0.54,
          0.595
         ],
         "showticklabels": false,
         "title": {
          "text": ""
         }
        },
        "yaxis16": {
         "anchor": "x16",
         "domain": [
          0.54,
          0.595
         ],
         "showticklabels": false,
         "title": {
          "text": ""
         }
        },
        "yaxis17": {
         "anchor": "x17",
         "domain": [
          0.40499999999999997,
          0.45999999999999996
         ],
         "showticklabels": false,
         "title": {
          "text": ""
         }
        },
        "yaxis18": {
         "anchor": "x18",
         "domain": [
          0.40499999999999997,
          0.45999999999999996
         ],
         "showticklabels": false,
         "title": {
          "text": ""
         }
        },
        "yaxis19": {
         "anchor": "x19",
         "domain": [
          0.40499999999999997,
          0.45999999999999996
         ],
         "showticklabels": false,
         "title": {
          "text": ""
         }
        },
        "yaxis2": {
         "anchor": "x2",
         "domain": [
          0.9450000000000001,
          1
         ],
         "showticklabels": false,
         "title": {
          "text": ""
         }
        },
        "yaxis20": {
         "anchor": "x20",
         "domain": [
          0.40499999999999997,
          0.45999999999999996
         ],
         "showticklabels": false,
         "title": {
          "text": ""
         }
        },
        "yaxis21": {
         "anchor": "x21",
         "domain": [
          0.27,
          0.325
         ],
         "showticklabels": false,
         "title": {
          "text": ""
         }
        },
        "yaxis22": {
         "anchor": "x22",
         "domain": [
          0.27,
          0.325
         ],
         "showticklabels": false,
         "title": {
          "text": ""
         }
        },
        "yaxis23": {
         "anchor": "x23",
         "domain": [
          0.27,
          0.325
         ],
         "showticklabels": false,
         "title": {
          "text": ""
         }
        },
        "yaxis24": {
         "anchor": "x24",
         "domain": [
          0.27,
          0.325
         ],
         "showticklabels": false,
         "title": {
          "text": ""
         }
        },
        "yaxis25": {
         "anchor": "x25",
         "domain": [
          0.135,
          0.19
         ],
         "showticklabels": false,
         "title": {
          "text": ""
         }
        },
        "yaxis26": {
         "anchor": "x26",
         "domain": [
          0.135,
          0.19
         ],
         "showticklabels": false,
         "title": {
          "text": ""
         }
        },
        "yaxis27": {
         "anchor": "x27",
         "domain": [
          0.135,
          0.19
         ],
         "showticklabels": false,
         "title": {
          "text": ""
         }
        },
        "yaxis28": {
         "anchor": "x28",
         "domain": [
          0.135,
          0.19
         ],
         "showticklabels": false,
         "title": {
          "text": ""
         }
        },
        "yaxis29": {
         "anchor": "x29",
         "domain": [
          0,
          0.05499999999999999
         ],
         "showticklabels": false,
         "title": {
          "text": ""
         }
        },
        "yaxis3": {
         "anchor": "x3",
         "domain": [
          0.9450000000000001,
          1
         ],
         "showticklabels": false,
         "title": {
          "text": ""
         }
        },
        "yaxis30": {
         "anchor": "x30",
         "domain": [
          0,
          0.05499999999999999
         ],
         "showticklabels": false,
         "title": {
          "text": ""
         }
        },
        "yaxis31": {
         "anchor": "x31",
         "domain": [
          0,
          0.05499999999999999
         ],
         "showticklabels": false,
         "title": {
          "text": ""
         }
        },
        "yaxis32": {
         "anchor": "x32",
         "domain": [
          0,
          0.05499999999999999
         ],
         "showticklabels": false,
         "title": {
          "text": ""
         }
        },
        "yaxis4": {
         "anchor": "x4",
         "domain": [
          0.9450000000000001,
          1
         ],
         "showticklabels": false,
         "title": {
          "text": ""
         }
        },
        "yaxis5": {
         "anchor": "x5",
         "domain": [
          0.8099999999999999,
          0.865
         ],
         "showticklabels": false,
         "title": {
          "text": ""
         }
        },
        "yaxis6": {
         "anchor": "x6",
         "domain": [
          0.8099999999999999,
          0.865
         ],
         "showticklabels": false,
         "title": {
          "text": ""
         }
        },
        "yaxis7": {
         "anchor": "x7",
         "domain": [
          0.8099999999999999,
          0.865
         ],
         "showticklabels": false,
         "title": {
          "text": ""
         }
        },
        "yaxis8": {
         "anchor": "x8",
         "domain": [
          0.8099999999999999,
          0.865
         ],
         "showticklabels": false,
         "title": {
          "text": ""
         }
        },
        "yaxis9": {
         "anchor": "x9",
         "domain": [
          0.675,
          0.73
         ],
         "showticklabels": false,
         "title": {
          "text": ""
         }
        }
       }
      }
     },
     "metadata": {},
     "output_type": "display_data"
    },
    {
     "data": {
      "application/vnd.plotly.v1+json": {
       "config": {
        "plotlyServerURL": "https://plot.ly"
       },
       "data": [
        {
         "hovertemplate": "Model=%{x}<br>Composite Score (0-100)=%{text}<extra></extra>",
         "legendgroup": "January AI",
         "marker": {
          "color": "#636EFA",
          "pattern": {
           "shape": ""
          }
         },
         "name": "January AI",
         "orientation": "v",
         "showlegend": true,
         "text": {
          "bdata": "A33Ii6CPVUA=",
          "dtype": "f8"
         },
         "textposition": "outside",
         "texttemplate": "%{text:.2f}",
         "type": "bar",
         "x": [
          "January AI"
         ],
         "xaxis": "x",
         "y": {
          "bdata": "A33Ii6CPVUA=",
          "dtype": "f8"
         },
         "yaxis": "y"
        },
        {
         "hovertemplate": "Model=%{x}<br>Composite Score (0-100)=%{text}<extra></extra>",
         "legendgroup": "gpt-4o (Best)",
         "marker": {
          "color": "#EF553B",
          "pattern": {
           "shape": ""
          }
         },
         "name": "gpt-4o (Best)",
         "orientation": "v",
         "showlegend": true,
         "text": {
          "bdata": "BK4gyluHUkA=",
          "dtype": "f8"
         },
         "textposition": "outside",
         "texttemplate": "%{text:.2f}",
         "type": "bar",
         "x": [
          "gpt-4o (Best)"
         ],
         "xaxis": "x",
         "y": {
          "bdata": "BK4gyluHUkA=",
          "dtype": "f8"
         },
         "yaxis": "y"
        },
        {
         "hovertemplate": "Model=%{x}<br>Composite Score (0-100)=%{text}<extra></extra>",
         "legendgroup": "gpt-4o (Avg)",
         "marker": {
          "color": "#00CC96",
          "pattern": {
           "shape": ""
          }
         },
         "name": "gpt-4o (Avg)",
         "orientation": "v",
         "showlegend": true,
         "text": {
          "bdata": "82dO6QSnUUA=",
          "dtype": "f8"
         },
         "textposition": "outside",
         "texttemplate": "%{text:.2f}",
         "type": "bar",
         "x": [
          "gpt-4o (Avg)"
         ],
         "xaxis": "x",
         "y": {
          "bdata": "82dO6QSnUUA=",
          "dtype": "f8"
         },
         "yaxis": "y"
        },
        {
         "hovertemplate": "Model=%{x}<br>Composite Score (0-100)=%{text}<extra></extra>",
         "legendgroup": "gpt-4o-mini (Best)",
         "marker": {
          "color": "#AB63FA",
          "pattern": {
           "shape": ""
          }
         },
         "name": "gpt-4o-mini (Best)",
         "orientation": "v",
         "showlegend": true,
         "text": {
          "bdata": "/6LgdHecUEA=",
          "dtype": "f8"
         },
         "textposition": "outside",
         "texttemplate": "%{text:.2f}",
         "type": "bar",
         "x": [
          "gpt-4o-mini (Best)"
         ],
         "xaxis": "x",
         "y": {
          "bdata": "/6LgdHecUEA=",
          "dtype": "f8"
         },
         "yaxis": "y"
        },
        {
         "hovertemplate": "Model=%{x}<br>Composite Score (0-100)=%{text}<extra></extra>",
         "legendgroup": "gpt-4o-mini (Avg)",
         "marker": {
          "color": "#FFA15A",
          "pattern": {
           "shape": ""
          }
         },
         "name": "gpt-4o-mini (Avg)",
         "orientation": "v",
         "showlegend": true,
         "text": {
          "bdata": "SrhYb+9dTkA=",
          "dtype": "f8"
         },
         "textposition": "outside",
         "texttemplate": "%{text:.2f}",
         "type": "bar",
         "x": [
          "gpt-4o-mini (Avg)"
         ],
         "xaxis": "x",
         "y": {
          "bdata": "SrhYb+9dTkA=",
          "dtype": "f8"
         },
         "yaxis": "y"
        },
        {
         "hovertemplate": "Model=%{x}<br>Composite Score (0-100)=%{text}<extra></extra>",
         "legendgroup": "gemini-2.5-pro (Best)",
         "marker": {
          "color": "#19D3F3",
          "pattern": {
           "shape": ""
          }
         },
         "name": "gemini-2.5-pro (Best)",
         "orientation": "v",
         "showlegend": true,
         "text": {
          "bdata": "8tFLc2RVTkA=",
          "dtype": "f8"
         },
         "textposition": "outside",
         "texttemplate": "%{text:.2f}",
         "type": "bar",
         "x": [
          "gemini-2.5-pro (Best)"
         ],
         "xaxis": "x",
         "y": {
          "bdata": "8tFLc2RVTkA=",
          "dtype": "f8"
         },
         "yaxis": "y"
        },
        {
         "hovertemplate": "Model=%{x}<br>Composite Score (0-100)=%{text}<extra></extra>",
         "legendgroup": "gemini-2.5-flash (Best)",
         "marker": {
          "color": "#FF6692",
          "pattern": {
           "shape": ""
          }
         },
         "name": "gemini-2.5-flash (Best)",
         "orientation": "v",
         "showlegend": true,
         "text": {
          "bdata": "NCCHVg5TTkA=",
          "dtype": "f8"
         },
         "textposition": "outside",
         "texttemplate": "%{text:.2f}",
         "type": "bar",
         "x": [
          "gemini-2.5-flash (Best)"
         ],
         "xaxis": "x",
         "y": {
          "bdata": "NCCHVg5TTkA=",
          "dtype": "f8"
         },
         "yaxis": "y"
        },
        {
         "hovertemplate": "Model=%{x}<br>Composite Score (0-100)=%{text}<extra></extra>",
         "legendgroup": "gemini-2.5-pro (Avg)",
         "marker": {
          "color": "#B6E880",
          "pattern": {
           "shape": ""
          }
         },
         "name": "gemini-2.5-pro (Avg)",
         "orientation": "v",
         "showlegend": true,
         "text": {
          "bdata": "LDAbkMRfSUA=",
          "dtype": "f8"
         },
         "textposition": "outside",
         "texttemplate": "%{text:.2f}",
         "type": "bar",
         "x": [
          "gemini-2.5-pro (Avg)"
         ],
         "xaxis": "x",
         "y": {
          "bdata": "LDAbkMRfSUA=",
          "dtype": "f8"
         },
         "yaxis": "y"
        },
        {
         "hovertemplate": "Model=%{x}<br>Composite Score (0-100)=%{text}<extra></extra>",
         "legendgroup": "gemini-2.5-flash (Avg)",
         "marker": {
          "color": "#FF97FF",
          "pattern": {
           "shape": ""
          }
         },
         "name": "gemini-2.5-flash (Avg)",
         "orientation": "v",
         "showlegend": true,
         "text": {
          "bdata": "qTEFKl5ESEA=",
          "dtype": "f8"
         },
         "textposition": "outside",
         "texttemplate": "%{text:.2f}",
         "type": "bar",
         "x": [
          "gemini-2.5-flash (Avg)"
         ],
         "xaxis": "x",
         "y": {
          "bdata": "qTEFKl5ESEA=",
          "dtype": "f8"
         },
         "yaxis": "y"
        }
       ],
       "layout": {
        "barmode": "relative",
        "font": {
         "family": "Arial, sans-serif",
         "size": 12
        },
        "legend": {
         "title": {
          "text": "Model"
         },
         "tracegroupgap": 0
        },
        "showlegend": false,
        "template": {
         "data": {
          "bar": [
           {
            "error_x": {
             "color": "#2a3f5f"
            },
            "error_y": {
             "color": "#2a3f5f"
            },
            "marker": {
             "line": {
              "color": "#E5ECF6",
              "width": 0.5
             },
             "pattern": {
              "fillmode": "overlay",
              "size": 10,
              "solidity": 0.2
             }
            },
            "type": "bar"
           }
          ],
          "barpolar": [
           {
            "marker": {
             "line": {
              "color": "#E5ECF6",
              "width": 0.5
             },
             "pattern": {
              "fillmode": "overlay",
              "size": 10,
              "solidity": 0.2
             }
            },
            "type": "barpolar"
           }
          ],
          "carpet": [
           {
            "aaxis": {
             "endlinecolor": "#2a3f5f",
             "gridcolor": "white",
             "linecolor": "white",
             "minorgridcolor": "white",
             "startlinecolor": "#2a3f5f"
            },
            "baxis": {
             "endlinecolor": "#2a3f5f",
             "gridcolor": "white",
             "linecolor": "white",
             "minorgridcolor": "white",
             "startlinecolor": "#2a3f5f"
            },
            "type": "carpet"
           }
          ],
          "choropleth": [
           {
            "colorbar": {
             "outlinewidth": 0,
             "ticks": ""
            },
            "type": "choropleth"
           }
          ],
          "contour": [
           {
            "colorbar": {
             "outlinewidth": 0,
             "ticks": ""
            },
            "colorscale": [
             [
              0,
              "#0d0887"
             ],
             [
              0.1111111111111111,
              "#46039f"
             ],
             [
              0.2222222222222222,
              "#7201a8"
             ],
             [
              0.3333333333333333,
              "#9c179e"
             ],
             [
              0.4444444444444444,
              "#bd3786"
             ],
             [
              0.5555555555555556,
              "#d8576b"
             ],
             [
              0.6666666666666666,
              "#ed7953"
             ],
             [
              0.7777777777777778,
              "#fb9f3a"
             ],
             [
              0.8888888888888888,
              "#fdca26"
             ],
             [
              1,
              "#f0f921"
             ]
            ],
            "type": "contour"
           }
          ],
          "contourcarpet": [
           {
            "colorbar": {
             "outlinewidth": 0,
             "ticks": ""
            },
            "type": "contourcarpet"
           }
          ],
          "heatmap": [
           {
            "colorbar": {
             "outlinewidth": 0,
             "ticks": ""
            },
            "colorscale": [
             [
              0,
              "#0d0887"
             ],
             [
              0.1111111111111111,
              "#46039f"
             ],
             [
              0.2222222222222222,
              "#7201a8"
             ],
             [
              0.3333333333333333,
              "#9c179e"
             ],
             [
              0.4444444444444444,
              "#bd3786"
             ],
             [
              0.5555555555555556,
              "#d8576b"
             ],
             [
              0.6666666666666666,
              "#ed7953"
             ],
             [
              0.7777777777777778,
              "#fb9f3a"
             ],
             [
              0.8888888888888888,
              "#fdca26"
             ],
             [
              1,
              "#f0f921"
             ]
            ],
            "type": "heatmap"
           }
          ],
          "histogram": [
           {
            "marker": {
             "pattern": {
              "fillmode": "overlay",
              "size": 10,
              "solidity": 0.2
             }
            },
            "type": "histogram"
           }
          ],
          "histogram2d": [
           {
            "colorbar": {
             "outlinewidth": 0,
             "ticks": ""
            },
            "colorscale": [
             [
              0,
              "#0d0887"
             ],
             [
              0.1111111111111111,
              "#46039f"
             ],
             [
              0.2222222222222222,
              "#7201a8"
             ],
             [
              0.3333333333333333,
              "#9c179e"
             ],
             [
              0.4444444444444444,
              "#bd3786"
             ],
             [
              0.5555555555555556,
              "#d8576b"
             ],
             [
              0.6666666666666666,
              "#ed7953"
             ],
             [
              0.7777777777777778,
              "#fb9f3a"
             ],
             [
              0.8888888888888888,
              "#fdca26"
             ],
             [
              1,
              "#f0f921"
             ]
            ],
            "type": "histogram2d"
           }
          ],
          "histogram2dcontour": [
           {
            "colorbar": {
             "outlinewidth": 0,
             "ticks": ""
            },
            "colorscale": [
             [
              0,
              "#0d0887"
             ],
             [
              0.1111111111111111,
              "#46039f"
             ],
             [
              0.2222222222222222,
              "#7201a8"
             ],
             [
              0.3333333333333333,
              "#9c179e"
             ],
             [
              0.4444444444444444,
              "#bd3786"
             ],
             [
              0.5555555555555556,
              "#d8576b"
             ],
             [
              0.6666666666666666,
              "#ed7953"
             ],
             [
              0.7777777777777778,
              "#fb9f3a"
             ],
             [
              0.8888888888888888,
              "#fdca26"
             ],
             [
              1,
              "#f0f921"
             ]
            ],
            "type": "histogram2dcontour"
           }
          ],
          "mesh3d": [
           {
            "colorbar": {
             "outlinewidth": 0,
             "ticks": ""
            },
            "type": "mesh3d"
           }
          ],
          "parcoords": [
           {
            "line": {
             "colorbar": {
              "outlinewidth": 0,
              "ticks": ""
             }
            },
            "type": "parcoords"
           }
          ],
          "pie": [
           {
            "automargin": true,
            "type": "pie"
           }
          ],
          "scatter": [
           {
            "fillpattern": {
             "fillmode": "overlay",
             "size": 10,
             "solidity": 0.2
            },
            "type": "scatter"
           }
          ],
          "scatter3d": [
           {
            "line": {
             "colorbar": {
              "outlinewidth": 0,
              "ticks": ""
             }
            },
            "marker": {
             "colorbar": {
              "outlinewidth": 0,
              "ticks": ""
             }
            },
            "type": "scatter3d"
           }
          ],
          "scattercarpet": [
           {
            "marker": {
             "colorbar": {
              "outlinewidth": 0,
              "ticks": ""
             }
            },
            "type": "scattercarpet"
           }
          ],
          "scattergeo": [
           {
            "marker": {
             "colorbar": {
              "outlinewidth": 0,
              "ticks": ""
             }
            },
            "type": "scattergeo"
           }
          ],
          "scattergl": [
           {
            "marker": {
             "colorbar": {
              "outlinewidth": 0,
              "ticks": ""
             }
            },
            "type": "scattergl"
           }
          ],
          "scattermap": [
           {
            "marker": {
             "colorbar": {
              "outlinewidth": 0,
              "ticks": ""
             }
            },
            "type": "scattermap"
           }
          ],
          "scattermapbox": [
           {
            "marker": {
             "colorbar": {
              "outlinewidth": 0,
              "ticks": ""
             }
            },
            "type": "scattermapbox"
           }
          ],
          "scatterpolar": [
           {
            "marker": {
             "colorbar": {
              "outlinewidth": 0,
              "ticks": ""
             }
            },
            "type": "scatterpolar"
           }
          ],
          "scatterpolargl": [
           {
            "marker": {
             "colorbar": {
              "outlinewidth": 0,
              "ticks": ""
             }
            },
            "type": "scatterpolargl"
           }
          ],
          "scatterternary": [
           {
            "marker": {
             "colorbar": {
              "outlinewidth": 0,
              "ticks": ""
             }
            },
            "type": "scatterternary"
           }
          ],
          "surface": [
           {
            "colorbar": {
             "outlinewidth": 0,
             "ticks": ""
            },
            "colorscale": [
             [
              0,
              "#0d0887"
             ],
             [
              0.1111111111111111,
              "#46039f"
             ],
             [
              0.2222222222222222,
              "#7201a8"
             ],
             [
              0.3333333333333333,
              "#9c179e"
             ],
             [
              0.4444444444444444,
              "#bd3786"
             ],
             [
              0.5555555555555556,
              "#d8576b"
             ],
             [
              0.6666666666666666,
              "#ed7953"
             ],
             [
              0.7777777777777778,
              "#fb9f3a"
             ],
             [
              0.8888888888888888,
              "#fdca26"
             ],
             [
              1,
              "#f0f921"
             ]
            ],
            "type": "surface"
           }
          ],
          "table": [
           {
            "cells": {
             "fill": {
              "color": "#EBF0F8"
             },
             "line": {
              "color": "white"
             }
            },
            "header": {
             "fill": {
              "color": "#C8D4E3"
             },
             "line": {
              "color": "white"
             }
            },
            "type": "table"
           }
          ]
         },
         "layout": {
          "annotationdefaults": {
           "arrowcolor": "#2a3f5f",
           "arrowhead": 0,
           "arrowwidth": 1
          },
          "autotypenumbers": "strict",
          "coloraxis": {
           "colorbar": {
            "outlinewidth": 0,
            "ticks": ""
           }
          },
          "colorscale": {
           "diverging": [
            [
             0,
             "#8e0152"
            ],
            [
             0.1,
             "#c51b7d"
            ],
            [
             0.2,
             "#de77ae"
            ],
            [
             0.3,
             "#f1b6da"
            ],
            [
             0.4,
             "#fde0ef"
            ],
            [
             0.5,
             "#f7f7f7"
            ],
            [
             0.6,
             "#e6f5d0"
            ],
            [
             0.7,
             "#b8e186"
            ],
            [
             0.8,
             "#7fbc41"
            ],
            [
             0.9,
             "#4d9221"
            ],
            [
             1,
             "#276419"
            ]
           ],
           "sequential": [
            [
             0,
             "#0d0887"
            ],
            [
             0.1111111111111111,
             "#46039f"
            ],
            [
             0.2222222222222222,
             "#7201a8"
            ],
            [
             0.3333333333333333,
             "#9c179e"
            ],
            [
             0.4444444444444444,
             "#bd3786"
            ],
            [
             0.5555555555555556,
             "#d8576b"
            ],
            [
             0.6666666666666666,
             "#ed7953"
            ],
            [
             0.7777777777777778,
             "#fb9f3a"
            ],
            [
             0.8888888888888888,
             "#fdca26"
            ],
            [
             1,
             "#f0f921"
            ]
           ],
           "sequentialminus": [
            [
             0,
             "#0d0887"
            ],
            [
             0.1111111111111111,
             "#46039f"
            ],
            [
             0.2222222222222222,
             "#7201a8"
            ],
            [
             0.3333333333333333,
             "#9c179e"
            ],
            [
             0.4444444444444444,
             "#bd3786"
            ],
            [
             0.5555555555555556,
             "#d8576b"
            ],
            [
             0.6666666666666666,
             "#ed7953"
            ],
            [
             0.7777777777777778,
             "#fb9f3a"
            ],
            [
             0.8888888888888888,
             "#fdca26"
            ],
            [
             1,
             "#f0f921"
            ]
           ]
          },
          "colorway": [
           "#636efa",
           "#EF553B",
           "#00cc96",
           "#ab63fa",
           "#FFA15A",
           "#19d3f3",
           "#FF6692",
           "#B6E880",
           "#FF97FF",
           "#FECB52"
          ],
          "font": {
           "color": "#2a3f5f"
          },
          "geo": {
           "bgcolor": "white",
           "lakecolor": "white",
           "landcolor": "#E5ECF6",
           "showlakes": true,
           "showland": true,
           "subunitcolor": "white"
          },
          "hoverlabel": {
           "align": "left"
          },
          "hovermode": "closest",
          "mapbox": {
           "style": "light"
          },
          "paper_bgcolor": "white",
          "plot_bgcolor": "#E5ECF6",
          "polar": {
           "angularaxis": {
            "gridcolor": "white",
            "linecolor": "white",
            "ticks": ""
           },
           "bgcolor": "#E5ECF6",
           "radialaxis": {
            "gridcolor": "white",
            "linecolor": "white",
            "ticks": ""
           }
          },
          "scene": {
           "xaxis": {
            "backgroundcolor": "#E5ECF6",
            "gridcolor": "white",
            "gridwidth": 2,
            "linecolor": "white",
            "showbackground": true,
            "ticks": "",
            "zerolinecolor": "white"
           },
           "yaxis": {
            "backgroundcolor": "#E5ECF6",
            "gridcolor": "white",
            "gridwidth": 2,
            "linecolor": "white",
            "showbackground": true,
            "ticks": "",
            "zerolinecolor": "white"
           },
           "zaxis": {
            "backgroundcolor": "#E5ECF6",
            "gridcolor": "white",
            "gridwidth": 2,
            "linecolor": "white",
            "showbackground": true,
            "ticks": "",
            "zerolinecolor": "white"
           }
          },
          "shapedefaults": {
           "line": {
            "color": "#2a3f5f"
           }
          },
          "ternary": {
           "aaxis": {
            "gridcolor": "white",
            "linecolor": "white",
            "ticks": ""
           },
           "baxis": {
            "gridcolor": "white",
            "linecolor": "white",
            "ticks": ""
           },
           "bgcolor": "#E5ECF6",
           "caxis": {
            "gridcolor": "white",
            "linecolor": "white",
            "ticks": ""
           }
          },
          "title": {
           "x": 0.05
          },
          "xaxis": {
           "automargin": true,
           "gridcolor": "white",
           "linecolor": "white",
           "ticks": "",
           "title": {
            "standoff": 15
           },
           "zerolinecolor": "white",
           "zerolinewidth": 2
          },
          "yaxis": {
           "automargin": true,
           "gridcolor": "white",
           "linecolor": "white",
           "ticks": "",
           "title": {
            "standoff": 15
           },
           "zerolinecolor": "white",
           "zerolinewidth": 2
          }
         }
        },
        "title": {
         "font": {
          "family": "Arial Black",
          "size": 20
         },
         "text": "<b>Overall Score</b>",
         "x": 0.5
        },
        "uniformtext": {
         "minsize": 8,
         "mode": "hide"
        },
        "xaxis": {
         "anchor": "y",
         "categoryarray": [
          "January AI",
          "gpt-4o (Best)",
          "gpt-4o (Avg)",
          "gpt-4o-mini (Best)",
          "gpt-4o-mini (Avg)",
          "gemini-2.5-pro (Best)",
          "gemini-2.5-flash (Best)",
          "gemini-2.5-pro (Avg)",
          "gemini-2.5-flash (Avg)"
         ],
         "categoryorder": "array",
         "domain": [
          0,
          1
         ],
         "tickangle": -45,
         "title": {}
        },
        "yaxis": {
         "anchor": "x",
         "domain": [
          0,
          1
         ],
         "range": [
          0,
          99.18080004468706
         ],
         "title": {
          "text": "Composite Score (0-100)"
         }
        }
       }
      }
     },
     "metadata": {},
     "output_type": "display_data"
    },
    {
     "name": "stdout",
     "output_type": "stream",
     "text": [
      "Exporting detailed report to benchmark_results.csv...\n",
      "Export complete.\n"
     ]
    }
   ],
   "source": [
    "analyzer = BenchmarkAnalyzer(results_df)\n",
    "\n",
    "analyzer.summary_statistics()\n",
    "analyzer.create_performance_dashboard()\n",
    "analyzer.create_win_loss_analysis(baseline_model_name=\"january/food-vision-v1\")\n",
    "analyzer.plot_overall_score()\n",
    "\n",
    "analyzer.export_detailed_report(BENCHMARK_CONFIG[\"report_filename\"])\n",
    "\n",
    "# display(results_df.head())"
   ]
  }
 ],
 "metadata": {
  "kernelspec": {
   "display_name": ".venv",
   "language": "python",
   "name": "python3"
  },
  "language_info": {
   "codemirror_mode": {
    "name": "ipython",
    "version": 3
   },
   "file_extension": ".py",
   "mimetype": "text/x-python",
   "name": "python",
   "nbconvert_exporter": "python",
   "pygments_lexer": "ipython3",
   "version": "3.12.9"
  }
 },
 "nbformat": 4,
 "nbformat_minor": 5
}

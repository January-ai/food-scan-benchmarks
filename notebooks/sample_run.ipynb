{
 "cells": [
  {
   "cell_type": "markdown",
   "id": "f3f5fa9b",
   "metadata": {},
   "source": [
    "# Food Scan Benchmark\n"
   ]
  },
  {
   "cell_type": "markdown",
   "id": "a4f3b78b",
   "metadata": {},
   "source": [
    "This notebook provides a complete, end-to-end workflow for benchmarking Multimodal Large Language Models (MLLMs) on January's food image dataset (JFID).\n",
    "\n",
    "**The process is as follows:**\n",
    "\n",
    "1.  **Setup:** Install dependencies and configure API keys.\n",
    "2.  **Define Components:** Set up Pydantic schemas, the dataset loader, the model wrapper, and evaluation metrics.\n",
    "3.  **Run Evaluation:** Loop through the dataset, send images to a chosen MLLM, and collect predictions.\n",
    "4.  **Analyze Results:** Calculate metrics and summarize the model's performance.\n",
    "\n",
    "The dataset is downloaded from a public S3 bucket and cached locally.\n"
   ]
  },
  {
   "cell_type": "markdown",
   "id": "6d0dd8db",
   "metadata": {},
   "source": [
    "## Setup\n"
   ]
  },
  {
   "cell_type": "markdown",
   "id": "c85827fa",
   "metadata": {},
   "source": [
    "Add your API keys to the environment:\n",
    "\n",
    "```\n",
    "echo OPENAI_API_KEY=\"sk-...\"\n",
    "echo GEMINI_API_KEY=\"...\"\n",
    "```\n"
   ]
  },
  {
   "cell_type": "code",
   "execution_count": 2,
   "id": "374df0de",
   "metadata": {},
   "outputs": [
    {
     "name": "stdout",
     "output_type": "stream",
     "text": [
      "/Users/amirhosseinian/January/food-scan-benchmarks/.venv/bin/python: No module named pip\n",
      "Note: you may need to restart the kernel to use updated packages.\n"
     ]
    }
   ],
   "source": [
    "# Install packages\n",
    "%pip install --upgrade litellm boto3 pandas tqdm python-dotenv pydantic tabulate openai scikit-learn scipy plotly openpyxl"
   ]
  },
  {
   "cell_type": "markdown",
   "id": "d47337d0",
   "metadata": {},
   "source": [
    "## Imports\n"
   ]
  },
  {
   "cell_type": "code",
   "execution_count": 27,
   "id": "679a9d47",
   "metadata": {},
   "outputs": [],
   "source": [
    "from scipy import stats\n",
    "import plotly.express as px\n",
    "import plotly.graph_objects as go\n",
    "from plotly.subplots import make_subplots\n",
    "import warnings\n",
    "from pydantic import BaseModel, Field\n",
    "from typing import List\n",
    "import openai\n",
    "from sklearn.metrics.pairwise import cosine_similarity\n",
    "from scipy.optimize import linear_sum_assignment\n",
    "import hashlib\n",
    "import pandas as pd\n",
    "import numpy as np\n",
    "import ast\n",
    "import boto3\n",
    "from botocore import UNSIGNED\n",
    "from botocore.client import Config\n",
    "import tarfile\n",
    "import litellm\n",
    "from litellm.exceptions import APIError\n",
    "from typing import Optional\n",
    "import json\n",
    "import base64\n",
    "from pathlib import Path\n",
    "from tqdm.auto import tqdm\n",
    "import asyncio\n",
    "import time\n",
    "from typing import Union, Tuple\n",
    "from difflib import SequenceMatcher\n",
    "\n",
    "warnings.filterwarnings(\"ignore\")"
   ]
  },
  {
   "cell_type": "markdown",
   "id": "0107115d",
   "metadata": {},
   "source": [
    "## Core Components\n"
   ]
  },
  {
   "cell_type": "markdown",
   "id": "4789e0b5",
   "metadata": {},
   "source": [
    "### Schema Definition\n"
   ]
  },
  {
   "cell_type": "code",
   "execution_count": 4,
   "id": "570dc178",
   "metadata": {},
   "outputs": [],
   "source": [
    "class Ingredient(BaseModel):\n",
    "    name: str = Field(description=\"Name of the ingredient, e.g., 'scrambled eggs'\")\n",
    "    quantity: float = Field(description=\"Numerical quantity of the ingredient\")\n",
    "    unit: str = Field(description=\"Unit of measurement, e.g., 'cup', 'slice', 'g'\")\n",
    "    calories: float = Field(description=\"Estimated calories for this ingredient\")\n",
    "    carbs: float = Field(\n",
    "        description=\"Estimated grams of carbohydrates for this ingredient\"\n",
    "    )\n",
    "    protein: float = Field(description=\"Estimated grams of protein for this ingredient\")\n",
    "    fat: float = Field(description=\"Estimated grams of fat for this ingredient\")\n",
    "\n",
    "\n",
    "class TotalMacros(BaseModel):\n",
    "    calories: float = Field(description=\"Total estimated calories for the entire meal\")\n",
    "    carbs: float = Field(\n",
    "        description=\"Total estimated grams of carbohydrates for the entire meal\"\n",
    "    )\n",
    "    protein: float = Field(\n",
    "        description=\"Total estimated grams of protein for the entire meal\"\n",
    "    )\n",
    "    fat: float = Field(description=\"Total estimated grams of fat for the entire meal\")\n",
    "\n",
    "\n",
    "class FoodAnalysis(BaseModel):\n",
    "    meal_name: str = Field(\n",
    "        description=\"A descriptive name for the meal, e.g., 'Breakfast Platter'\"\n",
    "    )\n",
    "    ingredients: List[Ingredient] = Field(\n",
    "        description=\"A list of all identified ingredients and their nutritional information\"\n",
    "    )\n",
    "    total_macros: TotalMacros = Field(\n",
    "        description=\"The sum of macros for all ingredients\"\n",
    "    )\n"
   ]
  },
  {
   "cell_type": "markdown",
   "id": "3985a2ca",
   "metadata": {},
   "source": [
    "### Model Costs Configuration\n"
   ]
  },
  {
   "cell_type": "code",
   "execution_count": 5,
   "id": "eab56aef",
   "metadata": {},
   "outputs": [],
   "source": [
    "MODEL_COSTS = {\n",
    "    \"gpt-4.1\": {\"input\": 2.00, \"output\": 8.00},\n",
    "    \"gpt-4o\": {\"input\": 2.50, \"output\": 10.00},\n",
    "    \"gpt-4o-mini\": {\"input\": 0.15, \"output\": 0.60},\n",
    "    \"gemini/gemini-2.5-flash-preview-05-20\": {\"input\": 0.15, \"output\": 0.60},\n",
    "    \"gemini/gemini-2.5-pro-preview-06-05\": {\"input\": 1.25, \"output\": 10.00},\n",
    "}\n",
    "\n",
    "\n",
    "def calculate_cost(model_name: str, input_tokens: int, output_tokens: int) -> float:\n",
    "    \"\"\"Calculate the cost for a model based on token usage.\"\"\"\n",
    "    if model_name not in MODEL_COSTS:\n",
    "        return 0.0\n",
    "\n",
    "    costs = MODEL_COSTS[model_name]\n",
    "    input_cost = (input_tokens / 1_000_000) * costs[\"input\"]\n",
    "    output_cost = (output_tokens / 1_000_000) * costs[\"output\"]\n",
    "    return round(input_cost + output_cost, 6)"
   ]
  },
  {
   "cell_type": "code",
   "execution_count": 6,
   "id": "3eab9d8d",
   "metadata": {},
   "outputs": [],
   "source": [
    "# helper function\n",
    "def img2b64(path: Path) -> str:\n",
    "    \"\"\"Converts an image file to a base64 encoded string for API calls.\"\"\"\n",
    "    encoded = base64.b64encode(path.read_bytes()).decode()\n",
    "    return f\"data:image/jpeg;base64,{encoded}\""
   ]
  },
  {
   "cell_type": "markdown",
   "id": "a4438935",
   "metadata": {},
   "source": [
    "### Dataset Class\n"
   ]
  },
  {
   "cell_type": "code",
   "execution_count": 7,
   "id": "fe960109",
   "metadata": {},
   "outputs": [],
   "source": [
    "class FoodScanDataset:\n",
    "    \"\"\"Handles downloading, caching, and loading the food dataset.\"\"\"\n",
    "\n",
    "    _S3_BUCKET = \"january-food-image-dataset-public\"\n",
    "    _S3_KEY = \"food-scan-benchmark-dataset.tar.gz\"\n",
    "\n",
    "    def __init__(self, root: Path):\n",
    "        self.root = root.expanduser()\n",
    "        self.img_dir = self.root / \"food-scan-benchmark-dataset\" / \"fsb_images\"\n",
    "        self.csv_path = (\n",
    "            self.root / \"food-scan-benchmark-dataset\" / \"food_scan_bench_v1.csv\"\n",
    "        )\n",
    "\n",
    "        if not self.csv_path.exists():\n",
    "            self._download_and_extract()\n",
    "\n",
    "        self.df = pd.read_csv(self.csv_path)\n",
    "\n",
    "    def _download_and_extract(self):\n",
    "        print(f\"Dataset not found in {self.root}. Downloading from S3...\")\n",
    "        self.root.mkdir(parents=True, exist_ok=True)\n",
    "        local_archive = self.root / \"fsb.tar.gz\"\n",
    "\n",
    "        s3 = boto3.client(\n",
    "            \"s3\",\n",
    "            config=Config(signature_version=UNSIGNED),\n",
    "        )\n",
    "        with open(local_archive, \"wb\") as f:\n",
    "            s3.download_fileobj(self._S3_BUCKET, self._S3_KEY, f)\n",
    "\n",
    "        print(\"Download complete. Extracting...\")\n",
    "        with tarfile.open(local_archive) as tar:\n",
    "            tar.extractall(path=self.root)\n",
    "        local_archive.unlink()\n",
    "        print(\"Extraction complete.\")\n",
    "\n",
    "    def __len__(self):\n",
    "        return len(self.df)\n",
    "\n",
    "    def __getitem__(self, idx: int):\n",
    "        row = self.df.iloc[idx]\n",
    "        img_path = self.img_dir / row.image_filename\n",
    "\n",
    "        try:\n",
    "            ingredients = ast.literal_eval(row.ingredients_list)\n",
    "        except (ValueError, SyntaxError):\n",
    "            ingredients = []\n",
    "\n",
    "        return {\n",
    "            \"image_id\": row.image_id,\n",
    "            \"image_path\": img_path,\n",
    "            \"gt\": {\n",
    "                \"meal_name\": row.meal_name,\n",
    "                \"ingredients\": ingredients,\n",
    "                \"macros\": {\n",
    "                    \"calories\": row.total_calories,\n",
    "                    \"carbs\": row.total_carbs,\n",
    "                    \"protein\": row.total_protein,\n",
    "                    \"fat\": row.total_fat,\n",
    "                },\n",
    "            },\n",
    "        }"
   ]
  },
  {
   "cell_type": "markdown",
   "id": "af0756e7",
   "metadata": {},
   "source": [
    "### Model Wrapper\n"
   ]
  },
  {
   "cell_type": "code",
   "execution_count": 28,
   "id": "0490690c",
   "metadata": {},
   "outputs": [],
   "source": [
    "class LiteModel:\n",
    "    \"\"\"A robust wrapper around any LiteLLM-supported vision model with prompt engineering options.\"\"\"\n",
    "\n",
    "    PROMPT_VARIANTS = {\n",
    "        \"detailed\": \"You are an expert nutritionist with 20 years of experience. Analyze this food image very carefully and provide the most accurate breakdown possible. Consider portion sizes, cooking methods, and hidden ingredients.\",\n",
    "        \"step_by_step\": \"You are an expert nutritionist. Please analyze this image step by step: 1) First identify all visible food items, 2) Estimate portion sizes, 3) Calculate nutritional content for each item, 4) Sum the totals. Be precise and systematic.\",\n",
    "        \"conservative\": \"You are a conservative nutritionist who prefers to underestimate rather than overestimate. Analyze this food image and provide a realistic, slightly conservative nutritional breakdown.\",\n",
    "        \"confident\": \"You are a highly confident nutritionist. Analyze this food image and provide your best estimate of the nutritional content. Trust your expertise.\",\n",
    "    }\n",
    "\n",
    "    def __init__(self, model_name: str, prompt_variant=\"detailed\", **litellm_kwargs):\n",
    "        self.model_name = model_name\n",
    "        self.kwargs = litellm_kwargs\n",
    "        self.prompt_variant = prompt_variant\n",
    "        self.system_prompt = self.PROMPT_VARIANTS.get(\n",
    "            prompt_variant, self.PROMPT_VARIANTS[\"detailed\"]\n",
    "        )\n",
    "\n",
    "    async def analyse(self, img_path: Path) -> Tuple[Optional[dict], Optional[str]]:\n",
    "        \"\"\"\n",
    "        Analyzes an image and returns a structured dict with cost info, or None and an error message on failure.\n",
    "\n",
    "        Returns:\n",
    "            Tuple[Optional[dict], Optional[str]]: A tuple of (result, error_message).\n",
    "                                                  On success, result is a dict and error_message is None.\n",
    "                                                  On failure, result is None and error_message is a string.\n",
    "        \"\"\"\n",
    "        b64_img = img2b64(img_path)\n",
    "\n",
    "        messages = [\n",
    "            {\"role\": \"system\", \"content\": self.system_prompt},\n",
    "            {\n",
    "                \"role\": \"user\",\n",
    "                \"content\": [\n",
    "                    {\n",
    "                        \"type\": \"text\",\n",
    "                        \"text\": \"Analyze this food image and provide a detailed nutritional breakdown. Include: meal name, all ingredients with quantities/units, and complete macro information (calories, carbs, protein, fat) for each ingredient and the total meal.\",\n",
    "                    },\n",
    "                    {\"type\": \"image_url\", \"image_url\": {\"url\": b64_img}},\n",
    "                ],\n",
    "            },\n",
    "        ]\n",
    "\n",
    "        try:\n",
    "            resp = await litellm.acompletion(\n",
    "                model=self.model_name,\n",
    "                messages=messages,\n",
    "                response_format=FoodAnalysis,\n",
    "                temperature=0.0,\n",
    "                **self.kwargs,\n",
    "            )\n",
    "            raw = resp.choices[0].message.content.strip()\n",
    "            data = json.loads(raw)\n",
    "\n",
    "            usage = resp.usage\n",
    "            input_tokens = usage.prompt_tokens if usage else 0\n",
    "            output_tokens = usage.completion_tokens if usage else 0\n",
    "            cost = calculate_cost(self.model_name, input_tokens, output_tokens)\n",
    "\n",
    "            result = FoodAnalysis(**data).model_dump()\n",
    "            result[\"cost_usd\"] = cost\n",
    "            result[\"prompt_variant\"] = self.prompt_variant\n",
    "\n",
    "            return result, None\n",
    "\n",
    "        except APIError as e:\n",
    "            error_msg = f\"API Error: {e}\"\n",
    "            print(f\"{error_msg} for {img_path.name}\")\n",
    "            return None, error_msg\n",
    "        except Exception as e:\n",
    "            error_msg = f\"Unexpected Error: {e}\"\n",
    "            print(f\"{error_msg} for {img_path.name}\")\n",
    "            return None, error_msg"
   ]
  },
  {
   "cell_type": "markdown",
   "id": "df61fcca",
   "metadata": {},
   "source": [
    "### Metrics\n"
   ]
  },
  {
   "cell_type": "code",
   "execution_count": 19,
   "id": "eedcffba",
   "metadata": {},
   "outputs": [],
   "source": [
    "class Metrics:\n",
    "    \"\"\"Comprehensive metrics for food analysis evaluation.\"\"\"\n",
    "\n",
    "    _embedding_cache = {}\n",
    "\n",
    "    @staticmethod\n",
    "    def _normalize_ingredient_list(ingredients: Union[str, list, None]) -> List[dict]:\n",
    "        \"\"\"\n",
    "        IMPROVEMENT: Centralized cleanup function.\n",
    "        Safely parses ingredient data which might be a string representation of a list.\n",
    "        This avoids repeating the same try-except block in multiple metric functions.\n",
    "        \"\"\"\n",
    "        if not ingredients:\n",
    "            return []\n",
    "        if isinstance(ingredients, list):\n",
    "            return ingredients\n",
    "        if isinstance(ingredients, str):\n",
    "            try:\n",
    "                parsed = ast.literal_eval(ingredients)\n",
    "                return parsed if isinstance(parsed, list) else []\n",
    "            except (ValueError, SyntaxError):\n",
    "                return []\n",
    "        return []\n",
    "\n",
    "    @staticmethod\n",
    "    async def get_embedding(text, model=\"text-embedding-3-small\"):\n",
    "        \"\"\"Get OpenAI embedding with caching.\"\"\"\n",
    "        cache_key = hashlib.md5(f\"{text}_{model}\".encode()).hexdigest()\n",
    "        if cache_key in Metrics._embedding_cache:\n",
    "            return Metrics._embedding_cache[cache_key]\n",
    "        try:\n",
    "            client = openai.AsyncOpenAI()\n",
    "            response = await client.embeddings.create(model=model, input=text.strip())\n",
    "            embedding = response.data[0].embedding\n",
    "            Metrics._embedding_cache[cache_key] = embedding\n",
    "            return embedding\n",
    "        except Exception as e:\n",
    "            print(f\"Error getting embedding for '{text}': {e}\")\n",
    "            return [0.0] * 1536\n",
    "\n",
    "    @staticmethod\n",
    "    async def semantic_ingredient_match_embeddings(\n",
    "        gt_ingredients, pred_ingredients, threshold=0.75\n",
    "    ):\n",
    "        \"\"\"Semantic ingredient matching using OpenAI embeddings and cosine similarity.\"\"\"\n",
    "        # SIMPLIFICATION: Use the centralized normalization function\n",
    "        gt_ingredients = Metrics._normalize_ingredient_list(gt_ingredients)\n",
    "        pred_ingredients = Metrics._normalize_ingredient_list(pred_ingredients)\n",
    "\n",
    "        def normalize_name(item):\n",
    "            return str(item.get(\"name\", \"\")).lower().strip()\n",
    "\n",
    "        gt_names = [normalize_name(x) for x in gt_ingredients if normalize_name(x)]\n",
    "        pred_names = [normalize_name(x) for x in pred_ingredients if normalize_name(x)]\n",
    "\n",
    "        if not gt_names and not pred_names:\n",
    "            return 1.0, []\n",
    "        if not gt_names or not pred_names:\n",
    "            return 0.0, []\n",
    "\n",
    "        gt_embeddings = await asyncio.gather(\n",
    "            *(Metrics.get_embedding(name) for name in gt_names)\n",
    "        )\n",
    "        pred_embeddings = await asyncio.gather(\n",
    "            *(Metrics.get_embedding(name) for name in pred_names)\n",
    "        )\n",
    "\n",
    "        gt_embeddings = [emb for emb in gt_embeddings if emb and len(emb) > 1]\n",
    "        pred_embeddings = [emb for emb in pred_embeddings if emb and len(emb) > 1]\n",
    "\n",
    "        if not gt_embeddings or not pred_embeddings:\n",
    "            return 0.0, []\n",
    "\n",
    "        similarity_matrix = cosine_similarity(gt_embeddings, pred_embeddings)\n",
    "        cost_matrix = 1 - similarity_matrix\n",
    "        row_indices, col_indices = linear_sum_assignment(cost_matrix)\n",
    "\n",
    "        matches = 0\n",
    "        match_details = []\n",
    "        for row_idx, col_idx in zip(row_indices, col_indices):\n",
    "            similarity = similarity_matrix[row_idx, col_idx]\n",
    "            if similarity >= threshold:\n",
    "                matches += 1\n",
    "                match_details.append(\n",
    "                    {\n",
    "                        \"gt_ingredient\": gt_names[row_idx],\n",
    "                        \"pred_ingredient\": pred_names[col_idx],\n",
    "                        \"similarity\": similarity,\n",
    "                    }\n",
    "                )\n",
    "\n",
    "        recall = matches / len(gt_names)\n",
    "        return recall, match_details\n",
    "\n",
    "    @staticmethod\n",
    "    def semantic_ingredient_match(gt_ingredients, pred_ingredients, threshold=0.7):\n",
    "        \"\"\"Fallback method using string similarity.\"\"\"\n",
    "        # SIMPLIFICATION: Use the centralized normalization function\n",
    "        gt_ingredients = Metrics._normalize_ingredient_list(gt_ingredients)\n",
    "        pred_ingredients = Metrics._normalize_ingredient_list(pred_ingredients)\n",
    "\n",
    "        def normalize_name(item):\n",
    "            name_str = item.get(\"name\", \"\") if isinstance(item, dict) else item\n",
    "            return str(name_str).lower().strip().replace(\"-\", \" \").replace(\"_\", \" \")\n",
    "\n",
    "        gt_names = [normalize_name(x) for x in gt_ingredients if normalize_name(x)]\n",
    "        pred_names = [normalize_name(x) for x in pred_ingredients if normalize_name(x)]\n",
    "\n",
    "        if not gt_names:\n",
    "            return 1.0 if not pred_names else 0.0\n",
    "\n",
    "        matches = 0\n",
    "        for gt_name in gt_names:\n",
    "            if pred_names:\n",
    "                best_match = max(\n",
    "                    SequenceMatcher(None, gt_name, pred_name).ratio()\n",
    "                    for pred_name in pred_names\n",
    "                )\n",
    "                if best_match >= threshold:\n",
    "                    matches += 1\n",
    "\n",
    "        return matches / len(gt_names)\n",
    "\n",
    "    @staticmethod\n",
    "    def ingredients_f1(gt, pred):\n",
    "        \"\"\"F-score on ingredient names (case-insensitive).\"\"\"\n",
    "        # SIMPLIFICATION: Use the centralized normalization function\n",
    "        gt_list = Metrics._normalize_ingredient_list(gt)\n",
    "        pred_list = Metrics._normalize_ingredient_list(pred)\n",
    "\n",
    "        def _name(x):\n",
    "            return (\n",
    "                str(x.get(\"name\", \"\")).lower().strip()\n",
    "                if isinstance(x, dict)\n",
    "                else str(x).lower().strip()\n",
    "            )\n",
    "\n",
    "        g_names = {_name(x) for x in gt_list if _name(x)}\n",
    "        p_names = {_name(x) for x in pred_list if _name(x)}\n",
    "\n",
    "        if not g_names and not p_names:\n",
    "            return 1.0\n",
    "        if not g_names or not p_names:\n",
    "            return 0.0\n",
    "\n",
    "        tp = len(g_names & p_names)\n",
    "        if tp == 0:\n",
    "            return 0.0\n",
    "\n",
    "        precision = tp / len(p_names)\n",
    "        recall = tp / len(g_names)\n",
    "        return 2 * precision * recall / (precision + recall)\n",
    "\n",
    "    @staticmethod\n",
    "    def macro_mae(gt_mac: dict, pred_mac: dict):\n",
    "        \"\"\"Calculates Mean Absolute Error over the four main macros.\"\"\"\n",
    "        keys = [\"calories\", \"carbs\", \"protein\", \"fat\"]\n",
    "        errors = [abs(gt_mac.get(k, 0) - pred_mac.get(k, 0)) for k in keys]\n",
    "        return float(np.mean(errors))\n",
    "\n",
    "    @staticmethod\n",
    "    def macro_percentage_error(gt_mac, pred_mac):\n",
    "        \"\"\"Calculate percentage error for each macro.\"\"\"\n",
    "        keys = [\"calories\", \"carbs\", \"protein\", \"fat\"]\n",
    "        errors = {}\n",
    "        for key in keys:\n",
    "            gt_val = gt_mac.get(key, 0)\n",
    "            pred_val = pred_mac.get(key, 0)\n",
    "            if gt_val > 0:\n",
    "                errors[key] = abs(gt_val - pred_val) / gt_val * 100\n",
    "            else:\n",
    "                errors[key] = 0 if pred_val == 0 else 100\n",
    "        return errors\n",
    "\n",
    "    @staticmethod\n",
    "    def ingredient_count_accuracy(gt_ingredients, pred_ingredients):\n",
    "        \"\"\"How well does the model predict the number of ingredients?\"\"\"\n",
    "        gt_count = len(Metrics._normalize_ingredient_list(gt_ingredients))\n",
    "        pred_count = len(Metrics._normalize_ingredient_list(pred_ingredients))\n",
    "        if gt_count == 0 and pred_count == 0:\n",
    "            return 1.0\n",
    "        if gt_count == 0:\n",
    "            return 0.0\n",
    "        return 1 - abs(gt_count - pred_count) / gt_count"
   ]
  },
  {
   "cell_type": "markdown",
   "id": "f7885e9f",
   "metadata": {},
   "source": [
    "## Evaluation Function\n"
   ]
  },
  {
   "cell_type": "code",
   "execution_count": 32,
   "id": "f880e9da",
   "metadata": {},
   "outputs": [],
   "source": [
    "async def _process_sample(\n",
    "    idx: int,\n",
    "    ds: FoodScanDataset,\n",
    "    llm: LiteModel,\n",
    "    model_name: str,\n",
    "    use_embeddings: bool = True,\n",
    ") -> dict:\n",
    "    start_time = time.time()\n",
    "    sample = ds[idx]\n",
    "    pred, error_msg = await llm.analyse(sample[\"image_path\"])\n",
    "    end_time = time.time()\n",
    "    gt = sample[\"gt\"]\n",
    "\n",
    "    item = {\n",
    "        \"image_id\": sample[\"image_id\"],\n",
    "        \"model\": model_name,\n",
    "        \"response_time_seconds\": round(end_time - start_time, 2),\n",
    "    }\n",
    "\n",
    "    if pred is None:\n",
    "        item.update(\n",
    "            {\n",
    "                \"f1_ing\": 0.0,\n",
    "                \"semantic_match\": 0.0,\n",
    "                \"semantic_match_embeddings\": 0.0,\n",
    "                \"ingredient_count_acc\": 0.0,\n",
    "                \"mae_mac\": None,\n",
    "                \"error\": error_msg or \"failed\",\n",
    "                \"cost_usd\": 0.0,\n",
    "                \"calories_pct_error\": None,\n",
    "                \"carbs_pct_error\": None,\n",
    "                \"protein_pct_error\": None,\n",
    "                \"fat_pct_error\": None,\n",
    "                \"match_details\": None,\n",
    "            }\n",
    "        )\n",
    "    else:\n",
    "        gt_ingredients = gt[\"ingredients\"]\n",
    "        pred_ingredients = pred.get(\"ingredients\", [])\n",
    "        gt_macros = gt[\"macros\"]\n",
    "        pred_macros = pred.get(\"total_macros\", {})\n",
    "\n",
    "        semantic_match_embeddings, match_details = 0.0, None\n",
    "        if use_embeddings:\n",
    "            try:\n",
    "                (\n",
    "                    semantic_match_embeddings,\n",
    "                    match_details,\n",
    "                ) = await Metrics.semantic_ingredient_match_embeddings(\n",
    "                    gt_ingredients, pred_ingredients\n",
    "                )\n",
    "            except Exception as e:\n",
    "                print(\n",
    "                    f\"Error in embedding similarity for image {sample['image_id']}: {e}\"\n",
    "                )\n",
    "                semantic_match_embeddings = Metrics.semantic_ingredient_match(\n",
    "                    gt_ingredients, pred_ingredients\n",
    "                )\n",
    "\n",
    "        # FIX: Calculate percentage errors first, then assign them to explicitly named keys.\n",
    "        pct_errors = Metrics.macro_percentage_error(gt_macros, pred_macros)\n",
    "\n",
    "        item.update(\n",
    "            {\n",
    "                \"f1_ing\": Metrics.ingredients_f1(gt_ingredients, pred_ingredients),\n",
    "                \"semantic_match\": Metrics.semantic_ingredient_match(\n",
    "                    gt_ingredients, pred_ingredients\n",
    "                ),\n",
    "                \"semantic_match_embeddings\": semantic_match_embeddings,\n",
    "                \"ingredient_count_acc\": Metrics.ingredient_count_accuracy(\n",
    "                    gt_ingredients, pred_ingredients\n",
    "                ),\n",
    "                \"mae_mac\": Metrics.macro_mae(gt_macros, pred_macros),\n",
    "                \"error\": None,\n",
    "                \"cost_usd\": pred.get(\"cost_usd\", 0.0),\n",
    "                # This ensures the column names are correct\n",
    "                \"calories_pct_error\": pct_errors.get(\"calories\"),\n",
    "                \"carbs_pct_error\": pct_errors.get(\"carbs\"),\n",
    "                \"protein_pct_error\": pct_errors.get(\"protein\"),\n",
    "                \"fat_pct_error\": pct_errors.get(\"fat\"),\n",
    "                \"match_details\": match_details,\n",
    "            }\n",
    "        )\n",
    "\n",
    "    return item\n",
    "\n",
    "\n",
    "async def run_evaluation(\n",
    "    models: Union[str, List[str]],\n",
    "    cache_dir: Path,\n",
    "    max_items: Optional[int] = None,\n",
    "    max_concurrent: int = 5,\n",
    "    prompt_variants: Optional[List[str]] = None,\n",
    "    use_embeddings: bool = True,\n",
    ") -> pd.DataFrame:\n",
    "    \"\"\"Run evaluation with multiple models and prompt variants.\"\"\"\n",
    "    models = [models] if isinstance(models, str) else models\n",
    "    prompt_variants = prompt_variants or [\"detailed\"]\n",
    "\n",
    "    ds = FoodScanDataset(cache_dir)\n",
    "    n = min(max_items, len(ds)) if max_items else len(ds)\n",
    "    all_results = []\n",
    "\n",
    "    for prompt_variant in prompt_variants:\n",
    "        print(f\"\\n=== Running with prompt variant: '{prompt_variant}' ===\")\n",
    "        print(\n",
    "            f\"Using {'OpenAI embeddings' if use_embeddings else 'string-based'} semantic similarity\"\n",
    "        )\n",
    "\n",
    "        async def _run_model_with_prompt(model_name: str, position: int):\n",
    "            llm = LiteModel(model_name, prompt_variant=prompt_variant)\n",
    "            sem = asyncio.Semaphore(max_concurrent)\n",
    "            pbar = tqdm(\n",
    "                total=n,\n",
    "                desc=f\"{model_name} ({prompt_variant})\".ljust(40),\n",
    "                position=position,\n",
    "                leave=True,\n",
    "                dynamic_ncols=True,\n",
    "                colour=\"green\",\n",
    "                bar_format=\"{desc}│{bar}│ {n_fmt}/{total_fmt}\",\n",
    "            )\n",
    "\n",
    "            async def _worker(i: int):\n",
    "                async with sem:\n",
    "                    result = await _process_sample(\n",
    "                        i, ds, llm, f\"{model_name}_{prompt_variant}\", use_embeddings\n",
    "                    )\n",
    "                    pbar.update(1)\n",
    "                    return result\n",
    "\n",
    "            results = await asyncio.gather(*(_worker(i) for i in range(n)))\n",
    "            pbar.close()\n",
    "            return results\n",
    "\n",
    "        model_tasks = [\n",
    "            _run_model_with_prompt(model, i) for i, model in enumerate(models)\n",
    "        ]\n",
    "        nested_results = await asyncio.gather(*model_tasks)\n",
    "        all_results.extend(item for sublist in nested_results for item in sublist)\n",
    "\n",
    "    return pd.DataFrame(all_results)"
   ]
  },
  {
   "cell_type": "markdown",
   "id": "2530ecd7",
   "metadata": {},
   "source": [
    "## Analysis and Visualization\n"
   ]
  },
  {
   "cell_type": "code",
   "execution_count": 92,
   "id": "fa733757",
   "metadata": {},
   "outputs": [],
   "source": [
    "class BenchmarkAnalyzer:\n",
    "    \"\"\"Comprehensive analysis and visualization of benchmark results.\"\"\"\n",
    "\n",
    "    def __init__(self, results_df):\n",
    "        self.df = results_df.copy()\n",
    "        if not self.df.empty:\n",
    "            self.successful_df = self.df[self.df[\"error\"].isna()].copy()\n",
    "        else:\n",
    "            self.successful_df = pd.DataFrame()\n",
    "\n",
    "    def summary_statistics(self):\n",
    "        \"\"\"Generate comprehensive summary statistics.\"\"\"\n",
    "        print(\"=== BENCHMARK SUMMARY ===\\n\")\n",
    "        if self.df.empty:\n",
    "            print(\"No results to analyze.\")\n",
    "            return\n",
    "\n",
    "        for model in sorted(self.df[\"model\"].unique()):\n",
    "            model_df = self.df[self.df[\"model\"] == model]\n",
    "            successful = model_df[model_df[\"error\"].isna()]\n",
    "            success_rate = (len(successful) / len(model_df)) * 100\n",
    "\n",
    "            print(f\"--- {model} ---\")\n",
    "            print(\n",
    "                f\"  Success Rate: {success_rate:.1f}% ({len(successful)}/{len(model_df)})\"\n",
    "            )\n",
    "\n",
    "            if not successful.empty:\n",
    "                print(\n",
    "                    f\"  Avg Semantic Match (Embeddings): {successful['semantic_match_embeddings'].mean():.3f}\"\n",
    "                )\n",
    "                print(\n",
    "                    f\"  Avg F1 Score (Ingredients): {successful['f1_ing'].mean():.3f}\"\n",
    "                )\n",
    "                print(f\"  Avg MAE (Macros): {successful['mae_mac'].mean():.1f}\")\n",
    "                print(f\"  Avg Cost per Image: ${successful['cost_usd'].mean():.4f}\")\n",
    "                print(\n",
    "                    f\"  Avg Response Time: {successful['response_time_seconds'].mean():.1f}s\\n\"\n",
    "                )\n",
    "\n",
    "        self.analyze_errors()\n",
    "\n",
    "    def analyze_errors(self):\n",
    "        \"\"\"IMPROVEMENT: Analyze and summarize the specific errors encountered.\"\"\"\n",
    "        print(\"--- ERROR ANALYSIS ---\")\n",
    "        error_df = self.df[self.df[\"error\"].notna()]\n",
    "        if error_df.empty:\n",
    "            print(\"No errors encountered. All API calls were successful.\\n\")\n",
    "            return\n",
    "\n",
    "        print(\"Error counts by model:\")\n",
    "        error_summary = error_df.groupby(\"model\")[\"error\"].count().sort_index()\n",
    "        print(error_summary.to_string())\n",
    "\n",
    "        print(\"\\nMost common error messages:\")\n",
    "        common_errors = (\n",
    "            error_df[\"error\"].str.split(\":\").str[0].value_counts().nlargest(5)\n",
    "        )\n",
    "        print(common_errors.to_string())\n",
    "        print()\n",
    "\n",
    "    def analyze_ingredient_matches(self):\n",
    "        \"\"\"Analyze detailed ingredient matching results.\"\"\"\n",
    "        if (\n",
    "            self.successful_df.empty\n",
    "            or \"match_details\" not in self.successful_df.columns\n",
    "        ):\n",
    "            print(\"No match details available.\")\n",
    "            return\n",
    "\n",
    "        print(\"=== INGREDIENT MATCHING ANALYSIS ===\\n\")\n",
    "        all_matches = self.successful_df.explode(\"match_details\").dropna(\n",
    "            subset=[\"match_details\"]\n",
    "        )\n",
    "        if all_matches.empty:\n",
    "            print(\"No successful ingredient matches found.\")\n",
    "            return\n",
    "\n",
    "        matches_df = pd.json_normalize(all_matches[\"match_details\"])\n",
    "\n",
    "        matches_df[\"model\"] = all_matches[\"model\"].values\n",
    "\n",
    "        print(f\"Total successful ingredient matches: {len(matches_df)}\")\n",
    "        print(\n",
    "            f\"Average similarity score: {matches_df['similarity'].mean():.3f} (std: {matches_df['similarity'].std():.3f})\"\n",
    "        )\n",
    "\n",
    "        print(\"\\n--- TOP 10 INGREDIENT MATCHES ---\")\n",
    "        print(\n",
    "            matches_df.nlargest(10, \"similarity\")[\n",
    "                [\"gt_ingredient\", \"pred_ingredient\", \"similarity\", \"model\"]\n",
    "            ].to_string(index=False)\n",
    "        )\n",
    "\n",
    "        print(\"\\n--- 10 MOST CHALLENGING MATCHES (Lowest Similarity) ---\")\n",
    "        challenging = matches_df[matches_df[\"similarity\"] < 0.85].nsmallest(\n",
    "            10, \"similarity\"\n",
    "        )\n",
    "        if not challenging.empty:\n",
    "            print(\n",
    "                challenging[\n",
    "                    [\"gt_ingredient\", \"pred_ingredient\", \"similarity\", \"model\"]\n",
    "                ].to_string(index=False)\n",
    "            )\n",
    "        else:\n",
    "            print(\"No challenging matches found (all similarities >= 0.85).\")\n",
    "\n",
    "    def statistical_significance_test(self, metric=\"semantic_match_embeddings\"):\n",
    "        \"\"\"Test statistical significance between models using t-test.\"\"\"\n",
    "        if self.successful_df.empty or metric not in self.successful_df.columns:\n",
    "            print(f\"Metric '{metric}' not available for significance testing.\")\n",
    "            return\n",
    "\n",
    "        models = sorted(self.successful_df[\"model\"].unique())\n",
    "        if len(models) < 2:\n",
    "            return\n",
    "\n",
    "        print(f\"\\n=== STATISTICAL SIGNIFICANCE (T-TEST on {metric}) ===\\n\")\n",
    "        for i, model1 in enumerate(models):\n",
    "            for model2 in models[i + 1 :]:\n",
    "                data1 = self.successful_df[self.successful_df[\"model\"] == model1][\n",
    "                    metric\n",
    "                ]\n",
    "                data2 = self.successful_df[self.successful_df[\"model\"] == model2][\n",
    "                    metric\n",
    "                ]\n",
    "\n",
    "                if len(data1) > 1 and len(data2) > 1:\n",
    "                    stat, p_value = stats.ttest_ind(data1, data2, equal_var=False)\n",
    "                    significance = (\n",
    "                        \"***\"\n",
    "                        if p_value < 0.001\n",
    "                        else \"**\"\n",
    "                        if p_value < 0.01\n",
    "                        else \"*\"\n",
    "                        if p_value < 0.05\n",
    "                        else \"ns\"\n",
    "                    )\n",
    "                    print(\n",
    "                        f\"{model1.ljust(45)} vs. {model2.ljust(45)} | p-value: {p_value:.4f} {significance}\"\n",
    "                    )\n",
    "        print()\n",
    "\n",
    "    def create_performance_dashboard(self):\n",
    "        \"\"\"Create a comprehensive performance comparison dashboard with improved styling.\"\"\"\n",
    "        if self.successful_df.empty:\n",
    "            print(\"No successful predictions to plot.\")\n",
    "            return\n",
    "\n",
    "        models = sorted(self.df[\"model\"].unique())\n",
    "        short_labels = {m: m.split(\"/\", 1)[1] if \"/\" in m else m for m in models}\n",
    "        idx_map = {m: i + 1 for i, m in enumerate(short_labels)}\n",
    "\n",
    "        colors = [\n",
    "            \"#1f77b4\",\n",
    "            \"#ff7f0e\",\n",
    "            \"#2ca02c\",\n",
    "            \"#d62728\",\n",
    "            \"#9467bd\",\n",
    "            \"#8c564b\",\n",
    "            \"#e377c2\",\n",
    "            \"#7f7f7f\",\n",
    "            \"#bcbd22\",\n",
    "            \"#17becf\",\n",
    "        ]\n",
    "\n",
    "        metric_col = \"semantic_match_embeddings\"\n",
    "\n",
    "        fig = make_subplots(\n",
    "            rows=2,\n",
    "            cols=3,\n",
    "            subplot_titles=(\n",
    "                \"Embedding Similarity Distribution\",\n",
    "                \"F1 Score (Ingredients)\",\n",
    "                \"Macro Nutritional MAE\",\n",
    "                \"Cost vs. Performance\",\n",
    "                \" Response Time Distribution\",\n",
    "                \"Success Rate by Model\",\n",
    "            ),\n",
    "            vertical_spacing=0.12,\n",
    "            horizontal_spacing=0.08,\n",
    "            specs=[\n",
    "                [\n",
    "                    {\"secondary_y\": False},\n",
    "                    {\"secondary_y\": False},\n",
    "                    {\"secondary_y\": False},\n",
    "                ],\n",
    "                [\n",
    "                    {\"secondary_y\": False},\n",
    "                    {\"secondary_y\": False},\n",
    "                    {\"secondary_y\": False},\n",
    "                ],\n",
    "            ],\n",
    "        )\n",
    "\n",
    "        for i, model in enumerate(short_labels):\n",
    "            m_idx = str(idx_map[model])\n",
    "            color = colors[i % len(colors)]\n",
    "            d_ok = self.successful_df[self.successful_df[\"model\"] == model]\n",
    "\n",
    "            box_style = dict(\n",
    "                marker_color=color,\n",
    "                marker_line_color=\"rgba(0,0,0,0.3)\",\n",
    "                marker_line_width=1,\n",
    "                fillcolor=f\"rgba({','.join(str(int(color[i : i + 2], 16)) for i in (1, 3, 5))}, 0.6)\",\n",
    "                line_color=color,\n",
    "                line_width=2,\n",
    "            )\n",
    "\n",
    "            fig.add_trace(\n",
    "                go.Box(\n",
    "                    y=d_ok[\"semantic_match_embeddings\"],\n",
    "                    name=m_idx,\n",
    "                    legendgroup=m_idx,\n",
    "                    showlegend=False,\n",
    "                    boxpoints=\"outliers\",\n",
    "                    jitter=0.3,\n",
    "                    pointpos=-1.8,\n",
    "                    **box_style,\n",
    "                ),\n",
    "                row=1,\n",
    "                col=1,\n",
    "            )\n",
    "\n",
    "            fig.add_trace(\n",
    "                go.Box(\n",
    "                    y=d_ok[\"f1_ing\"],\n",
    "                    name=m_idx,\n",
    "                    legendgroup=m_idx,\n",
    "                    showlegend=False,\n",
    "                    boxpoints=\"outliers\",\n",
    "                    jitter=0.3,\n",
    "                    pointpos=-1.8,\n",
    "                    **box_style,\n",
    "                ),\n",
    "                row=1,\n",
    "                col=2,\n",
    "            )\n",
    "\n",
    "            fig.add_trace(\n",
    "                go.Box(\n",
    "                    y=d_ok[\"mae_mac\"],\n",
    "                    name=m_idx,\n",
    "                    legendgroup=m_idx,\n",
    "                    showlegend=False,\n",
    "                    boxpoints=\"outliers\",\n",
    "                    jitter=0.3,\n",
    "                    pointpos=-1.8,\n",
    "                    **box_style,\n",
    "                ),\n",
    "                row=1,\n",
    "                col=3,\n",
    "            )\n",
    "\n",
    "            fig.add_trace(\n",
    "                go.Scatter(\n",
    "                    x=d_ok[\"cost_usd\"],\n",
    "                    y=d_ok[metric_col],\n",
    "                    mode=\"markers\",\n",
    "                    marker=dict(\n",
    "                        color=color,\n",
    "                        size=8,\n",
    "                        line=dict(width=1, color=\"rgba(0,0,0,0.3)\"),\n",
    "                        opacity=0.7,\n",
    "                    ),\n",
    "                    name=m_idx,\n",
    "                    legendgroup=m_idx,\n",
    "                    showlegend=False,\n",
    "                    hovertemplate=\"<b>%{fullData.name}</b><br>\"\n",
    "                    + \"Cost: $%{x:.4f}<br>\"\n",
    "                    + \"Similarity: %{y:.3f}<br>\"\n",
    "                    + \"<extra></extra>\",\n",
    "                ),\n",
    "                row=2,\n",
    "                col=1,\n",
    "            )\n",
    "\n",
    "            fig.add_trace(\n",
    "                go.Box(\n",
    "                    y=d_ok[\"response_time_seconds\"],\n",
    "                    name=m_idx,\n",
    "                    legendgroup=m_idx,\n",
    "                    showlegend=False,\n",
    "                    boxpoints=\"outliers\",\n",
    "                    jitter=0.3,\n",
    "                    pointpos=-1.8,\n",
    "                    **box_style,\n",
    "                ),\n",
    "                row=2,\n",
    "                col=2,\n",
    "            )\n",
    "\n",
    "        success_rates = (\n",
    "            self.df.groupby(\"model\")[\"error\"]\n",
    "            .apply(lambda x: x.isna().mean() * 100)\n",
    "            .reindex(short_labels)\n",
    "        )\n",
    "\n",
    "        fig.add_trace(\n",
    "            go.Bar(\n",
    "                x=[idx_map[m] for m in success_rates.index],\n",
    "                y=success_rates.values,\n",
    "                marker=dict(\n",
    "                    color=[colors[i % len(colors)] for i in range(len(short_labels))],\n",
    "                    line=dict(color=\"rgba(0,0,0,0.3)\", width=1),\n",
    "                    opacity=0.8,\n",
    "                ),\n",
    "                showlegend=False,\n",
    "                hovertemplate=\"<b>Model %{x}</b><br>\"\n",
    "                + \"Success Rate: %{y:.1f}%<br>\"\n",
    "                + \"<extra></extra>\",\n",
    "                text=[f\"{rate:.1f}%\" for rate in success_rates.values],\n",
    "                textposition=\"outside\",\n",
    "            ),\n",
    "            row=2,\n",
    "            col=3,\n",
    "        )\n",
    "\n",
    "        for i, model in enumerate(short_labels):\n",
    "            m_idx = str(idx_map[model])\n",
    "            fig.add_trace(\n",
    "                go.Scatter(\n",
    "                    x=[None],\n",
    "                    y=[None],\n",
    "                    mode=\"markers\",\n",
    "                    marker=dict(\n",
    "                        size=12,\n",
    "                        color=colors[i % len(colors)],\n",
    "                        symbol=\"circle\",\n",
    "                        line=dict(width=2, color=\"rgba(0,0,0,0.3)\"),\n",
    "                    ),\n",
    "                    legendgroup=m_idx,\n",
    "                    showlegend=True,\n",
    "                    name=f\"{m_idx}: {short_labels[model]}\",\n",
    "                )\n",
    "            )\n",
    "\n",
    "        axis_style = dict(\n",
    "            showgrid=True,\n",
    "            gridcolor=\"rgba(128,128,128,0.2)\",\n",
    "            gridwidth=1,\n",
    "            zeroline=True,\n",
    "            zerolinecolor=\"rgba(128,128,128,0.4)\",\n",
    "            zerolinewidth=1,\n",
    "            tickfont=dict(size=11, color=\"#2f2f2f\"),\n",
    "        )\n",
    "\n",
    "        for row in [1, 2]:\n",
    "            for col in [1, 2, 3]:\n",
    "                fig.update_xaxes(**axis_style, row=row, col=col)\n",
    "                fig.update_yaxes(**axis_style, row=row, col=col)\n",
    "\n",
    "        fig.update_xaxes(title_text=\"Cost per Image ($)\", row=2, col=1)\n",
    "        fig.update_yaxes(title_text=\"Similarity Score\", row=1, col=1)\n",
    "        fig.update_yaxes(title_text=\"F1 Score\", row=1, col=2)\n",
    "        fig.update_yaxes(title_text=\"Mean Absolute Error\", row=1, col=3)\n",
    "        fig.update_yaxes(title_text=\"Similarity Score\", row=2, col=1)\n",
    "        fig.update_yaxes(title_text=\"️ Response Time (sec)\", row=2, col=2)\n",
    "        fig.update_yaxes(title_text=\"Success Rate (%)\", row=2, col=3)\n",
    "\n",
    "        fig.update_layout(\n",
    "            height=900,\n",
    "            width=1400,\n",
    "            title=dict(\n",
    "                text=\"<b>Model Performance Dashboard</b>\",\n",
    "                x=0.5,\n",
    "                xanchor=\"center\",\n",
    "                font=dict(size=24, color=\"#1f1f1f\", family=\"Arial Black\"),\n",
    "            ),\n",
    "            showlegend=True,\n",
    "            legend=dict(\n",
    "                title=\"<b>Models</b>\",\n",
    "                title_font=dict(size=14, color=\"#1f1f1f\"),\n",
    "                font=dict(size=11),\n",
    "                bgcolor=\"rgba(255,255,255,0.8)\",\n",
    "                bordercolor=\"rgba(128,128,128,0.5)\",\n",
    "                borderwidth=1,\n",
    "                x=1.02,\n",
    "                y=1,\n",
    "                xanchor=\"left\",\n",
    "                yanchor=\"top\",\n",
    "            ),\n",
    "            plot_bgcolor=\"rgba(248,249,250,0.8)\",\n",
    "            paper_bgcolor=\"white\",\n",
    "            font=dict(family=\"Arial, sans-serif\", size=11, color=\"#2f2f2f\"),\n",
    "            margin=dict(l=80, r=150, t=120, b=80),\n",
    "            hovermode=\"closest\",\n",
    "        )\n",
    "\n",
    "        config = dict(\n",
    "            displayModeBar=True,\n",
    "            displaylogo=False,\n",
    "            modeBarButtonsToRemove=[\"pan2d\", \"lasso2d\"],\n",
    "            toImageButtonOptions=dict(\n",
    "                format=\"png\",\n",
    "                filename=\"model_performance_dashboard\",\n",
    "                height=900,\n",
    "                width=1400,\n",
    "                scale=2,\n",
    "            ),\n",
    "        )\n",
    "\n",
    "        fig.show(config=config)\n",
    "\n",
    "        fig.write_html(\"performance_dashboard.html\", config=config)\n",
    "\n",
    "    def macro_accuracy_heatmap(self):\n",
    "        \"\"\"Create a heatmap of macro percentage error by model.\"\"\"\n",
    "        if self.successful_df.empty:\n",
    "            return\n",
    "        macro_cols = [\n",
    "            \"calories_pct_error\",\n",
    "            \"carbs_pct_error\",\n",
    "            \"protein_pct_error\",\n",
    "            \"fat_pct_error\",\n",
    "        ]\n",
    "        heatmap_data = (\n",
    "            self.successful_df.groupby(\"model\")[macro_cols].mean().sort_index()\n",
    "        )\n",
    "        short_labels = {\n",
    "            m: m.split(\"/\", 1)[1] if \"/\" in m else m for m in heatmap_data.index\n",
    "        }\n",
    "\n",
    "        heatmap_data.index = [short_labels[m] for m in heatmap_data.index]\n",
    "\n",
    "        fig = px.imshow(\n",
    "            heatmap_data,\n",
    "            labels=dict(x=\"Macro Nutrient\", y=\"Model\", color=\"Avg % Error\"),\n",
    "            x=[\"Calories\", \"Carbs\", \"Protein\", \"Fat\"],\n",
    "            y=heatmap_data.index,\n",
    "            text_auto=True,\n",
    "            aspect=\"auto\",\n",
    "            color_continuous_scale=\"RdYlGn_r\",\n",
    "            title=\"<b>Average Percentage Error by Macro (Lower is Better)</b>\",\n",
    "        )\n",
    "        fig.update_traces(texttemplate=\"%{z}%\")\n",
    "        fig.show()\n",
    "\n",
    "    def export_detailed_report(self, filename=\"benchmark_report.xlsx\"):\n",
    "        \"\"\"Export a detailed report with raw data and summary to an Excel file.\"\"\"\n",
    "        print(f\"Exporting detailed report to {filename}...\")\n",
    "        with pd.ExcelWriter(filename, engine=\"openpyxl\") as writer:\n",
    "            self.df.to_excel(writer, sheet_name=\"Raw Results\", index=False)\n",
    "\n",
    "            if not self.successful_df.empty:\n",
    "                summary = (\n",
    "                    self.df.groupby(\"model\")\n",
    "                    .agg(\n",
    "                        success_rate=(\"error\", lambda x: x.isna().mean()),\n",
    "                        semantic_match_embeddings_mean=(\n",
    "                            \"semantic_match_embeddings\",\n",
    "                            \"mean\",\n",
    "                        ),\n",
    "                        f1_ing_mean=(\"f1_ing\", \"mean\"),\n",
    "                        mae_mac_mean=(\"mae_mac\", \"mean\"),\n",
    "                        cost_usd_total=(\"cost_usd\", \"sum\"),\n",
    "                        response_time_seconds_mean=(\"response_time_seconds\", \"mean\"),\n",
    "                    )\n",
    "                    .reset_index()\n",
    "                )\n",
    "                summary.to_excel(writer, sheet_name=\"Summary Statistics\", index=False)\n",
    "        print(\"Export complete.\")"
   ]
  },
  {
   "cell_type": "markdown",
   "id": "6909d270",
   "metadata": {},
   "source": [
    "## Run Benchmark\n"
   ]
  },
  {
   "cell_type": "code",
   "execution_count": 94,
   "id": "a82972d3",
   "metadata": {},
   "outputs": [
    {
     "name": "stdout",
     "output_type": "stream",
     "text": [
      "\n",
      "=== Running with prompt variant: 'detailed' ===\n",
      "Using OpenAI embeddings semantic similarity\n"
     ]
    },
    {
     "data": {
      "application/vnd.jupyter.widget-view+json": {
       "model_id": "b1d44afdb5db42818f88d5e4f3517143",
       "version_major": 2,
       "version_minor": 0
      },
      "text/plain": [
       "gpt-4o-mini (detailed)                  │          │ 0/10"
      ]
     },
     "metadata": {},
     "output_type": "display_data"
    },
    {
     "data": {
      "application/vnd.jupyter.widget-view+json": {
       "model_id": "e04709ade65842c78e1380619b8c7eaf",
       "version_major": 2,
       "version_minor": 0
      },
      "text/plain": [
       "gpt-4o (detailed)                       │          │ 0/10"
      ]
     },
     "metadata": {},
     "output_type": "display_data"
    },
    {
     "data": {
      "application/vnd.jupyter.widget-view+json": {
       "model_id": "f7f6e466484f477088e8a8e7bb4d8d91",
       "version_major": 2,
       "version_minor": 0
      },
      "text/plain": [
       "gemini/gemini-2.5-flash-preview-05-20 (detailed)│          │ 0/10"
      ]
     },
     "metadata": {},
     "output_type": "display_data"
    },
    {
     "data": {
      "application/vnd.jupyter.widget-view+json": {
       "model_id": "aaffa982b2f9444ea37910938618ea4b",
       "version_major": 2,
       "version_minor": 0
      },
      "text/plain": [
       "gemini/gemini-2.5-pro-preview-06-05 (detailed)│          │ 0/10"
      ]
     },
     "metadata": {},
     "output_type": "display_data"
    },
    {
     "name": "stdout",
     "output_type": "stream",
     "text": [
      "\n",
      "=== Running with prompt variant: 'step_by_step' ===\n",
      "Using OpenAI embeddings semantic similarity\n"
     ]
    },
    {
     "data": {
      "application/vnd.jupyter.widget-view+json": {
       "model_id": "6b09bd54a768449f9b54de6369a73d4a",
       "version_major": 2,
       "version_minor": 0
      },
      "text/plain": [
       "gpt-4o-mini (step_by_step)              │          │ 0/10"
      ]
     },
     "metadata": {},
     "output_type": "display_data"
    },
    {
     "data": {
      "application/vnd.jupyter.widget-view+json": {
       "model_id": "99da4dec7c154e188900ce81a5bd4fee",
       "version_major": 2,
       "version_minor": 0
      },
      "text/plain": [
       "gpt-4o (step_by_step)                   │          │ 0/10"
      ]
     },
     "metadata": {},
     "output_type": "display_data"
    },
    {
     "data": {
      "application/vnd.jupyter.widget-view+json": {
       "model_id": "5cc6e0f74b9d47e0ae303549ee8cff2c",
       "version_major": 2,
       "version_minor": 0
      },
      "text/plain": [
       "gemini/gemini-2.5-flash-preview-05-20 (step_by_step)│          │ 0/10"
      ]
     },
     "metadata": {},
     "output_type": "display_data"
    },
    {
     "data": {
      "application/vnd.jupyter.widget-view+json": {
       "model_id": "b52fea134cbf4f49bac3ea1c9a0dc3b8",
       "version_major": 2,
       "version_minor": 0
      },
      "text/plain": [
       "gemini/gemini-2.5-pro-preview-06-05 (step_by_step)│          │ 0/10"
      ]
     },
     "metadata": {},
     "output_type": "display_data"
    }
   ],
   "source": [
    "BENCHMARK_CONFIG = {\n",
    "    \"models\": [\n",
    "        \"gpt-4o-mini\",\n",
    "        \"gpt-4o\",\n",
    "        \"gemini/gemini-2.5-flash-preview-05-20\",\n",
    "        \"gemini/gemini-2.5-pro-preview-06-05\",\n",
    "    ],\n",
    "    \"max_items\": 10,\n",
    "    \"cache_dir\": Path(\".cache/food_scan_bench\"),\n",
    "    \"max_concurrent_requests\": 10,\n",
    "    \"prompt_variants\": [\"detailed\", \"step_by_step\"],\n",
    "    \"use_embeddings_for_matching\": True,\n",
    "    \"report_filename\": \"benchmark_results.xlsx\",\n",
    "}\n",
    "\n",
    "results_df = await run_evaluation(\n",
    "    models=BENCHMARK_CONFIG[\"models\"],\n",
    "    cache_dir=BENCHMARK_CONFIG[\"cache_dir\"],\n",
    "    max_items=BENCHMARK_CONFIG[\"max_items\"],\n",
    "    max_concurrent=BENCHMARK_CONFIG[\"max_concurrent_requests\"],\n",
    "    prompt_variants=BENCHMARK_CONFIG[\"prompt_variants\"],\n",
    "    use_embeddings=BENCHMARK_CONFIG[\"use_embeddings_for_matching\"],\n",
    ")"
   ]
  },
  {
   "cell_type": "code",
   "execution_count": 95,
   "id": "b4f63a7f",
   "metadata": {},
   "outputs": [
    {
     "name": "stdout",
     "output_type": "stream",
     "text": [
      "=== BENCHMARK SUMMARY ===\n",
      "\n",
      "--- gemini/gemini-2.5-flash-preview-05-20_detailed ---\n",
      "  Success Rate: 100.0% (10/10)\n",
      "  Avg Semantic Match (Embeddings): 0.340\n",
      "  Avg F1 Score (Ingredients): 0.224\n",
      "  Avg MAE (Macros): 106.5\n",
      "  Avg Cost per Image: $0.0012\n",
      "  Avg Response Time: 17.9s\n",
      "\n",
      "--- gemini/gemini-2.5-flash-preview-05-20_step_by_step ---\n",
      "  Success Rate: 100.0% (10/10)\n",
      "  Avg Semantic Match (Embeddings): 0.304\n",
      "  Avg F1 Score (Ingredients): 0.143\n",
      "  Avg MAE (Macros): 111.3\n",
      "  Avg Cost per Image: $0.0013\n",
      "  Avg Response Time: 18.0s\n",
      "\n",
      "--- gemini/gemini-2.5-pro-preview-06-05_detailed ---\n",
      "  Success Rate: 100.0% (10/10)\n",
      "  Avg Semantic Match (Embeddings): 0.278\n",
      "  Avg F1 Score (Ingredients): 0.071\n",
      "  Avg MAE (Macros): 79.6\n",
      "  Avg Cost per Image: $0.0234\n",
      "  Avg Response Time: 32.3s\n",
      "\n",
      "--- gemini/gemini-2.5-pro-preview-06-05_step_by_step ---\n",
      "  Success Rate: 100.0% (10/10)\n",
      "  Avg Semantic Match (Embeddings): 0.290\n",
      "  Avg F1 Score (Ingredients): 0.168\n",
      "  Avg MAE (Macros): 79.1\n",
      "  Avg Cost per Image: $0.0209\n",
      "  Avg Response Time: 27.9s\n",
      "\n",
      "--- gpt-4o-mini_detailed ---\n",
      "  Success Rate: 100.0% (10/10)\n",
      "  Avg Semantic Match (Embeddings): 0.412\n",
      "  Avg F1 Score (Ingredients): 0.290\n",
      "  Avg MAE (Macros): 48.5\n",
      "  Avg Cost per Image: $0.0056\n",
      "  Avg Response Time: 10.9s\n",
      "\n",
      "--- gpt-4o-mini_step_by_step ---\n",
      "  Success Rate: 100.0% (10/10)\n",
      "  Avg Semantic Match (Embeddings): 0.423\n",
      "  Avg F1 Score (Ingredients): 0.248\n",
      "  Avg MAE (Macros): 58.8\n",
      "  Avg Cost per Image: $0.0056\n",
      "  Avg Response Time: 12.7s\n",
      "\n",
      "--- gpt-4o_detailed ---\n",
      "  Success Rate: 100.0% (10/10)\n",
      "  Avg Semantic Match (Embeddings): 0.457\n",
      "  Avg F1 Score (Ingredients): 0.397\n",
      "  Avg MAE (Macros): 54.7\n",
      "  Avg Cost per Image: $0.0061\n",
      "  Avg Response Time: 16.2s\n",
      "\n",
      "--- gpt-4o_step_by_step ---\n",
      "  Success Rate: 100.0% (10/10)\n",
      "  Avg Semantic Match (Embeddings): 0.382\n",
      "  Avg F1 Score (Ingredients): 0.320\n",
      "  Avg MAE (Macros): 50.5\n",
      "  Avg Cost per Image: $0.0060\n",
      "  Avg Response Time: 16.5s\n",
      "\n",
      "--- ERROR ANALYSIS ---\n",
      "No errors encountered. All API calls were successful.\n",
      "\n",
      "=== INGREDIENT MATCHING ANALYSIS ===\n",
      "\n",
      "Total successful ingredient matches: 152\n",
      "Average similarity score: 0.933 (std: 0.092)\n",
      "\n",
      "--- TOP 10 INGREDIENT MATCHES ---\n",
      " gt_ingredient pred_ingredient  similarity                                              model\n",
      "scrambled eggs  scrambled eggs         1.0                               gpt-4o-mini_detailed\n",
      "scrambled eggs  scrambled eggs         1.0                                    gpt-4o_detailed\n",
      "scrambled eggs  scrambled eggs         1.0                           gpt-4o-mini_step_by_step\n",
      "scrambled eggs  scrambled eggs         1.0                                gpt-4o_step_by_step\n",
      "scrambled eggs  scrambled eggs         1.0 gemini/gemini-2.5-flash-preview-05-20_step_by_step\n",
      "scrambled eggs  scrambled eggs         1.0   gemini/gemini-2.5-pro-preview-06-05_step_by_step\n",
      "         sugar           sugar         1.0                           gpt-4o-mini_step_by_step\n",
      "       lettuce         lettuce         1.0                                gpt-4o_step_by_step\n",
      "       arugula         arugula         1.0                               gpt-4o-mini_detailed\n",
      "       arugula         arugula         1.0                                    gpt-4o_detailed\n",
      "\n",
      "--- 10 MOST CHALLENGING MATCHES (Lowest Similarity) ---\n",
      "gt_ingredient              pred_ingredient  similarity                                              model\n",
      " green onions         chopped green onions    0.750536                                    gpt-4o_detailed\n",
      " green onions         chopped green onions    0.750536     gemini/gemini-2.5-flash-preview-05-20_detailed\n",
      " green onions         chopped green onions    0.750536                           gpt-4o-mini_step_by_step\n",
      " green onions         chopped green onions    0.750536                                gpt-4o_step_by_step\n",
      " greek yogurt         ellenos greek yogurt    0.752312     gemini/gemini-2.5-flash-preview-05-20_detailed\n",
      " greek yogurt         ellenos greek yogurt    0.752312       gemini/gemini-2.5-pro-preview-06-05_detailed\n",
      " greek yogurt         ellenos greek yogurt    0.752312 gemini/gemini-2.5-flash-preview-05-20_step_by_step\n",
      "peanut butter         creamy peanut butter    0.767838       gemini/gemini-2.5-pro-preview-06-05_detailed\n",
      "     dressing dressing (e.g., vinaigrette)    0.774100                               gpt-4o-mini_detailed\n",
      "     dressing dressing (e.g., vinaigrette)    0.774100                           gpt-4o-mini_step_by_step\n",
      "\n",
      "=== STATISTICAL SIGNIFICANCE (T-TEST on semantic_match_embeddings) ===\n",
      "\n",
      "gemini/gemini-2.5-flash-preview-05-20_detailed vs. gemini/gemini-2.5-flash-preview-05-20_step_by_step | p-value: 0.7810 ns\n",
      "gemini/gemini-2.5-flash-preview-05-20_detailed vs. gemini/gemini-2.5-pro-preview-06-05_detailed  | p-value: 0.5772 ns\n",
      "gemini/gemini-2.5-flash-preview-05-20_detailed vs. gemini/gemini-2.5-pro-preview-06-05_step_by_step | p-value: 0.7036 ns\n",
      "gemini/gemini-2.5-flash-preview-05-20_detailed vs. gpt-4o-mini_detailed                          | p-value: 0.5782 ns\n",
      "gemini/gemini-2.5-flash-preview-05-20_detailed vs. gpt-4o-mini_step_by_step                      | p-value: 0.5179 ns\n",
      "gemini/gemini-2.5-flash-preview-05-20_detailed vs. gpt-4o_detailed                               | p-value: 0.4257 ns\n",
      "gemini/gemini-2.5-flash-preview-05-20_detailed vs. gpt-4o_step_by_step                           | p-value: 0.7704 ns\n",
      "gemini/gemini-2.5-flash-preview-05-20_step_by_step vs. gemini/gemini-2.5-pro-preview-06-05_detailed  | p-value: 0.8108 ns\n",
      "gemini/gemini-2.5-flash-preview-05-20_step_by_step vs. gemini/gemini-2.5-pro-preview-06-05_step_by_step | p-value: 0.9120 ns\n",
      "gemini/gemini-2.5-flash-preview-05-20_step_by_step vs. gpt-4o-mini_detailed                          | p-value: 0.4031 ns\n",
      "gemini/gemini-2.5-flash-preview-05-20_step_by_step vs. gpt-4o-mini_step_by_step                      | p-value: 0.3519 ns\n",
      "gemini/gemini-2.5-flash-preview-05-20_step_by_step vs. gpt-4o_detailed                               | p-value: 0.2968 ns\n",
      "gemini/gemini-2.5-flash-preview-05-20_step_by_step vs. gpt-4o_step_by_step                           | p-value: 0.5896 ns\n",
      "gemini/gemini-2.5-pro-preview-06-05_detailed  vs. gemini/gemini-2.5-pro-preview-06-05_step_by_step | p-value: 0.9178 ns\n",
      "gemini/gemini-2.5-pro-preview-06-05_detailed  vs. gpt-4o-mini_detailed                          | p-value: 0.2331 ns\n",
      "gemini/gemini-2.5-pro-preview-06-05_detailed  vs. gpt-4o-mini_step_by_step                      | p-value: 0.1901 ns\n",
      "gemini/gemini-2.5-pro-preview-06-05_detailed  vs. gpt-4o_detailed                               | p-value: 0.1785 ns\n",
      "gemini/gemini-2.5-pro-preview-06-05_detailed  vs. gpt-4o_step_by_step                           | p-value: 0.4246 ns\n",
      "gemini/gemini-2.5-pro-preview-06-05_step_by_step vs. gpt-4o-mini_detailed                          | p-value: 0.3557 ns\n",
      "gemini/gemini-2.5-pro-preview-06-05_step_by_step vs. gpt-4o-mini_step_by_step                      | p-value: 0.3092 ns\n",
      "gemini/gemini-2.5-pro-preview-06-05_step_by_step vs. gpt-4o_detailed                               | p-value: 0.2632 ns\n",
      "gemini/gemini-2.5-pro-preview-06-05_step_by_step vs. gpt-4o_step_by_step                           | p-value: 0.5314 ns\n",
      "gpt-4o-mini_detailed                          vs. gpt-4o-mini_step_by_step                      | p-value: 0.9337 ns\n",
      "gpt-4o-mini_detailed                          vs. gpt-4o_detailed                               | p-value: 0.7603 ns\n",
      "gpt-4o-mini_detailed                          vs. gpt-4o_step_by_step                           | p-value: 0.8383 ns\n",
      "gpt-4o-mini_step_by_step                      vs. gpt-4o_detailed                               | p-value: 0.8142 ns\n",
      "gpt-4o-mini_step_by_step                      vs. gpt-4o_step_by_step                           | p-value: 0.7794 ns\n",
      "gpt-4o_detailed                               vs. gpt-4o_step_by_step                           | p-value: 0.6433 ns\n",
      "\n"
     ]
    },
    {
     "data": {
      "application/vnd.plotly.v1+json": {
       "config": {
        "displayModeBar": true,
        "displaylogo": false,
        "modeBarButtonsToRemove": [
         "pan2d",
         "lasso2d"
        ],
        "plotlyServerURL": "https://plot.ly",
        "toImageButtonOptions": {
         "filename": "model_performance_dashboard",
         "format": "png",
         "height": 900,
         "scale": 2,
         "width": 1400
        }
       },
       "data": [
        {
         "boxpoints": "outliers",
         "fillcolor": "rgba(31,119,180, 0.6)",
         "jitter": 0.3,
         "legendgroup": "1",
         "line": {
          "color": "#1f77b4",
          "width": 2
         },
         "marker": {
          "color": "#1f77b4",
          "line": {
           "color": "rgba(0,0,0,0.3)",
           "width": 1
          }
         },
         "name": "1",
         "pointpos": -1.8,
         "showlegend": false,
         "type": "box",
         "xaxis": "x",
         "y": {
          "bdata": "mpmZmZmZ6T8AAAAAAADoPwAAAAAAAAAAAAAAAAAA0D8AAAAAAAAAAAAAAAAAAOA/AAAAAAAA4D+SJEmSJEnSP5IkSZIkScI/VVVVVVVVxT8=",
          "dtype": "f8"
         },
         "yaxis": "y"
        },
        {
         "boxpoints": "outliers",
         "fillcolor": "rgba(31,119,180, 0.6)",
         "jitter": 0.3,
         "legendgroup": "1",
         "line": {
          "color": "#1f77b4",
          "width": 2
         },
         "marker": {
          "color": "#1f77b4",
          "line": {
           "color": "rgba(0,0,0,0.3)",
           "width": 1
          }
         },
         "name": "1",
         "pointpos": -1.8,
         "showlegend": false,
         "type": "box",
         "xaxis": "x2",
         "y": {
          "bdata": "FDuxEzux0z9UVVVVVVXlPwAAAAAAAAAAVVVVVVVV1T8AAAAAAAAAAJMkSZIkSdI/AAAAAAAA4D8AAAAAAAAAAAAAAAAAAAAAkyRJkiRJwj8=",
          "dtype": "f8"
         },
         "yaxis": "y2"
        },
        {
         "boxpoints": "outliers",
         "fillcolor": "rgba(31,119,180, 0.6)",
         "jitter": 0.3,
         "legendgroup": "1",
         "line": {
          "color": "#1f77b4",
          "width": 2
         },
         "marker": {
          "color": "#1f77b4",
          "line": {
           "color": "rgba(0,0,0,0.3)",
           "width": 1
          }
         },
         "name": "1",
         "pointpos": -1.8,
         "showlegend": false,
         "type": "box",
         "xaxis": "x3",
         "y": {
          "bdata": "zczMzMxEZ0DMzMzMzJxLQGdmZmZm1klAMzMzMzM7Y0A0MzMzMzMjQMzMzMzMTCpAMzMzMzPnbUDNzMzMzORRQDQzMzMzQ1pAAAAAAABkZkA=",
          "dtype": "f8"
         },
         "yaxis": "y3"
        },
        {
         "hovertemplate": "<b>%{fullData.name}</b><br>Cost: $%{x:.4f}<br>Similarity: %{y:.3f}<br><extra></extra>",
         "legendgroup": "1",
         "marker": {
          "color": "#1f77b4",
          "line": {
           "color": "rgba(0,0,0,0.3)",
           "width": 1
          },
          "opacity": 0.7,
          "size": 8
         },
         "mode": "markers",
         "name": "1",
         "showlegend": false,
         "type": "scatter",
         "x": {
          "bdata": "wARu3c1TXT8LmSuDaoNTP2EyVTAqqTM/zsMJTKd1Sz+3Xz5ZMVxNP80iFFtB01I/Zr0Yyol2VT+3fY/66xVWPzIcz2dAvVk/Zr0Yyol2VT8=",
          "dtype": "f8"
         },
         "xaxis": "x4",
         "y": {
          "bdata": "mpmZmZmZ6T8AAAAAAADoPwAAAAAAAAAAAAAAAAAA0D8AAAAAAAAAAAAAAAAAAOA/AAAAAAAA4D+SJEmSJEnSP5IkSZIkScI/VVVVVVVVxT8=",
          "dtype": "f8"
         },
         "yaxis": "y4"
        },
        {
         "boxpoints": "outliers",
         "fillcolor": "rgba(31,119,180, 0.6)",
         "jitter": 0.3,
         "legendgroup": "1",
         "line": {
          "color": "#1f77b4",
          "width": 2
         },
         "marker": {
          "color": "#1f77b4",
          "line": {
           "color": "rgba(0,0,0,0.3)",
           "width": 1
          }
         },
         "name": "1",
         "pointpos": -1.8,
         "showlegend": false,
         "type": "box",
         "xaxis": "x5",
         "y": {
          "bdata": "16NwPQqXNECkcD0K1+MyQBSuR+F6lChAPQrXo3A9KkBmZmZmZiYwQKRwPQrXozJAMzMzMzNzM0BmZmZmZuYzQClcj8L1qDRAMzMzMzOzM0A=",
          "dtype": "f8"
         },
         "yaxis": "y5"
        },
        {
         "boxpoints": "outliers",
         "fillcolor": "rgba(255,127,14, 0.6)",
         "jitter": 0.3,
         "legendgroup": "2",
         "line": {
          "color": "#ff7f0e",
          "width": 2
         },
         "marker": {
          "color": "#ff7f0e",
          "line": {
           "color": "rgba(0,0,0,0.3)",
           "width": 1
          }
         },
         "name": "2",
         "pointpos": -1.8,
         "showlegend": false,
         "type": "box",
         "xaxis": "x",
         "y": {
          "bdata": "mpmZmZmZ6T8AAAAAAADgPwAAAAAAAAAAAAAAAAAAAAAAAAAAAAAAAAAAAAAAAOA/AAAAAAAA4D/btm3btm3bP5IkSZIkScI/VVVVVVVVxT8=",
          "dtype": "f8"
         },
         "yaxis": "y"
        },
        {
         "boxpoints": "outliers",
         "fillcolor": "rgba(255,127,14, 0.6)",
         "jitter": 0.3,
         "legendgroup": "2",
         "line": {
          "color": "#ff7f0e",
          "width": 2
         },
         "marker": {
          "color": "#ff7f0e",
          "line": {
           "color": "rgba(0,0,0,0.3)",
           "width": 1
          }
         },
         "name": "2",
         "pointpos": -1.8,
         "showlegend": false,
         "type": "box",
         "xaxis": "x2",
         "y": {
          "bdata": "FDuxEzux0z8dx3Ecx3HMPwAAAAAAAAAAAAAAAAAAAAAAAAAAAAAAAJMkSZIkSdI/VVVVVVVV1T8AAAAAAAAAAJIkSZIkScI/ERERERERwT8=",
          "dtype": "f8"
         },
         "yaxis": "y2"
        },
        {
         "boxpoints": "outliers",
         "fillcolor": "rgba(255,127,14, 0.6)",
         "jitter": 0.3,
         "legendgroup": "2",
         "line": {
          "color": "#ff7f0e",
          "width": 2
         },
         "marker": {
          "color": "#ff7f0e",
          "line": {
           "color": "rgba(0,0,0,0.3)",
           "width": 1
          }
         },
         "name": "2",
         "pointpos": -1.8,
         "showlegend": false,
         "type": "box",
         "xaxis": "x3",
         "y": {
          "bdata": "AAAAAADscEAyMzMzM+NJQC4zMzMzsxNAMzMzMzMjYkDNzMzMzEw5QMjMzMzMzNQ/MzMzMzNHZkCamZmZmaFZQDMzMzMzY1JAzczMzMxKcEA=",
          "dtype": "f8"
         },
         "yaxis": "y3"
        },
        {
         "hovertemplate": "<b>%{fullData.name}</b><br>Cost: $%{x:.4f}<br>Similarity: %{y:.3f}<br><extra></extra>",
         "legendgroup": "2",
         "marker": {
          "color": "#ff7f0e",
          "line": {
           "color": "rgba(0,0,0,0.3)",
           "width": 1
          },
          "opacity": 0.7,
          "size": 8
         },
         "mode": "markers",
         "name": "2",
         "showlegend": false,
         "type": "scatter",
         "x": {
          "bdata": "4LpiRnh7YD8bZf1mYrpQP3JvfsNEg0Q/xa2CGOjaNz+p3EQtza1QP7LUer/Rjks/bMzriEM2YD/aBBiWP99WP74ViQlq+FY/LXk8LT9wZT8=",
          "dtype": "f8"
         },
         "xaxis": "x4",
         "y": {
          "bdata": "mpmZmZmZ6T8AAAAAAADgPwAAAAAAAAAAAAAAAAAAAAAAAAAAAAAAAAAAAAAAAOA/AAAAAAAA4D/btm3btm3bP5IkSZIkScI/VVVVVVVVxT8=",
          "dtype": "f8"
         },
         "yaxis": "y4"
        },
        {
         "boxpoints": "outliers",
         "fillcolor": "rgba(255,127,14, 0.6)",
         "jitter": 0.3,
         "legendgroup": "2",
         "line": {
          "color": "#ff7f0e",
          "width": 2
         },
         "marker": {
          "color": "#ff7f0e",
          "line": {
           "color": "rgba(0,0,0,0.3)",
           "width": 1
          }
         },
         "name": "2",
         "pointpos": -1.8,
         "showlegend": false,
         "type": "box",
         "xaxis": "x5",
         "y": {
          "bdata": "mpmZmZnZNkCuR+F6FG4xQM3MzMzMzChAH4XrUbgeIEDsUbgehesyQM3MzMzMzC1AcT0K16PwN0CamZmZmRkxQFyPwvUo3DFACtejcD1KOkA=",
          "dtype": "f8"
         },
         "yaxis": "y5"
        },
        {
         "boxpoints": "outliers",
         "fillcolor": "rgba(44,160,44, 0.6)",
         "jitter": 0.3,
         "legendgroup": "3",
         "line": {
          "color": "#2ca02c",
          "width": 2
         },
         "marker": {
          "color": "#2ca02c",
          "line": {
           "color": "rgba(0,0,0,0.3)",
           "width": 1
          }
         },
         "name": "3",
         "pointpos": -1.8,
         "showlegend": false,
         "type": "box",
         "xaxis": "x",
         "y": {
          "bdata": "mpmZmZmZ2T8AAAAAAADQPwAAAAAAAAAAAAAAAAAA0D8AAAAAAAAAAAAAAAAAAOA/AAAAAAAA4D/btm3btm3bP5IkSZIkSdI/VVVVVVVVxT8=",
          "dtype": "f8"
         },
         "yaxis": "y"
        },
        {
         "boxpoints": "outliers",
         "fillcolor": "rgba(44,160,44, 0.6)",
         "jitter": 0.3,
         "legendgroup": "3",
         "line": {
          "color": "#2ca02c",
          "width": 2
         },
         "marker": {
          "color": "#2ca02c",
          "line": {
           "color": "rgba(0,0,0,0.3)",
           "width": 1
          }
         },
         "name": "3",
         "pointpos": -1.8,
         "showlegend": false,
         "type": "box",
         "xaxis": "x2",
         "y": {
          "bdata": "AAAAAAAAAAAAAAAAAAAAAAAAAAAAAAAAAAAAAAAAAAAAAAAAAAAAAAAAAAAAANA/VVVVVVVV1T8AAAAAAAAAAAAAAAAAAMA/AAAAAAAAAAA=",
          "dtype": "f8"
         },
         "yaxis": "y2"
        },
        {
         "boxpoints": "outliers",
         "fillcolor": "rgba(44,160,44, 0.6)",
         "jitter": 0.3,
         "legendgroup": "3",
         "line": {
          "color": "#2ca02c",
          "width": 2
         },
         "marker": {
          "color": "#2ca02c",
          "line": {
           "color": "rgba(0,0,0,0.3)",
           "width": 1
          }
         },
         "name": "3",
         "pointpos": -1.8,
         "showlegend": false,
         "type": "box",
         "xaxis": "x3",
         "y": {
          "bdata": "zczMzMwYZ0BmZmZmZpZBQM7MzMzMbDdAMzMzMzOTYUBkZmZmZmYCQJqZmZmZOTpAXI/C9SjUTUAzMzMzM6NPQDQzMzMzs0dAAAAAAACsakA=",
          "dtype": "f8"
         },
         "yaxis": "y3"
        },
        {
         "hovertemplate": "<b>%{fullData.name}</b><br>Cost: $%{x:.4f}<br>Similarity: %{y:.3f}<br><extra></extra>",
         "legendgroup": "3",
         "marker": {
          "color": "#2ca02c",
          "line": {
           "color": "rgba(0,0,0,0.3)",
           "width": 1
          },
          "opacity": 0.7,
          "size": 8
         },
         "mode": "markers",
         "name": "3",
         "showlegend": false,
         "type": "scatter",
         "x": {
          "bdata": "c71tpkI8oj+0d0ZblUSWP4XsvI3NjpQ/Z0XURJ+Pkj9F2safqGyIPxSX4xWInpQ/yXISSl8ImT9cPpKSHoaWP/T+P06YMJo/ukxNgjekoT8=",
          "dtype": "f8"
         },
         "xaxis": "x4",
         "y": {
          "bdata": "mpmZmZmZ2T8AAAAAAADQPwAAAAAAAAAAAAAAAAAA0D8AAAAAAAAAAAAAAAAAAOA/AAAAAAAA4D/btm3btm3bP5IkSZIkSdI/VVVVVVVVxT8=",
          "dtype": "f8"
         },
         "yaxis": "y4"
        },
        {
         "boxpoints": "outliers",
         "fillcolor": "rgba(44,160,44, 0.6)",
         "jitter": 0.3,
         "legendgroup": "3",
         "line": {
          "color": "#2ca02c",
          "width": 2
         },
         "marker": {
          "color": "#2ca02c",
          "line": {
           "color": "rgba(0,0,0,0.3)",
           "width": 1
          }
         },
         "name": "3",
         "pointpos": -1.8,
         "showlegend": false,
         "type": "box",
         "xaxis": "x5",
         "y": {
          "bdata": "H4XrUbg+RUAzMzMzM3M9QAAAAAAAwD1A4XoUrkehOkApXI/C9ag2QK5H4XoULj5ApHA9CtdDQECamZmZmVk9QEjhehSuB0FA16NwPQoXR0A=",
          "dtype": "f8"
         },
         "yaxis": "y5"
        },
        {
         "boxpoints": "outliers",
         "fillcolor": "rgba(214,39,40, 0.6)",
         "jitter": 0.3,
         "legendgroup": "4",
         "line": {
          "color": "#d62728",
          "width": 2
         },
         "marker": {
          "color": "#d62728",
          "line": {
           "color": "rgba(0,0,0,0.3)",
           "width": 1
          }
         },
         "name": "4",
         "pointpos": -1.8,
         "showlegend": false,
         "type": "box",
         "xaxis": "x",
         "y": {
          "bdata": "mpmZmZmZ6T8AAAAAAADgPwAAAAAAAAAAAAAAAAAAAAAAAAAAAAAAAAAAAAAAAOA/AAAAAAAA4D/btm3btm3bPwAAAAAAAAAAVVVVVVVVxT8=",
          "dtype": "f8"
         },
         "yaxis": "y"
        },
        {
         "boxpoints": "outliers",
         "fillcolor": "rgba(214,39,40, 0.6)",
         "jitter": 0.3,
         "legendgroup": "4",
         "line": {
          "color": "#d62728",
          "width": 2
         },
         "marker": {
          "color": "#d62728",
          "line": {
           "color": "rgba(0,0,0,0.3)",
           "width": 1
          }
         },
         "name": "4",
         "pointpos": -1.8,
         "showlegend": false,
         "type": "box",
         "xaxis": "x2",
         "y": {
          "bdata": "kiRJkiRJ4j+amZmZmZnJPwAAAAAAAAAAAAAAAAAAAAAAAAAAAAAAAJMkSZIkSeI/VVVVVVVV1T8AAAAAAAAAAAAAAAAAAAAAAAAAAAAAAAA=",
          "dtype": "f8"
         },
         "yaxis": "y2"
        },
        {
         "boxpoints": "outliers",
         "fillcolor": "rgba(214,39,40, 0.6)",
         "jitter": 0.3,
         "legendgroup": "4",
         "line": {
          "color": "#d62728",
          "width": 2
         },
         "marker": {
          "color": "#d62728",
          "line": {
           "color": "rgba(0,0,0,0.3)",
           "width": 1
          }
         },
         "name": "4",
         "pointpos": -1.8,
         "showlegend": false,
         "type": "box",
         "xaxis": "x3",
         "y": {
          "bdata": "AAAAAAB4YkAzMzMzMytRQM7MzMzM7D1AMzMzMzOjY0D//////38oQGZmZmZmpjtAzMzMzMyMTkBmZmZmZiZLQAAAAAAA4D9AAAAAAAAAaUA=",
          "dtype": "f8"
         },
         "yaxis": "y3"
        },
        {
         "hovertemplate": "<b>%{fullData.name}</b><br>Cost: $%{x:.4f}<br>Similarity: %{y:.3f}<br><extra></extra>",
         "legendgroup": "4",
         "marker": {
          "color": "#d62728",
          "line": {
           "color": "rgba(0,0,0,0.3)",
           "width": 1
          },
          "opacity": 0.7,
          "size": 8
         },
         "mode": "markers",
         "name": "4",
         "showlegend": false,
         "type": "scatter",
         "x": {
          "bdata": "WvW52or9lT8gRgiPNo6gP+gwX16AfYQ/y74rgv+tlD9BSBYwgVuHP9ogk4ychY0/w7ZFmQ0ymT9X7C+7Jw+bPwYv+grSjJU/JXoZxXJLmz8=",
          "dtype": "f8"
         },
         "xaxis": "x4",
         "y": {
          "bdata": "mpmZmZmZ6T8AAAAAAADgPwAAAAAAAAAAAAAAAAAAAAAAAAAAAAAAAAAAAAAAAOA/AAAAAAAA4D/btm3btm3bPwAAAAAAAAAAVVVVVVVVxT8=",
          "dtype": "f8"
         },
         "yaxis": "y4"
        },
        {
         "boxpoints": "outliers",
         "fillcolor": "rgba(214,39,40, 0.6)",
         "jitter": 0.3,
         "legendgroup": "4",
         "line": {
          "color": "#d62728",
          "width": 2
         },
         "marker": {
          "color": "#d62728",
          "line": {
           "color": "rgba(0,0,0,0.3)",
           "width": 1
          }
         },
         "name": "4",
         "pointpos": -1.8,
         "showlegend": false,
         "type": "box",
         "xaxis": "x5",
         "y": {
          "bdata": "AAAAAACAO0DD9Shcj2JDQFyPwvUoXDNACtejcD3KNkC4HoXrUTg2QGZmZmZmZjdAj8L1KFxPP0DD9ShcjwI/QM3MzMzMDDxA7FG4HoWLQUA=",
          "dtype": "f8"
         },
         "yaxis": "y5"
        },
        {
         "boxpoints": "outliers",
         "fillcolor": "rgba(148,103,189, 0.6)",
         "jitter": 0.3,
         "legendgroup": "5",
         "line": {
          "color": "#9467bd",
          "width": 2
         },
         "marker": {
          "color": "#9467bd",
          "line": {
           "color": "rgba(0,0,0,0.3)",
           "width": 1
          }
         },
         "name": "5",
         "pointpos": -1.8,
         "showlegend": false,
         "type": "box",
         "xaxis": "x",
         "y": {
          "bdata": "MzMzMzMz4z8AAAAAAADoPwAAAAAAAAAAAAAAAAAA0D8AAAAAAAAAAAAAAAAAAOA/q6qqqqqq6j+SJEmSJEnSP5IkSZIkSeI/VVVVVVVV1T8=",
          "dtype": "f8"
         },
         "yaxis": "y"
        },
        {
         "boxpoints": "outliers",
         "fillcolor": "rgba(148,103,189, 0.6)",
         "jitter": 0.3,
         "legendgroup": "5",
         "line": {
          "color": "#9467bd",
          "width": 2
         },
         "marker": {
          "color": "#9467bd",
          "line": {
           "color": "rgba(0,0,0,0.3)",
           "width": 1
          }
         },
         "name": "5",
         "pointpos": -1.8,
         "showlegend": false,
         "type": "box",
         "xaxis": "x2",
         "y": {
          "bdata": "AAAAAAAA4D8AAAAAAADoPwAAAAAAAAAAVVVVVVVV1T8AAAAAAAAAAJMkSZIkSdI/VVVVVVVV1T9VVVVVVVXFPwAAAAAAANg/EzuxEzuxwz8=",
          "dtype": "f8"
         },
         "yaxis": "y2"
        },
        {
         "boxpoints": "outliers",
         "fillcolor": "rgba(148,103,189, 0.6)",
         "jitter": 0.3,
         "legendgroup": "5",
         "line": {
          "color": "#9467bd",
          "width": 2
         },
         "marker": {
          "color": "#9467bd",
          "line": {
           "color": "rgba(0,0,0,0.3)",
           "width": 1
          }
         },
         "name": "5",
         "pointpos": -1.8,
         "showlegend": false,
         "type": "box",
         "xaxis": "x3",
         "y": {
          "bdata": "mZmZmZmJXEDKzMzMzIwpQJyZmZmZ2S9AMzMzMzOrZkAwMzMzMzMCQDIzMzMzM/E/bGZmZmbmHUCZmZmZmflCQGdmZmZmZkdAAAAAAAAwUEA=",
          "dtype": "f8"
         },
         "yaxis": "y3"
        },
        {
         "hovertemplate": "<b>%{fullData.name}</b><br>Cost: $%{x:.4f}<br>Similarity: %{y:.3f}<br><extra></extra>",
         "legendgroup": "5",
         "marker": {
          "color": "#9467bd",
          "line": {
           "color": "rgba(0,0,0,0.3)",
           "width": 1
          },
          "opacity": 0.7,
          "size": 8
         },
         "mode": "markers",
         "name": "5",
         "showlegend": false,
         "type": "scatter",
         "x": {
          "bdata": "qdxELc2tcD/6JeKt8293P9P4hVeSPHc/FeKReHk6dz/mdcQhG0h3P/BN02cHXHc/ZDxKJTyhdz/CFOXS+IV3P1NYqaCi6nc/nYAmwoandz8=",
          "dtype": "f8"
         },
         "xaxis": "x4",
         "y": {
          "bdata": "MzMzMzMz4z8AAAAAAADoPwAAAAAAAAAAAAAAAAAA0D8AAAAAAAAAAAAAAAAAAOA/q6qqqqqq6j+SJEmSJEnSP5IkSZIkSeI/VVVVVVVV1T8=",
          "dtype": "f8"
         },
         "yaxis": "y4"
        },
        {
         "boxpoints": "outliers",
         "fillcolor": "rgba(148,103,189, 0.6)",
         "jitter": 0.3,
         "legendgroup": "5",
         "line": {
          "color": "#9467bd",
          "width": 2
         },
         "marker": {
          "color": "#9467bd",
          "line": {
           "color": "rgba(0,0,0,0.3)",
           "width": 1
          }
         },
         "name": "5",
         "pointpos": -1.8,
         "showlegend": false,
         "type": "box",
         "xaxis": "x5",
         "y": {
          "bdata": "KVyPwvWoI0DD9Shcj8IlQDMzMzMzMyhAexSuR+F6GEDD9Shcj8IpQK5H4XoULiVAMzMzMzOzIEB7FK5H4XorQPYoXI/CdSRAexSuR+H6LEA=",
          "dtype": "f8"
         },
         "yaxis": "y5"
        },
        {
         "boxpoints": "outliers",
         "fillcolor": "rgba(140,86,75, 0.6)",
         "jitter": 0.3,
         "legendgroup": "6",
         "line": {
          "color": "#8c564b",
          "width": 2
         },
         "marker": {
          "color": "#8c564b",
          "line": {
           "color": "rgba(0,0,0,0.3)",
           "width": 1
          }
         },
         "name": "6",
         "pointpos": -1.8,
         "showlegend": false,
         "type": "box",
         "xaxis": "x",
         "y": {
          "bdata": "MzMzMzMz4z8AAAAAAADoPwAAAAAAAAAAAAAAAAAA4D8AAAAAAAAAAAAAAAAAAOA/q6qqqqqq6j/btm3btm3bP5IkSZIkSdI/VVVVVVVV1T8=",
          "dtype": "f8"
         },
         "yaxis": "y"
        },
        {
         "boxpoints": "outliers",
         "fillcolor": "rgba(140,86,75, 0.6)",
         "jitter": 0.3,
         "legendgroup": "6",
         "line": {
          "color": "#8c564b",
          "width": 2
         },
         "marker": {
          "color": "#8c564b",
          "line": {
           "color": "rgba(0,0,0,0.3)",
           "width": 1
          }
         },
         "name": "6",
         "pointpos": -1.8,
         "showlegend": false,
         "type": "box",
         "xaxis": "x2",
         "y": {
          "bdata": "AAAAAAAA4D8AAAAAAADoPwAAAAAAAAAAkyRJkiRJ0j8AAAAAAAAAAJMkSZIkSdI/VVVVVVVV1T9VVVVVVVXFPwAAAAAAAAAAEzuxEzuxwz8=",
          "dtype": "f8"
         },
         "yaxis": "y2"
        },
        {
         "boxpoints": "outliers",
         "fillcolor": "rgba(140,86,75, 0.6)",
         "jitter": 0.3,
         "legendgroup": "6",
         "line": {
          "color": "#8c564b",
          "width": 2
         },
         "marker": {
          "color": "#8c564b",
          "line": {
           "color": "rgba(0,0,0,0.3)",
           "width": 1
          }
         },
         "name": "6",
         "pointpos": -1.8,
         "showlegend": false,
         "type": "box",
         "xaxis": "x3",
         "y": {
          "bdata": "zczMzMxMYkAwMzMzM3MmQDQzMzMzu1JAMzMzMzMjZ0BkZmZmZmYCQDIzMzMzM/E/MDMzMzPzLUAzMzMzMzNJQGdmZmZm5kRAAAAAAACwTUA=",
          "dtype": "f8"
         },
         "yaxis": "y3"
        },
        {
         "hovertemplate": "<b>%{fullData.name}</b><br>Cost: $%{x:.4f}<br>Similarity: %{y:.3f}<br><extra></extra>",
         "legendgroup": "6",
         "marker": {
          "color": "#8c564b",
          "line": {
           "color": "rgba(0,0,0,0.3)",
           "width": 1
          },
          "opacity": 0.7,
          "size": 8
         },
         "mode": "markers",
         "name": "6",
         "showlegend": false,
         "type": "scatter",
         "x": {
          "bdata": "Z/M4DOavcD+cGmg+5253P0ROX8/XLHc/m+eIfJdSdz8DmDJwQEt3Pw1wQbYsX3c/gV64c2Gkdz8hIF9CBYd3P1zK+WLvxXc/UvLqHAOydz8=",
          "dtype": "f8"
         },
         "xaxis": "x4",
         "y": {
          "bdata": "MzMzMzMz4z8AAAAAAADoPwAAAAAAAAAAAAAAAAAA4D8AAAAAAAAAAAAAAAAAAOA/q6qqqqqq6j/btm3btm3bP5IkSZIkSdI/VVVVVVVV1T8=",
          "dtype": "f8"
         },
         "yaxis": "y4"
        },
        {
         "boxpoints": "outliers",
         "fillcolor": "rgba(140,86,75, 0.6)",
         "jitter": 0.3,
         "legendgroup": "6",
         "line": {
          "color": "#8c564b",
          "width": 2
         },
         "marker": {
          "color": "#8c564b",
          "line": {
           "color": "rgba(0,0,0,0.3)",
           "width": 1
          }
         },
         "name": "6",
         "pointpos": -1.8,
         "showlegend": false,
         "type": "box",
         "xaxis": "x5",
         "y": {
          "bdata": "mpmZmZmZK0AfhetRuJ4qQLgehetROCpAH4XrUbgeGUCkcD0K16MqQFyPwvUoXChAAAAAAAAAJUAK16NwPYorQM3MzMzMzC9AUrgehetRLUA=",
          "dtype": "f8"
         },
         "yaxis": "y5"
        },
        {
         "boxpoints": "outliers",
         "fillcolor": "rgba(227,119,194, 0.6)",
         "jitter": 0.3,
         "legendgroup": "7",
         "line": {
          "color": "#e377c2",
          "width": 2
         },
         "marker": {
          "color": "#e377c2",
          "line": {
           "color": "rgba(0,0,0,0.3)",
           "width": 1
          }
         },
         "name": "7",
         "pointpos": -1.8,
         "showlegend": false,
         "type": "box",
         "xaxis": "x",
         "y": {
          "bdata": "AAAAAAAA8D8AAAAAAADgP1VVVVVVVcU/AAAAAAAA0D8AAAAAAAAAAAAAAAAAAOg/AAAAAAAA8D/btm3btm3bP5IkSZIkScI/VVVVVVVV1T8=",
          "dtype": "f8"
         },
         "yaxis": "y"
        },
        {
         "boxpoints": "outliers",
         "fillcolor": "rgba(227,119,194, 0.6)",
         "jitter": 0.3,
         "legendgroup": "7",
         "line": {
          "color": "#e377c2",
          "width": 2
         },
         "marker": {
          "color": "#e377c2",
          "line": {
           "color": "rgba(0,0,0,0.3)",
           "width": 1
          }
         },
         "name": "7",
         "pointpos": -1.8,
         "showlegend": false,
         "type": "box",
         "xaxis": "x2",
         "y": {
          "bdata": "qqqqqqqq6j9VVVVVVVXlPwAAAAAAANA/VVVVVVVV1T8AAAAAAAAAAAAAAAAAAOg/VVVVVVVV5T8TO7ETO7HTPwAAAAAAAAAAVVVVVVVVxT8=",
          "dtype": "f8"
         },
         "yaxis": "y2"
        },
        {
         "boxpoints": "outliers",
         "fillcolor": "rgba(227,119,194, 0.6)",
         "jitter": 0.3,
         "legendgroup": "7",
         "line": {
          "color": "#e377c2",
          "width": 2
         },
         "marker": {
          "color": "#e377c2",
          "line": {
           "color": "rgba(0,0,0,0.3)",
           "width": 1
          }
         },
         "name": "7",
         "pointpos": -1.8,
         "showlegend": false,
         "type": "box",
         "xaxis": "x3",
         "y": {
          "bdata": "mZmZmZkZW0CdmZmZmVkpQAIAAAAAIDFAMzMzMzPbZ0CWmZmZmZkCQP7///////s/x8zMzMxMEkAzMzMzMzNMQJqZmZmZqUNAAAAAAAB4XEA=",
          "dtype": "f8"
         },
         "yaxis": "y3"
        },
        {
         "hovertemplate": "<b>%{fullData.name}</b><br>Cost: $%{x:.4f}<br>Similarity: %{y:.3f}<br><extra></extra>",
         "legendgroup": "7",
         "marker": {
          "color": "#e377c2",
          "line": {
           "color": "rgba(0,0,0,0.3)",
           "width": 1
          },
          "opacity": 0.7,
          "size": 8
         },
         "mode": "markers",
         "name": "7",
         "showlegend": false,
         "type": "scatter",
         "x": {
          "bdata": "+7FJfsSveD+impKsw9F1P0qbqntkc3U/XRjpRe1+dT+RtvEnKht2P2SV0jO9xHg/m+RH/Io1fD+jyjDuBtF6P2pQNA9gkX8/8fEJ2Xkbez8=",
          "dtype": "f8"
         },
         "xaxis": "x4",
         "y": {
          "bdata": "AAAAAAAA8D8AAAAAAADgP1VVVVVVVcU/AAAAAAAA0D8AAAAAAAAAAAAAAAAAAOg/AAAAAAAA8D/btm3btm3bP5IkSZIkScI/VVVVVVVV1T8=",
          "dtype": "f8"
         },
         "yaxis": "y4"
        },
        {
         "boxpoints": "outliers",
         "fillcolor": "rgba(227,119,194, 0.6)",
         "jitter": 0.3,
         "legendgroup": "7",
         "line": {
          "color": "#e377c2",
          "width": 2
         },
         "marker": {
          "color": "#e377c2",
          "line": {
           "color": "rgba(0,0,0,0.3)",
           "width": 1
          }
         },
         "name": "7",
         "pointpos": -1.8,
         "showlegend": false,
         "type": "box",
         "xaxis": "x5",
         "y": {
          "bdata": "cT0K16MwNUB7FK5H4fotQPYoXI/C9R5AKVyPwvUoLEAUrkfhepQvQB+F61G4HjFA4XoUrkchNEDNzMzMzEwsQI/C9ShcTzFAj8L1KFwPM0A=",
          "dtype": "f8"
         },
         "yaxis": "y5"
        },
        {
         "boxpoints": "outliers",
         "fillcolor": "rgba(127,127,127, 0.6)",
         "jitter": 0.3,
         "legendgroup": "8",
         "line": {
          "color": "#7f7f7f",
          "width": 2
         },
         "marker": {
          "color": "#7f7f7f",
          "line": {
           "color": "rgba(0,0,0,0.3)",
           "width": 1
          }
         },
         "name": "8",
         "pointpos": -1.8,
         "showlegend": false,
         "type": "box",
         "xaxis": "x",
         "y": {
          "bdata": "mpmZmZmZ6T8AAAAAAADQPwAAAAAAAAAAAAAAAAAAAAAAAAAAAAAAAAAAAAAAAOg/q6qqqqqq6j+3bdu2bdvmP5IkSZIkScI/VVVVVVVV1T8=",
          "dtype": "f8"
         },
         "yaxis": "y"
        },
        {
         "boxpoints": "outliers",
         "fillcolor": "rgba(127,127,127, 0.6)",
         "jitter": 0.3,
         "legendgroup": "8",
         "line": {
          "color": "#7f7f7f",
          "width": 2
         },
         "marker": {
          "color": "#7f7f7f",
          "line": {
           "color": "rgba(0,0,0,0.3)",
           "width": 1
          }
         },
         "name": "8",
         "pointpos": -1.8,
         "showlegend": false,
         "type": "box",
         "xaxis": "x2",
         "y": {
          "bdata": "VVVVVVVV5T9VVVVVVVXVPwAAAAAAAAAAAAAAAAAAAAAAAAAAAAAAAAAAAAAAAOg/VVVVVVVV5T8TO7ETO7HjPwAAAAAAAAAAVVVVVVVVxT8=",
          "dtype": "f8"
         },
         "yaxis": "y2"
        },
        {
         "boxpoints": "outliers",
         "fillcolor": "rgba(127,127,127, 0.6)",
         "jitter": 0.3,
         "legendgroup": "8",
         "line": {
          "color": "#7f7f7f",
          "width": 2
         },
         "marker": {
          "color": "#7f7f7f",
          "line": {
           "color": "rgba(0,0,0,0.3)",
           "width": 1
          }
         },
         "name": "8",
         "pointpos": -1.8,
         "showlegend": false,
         "type": "box",
         "xaxis": "x3",
         "y": {
          "bdata": "mZmZmZkZWUA2MzMzMzMhQGdmZmZmtkJAMzMzMzMLZkCWmZmZmZkCQGJmZmZmZvw/YGZmZmbmE0AzMzMzM3NJQAIAAAAAwCFAAAAAAAB4XEA=",
          "dtype": "f8"
         },
         "yaxis": "y3"
        },
        {
         "hovertemplate": "<b>%{fullData.name}</b><br>Cost: $%{x:.4f}<br>Similarity: %{y:.3f}<br><extra></extra>",
         "legendgroup": "8",
         "marker": {
          "color": "#7f7f7f",
          "line": {
           "color": "rgba(0,0,0,0.3)",
           "width": 1
          },
          "opacity": 0.7,
          "size": 8
         },
         "mode": "markers",
         "name": "8",
         "showlegend": false,
         "type": "scatter",
         "x": {
          "bdata": "vJS6ZBwjeT+1F9F2TN11P4JTH0jeOXQ/b9bgfVUudD8rbAa4IFt2P814W+m12Xg/kQw5tp4hfD91kUJZ+Pp6P65hhsYTQXw/8fEJ2Xkbez8=",
          "dtype": "f8"
         },
         "xaxis": "x4",
         "y": {
          "bdata": "mpmZmZmZ6T8AAAAAAADQPwAAAAAAAAAAAAAAAAAAAAAAAAAAAAAAAAAAAAAAAOg/q6qqqqqq6j+3bdu2bdvmP5IkSZIkScI/VVVVVVVV1T8=",
          "dtype": "f8"
         },
         "yaxis": "y4"
        },
        {
         "boxpoints": "outliers",
         "fillcolor": "rgba(127,127,127, 0.6)",
         "jitter": 0.3,
         "legendgroup": "8",
         "line": {
          "color": "#7f7f7f",
          "width": 2
         },
         "marker": {
          "color": "#7f7f7f",
          "line": {
           "color": "rgba(0,0,0,0.3)",
           "width": 1
          }
         },
         "name": "8",
         "pointpos": -1.8,
         "showlegend": false,
         "type": "box",
         "xaxis": "x5",
         "y": {
          "bdata": "PQrXo3C9NUAzMzMzM7MsQB+F61G4ni5ACtejcD0KKkBmZmZmZmYwQAAAAAAAgCRAAAAAAADAMkCamZmZmdkxQEjhehSuBzNA4XoUrkfhMUA=",
          "dtype": "f8"
         },
         "yaxis": "y5"
        },
        {
         "hovertemplate": "<b>Model %{x}</b><br>Success Rate: %{y:.1f}%<br><extra></extra>",
         "marker": {
          "color": [
           "#1f77b4",
           "#ff7f0e",
           "#2ca02c",
           "#d62728",
           "#9467bd",
           "#8c564b",
           "#e377c2",
           "#7f7f7f"
          ],
          "line": {
           "color": "rgba(0,0,0,0.3)",
           "width": 1
          },
          "opacity": 0.8
         },
         "showlegend": false,
         "text": [
          "100.0%",
          "100.0%",
          "100.0%",
          "100.0%",
          "100.0%",
          "100.0%",
          "100.0%",
          "100.0%"
         ],
         "textposition": "outside",
         "type": "bar",
         "x": [
          1,
          2,
          3,
          4,
          5,
          6,
          7,
          8
         ],
         "xaxis": "x6",
         "y": {
          "bdata": "AAAAAAAAWUAAAAAAAABZQAAAAAAAAFlAAAAAAAAAWUAAAAAAAABZQAAAAAAAAFlAAAAAAAAAWUAAAAAAAABZQA==",
          "dtype": "f8"
         },
         "yaxis": "y6"
        },
        {
         "legendgroup": "1",
         "marker": {
          "color": "#1f77b4",
          "line": {
           "color": "rgba(0,0,0,0.3)",
           "width": 2
          },
          "size": 12,
          "symbol": "circle"
         },
         "mode": "markers",
         "name": "1: gemini-2.5-flash-preview-05-20_detailed",
         "showlegend": true,
         "type": "scatter",
         "x": [
          null
         ],
         "y": [
          null
         ]
        },
        {
         "legendgroup": "2",
         "marker": {
          "color": "#ff7f0e",
          "line": {
           "color": "rgba(0,0,0,0.3)",
           "width": 2
          },
          "size": 12,
          "symbol": "circle"
         },
         "mode": "markers",
         "name": "2: gemini-2.5-flash-preview-05-20_step_by_step",
         "showlegend": true,
         "type": "scatter",
         "x": [
          null
         ],
         "y": [
          null
         ]
        },
        {
         "legendgroup": "3",
         "marker": {
          "color": "#2ca02c",
          "line": {
           "color": "rgba(0,0,0,0.3)",
           "width": 2
          },
          "size": 12,
          "symbol": "circle"
         },
         "mode": "markers",
         "name": "3: gemini-2.5-pro-preview-06-05_detailed",
         "showlegend": true,
         "type": "scatter",
         "x": [
          null
         ],
         "y": [
          null
         ]
        },
        {
         "legendgroup": "4",
         "marker": {
          "color": "#d62728",
          "line": {
           "color": "rgba(0,0,0,0.3)",
           "width": 2
          },
          "size": 12,
          "symbol": "circle"
         },
         "mode": "markers",
         "name": "4: gemini-2.5-pro-preview-06-05_step_by_step",
         "showlegend": true,
         "type": "scatter",
         "x": [
          null
         ],
         "y": [
          null
         ]
        },
        {
         "legendgroup": "5",
         "marker": {
          "color": "#9467bd",
          "line": {
           "color": "rgba(0,0,0,0.3)",
           "width": 2
          },
          "size": 12,
          "symbol": "circle"
         },
         "mode": "markers",
         "name": "5: gpt-4o-mini_detailed",
         "showlegend": true,
         "type": "scatter",
         "x": [
          null
         ],
         "y": [
          null
         ]
        },
        {
         "legendgroup": "6",
         "marker": {
          "color": "#8c564b",
          "line": {
           "color": "rgba(0,0,0,0.3)",
           "width": 2
          },
          "size": 12,
          "symbol": "circle"
         },
         "mode": "markers",
         "name": "6: gpt-4o-mini_step_by_step",
         "showlegend": true,
         "type": "scatter",
         "x": [
          null
         ],
         "y": [
          null
         ]
        },
        {
         "legendgroup": "7",
         "marker": {
          "color": "#e377c2",
          "line": {
           "color": "rgba(0,0,0,0.3)",
           "width": 2
          },
          "size": 12,
          "symbol": "circle"
         },
         "mode": "markers",
         "name": "7: gpt-4o_detailed",
         "showlegend": true,
         "type": "scatter",
         "x": [
          null
         ],
         "y": [
          null
         ]
        },
        {
         "legendgroup": "8",
         "marker": {
          "color": "#7f7f7f",
          "line": {
           "color": "rgba(0,0,0,0.3)",
           "width": 2
          },
          "size": 12,
          "symbol": "circle"
         },
         "mode": "markers",
         "name": "8: gpt-4o_step_by_step",
         "showlegend": true,
         "type": "scatter",
         "x": [
          null
         ],
         "y": [
          null
         ]
        }
       ],
       "layout": {
        "annotations": [
         {
          "font": {
           "size": 16
          },
          "showarrow": false,
          "text": "Embedding Similarity Distribution",
          "x": 0.13999999999999999,
          "xanchor": "center",
          "xref": "paper",
          "y": 1,
          "yanchor": "bottom",
          "yref": "paper"
         },
         {
          "font": {
           "size": 16
          },
          "showarrow": false,
          "text": "F1 Score (Ingredients)",
          "x": 0.49999999999999994,
          "xanchor": "center",
          "xref": "paper",
          "y": 1,
          "yanchor": "bottom",
          "yref": "paper"
         },
         {
          "font": {
           "size": 16
          },
          "showarrow": false,
          "text": "Macro Nutritional MAE",
          "x": 0.86,
          "xanchor": "center",
          "xref": "paper",
          "y": 1,
          "yanchor": "bottom",
          "yref": "paper"
         },
         {
          "font": {
           "size": 16
          },
          "showarrow": false,
          "text": "Cost vs. Performance",
          "x": 0.13999999999999999,
          "xanchor": "center",
          "xref": "paper",
          "y": 0.44,
          "yanchor": "bottom",
          "yref": "paper"
         },
         {
          "font": {
           "size": 16
          },
          "showarrow": false,
          "text": " Response Time Distribution",
          "x": 0.49999999999999994,
          "xanchor": "center",
          "xref": "paper",
          "y": 0.44,
          "yanchor": "bottom",
          "yref": "paper"
         },
         {
          "font": {
           "size": 16
          },
          "showarrow": false,
          "text": "Success Rate by Model",
          "x": 0.86,
          "xanchor": "center",
          "xref": "paper",
          "y": 0.44,
          "yanchor": "bottom",
          "yref": "paper"
         }
        ],
        "font": {
         "color": "#2f2f2f",
         "family": "Arial, sans-serif",
         "size": 11
        },
        "height": 900,
        "hovermode": "closest",
        "legend": {
         "bgcolor": "rgba(255,255,255,0.8)",
         "bordercolor": "rgba(128,128,128,0.5)",
         "borderwidth": 1,
         "font": {
          "size": 11
         },
         "title": {
          "font": {
           "color": "#1f1f1f",
           "size": 14
          },
          "text": "<b>Models</b>"
         },
         "x": 1.02,
         "xanchor": "left",
         "y": 1,
         "yanchor": "top"
        },
        "margin": {
         "b": 80,
         "l": 80,
         "r": 150,
         "t": 120
        },
        "paper_bgcolor": "white",
        "plot_bgcolor": "rgba(248,249,250,0.8)",
        "showlegend": true,
        "template": {
         "data": {
          "bar": [
           {
            "error_x": {
             "color": "#2a3f5f"
            },
            "error_y": {
             "color": "#2a3f5f"
            },
            "marker": {
             "line": {
              "color": "#E5ECF6",
              "width": 0.5
             },
             "pattern": {
              "fillmode": "overlay",
              "size": 10,
              "solidity": 0.2
             }
            },
            "type": "bar"
           }
          ],
          "barpolar": [
           {
            "marker": {
             "line": {
              "color": "#E5ECF6",
              "width": 0.5
             },
             "pattern": {
              "fillmode": "overlay",
              "size": 10,
              "solidity": 0.2
             }
            },
            "type": "barpolar"
           }
          ],
          "carpet": [
           {
            "aaxis": {
             "endlinecolor": "#2a3f5f",
             "gridcolor": "white",
             "linecolor": "white",
             "minorgridcolor": "white",
             "startlinecolor": "#2a3f5f"
            },
            "baxis": {
             "endlinecolor": "#2a3f5f",
             "gridcolor": "white",
             "linecolor": "white",
             "minorgridcolor": "white",
             "startlinecolor": "#2a3f5f"
            },
            "type": "carpet"
           }
          ],
          "choropleth": [
           {
            "colorbar": {
             "outlinewidth": 0,
             "ticks": ""
            },
            "type": "choropleth"
           }
          ],
          "contour": [
           {
            "colorbar": {
             "outlinewidth": 0,
             "ticks": ""
            },
            "colorscale": [
             [
              0,
              "#0d0887"
             ],
             [
              0.1111111111111111,
              "#46039f"
             ],
             [
              0.2222222222222222,
              "#7201a8"
             ],
             [
              0.3333333333333333,
              "#9c179e"
             ],
             [
              0.4444444444444444,
              "#bd3786"
             ],
             [
              0.5555555555555556,
              "#d8576b"
             ],
             [
              0.6666666666666666,
              "#ed7953"
             ],
             [
              0.7777777777777778,
              "#fb9f3a"
             ],
             [
              0.8888888888888888,
              "#fdca26"
             ],
             [
              1,
              "#f0f921"
             ]
            ],
            "type": "contour"
           }
          ],
          "contourcarpet": [
           {
            "colorbar": {
             "outlinewidth": 0,
             "ticks": ""
            },
            "type": "contourcarpet"
           }
          ],
          "heatmap": [
           {
            "colorbar": {
             "outlinewidth": 0,
             "ticks": ""
            },
            "colorscale": [
             [
              0,
              "#0d0887"
             ],
             [
              0.1111111111111111,
              "#46039f"
             ],
             [
              0.2222222222222222,
              "#7201a8"
             ],
             [
              0.3333333333333333,
              "#9c179e"
             ],
             [
              0.4444444444444444,
              "#bd3786"
             ],
             [
              0.5555555555555556,
              "#d8576b"
             ],
             [
              0.6666666666666666,
              "#ed7953"
             ],
             [
              0.7777777777777778,
              "#fb9f3a"
             ],
             [
              0.8888888888888888,
              "#fdca26"
             ],
             [
              1,
              "#f0f921"
             ]
            ],
            "type": "heatmap"
           }
          ],
          "histogram": [
           {
            "marker": {
             "pattern": {
              "fillmode": "overlay",
              "size": 10,
              "solidity": 0.2
             }
            },
            "type": "histogram"
           }
          ],
          "histogram2d": [
           {
            "colorbar": {
             "outlinewidth": 0,
             "ticks": ""
            },
            "colorscale": [
             [
              0,
              "#0d0887"
             ],
             [
              0.1111111111111111,
              "#46039f"
             ],
             [
              0.2222222222222222,
              "#7201a8"
             ],
             [
              0.3333333333333333,
              "#9c179e"
             ],
             [
              0.4444444444444444,
              "#bd3786"
             ],
             [
              0.5555555555555556,
              "#d8576b"
             ],
             [
              0.6666666666666666,
              "#ed7953"
             ],
             [
              0.7777777777777778,
              "#fb9f3a"
             ],
             [
              0.8888888888888888,
              "#fdca26"
             ],
             [
              1,
              "#f0f921"
             ]
            ],
            "type": "histogram2d"
           }
          ],
          "histogram2dcontour": [
           {
            "colorbar": {
             "outlinewidth": 0,
             "ticks": ""
            },
            "colorscale": [
             [
              0,
              "#0d0887"
             ],
             [
              0.1111111111111111,
              "#46039f"
             ],
             [
              0.2222222222222222,
              "#7201a8"
             ],
             [
              0.3333333333333333,
              "#9c179e"
             ],
             [
              0.4444444444444444,
              "#bd3786"
             ],
             [
              0.5555555555555556,
              "#d8576b"
             ],
             [
              0.6666666666666666,
              "#ed7953"
             ],
             [
              0.7777777777777778,
              "#fb9f3a"
             ],
             [
              0.8888888888888888,
              "#fdca26"
             ],
             [
              1,
              "#f0f921"
             ]
            ],
            "type": "histogram2dcontour"
           }
          ],
          "mesh3d": [
           {
            "colorbar": {
             "outlinewidth": 0,
             "ticks": ""
            },
            "type": "mesh3d"
           }
          ],
          "parcoords": [
           {
            "line": {
             "colorbar": {
              "outlinewidth": 0,
              "ticks": ""
             }
            },
            "type": "parcoords"
           }
          ],
          "pie": [
           {
            "automargin": true,
            "type": "pie"
           }
          ],
          "scatter": [
           {
            "fillpattern": {
             "fillmode": "overlay",
             "size": 10,
             "solidity": 0.2
            },
            "type": "scatter"
           }
          ],
          "scatter3d": [
           {
            "line": {
             "colorbar": {
              "outlinewidth": 0,
              "ticks": ""
             }
            },
            "marker": {
             "colorbar": {
              "outlinewidth": 0,
              "ticks": ""
             }
            },
            "type": "scatter3d"
           }
          ],
          "scattercarpet": [
           {
            "marker": {
             "colorbar": {
              "outlinewidth": 0,
              "ticks": ""
             }
            },
            "type": "scattercarpet"
           }
          ],
          "scattergeo": [
           {
            "marker": {
             "colorbar": {
              "outlinewidth": 0,
              "ticks": ""
             }
            },
            "type": "scattergeo"
           }
          ],
          "scattergl": [
           {
            "marker": {
             "colorbar": {
              "outlinewidth": 0,
              "ticks": ""
             }
            },
            "type": "scattergl"
           }
          ],
          "scattermap": [
           {
            "marker": {
             "colorbar": {
              "outlinewidth": 0,
              "ticks": ""
             }
            },
            "type": "scattermap"
           }
          ],
          "scattermapbox": [
           {
            "marker": {
             "colorbar": {
              "outlinewidth": 0,
              "ticks": ""
             }
            },
            "type": "scattermapbox"
           }
          ],
          "scatterpolar": [
           {
            "marker": {
             "colorbar": {
              "outlinewidth": 0,
              "ticks": ""
             }
            },
            "type": "scatterpolar"
           }
          ],
          "scatterpolargl": [
           {
            "marker": {
             "colorbar": {
              "outlinewidth": 0,
              "ticks": ""
             }
            },
            "type": "scatterpolargl"
           }
          ],
          "scatterternary": [
           {
            "marker": {
             "colorbar": {
              "outlinewidth": 0,
              "ticks": ""
             }
            },
            "type": "scatterternary"
           }
          ],
          "surface": [
           {
            "colorbar": {
             "outlinewidth": 0,
             "ticks": ""
            },
            "colorscale": [
             [
              0,
              "#0d0887"
             ],
             [
              0.1111111111111111,
              "#46039f"
             ],
             [
              0.2222222222222222,
              "#7201a8"
             ],
             [
              0.3333333333333333,
              "#9c179e"
             ],
             [
              0.4444444444444444,
              "#bd3786"
             ],
             [
              0.5555555555555556,
              "#d8576b"
             ],
             [
              0.6666666666666666,
              "#ed7953"
             ],
             [
              0.7777777777777778,
              "#fb9f3a"
             ],
             [
              0.8888888888888888,
              "#fdca26"
             ],
             [
              1,
              "#f0f921"
             ]
            ],
            "type": "surface"
           }
          ],
          "table": [
           {
            "cells": {
             "fill": {
              "color": "#EBF0F8"
             },
             "line": {
              "color": "white"
             }
            },
            "header": {
             "fill": {
              "color": "#C8D4E3"
             },
             "line": {
              "color": "white"
             }
            },
            "type": "table"
           }
          ]
         },
         "layout": {
          "annotationdefaults": {
           "arrowcolor": "#2a3f5f",
           "arrowhead": 0,
           "arrowwidth": 1
          },
          "autotypenumbers": "strict",
          "coloraxis": {
           "colorbar": {
            "outlinewidth": 0,
            "ticks": ""
           }
          },
          "colorscale": {
           "diverging": [
            [
             0,
             "#8e0152"
            ],
            [
             0.1,
             "#c51b7d"
            ],
            [
             0.2,
             "#de77ae"
            ],
            [
             0.3,
             "#f1b6da"
            ],
            [
             0.4,
             "#fde0ef"
            ],
            [
             0.5,
             "#f7f7f7"
            ],
            [
             0.6,
             "#e6f5d0"
            ],
            [
             0.7,
             "#b8e186"
            ],
            [
             0.8,
             "#7fbc41"
            ],
            [
             0.9,
             "#4d9221"
            ],
            [
             1,
             "#276419"
            ]
           ],
           "sequential": [
            [
             0,
             "#0d0887"
            ],
            [
             0.1111111111111111,
             "#46039f"
            ],
            [
             0.2222222222222222,
             "#7201a8"
            ],
            [
             0.3333333333333333,
             "#9c179e"
            ],
            [
             0.4444444444444444,
             "#bd3786"
            ],
            [
             0.5555555555555556,
             "#d8576b"
            ],
            [
             0.6666666666666666,
             "#ed7953"
            ],
            [
             0.7777777777777778,
             "#fb9f3a"
            ],
            [
             0.8888888888888888,
             "#fdca26"
            ],
            [
             1,
             "#f0f921"
            ]
           ],
           "sequentialminus": [
            [
             0,
             "#0d0887"
            ],
            [
             0.1111111111111111,
             "#46039f"
            ],
            [
             0.2222222222222222,
             "#7201a8"
            ],
            [
             0.3333333333333333,
             "#9c179e"
            ],
            [
             0.4444444444444444,
             "#bd3786"
            ],
            [
             0.5555555555555556,
             "#d8576b"
            ],
            [
             0.6666666666666666,
             "#ed7953"
            ],
            [
             0.7777777777777778,
             "#fb9f3a"
            ],
            [
             0.8888888888888888,
             "#fdca26"
            ],
            [
             1,
             "#f0f921"
            ]
           ]
          },
          "colorway": [
           "#636efa",
           "#EF553B",
           "#00cc96",
           "#ab63fa",
           "#FFA15A",
           "#19d3f3",
           "#FF6692",
           "#B6E880",
           "#FF97FF",
           "#FECB52"
          ],
          "font": {
           "color": "#2a3f5f"
          },
          "geo": {
           "bgcolor": "white",
           "lakecolor": "white",
           "landcolor": "#E5ECF6",
           "showlakes": true,
           "showland": true,
           "subunitcolor": "white"
          },
          "hoverlabel": {
           "align": "left"
          },
          "hovermode": "closest",
          "mapbox": {
           "style": "light"
          },
          "paper_bgcolor": "white",
          "plot_bgcolor": "#E5ECF6",
          "polar": {
           "angularaxis": {
            "gridcolor": "white",
            "linecolor": "white",
            "ticks": ""
           },
           "bgcolor": "#E5ECF6",
           "radialaxis": {
            "gridcolor": "white",
            "linecolor": "white",
            "ticks": ""
           }
          },
          "scene": {
           "xaxis": {
            "backgroundcolor": "#E5ECF6",
            "gridcolor": "white",
            "gridwidth": 2,
            "linecolor": "white",
            "showbackground": true,
            "ticks": "",
            "zerolinecolor": "white"
           },
           "yaxis": {
            "backgroundcolor": "#E5ECF6",
            "gridcolor": "white",
            "gridwidth": 2,
            "linecolor": "white",
            "showbackground": true,
            "ticks": "",
            "zerolinecolor": "white"
           },
           "zaxis": {
            "backgroundcolor": "#E5ECF6",
            "gridcolor": "white",
            "gridwidth": 2,
            "linecolor": "white",
            "showbackground": true,
            "ticks": "",
            "zerolinecolor": "white"
           }
          },
          "shapedefaults": {
           "line": {
            "color": "#2a3f5f"
           }
          },
          "ternary": {
           "aaxis": {
            "gridcolor": "white",
            "linecolor": "white",
            "ticks": ""
           },
           "baxis": {
            "gridcolor": "white",
            "linecolor": "white",
            "ticks": ""
           },
           "bgcolor": "#E5ECF6",
           "caxis": {
            "gridcolor": "white",
            "linecolor": "white",
            "ticks": ""
           }
          },
          "title": {
           "x": 0.05
          },
          "xaxis": {
           "automargin": true,
           "gridcolor": "white",
           "linecolor": "white",
           "ticks": "",
           "title": {
            "standoff": 15
           },
           "zerolinecolor": "white",
           "zerolinewidth": 2
          },
          "yaxis": {
           "automargin": true,
           "gridcolor": "white",
           "linecolor": "white",
           "ticks": "",
           "title": {
            "standoff": 15
           },
           "zerolinecolor": "white",
           "zerolinewidth": 2
          }
         }
        },
        "title": {
         "font": {
          "color": "#1f1f1f",
          "family": "Arial Black",
          "size": 24
         },
         "text": "<b>Model Performance Dashboard</b>",
         "x": 0.5,
         "xanchor": "center"
        },
        "width": 1400,
        "xaxis": {
         "anchor": "y",
         "domain": [
          0,
          0.27999999999999997
         ],
         "gridcolor": "rgba(128,128,128,0.2)",
         "gridwidth": 1,
         "showgrid": true,
         "tickfont": {
          "color": "#2f2f2f",
          "size": 11
         },
         "zeroline": true,
         "zerolinecolor": "rgba(128,128,128,0.4)",
         "zerolinewidth": 1
        },
        "xaxis2": {
         "anchor": "y2",
         "domain": [
          0.36,
          0.6399999999999999
         ],
         "gridcolor": "rgba(128,128,128,0.2)",
         "gridwidth": 1,
         "showgrid": true,
         "tickfont": {
          "color": "#2f2f2f",
          "size": 11
         },
         "zeroline": true,
         "zerolinecolor": "rgba(128,128,128,0.4)",
         "zerolinewidth": 1
        },
        "xaxis3": {
         "anchor": "y3",
         "domain": [
          0.72,
          1
         ],
         "gridcolor": "rgba(128,128,128,0.2)",
         "gridwidth": 1,
         "showgrid": true,
         "tickfont": {
          "color": "#2f2f2f",
          "size": 11
         },
         "zeroline": true,
         "zerolinecolor": "rgba(128,128,128,0.4)",
         "zerolinewidth": 1
        },
        "xaxis4": {
         "anchor": "y4",
         "domain": [
          0,
          0.27999999999999997
         ],
         "gridcolor": "rgba(128,128,128,0.2)",
         "gridwidth": 1,
         "showgrid": true,
         "tickfont": {
          "color": "#2f2f2f",
          "size": 11
         },
         "title": {
          "text": "Cost per Image ($)"
         },
         "zeroline": true,
         "zerolinecolor": "rgba(128,128,128,0.4)",
         "zerolinewidth": 1
        },
        "xaxis5": {
         "anchor": "y5",
         "domain": [
          0.36,
          0.6399999999999999
         ],
         "gridcolor": "rgba(128,128,128,0.2)",
         "gridwidth": 1,
         "showgrid": true,
         "tickfont": {
          "color": "#2f2f2f",
          "size": 11
         },
         "zeroline": true,
         "zerolinecolor": "rgba(128,128,128,0.4)",
         "zerolinewidth": 1
        },
        "xaxis6": {
         "anchor": "y6",
         "domain": [
          0.72,
          1
         ],
         "gridcolor": "rgba(128,128,128,0.2)",
         "gridwidth": 1,
         "showgrid": true,
         "tickfont": {
          "color": "#2f2f2f",
          "size": 11
         },
         "zeroline": true,
         "zerolinecolor": "rgba(128,128,128,0.4)",
         "zerolinewidth": 1
        },
        "yaxis": {
         "anchor": "x",
         "domain": [
          0.56,
          1
         ],
         "gridcolor": "rgba(128,128,128,0.2)",
         "gridwidth": 1,
         "showgrid": true,
         "tickfont": {
          "color": "#2f2f2f",
          "size": 11
         },
         "title": {
          "text": "Similarity Score"
         },
         "zeroline": true,
         "zerolinecolor": "rgba(128,128,128,0.4)",
         "zerolinewidth": 1
        },
        "yaxis2": {
         "anchor": "x2",
         "domain": [
          0.56,
          1
         ],
         "gridcolor": "rgba(128,128,128,0.2)",
         "gridwidth": 1,
         "showgrid": true,
         "tickfont": {
          "color": "#2f2f2f",
          "size": 11
         },
         "title": {
          "text": "F1 Score"
         },
         "zeroline": true,
         "zerolinecolor": "rgba(128,128,128,0.4)",
         "zerolinewidth": 1
        },
        "yaxis3": {
         "anchor": "x3",
         "domain": [
          0.56,
          1
         ],
         "gridcolor": "rgba(128,128,128,0.2)",
         "gridwidth": 1,
         "showgrid": true,
         "tickfont": {
          "color": "#2f2f2f",
          "size": 11
         },
         "title": {
          "text": "Mean Absolute Error"
         },
         "zeroline": true,
         "zerolinecolor": "rgba(128,128,128,0.4)",
         "zerolinewidth": 1
        },
        "yaxis4": {
         "anchor": "x4",
         "domain": [
          0,
          0.44
         ],
         "gridcolor": "rgba(128,128,128,0.2)",
         "gridwidth": 1,
         "showgrid": true,
         "tickfont": {
          "color": "#2f2f2f",
          "size": 11
         },
         "title": {
          "text": "Similarity Score"
         },
         "zeroline": true,
         "zerolinecolor": "rgba(128,128,128,0.4)",
         "zerolinewidth": 1
        },
        "yaxis5": {
         "anchor": "x5",
         "domain": [
          0,
          0.44
         ],
         "gridcolor": "rgba(128,128,128,0.2)",
         "gridwidth": 1,
         "showgrid": true,
         "tickfont": {
          "color": "#2f2f2f",
          "size": 11
         },
         "title": {
          "text": "️ Response Time (sec)"
         },
         "zeroline": true,
         "zerolinecolor": "rgba(128,128,128,0.4)",
         "zerolinewidth": 1
        },
        "yaxis6": {
         "anchor": "x6",
         "domain": [
          0,
          0.44
         ],
         "gridcolor": "rgba(128,128,128,0.2)",
         "gridwidth": 1,
         "showgrid": true,
         "tickfont": {
          "color": "#2f2f2f",
          "size": 11
         },
         "title": {
          "text": "Success Rate (%)"
         },
         "zeroline": true,
         "zerolinecolor": "rgba(128,128,128,0.4)",
         "zerolinewidth": 1
        }
       }
      }
     },
     "metadata": {},
     "output_type": "display_data"
    },
    {
     "data": {
      "application/vnd.plotly.v1+json": {
       "config": {
        "plotlyServerURL": "https://plot.ly"
       },
       "data": [
        {
         "coloraxis": "coloraxis",
         "hovertemplate": "Macro Nutrient: %{x}<br>Model: %{y}<br>Avg % Error: %{z}<extra></extra>",
         "name": "0",
         "texttemplate": "%{z}%",
         "type": "heatmap",
         "x": [
          "Calories",
          "Carbs",
          "Protein",
          "Fat"
         ],
         "xaxis": "x",
         "y": [
          "gemini-2.5-flash-preview-05-20_detailed",
          "gemini-2.5-flash-preview-05-20_step_by_step",
          "gemini-2.5-pro-preview-06-05_detailed",
          "gemini-2.5-pro-preview-06-05_step_by_step",
          "gpt-4o-mini_detailed",
          "gpt-4o-mini_step_by_step",
          "gpt-4o_detailed",
          "gpt-4o_step_by_step"
         ],
         "yaxis": "y",
         "z": {
          "bdata": "RwsVOYe6UkBzGDZzzxBbQHEbmIpp8FNAUkySMG+qU0BDOhpsjONTQOBh+jFtuVxAegJDytAlVkAMf6jBhzNUQG7gag4rHEpA5tNF8EjzTkDz3YfSWDpOQOjw68jONFNA2kg0tKePSkClQIypCbVOQC0jDffH7lBAEqjLZm2TT0AzIfH2rLw8QO5/7pQ0a0xAwDUYZZzFSkCKdgsggMBFQMkPXf+GKUJAOPmzEao6T0AcV29n9AREQBZ81Ap3ZUNAaG1u9gexP0AntE8Jo0ZQQPb7/Ikc9UJAslbN7bxSREAQEcuIWaY7QJUQ0joS1khAHrHrR2aVQ0CbCJNLsstCQA==",
          "dtype": "f8",
          "shape": "8, 4"
         }
        }
       ],
       "layout": {
        "coloraxis": {
         "colorbar": {
          "title": {
           "text": "Avg % Error"
          }
         },
         "colorscale": [
          [
           0,
           "rgb(0,104,55)"
          ],
          [
           0.1,
           "rgb(26,152,80)"
          ],
          [
           0.2,
           "rgb(102,189,99)"
          ],
          [
           0.3,
           "rgb(166,217,106)"
          ],
          [
           0.4,
           "rgb(217,239,139)"
          ],
          [
           0.5,
           "rgb(255,255,191)"
          ],
          [
           0.6,
           "rgb(254,224,139)"
          ],
          [
           0.7,
           "rgb(253,174,97)"
          ],
          [
           0.8,
           "rgb(244,109,67)"
          ],
          [
           0.9,
           "rgb(215,48,39)"
          ],
          [
           1,
           "rgb(165,0,38)"
          ]
         ]
        },
        "template": {
         "data": {
          "bar": [
           {
            "error_x": {
             "color": "#2a3f5f"
            },
            "error_y": {
             "color": "#2a3f5f"
            },
            "marker": {
             "line": {
              "color": "#E5ECF6",
              "width": 0.5
             },
             "pattern": {
              "fillmode": "overlay",
              "size": 10,
              "solidity": 0.2
             }
            },
            "type": "bar"
           }
          ],
          "barpolar": [
           {
            "marker": {
             "line": {
              "color": "#E5ECF6",
              "width": 0.5
             },
             "pattern": {
              "fillmode": "overlay",
              "size": 10,
              "solidity": 0.2
             }
            },
            "type": "barpolar"
           }
          ],
          "carpet": [
           {
            "aaxis": {
             "endlinecolor": "#2a3f5f",
             "gridcolor": "white",
             "linecolor": "white",
             "minorgridcolor": "white",
             "startlinecolor": "#2a3f5f"
            },
            "baxis": {
             "endlinecolor": "#2a3f5f",
             "gridcolor": "white",
             "linecolor": "white",
             "minorgridcolor": "white",
             "startlinecolor": "#2a3f5f"
            },
            "type": "carpet"
           }
          ],
          "choropleth": [
           {
            "colorbar": {
             "outlinewidth": 0,
             "ticks": ""
            },
            "type": "choropleth"
           }
          ],
          "contour": [
           {
            "colorbar": {
             "outlinewidth": 0,
             "ticks": ""
            },
            "colorscale": [
             [
              0,
              "#0d0887"
             ],
             [
              0.1111111111111111,
              "#46039f"
             ],
             [
              0.2222222222222222,
              "#7201a8"
             ],
             [
              0.3333333333333333,
              "#9c179e"
             ],
             [
              0.4444444444444444,
              "#bd3786"
             ],
             [
              0.5555555555555556,
              "#d8576b"
             ],
             [
              0.6666666666666666,
              "#ed7953"
             ],
             [
              0.7777777777777778,
              "#fb9f3a"
             ],
             [
              0.8888888888888888,
              "#fdca26"
             ],
             [
              1,
              "#f0f921"
             ]
            ],
            "type": "contour"
           }
          ],
          "contourcarpet": [
           {
            "colorbar": {
             "outlinewidth": 0,
             "ticks": ""
            },
            "type": "contourcarpet"
           }
          ],
          "heatmap": [
           {
            "colorbar": {
             "outlinewidth": 0,
             "ticks": ""
            },
            "colorscale": [
             [
              0,
              "#0d0887"
             ],
             [
              0.1111111111111111,
              "#46039f"
             ],
             [
              0.2222222222222222,
              "#7201a8"
             ],
             [
              0.3333333333333333,
              "#9c179e"
             ],
             [
              0.4444444444444444,
              "#bd3786"
             ],
             [
              0.5555555555555556,
              "#d8576b"
             ],
             [
              0.6666666666666666,
              "#ed7953"
             ],
             [
              0.7777777777777778,
              "#fb9f3a"
             ],
             [
              0.8888888888888888,
              "#fdca26"
             ],
             [
              1,
              "#f0f921"
             ]
            ],
            "type": "heatmap"
           }
          ],
          "histogram": [
           {
            "marker": {
             "pattern": {
              "fillmode": "overlay",
              "size": 10,
              "solidity": 0.2
             }
            },
            "type": "histogram"
           }
          ],
          "histogram2d": [
           {
            "colorbar": {
             "outlinewidth": 0,
             "ticks": ""
            },
            "colorscale": [
             [
              0,
              "#0d0887"
             ],
             [
              0.1111111111111111,
              "#46039f"
             ],
             [
              0.2222222222222222,
              "#7201a8"
             ],
             [
              0.3333333333333333,
              "#9c179e"
             ],
             [
              0.4444444444444444,
              "#bd3786"
             ],
             [
              0.5555555555555556,
              "#d8576b"
             ],
             [
              0.6666666666666666,
              "#ed7953"
             ],
             [
              0.7777777777777778,
              "#fb9f3a"
             ],
             [
              0.8888888888888888,
              "#fdca26"
             ],
             [
              1,
              "#f0f921"
             ]
            ],
            "type": "histogram2d"
           }
          ],
          "histogram2dcontour": [
           {
            "colorbar": {
             "outlinewidth": 0,
             "ticks": ""
            },
            "colorscale": [
             [
              0,
              "#0d0887"
             ],
             [
              0.1111111111111111,
              "#46039f"
             ],
             [
              0.2222222222222222,
              "#7201a8"
             ],
             [
              0.3333333333333333,
              "#9c179e"
             ],
             [
              0.4444444444444444,
              "#bd3786"
             ],
             [
              0.5555555555555556,
              "#d8576b"
             ],
             [
              0.6666666666666666,
              "#ed7953"
             ],
             [
              0.7777777777777778,
              "#fb9f3a"
             ],
             [
              0.8888888888888888,
              "#fdca26"
             ],
             [
              1,
              "#f0f921"
             ]
            ],
            "type": "histogram2dcontour"
           }
          ],
          "mesh3d": [
           {
            "colorbar": {
             "outlinewidth": 0,
             "ticks": ""
            },
            "type": "mesh3d"
           }
          ],
          "parcoords": [
           {
            "line": {
             "colorbar": {
              "outlinewidth": 0,
              "ticks": ""
             }
            },
            "type": "parcoords"
           }
          ],
          "pie": [
           {
            "automargin": true,
            "type": "pie"
           }
          ],
          "scatter": [
           {
            "fillpattern": {
             "fillmode": "overlay",
             "size": 10,
             "solidity": 0.2
            },
            "type": "scatter"
           }
          ],
          "scatter3d": [
           {
            "line": {
             "colorbar": {
              "outlinewidth": 0,
              "ticks": ""
             }
            },
            "marker": {
             "colorbar": {
              "outlinewidth": 0,
              "ticks": ""
             }
            },
            "type": "scatter3d"
           }
          ],
          "scattercarpet": [
           {
            "marker": {
             "colorbar": {
              "outlinewidth": 0,
              "ticks": ""
             }
            },
            "type": "scattercarpet"
           }
          ],
          "scattergeo": [
           {
            "marker": {
             "colorbar": {
              "outlinewidth": 0,
              "ticks": ""
             }
            },
            "type": "scattergeo"
           }
          ],
          "scattergl": [
           {
            "marker": {
             "colorbar": {
              "outlinewidth": 0,
              "ticks": ""
             }
            },
            "type": "scattergl"
           }
          ],
          "scattermap": [
           {
            "marker": {
             "colorbar": {
              "outlinewidth": 0,
              "ticks": ""
             }
            },
            "type": "scattermap"
           }
          ],
          "scattermapbox": [
           {
            "marker": {
             "colorbar": {
              "outlinewidth": 0,
              "ticks": ""
             }
            },
            "type": "scattermapbox"
           }
          ],
          "scatterpolar": [
           {
            "marker": {
             "colorbar": {
              "outlinewidth": 0,
              "ticks": ""
             }
            },
            "type": "scatterpolar"
           }
          ],
          "scatterpolargl": [
           {
            "marker": {
             "colorbar": {
              "outlinewidth": 0,
              "ticks": ""
             }
            },
            "type": "scatterpolargl"
           }
          ],
          "scatterternary": [
           {
            "marker": {
             "colorbar": {
              "outlinewidth": 0,
              "ticks": ""
             }
            },
            "type": "scatterternary"
           }
          ],
          "surface": [
           {
            "colorbar": {
             "outlinewidth": 0,
             "ticks": ""
            },
            "colorscale": [
             [
              0,
              "#0d0887"
             ],
             [
              0.1111111111111111,
              "#46039f"
             ],
             [
              0.2222222222222222,
              "#7201a8"
             ],
             [
              0.3333333333333333,
              "#9c179e"
             ],
             [
              0.4444444444444444,
              "#bd3786"
             ],
             [
              0.5555555555555556,
              "#d8576b"
             ],
             [
              0.6666666666666666,
              "#ed7953"
             ],
             [
              0.7777777777777778,
              "#fb9f3a"
             ],
             [
              0.8888888888888888,
              "#fdca26"
             ],
             [
              1,
              "#f0f921"
             ]
            ],
            "type": "surface"
           }
          ],
          "table": [
           {
            "cells": {
             "fill": {
              "color": "#EBF0F8"
             },
             "line": {
              "color": "white"
             }
            },
            "header": {
             "fill": {
              "color": "#C8D4E3"
             },
             "line": {
              "color": "white"
             }
            },
            "type": "table"
           }
          ]
         },
         "layout": {
          "annotationdefaults": {
           "arrowcolor": "#2a3f5f",
           "arrowhead": 0,
           "arrowwidth": 1
          },
          "autotypenumbers": "strict",
          "coloraxis": {
           "colorbar": {
            "outlinewidth": 0,
            "ticks": ""
           }
          },
          "colorscale": {
           "diverging": [
            [
             0,
             "#8e0152"
            ],
            [
             0.1,
             "#c51b7d"
            ],
            [
             0.2,
             "#de77ae"
            ],
            [
             0.3,
             "#f1b6da"
            ],
            [
             0.4,
             "#fde0ef"
            ],
            [
             0.5,
             "#f7f7f7"
            ],
            [
             0.6,
             "#e6f5d0"
            ],
            [
             0.7,
             "#b8e186"
            ],
            [
             0.8,
             "#7fbc41"
            ],
            [
             0.9,
             "#4d9221"
            ],
            [
             1,
             "#276419"
            ]
           ],
           "sequential": [
            [
             0,
             "#0d0887"
            ],
            [
             0.1111111111111111,
             "#46039f"
            ],
            [
             0.2222222222222222,
             "#7201a8"
            ],
            [
             0.3333333333333333,
             "#9c179e"
            ],
            [
             0.4444444444444444,
             "#bd3786"
            ],
            [
             0.5555555555555556,
             "#d8576b"
            ],
            [
             0.6666666666666666,
             "#ed7953"
            ],
            [
             0.7777777777777778,
             "#fb9f3a"
            ],
            [
             0.8888888888888888,
             "#fdca26"
            ],
            [
             1,
             "#f0f921"
            ]
           ],
           "sequentialminus": [
            [
             0,
             "#0d0887"
            ],
            [
             0.1111111111111111,
             "#46039f"
            ],
            [
             0.2222222222222222,
             "#7201a8"
            ],
            [
             0.3333333333333333,
             "#9c179e"
            ],
            [
             0.4444444444444444,
             "#bd3786"
            ],
            [
             0.5555555555555556,
             "#d8576b"
            ],
            [
             0.6666666666666666,
             "#ed7953"
            ],
            [
             0.7777777777777778,
             "#fb9f3a"
            ],
            [
             0.8888888888888888,
             "#fdca26"
            ],
            [
             1,
             "#f0f921"
            ]
           ]
          },
          "colorway": [
           "#636efa",
           "#EF553B",
           "#00cc96",
           "#ab63fa",
           "#FFA15A",
           "#19d3f3",
           "#FF6692",
           "#B6E880",
           "#FF97FF",
           "#FECB52"
          ],
          "font": {
           "color": "#2a3f5f"
          },
          "geo": {
           "bgcolor": "white",
           "lakecolor": "white",
           "landcolor": "#E5ECF6",
           "showlakes": true,
           "showland": true,
           "subunitcolor": "white"
          },
          "hoverlabel": {
           "align": "left"
          },
          "hovermode": "closest",
          "mapbox": {
           "style": "light"
          },
          "paper_bgcolor": "white",
          "plot_bgcolor": "#E5ECF6",
          "polar": {
           "angularaxis": {
            "gridcolor": "white",
            "linecolor": "white",
            "ticks": ""
           },
           "bgcolor": "#E5ECF6",
           "radialaxis": {
            "gridcolor": "white",
            "linecolor": "white",
            "ticks": ""
           }
          },
          "scene": {
           "xaxis": {
            "backgroundcolor": "#E5ECF6",
            "gridcolor": "white",
            "gridwidth": 2,
            "linecolor": "white",
            "showbackground": true,
            "ticks": "",
            "zerolinecolor": "white"
           },
           "yaxis": {
            "backgroundcolor": "#E5ECF6",
            "gridcolor": "white",
            "gridwidth": 2,
            "linecolor": "white",
            "showbackground": true,
            "ticks": "",
            "zerolinecolor": "white"
           },
           "zaxis": {
            "backgroundcolor": "#E5ECF6",
            "gridcolor": "white",
            "gridwidth": 2,
            "linecolor": "white",
            "showbackground": true,
            "ticks": "",
            "zerolinecolor": "white"
           }
          },
          "shapedefaults": {
           "line": {
            "color": "#2a3f5f"
           }
          },
          "ternary": {
           "aaxis": {
            "gridcolor": "white",
            "linecolor": "white",
            "ticks": ""
           },
           "baxis": {
            "gridcolor": "white",
            "linecolor": "white",
            "ticks": ""
           },
           "bgcolor": "#E5ECF6",
           "caxis": {
            "gridcolor": "white",
            "linecolor": "white",
            "ticks": ""
           }
          },
          "title": {
           "x": 0.05
          },
          "xaxis": {
           "automargin": true,
           "gridcolor": "white",
           "linecolor": "white",
           "ticks": "",
           "title": {
            "standoff": 15
           },
           "zerolinecolor": "white",
           "zerolinewidth": 2
          },
          "yaxis": {
           "automargin": true,
           "gridcolor": "white",
           "linecolor": "white",
           "ticks": "",
           "title": {
            "standoff": 15
           },
           "zerolinecolor": "white",
           "zerolinewidth": 2
          }
         }
        },
        "title": {
         "text": "<b>Average Percentage Error by Macro (Lower is Better)</b>"
        },
        "xaxis": {
         "anchor": "y",
         "domain": [
          0,
          1
         ],
         "title": {
          "text": "Macro Nutrient"
         }
        },
        "yaxis": {
         "anchor": "x",
         "autorange": "reversed",
         "domain": [
          0,
          1
         ],
         "title": {
          "text": "Model"
         }
        }
       }
      }
     },
     "metadata": {},
     "output_type": "display_data"
    },
    {
     "name": "stdout",
     "output_type": "stream",
     "text": [
      "Exporting detailed report to benchmark_results.xlsx...\n",
      "Export complete.\n"
     ]
    },
    {
     "data": {
      "text/html": [
       "<div>\n",
       "<style scoped>\n",
       "    .dataframe tbody tr th:only-of-type {\n",
       "        vertical-align: middle;\n",
       "    }\n",
       "\n",
       "    .dataframe tbody tr th {\n",
       "        vertical-align: top;\n",
       "    }\n",
       "\n",
       "    .dataframe thead th {\n",
       "        text-align: right;\n",
       "    }\n",
       "</style>\n",
       "<table border=\"1\" class=\"dataframe\">\n",
       "  <thead>\n",
       "    <tr style=\"text-align: right;\">\n",
       "      <th></th>\n",
       "      <th>image_id</th>\n",
       "      <th>model</th>\n",
       "      <th>response_time_seconds</th>\n",
       "      <th>f1_ing</th>\n",
       "      <th>semantic_match</th>\n",
       "      <th>semantic_match_embeddings</th>\n",
       "      <th>ingredient_count_acc</th>\n",
       "      <th>mae_mac</th>\n",
       "      <th>error</th>\n",
       "      <th>cost_usd</th>\n",
       "      <th>calories_pct_error</th>\n",
       "      <th>carbs_pct_error</th>\n",
       "      <th>protein_pct_error</th>\n",
       "      <th>fat_pct_error</th>\n",
       "      <th>match_details</th>\n",
       "    </tr>\n",
       "  </thead>\n",
       "  <tbody>\n",
       "    <tr>\n",
       "      <th>0</th>\n",
       "      <td>fsb_00000</td>\n",
       "      <td>gpt-4o-mini_detailed</td>\n",
       "      <td>9.83</td>\n",
       "      <td>0.500000</td>\n",
       "      <td>0.60</td>\n",
       "      <td>0.60</td>\n",
       "      <td>0.600000</td>\n",
       "      <td>114.150</td>\n",
       "      <td>None</td>\n",
       "      <td>0.004072</td>\n",
       "      <td>95.838433</td>\n",
       "      <td>123.880597</td>\n",
       "      <td>9.634551</td>\n",
       "      <td>119.653179</td>\n",
       "      <td>[{'gt_ingredient': 'scrambled eggs', 'pred_ing...</td>\n",
       "    </tr>\n",
       "    <tr>\n",
       "      <th>1</th>\n",
       "      <td>fsb_00001</td>\n",
       "      <td>gpt-4o-mini_detailed</td>\n",
       "      <td>10.88</td>\n",
       "      <td>0.750000</td>\n",
       "      <td>0.75</td>\n",
       "      <td>0.75</td>\n",
       "      <td>1.000000</td>\n",
       "      <td>12.775</td>\n",
       "      <td>None</td>\n",
       "      <td>0.005722</td>\n",
       "      <td>8.858859</td>\n",
       "      <td>8.247423</td>\n",
       "      <td>40.625000</td>\n",
       "      <td>44.174757</td>\n",
       "      <td>[{'gt_ingredient': 'almond cake', 'pred_ingred...</td>\n",
       "    </tr>\n",
       "    <tr>\n",
       "      <th>2</th>\n",
       "      <td>fsb_00002</td>\n",
       "      <td>gpt-4o-mini_detailed</td>\n",
       "      <td>12.10</td>\n",
       "      <td>0.000000</td>\n",
       "      <td>0.00</td>\n",
       "      <td>0.00</td>\n",
       "      <td>0.333333</td>\n",
       "      <td>15.925</td>\n",
       "      <td>None</td>\n",
       "      <td>0.005673</td>\n",
       "      <td>9.354605</td>\n",
       "      <td>4.891304</td>\n",
       "      <td>138.095238</td>\n",
       "      <td>19.580420</td>\n",
       "      <td>[]</td>\n",
       "    </tr>\n",
       "    <tr>\n",
       "      <th>3</th>\n",
       "      <td>fsb_00003</td>\n",
       "      <td>gpt-4o-mini_detailed</td>\n",
       "      <td>6.12</td>\n",
       "      <td>0.333333</td>\n",
       "      <td>0.25</td>\n",
       "      <td>0.25</td>\n",
       "      <td>0.500000</td>\n",
       "      <td>181.350</td>\n",
       "      <td>None</td>\n",
       "      <td>0.005671</td>\n",
       "      <td>68.881974</td>\n",
       "      <td>54.894434</td>\n",
       "      <td>80.769231</td>\n",
       "      <td>80.000000</td>\n",
       "      <td>[{'gt_ingredient': 'pie crust', 'pred_ingredie...</td>\n",
       "    </tr>\n",
       "    <tr>\n",
       "      <th>4</th>\n",
       "      <td>fsb_00004</td>\n",
       "      <td>gpt-4o-mini_detailed</td>\n",
       "      <td>12.88</td>\n",
       "      <td>0.000000</td>\n",
       "      <td>0.00</td>\n",
       "      <td>0.00</td>\n",
       "      <td>0.666667</td>\n",
       "      <td>2.275</td>\n",
       "      <td>None</td>\n",
       "      <td>0.005684</td>\n",
       "      <td>6.567993</td>\n",
       "      <td>5.395683</td>\n",
       "      <td>27.272727</td>\n",
       "      <td>25.000000</td>\n",
       "      <td>[]</td>\n",
       "    </tr>\n",
       "  </tbody>\n",
       "</table>\n",
       "</div>"
      ],
      "text/plain": [
       "    image_id                 model  response_time_seconds    f1_ing  \\\n",
       "0  fsb_00000  gpt-4o-mini_detailed                   9.83  0.500000   \n",
       "1  fsb_00001  gpt-4o-mini_detailed                  10.88  0.750000   \n",
       "2  fsb_00002  gpt-4o-mini_detailed                  12.10  0.000000   \n",
       "3  fsb_00003  gpt-4o-mini_detailed                   6.12  0.333333   \n",
       "4  fsb_00004  gpt-4o-mini_detailed                  12.88  0.000000   \n",
       "\n",
       "   semantic_match  semantic_match_embeddings  ingredient_count_acc  mae_mac  \\\n",
       "0            0.60                       0.60              0.600000  114.150   \n",
       "1            0.75                       0.75              1.000000   12.775   \n",
       "2            0.00                       0.00              0.333333   15.925   \n",
       "3            0.25                       0.25              0.500000  181.350   \n",
       "4            0.00                       0.00              0.666667    2.275   \n",
       "\n",
       "  error  cost_usd  calories_pct_error  carbs_pct_error  protein_pct_error  \\\n",
       "0  None  0.004072           95.838433       123.880597           9.634551   \n",
       "1  None  0.005722            8.858859         8.247423          40.625000   \n",
       "2  None  0.005673            9.354605         4.891304         138.095238   \n",
       "3  None  0.005671           68.881974        54.894434          80.769231   \n",
       "4  None  0.005684            6.567993         5.395683          27.272727   \n",
       "\n",
       "   fat_pct_error                                      match_details  \n",
       "0     119.653179  [{'gt_ingredient': 'scrambled eggs', 'pred_ing...  \n",
       "1      44.174757  [{'gt_ingredient': 'almond cake', 'pred_ingred...  \n",
       "2      19.580420                                                 []  \n",
       "3      80.000000  [{'gt_ingredient': 'pie crust', 'pred_ingredie...  \n",
       "4      25.000000                                                 []  "
      ]
     },
     "metadata": {},
     "output_type": "display_data"
    }
   ],
   "source": [
    "analyzer = BenchmarkAnalyzer(results_df)\n",
    "\n",
    "analyzer.summary_statistics()\n",
    "analyzer.analyze_ingredient_matches()\n",
    "analyzer.statistical_significance_test()\n",
    "analyzer.create_performance_dashboard()\n",
    "analyzer.macro_accuracy_heatmap()\n",
    "analyzer.export_detailed_report(BENCHMARK_CONFIG[\"report_filename\"])\n",
    "\n",
    "display(results_df.head())"
   ]
  }
 ],
 "metadata": {
  "kernelspec": {
   "display_name": ".venv",
   "language": "python",
   "name": "python3"
  },
  "language_info": {
   "codemirror_mode": {
    "name": "ipython",
    "version": 3
   },
   "file_extension": ".py",
   "mimetype": "text/x-python",
   "name": "python",
   "nbconvert_exporter": "python",
   "pygments_lexer": "ipython3",
   "version": "3.12.9"
  }
 },
 "nbformat": 4,
 "nbformat_minor": 5
}
